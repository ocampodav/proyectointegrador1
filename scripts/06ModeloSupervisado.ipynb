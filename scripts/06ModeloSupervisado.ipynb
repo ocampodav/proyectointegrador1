{
  "nbformat": 4,
  "nbformat_minor": 0,
  "metadata": {
    "colab": {
      "provenance": []
    },
    "kernelspec": {
      "name": "python3",
      "display_name": "Python 3"
    },
    "language_info": {
      "name": "python"
    }
  },
  "cells": [
    {
      "cell_type": "markdown",
      "source": [
        "##**Clasificación con métodos supervisados**\n",
        "\n",
        "#### Clasificación de registros de trabajos en actividades con tareas y sin tareas pendientes usando métodos supervisados (KNN, Naive Bayes, Regresión Logística)\n",
        "\n",
        "Se busca entrenar un modelo supervisado de clasificación a partir de los datos históricos de actividades, previamente etiquetados en \"pendientes\" y \"no pendientes\". El etiquetado se realizó apoyados en análisis de textos mediante métodos de NLP (lingüística computacional) "
      ],
      "metadata": {
        "id": "A9mcL5c_raR_"
      }
    },
    {
      "cell_type": "code",
      "execution_count": null,
      "metadata": {
        "colab": {
          "base_uri": "https://localhost:8080/"
        },
        "id": "0TZieJLsx0gp",
        "outputId": "a381b251-494b-4ab9-9ff5-2258a8bc8895"
      },
      "outputs": [
        {
          "output_type": "stream",
          "name": "stdout",
          "text": [
            "Mounted at /content/drive\n"
          ]
        }
      ],
      "source": [
        "## Conectar el notebook a googledrive\n",
        "from google.colab import drive\n",
        "drive.mount('/content/drive')"
      ]
    },
    {
      "cell_type": "code",
      "source": [
        "## Se cargar las librerías a utilizar \n",
        "import nltk\n",
        "import numpy as np\n",
        "import pandas as pd\n",
        "import matplotlib.pyplot as plt\n",
        "from sklearn.metrics import classification_report\n",
        "from sklearn.neighbors import KNeighborsClassifier\n",
        "from sklearn.model_selection import train_test_split\n",
        "from sklearn.feature_extraction.text import CountVectorizer\n",
        "from sklearn.feature_extraction.text import TfidfTransformer\n",
        "from sklearn.naive_bayes import MultinomialNB\n",
        "from sklearn import linear_model\n"
      ],
      "metadata": {
        "id": "ICT6uiX0x9k-"
      },
      "execution_count": null,
      "outputs": []
    },
    {
      "cell_type": "markdown",
      "source": [
        "**Cargar el conjunto de datos etiquetados**"
      ],
      "metadata": {
        "id": "fatvY9J8scqY"
      }
    },
    {
      "cell_type": "code",
      "source": [
        "## df contiene los datos pendientes y no pendientes\n",
        "df = pd.read_csv('/content/drive/MyDrive/ProyectoIntegrador/Datos/datos_pendiente_Nopendiente.csv', encoding='utf-8')\n",
        "#Habilitar la siguiente línea para correr el proyecto de manera local\n",
        "#df = pd.read_csv('/content/datos_pendiente_Nopendiente.csv', encoding='utf-8')"
      ],
      "metadata": {
        "id": "6MgjdrNfx9iQ"
      },
      "execution_count": null,
      "outputs": []
    },
    {
      "cell_type": "markdown",
      "source": [
        "Codificación de la etiqueta\n",
        "* 1 = pendiente\n",
        "* 0 = no pendiente"
      ],
      "metadata": {
        "id": "XyJxqIgAstYj"
      }
    },
    {
      "cell_type": "code",
      "source": [
        "df['label'] = np.where(df['pendiente'].isnull(),0,1)"
      ],
      "metadata": {
        "id": "tPa5AR_2zj-3"
      },
      "execution_count": null,
      "outputs": []
    },
    {
      "cell_type": "code",
      "source": [
        "df = df[['WORKLOGID','tokens_proc','label']]\n",
        "df.head(2)"
      ],
      "metadata": {
        "id": "7LTd01K-0yjQ",
        "colab": {
          "base_uri": "https://localhost:8080/",
          "height": 112
        },
        "outputId": "37aa6c07-217b-472f-9f14-4bcf9ea44359"
      },
      "execution_count": null,
      "outputs": [
        {
          "output_type": "execute_result",
          "data": {
            "text/plain": [
              "   WORKLOGID                                        tokens_proc  label\n",
              "0    2754950  ['revisa', 'poste', 'reventado', 'vehiculo', '...      0\n",
              "1    3005990  ['localizar', 'falla', 'circuito', 'primario',...      0"
            ],
            "text/html": [
              "\n",
              "  <div id=\"df-2aa17548-4aa8-42f7-be59-42a33af5ce55\">\n",
              "    <div class=\"colab-df-container\">\n",
              "      <div>\n",
              "<style scoped>\n",
              "    .dataframe tbody tr th:only-of-type {\n",
              "        vertical-align: middle;\n",
              "    }\n",
              "\n",
              "    .dataframe tbody tr th {\n",
              "        vertical-align: top;\n",
              "    }\n",
              "\n",
              "    .dataframe thead th {\n",
              "        text-align: right;\n",
              "    }\n",
              "</style>\n",
              "<table border=\"1\" class=\"dataframe\">\n",
              "  <thead>\n",
              "    <tr style=\"text-align: right;\">\n",
              "      <th></th>\n",
              "      <th>WORKLOGID</th>\n",
              "      <th>tokens_proc</th>\n",
              "      <th>label</th>\n",
              "    </tr>\n",
              "  </thead>\n",
              "  <tbody>\n",
              "    <tr>\n",
              "      <th>0</th>\n",
              "      <td>2754950</td>\n",
              "      <td>['revisa', 'poste', 'reventado', 'vehiculo', '...</td>\n",
              "      <td>0</td>\n",
              "    </tr>\n",
              "    <tr>\n",
              "      <th>1</th>\n",
              "      <td>3005990</td>\n",
              "      <td>['localizar', 'falla', 'circuito', 'primario',...</td>\n",
              "      <td>0</td>\n",
              "    </tr>\n",
              "  </tbody>\n",
              "</table>\n",
              "</div>\n",
              "      <button class=\"colab-df-convert\" onclick=\"convertToInteractive('df-2aa17548-4aa8-42f7-be59-42a33af5ce55')\"\n",
              "              title=\"Convert this dataframe to an interactive table.\"\n",
              "              style=\"display:none;\">\n",
              "        \n",
              "  <svg xmlns=\"http://www.w3.org/2000/svg\" height=\"24px\"viewBox=\"0 0 24 24\"\n",
              "       width=\"24px\">\n",
              "    <path d=\"M0 0h24v24H0V0z\" fill=\"none\"/>\n",
              "    <path d=\"M18.56 5.44l.94 2.06.94-2.06 2.06-.94-2.06-.94-.94-2.06-.94 2.06-2.06.94zm-11 1L8.5 8.5l.94-2.06 2.06-.94-2.06-.94L8.5 2.5l-.94 2.06-2.06.94zm10 10l.94 2.06.94-2.06 2.06-.94-2.06-.94-.94-2.06-.94 2.06-2.06.94z\"/><path d=\"M17.41 7.96l-1.37-1.37c-.4-.4-.92-.59-1.43-.59-.52 0-1.04.2-1.43.59L10.3 9.45l-7.72 7.72c-.78.78-.78 2.05 0 2.83L4 21.41c.39.39.9.59 1.41.59.51 0 1.02-.2 1.41-.59l7.78-7.78 2.81-2.81c.8-.78.8-2.07 0-2.86zM5.41 20L4 18.59l7.72-7.72 1.47 1.35L5.41 20z\"/>\n",
              "  </svg>\n",
              "      </button>\n",
              "      \n",
              "  <style>\n",
              "    .colab-df-container {\n",
              "      display:flex;\n",
              "      flex-wrap:wrap;\n",
              "      gap: 12px;\n",
              "    }\n",
              "\n",
              "    .colab-df-convert {\n",
              "      background-color: #E8F0FE;\n",
              "      border: none;\n",
              "      border-radius: 50%;\n",
              "      cursor: pointer;\n",
              "      display: none;\n",
              "      fill: #1967D2;\n",
              "      height: 32px;\n",
              "      padding: 0 0 0 0;\n",
              "      width: 32px;\n",
              "    }\n",
              "\n",
              "    .colab-df-convert:hover {\n",
              "      background-color: #E2EBFA;\n",
              "      box-shadow: 0px 1px 2px rgba(60, 64, 67, 0.3), 0px 1px 3px 1px rgba(60, 64, 67, 0.15);\n",
              "      fill: #174EA6;\n",
              "    }\n",
              "\n",
              "    [theme=dark] .colab-df-convert {\n",
              "      background-color: #3B4455;\n",
              "      fill: #D2E3FC;\n",
              "    }\n",
              "\n",
              "    [theme=dark] .colab-df-convert:hover {\n",
              "      background-color: #434B5C;\n",
              "      box-shadow: 0px 1px 3px 1px rgba(0, 0, 0, 0.15);\n",
              "      filter: drop-shadow(0px 1px 2px rgba(0, 0, 0, 0.3));\n",
              "      fill: #FFFFFF;\n",
              "    }\n",
              "  </style>\n",
              "\n",
              "      <script>\n",
              "        const buttonEl =\n",
              "          document.querySelector('#df-2aa17548-4aa8-42f7-be59-42a33af5ce55 button.colab-df-convert');\n",
              "        buttonEl.style.display =\n",
              "          google.colab.kernel.accessAllowed ? 'block' : 'none';\n",
              "\n",
              "        async function convertToInteractive(key) {\n",
              "          const element = document.querySelector('#df-2aa17548-4aa8-42f7-be59-42a33af5ce55');\n",
              "          const dataTable =\n",
              "            await google.colab.kernel.invokeFunction('convertToInteractive',\n",
              "                                                     [key], {});\n",
              "          if (!dataTable) return;\n",
              "\n",
              "          const docLinkHtml = 'Like what you see? Visit the ' +\n",
              "            '<a target=\"_blank\" href=https://colab.research.google.com/notebooks/data_table.ipynb>data table notebook</a>'\n",
              "            + ' to learn more about interactive tables.';\n",
              "          element.innerHTML = '';\n",
              "          dataTable['output_type'] = 'display_data';\n",
              "          await google.colab.output.renderOutput(dataTable, element);\n",
              "          const docLink = document.createElement('div');\n",
              "          docLink.innerHTML = docLinkHtml;\n",
              "          element.appendChild(docLink);\n",
              "        }\n",
              "      </script>\n",
              "    </div>\n",
              "  </div>\n",
              "  "
            ]
          },
          "metadata": {},
          "execution_count": 5
        }
      ]
    },
    {
      "cell_type": "code",
      "source": [
        "df['label'].value_counts()"
      ],
      "metadata": {
        "colab": {
          "base_uri": "https://localhost:8080/"
        },
        "id": "E-i4hcQxmcDr",
        "outputId": "f75169ae-bebf-4de8-9023-194edc3f6981"
      },
      "execution_count": null,
      "outputs": [
        {
          "output_type": "execute_result",
          "data": {
            "text/plain": [
              "0    146324\n",
              "1     10468\n",
              "Name: label, dtype: int64"
            ]
          },
          "metadata": {},
          "execution_count": 11
        }
      ]
    },
    {
      "cell_type": "markdown",
      "source": [
        "Se observa un desbalanceo importante de las clases en el conjunto de datos"
      ],
      "metadata": {
        "id": "eaOtayMpvJHZ"
      }
    },
    {
      "cell_type": "code",
      "source": [
        "nopend = df[df['label']==0]\n",
        "pend = df[df['label']==1]"
      ],
      "metadata": {
        "id": "xEivFzDSm55i"
      },
      "execution_count": null,
      "outputs": []
    },
    {
      "cell_type": "code",
      "source": [
        "nopend"
      ],
      "metadata": {
        "colab": {
          "base_uri": "https://localhost:8080/",
          "height": 423
        },
        "id": "sZGLXUSepI7l",
        "outputId": "70864d1a-404b-4873-e6ba-d6695da49b44"
      },
      "execution_count": null,
      "outputs": [
        {
          "output_type": "execute_result",
          "data": {
            "text/plain": [
              "        WORKLOGID                                        tokens_proc  label\n",
              "0         2754950  ['revisa', 'poste', 'reventado', 'vehiculo', '...      0\n",
              "1         3005990  ['localizar', 'falla', 'circuito', 'primario',...      0\n",
              "2         2634320  ['retiraron', 'arbol', 'palma', 'aisladero', '...      0\n",
              "3         2634321  ['cll', 'revision', 'calidad', 'inspecciona', ...      0\n",
              "4         2742512  ['mar', 'carrera', 'trabajador', 'reparan', 'l...      0\n",
              "...           ...                                                ...    ...\n",
              "156787    2927475  ['normalizo', 'aisladero', 'marcar', 'fase', '...      0\n",
              "156788    3157566  ['legalizacion', 'ayer', 'solo', 'datos', 'asi...      0\n",
              "156789    3056493  ['presto', 'pollo', 'cld', 'abrir', 'circuitos...      0\n",
              "156790    3055378  ['aislo', 'reconectador', 'abrieron', 'cuchill...      0\n",
              "156791    3137630      ['fusible', 'aisladero', 'fases', 'confirmo']      0\n",
              "\n",
              "[146324 rows x 3 columns]"
            ],
            "text/html": [
              "\n",
              "  <div id=\"df-83629763-501c-49c5-9455-3f8b06bea4c0\">\n",
              "    <div class=\"colab-df-container\">\n",
              "      <div>\n",
              "<style scoped>\n",
              "    .dataframe tbody tr th:only-of-type {\n",
              "        vertical-align: middle;\n",
              "    }\n",
              "\n",
              "    .dataframe tbody tr th {\n",
              "        vertical-align: top;\n",
              "    }\n",
              "\n",
              "    .dataframe thead th {\n",
              "        text-align: right;\n",
              "    }\n",
              "</style>\n",
              "<table border=\"1\" class=\"dataframe\">\n",
              "  <thead>\n",
              "    <tr style=\"text-align: right;\">\n",
              "      <th></th>\n",
              "      <th>WORKLOGID</th>\n",
              "      <th>tokens_proc</th>\n",
              "      <th>label</th>\n",
              "    </tr>\n",
              "  </thead>\n",
              "  <tbody>\n",
              "    <tr>\n",
              "      <th>0</th>\n",
              "      <td>2754950</td>\n",
              "      <td>['revisa', 'poste', 'reventado', 'vehiculo', '...</td>\n",
              "      <td>0</td>\n",
              "    </tr>\n",
              "    <tr>\n",
              "      <th>1</th>\n",
              "      <td>3005990</td>\n",
              "      <td>['localizar', 'falla', 'circuito', 'primario',...</td>\n",
              "      <td>0</td>\n",
              "    </tr>\n",
              "    <tr>\n",
              "      <th>2</th>\n",
              "      <td>2634320</td>\n",
              "      <td>['retiraron', 'arbol', 'palma', 'aisladero', '...</td>\n",
              "      <td>0</td>\n",
              "    </tr>\n",
              "    <tr>\n",
              "      <th>3</th>\n",
              "      <td>2634321</td>\n",
              "      <td>['cll', 'revision', 'calidad', 'inspecciona', ...</td>\n",
              "      <td>0</td>\n",
              "    </tr>\n",
              "    <tr>\n",
              "      <th>4</th>\n",
              "      <td>2742512</td>\n",
              "      <td>['mar', 'carrera', 'trabajador', 'reparan', 'l...</td>\n",
              "      <td>0</td>\n",
              "    </tr>\n",
              "    <tr>\n",
              "      <th>...</th>\n",
              "      <td>...</td>\n",
              "      <td>...</td>\n",
              "      <td>...</td>\n",
              "    </tr>\n",
              "    <tr>\n",
              "      <th>156787</th>\n",
              "      <td>2927475</td>\n",
              "      <td>['normalizo', 'aisladero', 'marcar', 'fase', '...</td>\n",
              "      <td>0</td>\n",
              "    </tr>\n",
              "    <tr>\n",
              "      <th>156788</th>\n",
              "      <td>3157566</td>\n",
              "      <td>['legalizacion', 'ayer', 'solo', 'datos', 'asi...</td>\n",
              "      <td>0</td>\n",
              "    </tr>\n",
              "    <tr>\n",
              "      <th>156789</th>\n",
              "      <td>3056493</td>\n",
              "      <td>['presto', 'pollo', 'cld', 'abrir', 'circuitos...</td>\n",
              "      <td>0</td>\n",
              "    </tr>\n",
              "    <tr>\n",
              "      <th>156790</th>\n",
              "      <td>3055378</td>\n",
              "      <td>['aislo', 'reconectador', 'abrieron', 'cuchill...</td>\n",
              "      <td>0</td>\n",
              "    </tr>\n",
              "    <tr>\n",
              "      <th>156791</th>\n",
              "      <td>3137630</td>\n",
              "      <td>['fusible', 'aisladero', 'fases', 'confirmo']</td>\n",
              "      <td>0</td>\n",
              "    </tr>\n",
              "  </tbody>\n",
              "</table>\n",
              "<p>146324 rows × 3 columns</p>\n",
              "</div>\n",
              "      <button class=\"colab-df-convert\" onclick=\"convertToInteractive('df-83629763-501c-49c5-9455-3f8b06bea4c0')\"\n",
              "              title=\"Convert this dataframe to an interactive table.\"\n",
              "              style=\"display:none;\">\n",
              "        \n",
              "  <svg xmlns=\"http://www.w3.org/2000/svg\" height=\"24px\"viewBox=\"0 0 24 24\"\n",
              "       width=\"24px\">\n",
              "    <path d=\"M0 0h24v24H0V0z\" fill=\"none\"/>\n",
              "    <path d=\"M18.56 5.44l.94 2.06.94-2.06 2.06-.94-2.06-.94-.94-2.06-.94 2.06-2.06.94zm-11 1L8.5 8.5l.94-2.06 2.06-.94-2.06-.94L8.5 2.5l-.94 2.06-2.06.94zm10 10l.94 2.06.94-2.06 2.06-.94-2.06-.94-.94-2.06-.94 2.06-2.06.94z\"/><path d=\"M17.41 7.96l-1.37-1.37c-.4-.4-.92-.59-1.43-.59-.52 0-1.04.2-1.43.59L10.3 9.45l-7.72 7.72c-.78.78-.78 2.05 0 2.83L4 21.41c.39.39.9.59 1.41.59.51 0 1.02-.2 1.41-.59l7.78-7.78 2.81-2.81c.8-.78.8-2.07 0-2.86zM5.41 20L4 18.59l7.72-7.72 1.47 1.35L5.41 20z\"/>\n",
              "  </svg>\n",
              "      </button>\n",
              "      \n",
              "  <style>\n",
              "    .colab-df-container {\n",
              "      display:flex;\n",
              "      flex-wrap:wrap;\n",
              "      gap: 12px;\n",
              "    }\n",
              "\n",
              "    .colab-df-convert {\n",
              "      background-color: #E8F0FE;\n",
              "      border: none;\n",
              "      border-radius: 50%;\n",
              "      cursor: pointer;\n",
              "      display: none;\n",
              "      fill: #1967D2;\n",
              "      height: 32px;\n",
              "      padding: 0 0 0 0;\n",
              "      width: 32px;\n",
              "    }\n",
              "\n",
              "    .colab-df-convert:hover {\n",
              "      background-color: #E2EBFA;\n",
              "      box-shadow: 0px 1px 2px rgba(60, 64, 67, 0.3), 0px 1px 3px 1px rgba(60, 64, 67, 0.15);\n",
              "      fill: #174EA6;\n",
              "    }\n",
              "\n",
              "    [theme=dark] .colab-df-convert {\n",
              "      background-color: #3B4455;\n",
              "      fill: #D2E3FC;\n",
              "    }\n",
              "\n",
              "    [theme=dark] .colab-df-convert:hover {\n",
              "      background-color: #434B5C;\n",
              "      box-shadow: 0px 1px 3px 1px rgba(0, 0, 0, 0.15);\n",
              "      filter: drop-shadow(0px 1px 2px rgba(0, 0, 0, 0.3));\n",
              "      fill: #FFFFFF;\n",
              "    }\n",
              "  </style>\n",
              "\n",
              "      <script>\n",
              "        const buttonEl =\n",
              "          document.querySelector('#df-83629763-501c-49c5-9455-3f8b06bea4c0 button.colab-df-convert');\n",
              "        buttonEl.style.display =\n",
              "          google.colab.kernel.accessAllowed ? 'block' : 'none';\n",
              "\n",
              "        async function convertToInteractive(key) {\n",
              "          const element = document.querySelector('#df-83629763-501c-49c5-9455-3f8b06bea4c0');\n",
              "          const dataTable =\n",
              "            await google.colab.kernel.invokeFunction('convertToInteractive',\n",
              "                                                     [key], {});\n",
              "          if (!dataTable) return;\n",
              "\n",
              "          const docLinkHtml = 'Like what you see? Visit the ' +\n",
              "            '<a target=\"_blank\" href=https://colab.research.google.com/notebooks/data_table.ipynb>data table notebook</a>'\n",
              "            + ' to learn more about interactive tables.';\n",
              "          element.innerHTML = '';\n",
              "          dataTable['output_type'] = 'display_data';\n",
              "          await google.colab.output.renderOutput(dataTable, element);\n",
              "          const docLink = document.createElement('div');\n",
              "          docLink.innerHTML = docLinkHtml;\n",
              "          element.appendChild(docLink);\n",
              "        }\n",
              "      </script>\n",
              "    </div>\n",
              "  </div>\n",
              "  "
            ]
          },
          "metadata": {},
          "execution_count": 23
        }
      ]
    },
    {
      "cell_type": "markdown",
      "source": [
        "Dado el desbalanceo de los datos, se determina hacer un *undersampling* de del conjunto de datos, específicamente de la clase 0 = no pendiente. Esto con el fin de obtener un set de datos balanceado para el entrenamiento de los modelos.\n",
        "\n"
      ],
      "metadata": {
        "id": "UoW5_P7XtERc"
      }
    },
    {
      "cell_type": "code",
      "source": [
        "## Dentro de la variable E1 se almacena una muestra de textos no pendientes igual tamaño a la cantidad de textos con pendiente\n",
        "E1 = nopend.sample(n = 12000, replace = True)\n",
        "Entrenamiento = pd.concat([E1, pend])\n",
        "training_data = Entrenamiento.tokens_proc\n",
        "training_etiquetas = Entrenamiento.label"
      ],
      "metadata": {
        "id": "rXNxMlfPAPtj"
      },
      "execution_count": null,
      "outputs": []
    },
    {
      "cell_type": "markdown",
      "source": [
        "\n",
        "\n",
        "*   División de los datos en conjuntos de prueba y entrenamiento\n",
        "\n"
      ],
      "metadata": {
        "id": "LDDpNJStvn9_"
      }
    },
    {
      "cell_type": "code",
      "source": [
        "## Se segmentan los datos en Datos de Entrenamiento y Datos de Testeo en una proporción 90% - 10%\n",
        "x_train, x_test, y_train, y_test = train_test_split(training_data, training_etiquetas, test_size = 0.3)"
      ],
      "metadata": {
        "id": "ehztlsq_AOvi"
      },
      "execution_count": null,
      "outputs": []
    },
    {
      "cell_type": "markdown",
      "source": [
        "\n",
        "\n",
        "*   Transformación de los datos a una representación numérica de documentos apropiada para aplicar los modelos supervisados. Se aplica la representación TF-IDF.\n",
        "\n"
      ],
      "metadata": {
        "id": "rRJ_FF9UvxZY"
      }
    },
    {
      "cell_type": "code",
      "source": [
        "# Se transforman los documentos a una matriz de frecuencia de tokens (CountVectorizer)\n",
        "count_vect = CountVectorizer(max_features = 500)\n",
        "X_train_counts = count_vect.fit_transform(x_train)\n",
        "\n",
        "# Se transforma la matriz anterior a una representación TF-IDF\n",
        "tfidf_transformer = TfidfTransformer()\n",
        "X_train_tfidf = tfidf_transformer.fit_transform(X_train_counts)\n"
      ],
      "metadata": {
        "id": "VKN3qS-S_sDw"
      },
      "execution_count": null,
      "outputs": []
    },
    {
      "cell_type": "code",
      "source": [
        "\n",
        "# Se crea el vector de features para test\n",
        "X_new_counts = count_vect.transform(x_test)\n",
        "\n",
        "# Se usa la representación TF-IDF para test\n",
        "X_new_tfidf = tfidf_transformer.transform(X_new_counts)\n"
      ],
      "metadata": {
        "id": "YGTUy4S4Gf3o"
      },
      "execution_count": null,
      "outputs": []
    },
    {
      "cell_type": "markdown",
      "source": [
        "##Entrenamiento de modelo Knn"
      ],
      "metadata": {
        "id": "I7-BgmJqqGFj"
      }
    },
    {
      "cell_type": "markdown",
      "source": [
        "Se entrena un modelo KNN y se verifica su desempeño para diferentes valores de $k$, entre $1$ y $10$."
      ],
      "metadata": {
        "id": "Qaafra0_wVRf"
      }
    },
    {
      "cell_type": "code",
      "source": [
        "## Se almacena la precisión del modelo dentro de la lista que lleva el mismo nombre\n",
        "confianza = []\n",
        "\n",
        "for i in range(1, 10):\n",
        "    DF_Clasificador = KNeighborsClassifier(i)\n",
        "    DF_Clasificador.fit(X_train_tfidf, y_train)\n",
        "    confianza.append(DF_Clasificador.score(X_new_tfidf, y_test))"
      ],
      "metadata": {
        "id": "Zq4ryZvjikgk"
      },
      "execution_count": null,
      "outputs": []
    },
    {
      "cell_type": "code",
      "source": [
        "### El gráfico representa la variación de la confianza del modelo conforme K aumenta; el gráfico se utiliza para seleccionar un K - óptimo\n",
        "\n",
        "Figura = plt.figure(figsize = (10, 6))\n",
        "ax = plt.subplot()\n",
        "\n",
        "font_title = {'family': 'serif',\n",
        "        'color':  'k',\n",
        "        'weight': 'normal',\n",
        "        'size': 16,\n",
        "        }\n",
        "\n",
        "font_label = {'family': 'serif',\n",
        "        'color':  'k',\n",
        "        'weight': 'normal',\n",
        "        'size': 12,\n",
        "        }\n",
        "\n",
        "\n",
        "K = range(1,10)\n",
        "#y_ticks = [0.70, 0.71, 0.72, 0.73, 0.74, 0.75, 0.76, 0.77, 0.78]\n",
        "#y_labels = ['70%', '71%', '72%', '73%', '74%', '75%', '76%', '77%', '78%']\n",
        "\n",
        "ax.plot(K, confianza, color = 'k', markersize = 6, marker = 'h', label = 'Curva de Precisión')\n",
        "ax.set_title('Precisión del Modelo Vs K', fontdict = font_title)\n",
        "ax.set_xlabel('K', fontdict = font_label)\n",
        "ax.set_ylabel('Precisión del Modelo', fontdict = font_label)\n",
        "\n",
        "#ax.set_yticks(y_ticks)\n",
        "#ax.set_yticklabels(y_labels)\n",
        "plt.grid()\n",
        "plt.legend()\n",
        "\n",
        "plt.show()"
      ],
      "metadata": {
        "colab": {
          "base_uri": "https://localhost:8080/",
          "height": 410
        },
        "id": "ArovdWadgzCS",
        "outputId": "959acf55-477c-44fd-ffdd-a39a12a973e4"
      },
      "execution_count": null,
      "outputs": [
        {
          "output_type": "display_data",
          "data": {
            "text/plain": [
              "<Figure size 720x432 with 1 Axes>"
            ],
            "image/png": "[encoded data removed]"
          },
          "metadata": {
            "needs_background": "light"
          }
        }
      ]
    },
    {
      "cell_type": "markdown",
      "source": [
        "A partir de la gráfica anterior, se identifica un valor de $k=3$ óptimo para el desempeño del modelo."
      ],
      "metadata": {
        "id": "PnppeTymwlg4"
      }
    },
    {
      "cell_type": "code",
      "source": [
        "## Modelo Knn con k=3\n",
        "knn = KNeighborsClassifier(n_neighbors = 3)\n",
        "\n",
        "# Entrenamiento del clasificador.\n",
        "clf_knn = knn.fit(X_train_tfidf, y_train)\n",
        "\n",
        "y_pred_knn = clf_knn.predict(X_new_tfidf)"
      ],
      "metadata": {
        "id": "4_BE0qNFn-36"
      },
      "execution_count": null,
      "outputs": []
    },
    {
      "cell_type": "markdown",
      "source": [
        "* Evaluación de desempeño del modelo"
      ],
      "metadata": {
        "id": "koiRbLDxxiTp"
      }
    },
    {
      "cell_type": "code",
      "source": [
        "print(classification_report(y_test, y_pred_knn))"
      ],
      "metadata": {
        "colab": {
          "base_uri": "https://localhost:8080/"
        },
        "id": "1mRl6lLghRco",
        "outputId": "51c55832-3a72-46a3-a933-904dfe558e61"
      },
      "execution_count": null,
      "outputs": [
        {
          "output_type": "stream",
          "name": "stdout",
          "text": [
            "              precision    recall  f1-score   support\n",
            "\n",
            "           0       0.69      0.88      0.77      3557\n",
            "           1       0.81      0.55      0.66      3184\n",
            "\n",
            "    accuracy                           0.73      6741\n",
            "   macro avg       0.75      0.72      0.71      6741\n",
            "weighted avg       0.74      0.73      0.72      6741\n",
            "\n"
          ]
        }
      ]
    },
    {
      "cell_type": "markdown",
      "source": [
        "##Entrenamiento de modelo Naive Bayes"
      ],
      "metadata": {
        "id": "deZRTaCRqde7"
      }
    },
    {
      "cell_type": "markdown",
      "source": [
        "* Entrenamiento del modelo"
      ],
      "metadata": {
        "id": "CG6z3lpyxMpB"
      }
    },
    {
      "cell_type": "code",
      "source": [
        " #Naive Bayes\n",
        "nb = MultinomialNB().fit(X_train_tfidf, y_train)\n",
        "\n",
        "# Entrenamiento del clasificador.\n",
        "clf_nb = nb.fit(X_train_tfidf, y_train)\n",
        "\n",
        "y_pred_nb = clf_nb.predict(X_new_tfidf)\n"
      ],
      "metadata": {
        "id": "nZfHykvtqf5J"
      },
      "execution_count": null,
      "outputs": []
    },
    {
      "cell_type": "markdown",
      "source": [
        "* Evaluación de desempeño del modelo"
      ],
      "metadata": {
        "id": "78AOVXC6xPI9"
      }
    },
    {
      "cell_type": "code",
      "source": [
        "print(classification_report(y_test, y_pred_nb))"
      ],
      "metadata": {
        "colab": {
          "base_uri": "https://localhost:8080/"
        },
        "id": "3VtUZ87JsEcR",
        "outputId": "c996c087-2a00-4bdb-c3b8-10bf3e689585"
      },
      "execution_count": null,
      "outputs": [
        {
          "output_type": "stream",
          "name": "stdout",
          "text": [
            "              precision    recall  f1-score   support\n",
            "\n",
            "           0       0.84      0.77      0.80      3557\n",
            "           1       0.76      0.84      0.80      3184\n",
            "\n",
            "    accuracy                           0.80      6741\n",
            "   macro avg       0.80      0.80      0.80      6741\n",
            "weighted avg       0.80      0.80      0.80      6741\n",
            "\n"
          ]
        }
      ]
    },
    {
      "cell_type": "markdown",
      "source": [
        "##Entrenamiento de modelo Regresión Logística"
      ],
      "metadata": {
        "id": "HyN8_mc4sb-l"
      }
    },
    {
      "cell_type": "markdown",
      "source": [
        "* Entrenamiento del modelo"
      ],
      "metadata": {
        "id": "3VtZymYDxc6s"
      }
    },
    {
      "cell_type": "code",
      "source": [
        " #Regresion logistica\n",
        "rl = linear_model.LogisticRegression().fit(X_train_tfidf, y_train)\n",
        "\n",
        "# Entrenamiento del clasificador.\n",
        "clf_rl = rl.fit(X_train_tfidf, y_train)\n",
        "\n",
        "y_pred_rl = clf_rl.predict(X_new_tfidf)\n"
      ],
      "metadata": {
        "id": "23Qd7jMssYcE"
      },
      "execution_count": null,
      "outputs": []
    },
    {
      "cell_type": "markdown",
      "source": [
        "* Evaluación de desempeño del modelo"
      ],
      "metadata": {
        "id": "7W6LuFnqxkQi"
      }
    },
    {
      "cell_type": "code",
      "source": [
        "print(classification_report(y_test, y_pred_rl))"
      ],
      "metadata": {
        "colab": {
          "base_uri": "https://localhost:8080/"
        },
        "outputId": "407bab28-b5f9-4edc-92b1-49ab2b1a0f03",
        "id": "uCD6uSvlsYcE"
      },
      "execution_count": null,
      "outputs": [
        {
          "output_type": "stream",
          "name": "stdout",
          "text": [
            "              precision    recall  f1-score   support\n",
            "\n",
            "           0       0.98      0.95      0.96      3557\n",
            "           1       0.94      0.98      0.96      3184\n",
            "\n",
            "    accuracy                           0.96      6741\n",
            "   macro avg       0.96      0.96      0.96      6741\n",
            "weighted avg       0.96      0.96      0.96      6741\n",
            "\n"
          ]
        }
      ]
    },
    {
      "cell_type": "markdown",
      "source": [
        "## Guardar los modelos entrenados para ser usados en el despliegue"
      ],
      "metadata": {
        "id": "3bRi-E73otIm"
      }
    },
    {
      "cell_type": "code",
      "source": [
        "import pickle\n",
        "\n",
        "filename = 'modelo.pkl'\n",
        "variables= list(count_vect.get_feature_names_out())\n",
        "pickle.dump([knn, nb, rl ,variables,count_vect,tfidf_transformer], open(filename, 'wb'))"
      ],
      "metadata": {
        "id": "wiNCERusor_O"
      },
      "execution_count": null,
      "outputs": []
    }
  ]
}