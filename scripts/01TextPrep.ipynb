{
  "cells": [
    {
      "cell_type": "markdown",
      "metadata": {
        "id": "VOui40mXvidO"
      },
      "source": [
        "##**Preparación de Texto**"
      ]
    },
    {
      "cell_type": "markdown",
      "metadata": {
        "id": "yninId4yvt0-"
      },
      "source": [
        "**Preparar notebook**"
      ]
    },
    {
      "cell_type": "code",
      "execution_count": null,
      "metadata": {
        "colab": {
          "base_uri": "https://localhost:8080/"
        },
        "id": "8SDdNd0qN5jm",
        "outputId": "c1269283-1c96-4c9b-98d7-050165ab1f8c"
      },
      "outputs": [
        {
          "output_type": "stream",
          "name": "stdout",
          "text": [
            "Mounted at /content/drive\n"
          ]
        }
      ],
      "source": [
        "## Conectar el notebook a googledrive\n",
        "from google.colab import drive\n",
        "drive.mount('/content/drive')"
      ]
    },
    {
      "cell_type": "code",
      "execution_count": null,
      "metadata": {
        "id": "qcR-_zr0Ojnl"
      },
      "outputs": [],
      "source": [
        "## Importar librerias necesarias\n",
        "import nltk\n",
        "import pandas as pd\n",
        "import numpy as np\n",
        "import re\n",
        "import codecs\n",
        "import matplotlib.pyplot as plt\n",
        "from collections import Counter\n",
        "from nltk.util import ngrams\n",
        "from nltk import bigrams\n",
        "import spacy"
      ]
    },
    {
      "cell_type": "code",
      "execution_count": null,
      "metadata": {
        "colab": {
          "base_uri": "https://localhost:8080/"
        },
        "id": "oFtIYKJSE_Ae",
        "outputId": "25948ea6-f770-4809-e652-718f1f5bda91"
      },
      "outputs": [
        {
          "output_type": "stream",
          "name": "stdout",
          "text": [
            "Looking in indexes: https://pypi.org/simple, https://us-python.pkg.dev/colab-wheels/public/simple/\n",
            "Collecting contexto\n",
            "  Downloading ConTexto-0.2.0-py3-none-any.whl (136 kB)\n",
            "\u001b[K     |████████████████████████████████| 136 kB 35.0 MB/s \n",
            "\u001b[?25hCollecting langid==1.1.6\n",
            "  Downloading langid-1.1.6.tar.gz (1.9 MB)\n",
            "\u001b[K     |████████████████████████████████| 1.9 MB 61.0 MB/s \n",
            "\u001b[?25hCollecting gensim==4.0.1\n",
            "  Downloading gensim-4.0.1-cp38-cp38-manylinux1_x86_64.whl (23.9 MB)\n",
            "\u001b[K     |████████████████████████████████| 23.9 MB 1.2 MB/s \n",
            "\u001b[?25hCollecting slate3k==0.5.3\n",
            "  Downloading slate3k-0.5.3-py2.py3-none-any.whl (7.9 kB)\n",
            "Collecting docx2txt==0.8\n",
            "  Downloading docx2txt-0.8.tar.gz (2.8 kB)\n",
            "Requirement already satisfied: wordcloud>=1.8.1 in /usr/local/lib/python3.8/dist-packages (from contexto) (1.8.2.2)\n",
            "Collecting reportlab==3.5.68\n",
            "  Downloading reportlab-3.5.68-cp38-cp38-manylinux_2_12_x86_64.manylinux2010_x86_64.whl (2.6 MB)\n",
            "\u001b[K     |████████████████████████████████| 2.6 MB 73.2 MB/s \n",
            "\u001b[?25hRequirement already satisfied: spacy>=3.0.6 in /usr/local/lib/python3.8/dist-packages (from contexto) (3.4.3)\n",
            "Collecting python-docx>=0.8.11\n",
            "  Downloading python-docx-0.8.11.tar.gz (5.6 MB)\n",
            "\u001b[K     |████████████████████████████████| 5.6 MB 49.5 MB/s \n",
            "\u001b[?25hCollecting matplotlib>=3.3.4\n",
            "  Downloading matplotlib-3.6.2-cp38-cp38-manylinux_2_12_x86_64.manylinux2010_x86_64.whl (9.4 MB)\n",
            "\u001b[K     |████████████████████████████████| 9.4 MB 54.4 MB/s \n",
            "\u001b[?25hRequirement already satisfied: scikit-learn>=0.24.2 in /usr/local/lib/python3.8/dist-packages (from contexto) (1.0.2)\n",
            "Collecting pyspellchecker==0.6.2\n",
            "  Downloading pyspellchecker-0.6.2-py3-none-any.whl (2.7 MB)\n",
            "\u001b[K     |████████████████████████████████| 2.7 MB 74.2 MB/s \n",
            "\u001b[?25hCollecting PyPDF2==1.26.0\n",
            "  Downloading PyPDF2-1.26.0.tar.gz (77 kB)\n",
            "\u001b[K     |████████████████████████████████| 77 kB 6.0 MB/s \n",
            "\u001b[?25hRequirement already satisfied: opencv-python>=4.5.2.54 in /usr/local/lib/python3.8/dist-packages (from contexto) (4.6.0.66)\n",
            "Requirement already satisfied: pandas>=0.25.3 in /usr/local/lib/python3.8/dist-packages (from contexto) (1.3.5)\n",
            "Collecting nltk==3.6.2\n",
            "  Downloading nltk-3.6.2-py3-none-any.whl (1.5 MB)\n",
            "\u001b[K     |████████████████████████████████| 1.5 MB 58.8 MB/s \n",
            "\u001b[?25hCollecting pytesseract==0.3.7\n",
            "  Downloading pytesseract-0.3.7.tar.gz (13 kB)\n",
            "Collecting jellyfish==0.8.2\n",
            "  Downloading jellyfish-0.8.2-cp38-cp38-manylinux2014_x86_64.whl (94 kB)\n",
            "\u001b[K     |████████████████████████████████| 94 kB 2.4 MB/s \n",
            "\u001b[?25hCollecting googletrans==2.4.0\n",
            "  Downloading googletrans-2.4.0.tar.gz (17 kB)\n",
            "Collecting stanza>=1.2.1\n",
            "  Downloading stanza-1.4.2-py3-none-any.whl (691 kB)\n",
            "\u001b[K     |████████████████████████████████| 691 kB 41.7 MB/s \n",
            "\u001b[?25hCollecting networkx==2.5.1\n",
            "  Downloading networkx-2.5.1-py3-none-any.whl (1.6 MB)\n",
            "\u001b[K     |████████████████████████████████| 1.6 MB 75.6 MB/s \n",
            "\u001b[?25hRequirement already satisfied: click<7.2.0,>=7.1.1 in /usr/local/lib/python3.8/dist-packages (from contexto) (7.1.2)\n",
            "Collecting pdf2image==1.16.0\n",
            "  Downloading pdf2image-1.16.0-py3-none-any.whl (10 kB)\n",
            "Requirement already satisfied: scipy>=0.18.1 in /usr/local/lib/python3.8/dist-packages (from gensim==4.0.1->contexto) (1.7.3)\n",
            "Requirement already satisfied: numpy>=1.11.3 in /usr/local/lib/python3.8/dist-packages (from gensim==4.0.1->contexto) (1.21.6)\n",
            "Requirement already satisfied: smart-open>=1.8.1 in /usr/local/lib/python3.8/dist-packages (from gensim==4.0.1->contexto) (5.2.1)\n",
            "Requirement already satisfied: requests in /usr/local/lib/python3.8/dist-packages (from googletrans==2.4.0->contexto) (2.23.0)\n",
            "Requirement already satisfied: decorator<5,>=4.3 in /usr/local/lib/python3.8/dist-packages (from networkx==2.5.1->contexto) (4.4.2)\n",
            "Requirement already satisfied: regex in /usr/local/lib/python3.8/dist-packages (from nltk==3.6.2->contexto) (2022.6.2)\n",
            "Requirement already satisfied: joblib in /usr/local/lib/python3.8/dist-packages (from nltk==3.6.2->contexto) (1.2.0)\n",
            "Requirement already satisfied: tqdm in /usr/local/lib/python3.8/dist-packages (from nltk==3.6.2->contexto) (4.64.1)\n",
            "Requirement already satisfied: pillow in /usr/local/lib/python3.8/dist-packages (from pdf2image==1.16.0->contexto) (7.1.2)\n",
            "Collecting pdfminer3k\n",
            "  Downloading pdfminer3k-1.3.4-py3-none-any.whl (100 kB)\n",
            "\u001b[K     |████████████████████████████████| 100 kB 9.6 MB/s \n",
            "\u001b[?25hRequirement already satisfied: packaging>=20.0 in /usr/local/lib/python3.8/dist-packages (from matplotlib>=3.3.4->contexto) (21.3)\n",
            "Requirement already satisfied: python-dateutil>=2.7 in /usr/local/lib/python3.8/dist-packages (from matplotlib>=3.3.4->contexto) (2.8.2)\n",
            "Requirement already satisfied: pyparsing>=2.2.1 in /usr/local/lib/python3.8/dist-packages (from matplotlib>=3.3.4->contexto) (3.0.9)\n",
            "Requirement already satisfied: kiwisolver>=1.0.1 in /usr/local/lib/python3.8/dist-packages (from matplotlib>=3.3.4->contexto) (1.4.4)\n",
            "Collecting contourpy>=1.0.1\n",
            "  Downloading contourpy-1.0.6-cp38-cp38-manylinux_2_17_x86_64.manylinux2014_x86_64.whl (295 kB)\n",
            "\u001b[K     |████████████████████████████████| 295 kB 69.1 MB/s \n",
            "\u001b[?25hRequirement already satisfied: cycler>=0.10 in /usr/local/lib/python3.8/dist-packages (from matplotlib>=3.3.4->contexto) (0.11.0)\n",
            "Collecting fonttools>=4.22.0\n",
            "  Downloading fonttools-4.38.0-py3-none-any.whl (965 kB)\n",
            "\u001b[K     |████████████████████████████████| 965 kB 65.9 MB/s \n",
            "\u001b[?25hRequirement already satisfied: pytz>=2017.3 in /usr/local/lib/python3.8/dist-packages (from pandas>=0.25.3->contexto) (2022.6)\n",
            "Requirement already satisfied: six>=1.5 in /usr/local/lib/python3.8/dist-packages (from python-dateutil>=2.7->matplotlib>=3.3.4->contexto) (1.15.0)\n",
            "Requirement already satisfied: lxml>=2.3.2 in /usr/local/lib/python3.8/dist-packages (from python-docx>=0.8.11->contexto) (4.9.1)\n",
            "Requirement already satisfied: threadpoolctl>=2.0.0 in /usr/local/lib/python3.8/dist-packages (from scikit-learn>=0.24.2->contexto) (3.1.0)\n",
            "Requirement already satisfied: srsly<3.0.0,>=2.4.3 in /usr/local/lib/python3.8/dist-packages (from spacy>=3.0.6->contexto) (2.4.5)\n",
            "Requirement already satisfied: typer<0.8.0,>=0.3.0 in /usr/local/lib/python3.8/dist-packages (from spacy>=3.0.6->contexto) (0.7.0)\n",
            "Requirement already satisfied: pathy>=0.3.5 in /usr/local/lib/python3.8/dist-packages (from spacy>=3.0.6->contexto) (0.9.0)\n",
            "Requirement already satisfied: setuptools in /usr/local/lib/python3.8/dist-packages (from spacy>=3.0.6->contexto) (57.4.0)\n",
            "Requirement already satisfied: spacy-legacy<3.1.0,>=3.0.10 in /usr/local/lib/python3.8/dist-packages (from spacy>=3.0.6->contexto) (3.0.10)\n",
            "Requirement already satisfied: catalogue<2.1.0,>=2.0.6 in /usr/local/lib/python3.8/dist-packages (from spacy>=3.0.6->contexto) (2.0.8)\n",
            "Requirement already satisfied: langcodes<4.0.0,>=3.2.0 in /usr/local/lib/python3.8/dist-packages (from spacy>=3.0.6->contexto) (3.3.0)\n",
            "Requirement already satisfied: pydantic!=1.8,!=1.8.1,<1.11.0,>=1.7.4 in /usr/local/lib/python3.8/dist-packages (from spacy>=3.0.6->contexto) (1.10.2)\n",
            "Requirement already satisfied: spacy-loggers<2.0.0,>=1.0.0 in /usr/local/lib/python3.8/dist-packages (from spacy>=3.0.6->contexto) (1.0.3)\n",
            "Requirement already satisfied: cymem<2.1.0,>=2.0.2 in /usr/local/lib/python3.8/dist-packages (from spacy>=3.0.6->contexto) (2.0.7)\n",
            "Requirement already satisfied: murmurhash<1.1.0,>=0.28.0 in /usr/local/lib/python3.8/dist-packages (from spacy>=3.0.6->contexto) (1.0.9)\n",
            "Requirement already satisfied: wasabi<1.1.0,>=0.9.1 in /usr/local/lib/python3.8/dist-packages (from spacy>=3.0.6->contexto) (0.10.1)\n",
            "Requirement already satisfied: thinc<8.2.0,>=8.1.0 in /usr/local/lib/python3.8/dist-packages (from spacy>=3.0.6->contexto) (8.1.5)\n",
            "Requirement already satisfied: jinja2 in /usr/local/lib/python3.8/dist-packages (from spacy>=3.0.6->contexto) (2.11.3)\n",
            "Requirement already satisfied: preshed<3.1.0,>=3.0.2 in /usr/local/lib/python3.8/dist-packages (from spacy>=3.0.6->contexto) (3.0.8)\n",
            "Requirement already satisfied: typing-extensions>=4.1.0 in /usr/local/lib/python3.8/dist-packages (from pydantic!=1.8,!=1.8.1,<1.11.0,>=1.7.4->spacy>=3.0.6->contexto) (4.1.1)\n",
            "Requirement already satisfied: idna<3,>=2.5 in /usr/local/lib/python3.8/dist-packages (from requests->googletrans==2.4.0->contexto) (2.10)\n",
            "Requirement already satisfied: urllib3!=1.25.0,!=1.25.1,<1.26,>=1.21.1 in /usr/local/lib/python3.8/dist-packages (from requests->googletrans==2.4.0->contexto) (1.24.3)\n",
            "Requirement already satisfied: chardet<4,>=3.0.2 in /usr/local/lib/python3.8/dist-packages (from requests->googletrans==2.4.0->contexto) (3.0.4)\n",
            "Requirement already satisfied: certifi>=2017.4.17 in /usr/local/lib/python3.8/dist-packages (from requests->googletrans==2.4.0->contexto) (2022.9.24)\n",
            "Requirement already satisfied: protobuf in /usr/local/lib/python3.8/dist-packages (from stanza>=1.2.1->contexto) (3.19.6)\n",
            "Requirement already satisfied: torch>=1.3.0 in /usr/local/lib/python3.8/dist-packages (from stanza>=1.2.1->contexto) (1.12.1+cu113)\n",
            "Collecting emoji\n",
            "  Downloading emoji-2.2.0.tar.gz (240 kB)\n",
            "\u001b[K     |████████████████████████████████| 240 kB 58.6 MB/s \n",
            "\u001b[?25hRequirement already satisfied: blis<0.8.0,>=0.7.8 in /usr/local/lib/python3.8/dist-packages (from thinc<8.2.0,>=8.1.0->spacy>=3.0.6->contexto) (0.7.9)\n",
            "Requirement already satisfied: confection<1.0.0,>=0.0.1 in /usr/local/lib/python3.8/dist-packages (from thinc<8.2.0,>=8.1.0->spacy>=3.0.6->contexto) (0.0.3)\n",
            "Requirement already satisfied: MarkupSafe>=0.23 in /usr/local/lib/python3.8/dist-packages (from jinja2->spacy>=3.0.6->contexto) (2.0.1)\n",
            "Collecting ply\n",
            "  Downloading ply-3.11-py2.py3-none-any.whl (49 kB)\n",
            "\u001b[K     |████████████████████████████████| 49 kB 4.7 MB/s \n",
            "\u001b[?25hBuilding wheels for collected packages: docx2txt, googletrans, langid, PyPDF2, pytesseract, python-docx, emoji\n",
            "  Building wheel for docx2txt (setup.py) ... \u001b[?25l\u001b[?25hdone\n",
            "  Created wheel for docx2txt: filename=docx2txt-0.8-py3-none-any.whl size=3980 sha256=0158e7be9af670abf7b6f83c2bc2f36ddc28418d4da4c65b4ecc56301acfb9aa\n",
            "  Stored in directory: /root/.cache/pip/wheels/55/f0/2c/81637d42670985178b77df6d41b9b6c6dc18c94818447414b9\n",
            "  Building wheel for googletrans (setup.py) ... \u001b[?25l\u001b[?25hdone\n",
            "  Created wheel for googletrans: filename=googletrans-2.4.0-py3-none-any.whl size=15776 sha256=8cac090fd845475c1d583dbb3c7045d3db66ab50a292d218b2ad2d02ad4377f4\n",
            "  Stored in directory: /root/.cache/pip/wheels/c7/50/06/52f6c4cc428edb011b57291d72ca2e68856ab189614b537be0\n",
            "  Building wheel for langid (setup.py) ... \u001b[?25l\u001b[?25hdone\n",
            "  Created wheel for langid: filename=langid-1.1.6-py3-none-any.whl size=1941188 sha256=f21696f985a17084367addeb5ba411d6ff36454c1fcc1fd828fc71ffba7e392f\n",
            "  Stored in directory: /root/.cache/pip/wheels/c5/01/a4/0160c55074707b535a6757a541842817d530d8080ca943a107\n",
            "  Building wheel for PyPDF2 (setup.py) ... \u001b[?25l\u001b[?25hdone\n",
            "  Created wheel for PyPDF2: filename=PyPDF2-1.26.0-py3-none-any.whl size=61101 sha256=b9abd6160765fb501d936f40db2d07c49e890e150ba50a35b71542aed120b612\n",
            "  Stored in directory: /root/.cache/pip/wheels/b1/1a/8f/a4c34be976825a2f7948d0fa40907598d69834f8ab5889de11\n",
            "  Building wheel for pytesseract (setup.py) ... \u001b[?25l\u001b[?25hdone\n",
            "  Created wheel for pytesseract: filename=pytesseract-0.3.7-py2.py3-none-any.whl size=13954 sha256=5a2c4e083a443238bd7ca4aff1caf8b7faddf03d84094d838f88ef6f668ce587\n",
            "  Stored in directory: /root/.cache/pip/wheels/ac/5b/f4/d5bcc930771126a32285e058c576eda84e43691453a9f7ad71\n",
            "  Building wheel for python-docx (setup.py) ... \u001b[?25l\u001b[?25hdone\n",
            "  Created wheel for python-docx: filename=python_docx-0.8.11-py3-none-any.whl size=184505 sha256=e80c387f6dd6a36ecd4cf82722c95c8c504ddcab65d2b669640e417b0be33ee8\n",
            "  Stored in directory: /root/.cache/pip/wheels/32/b8/b2/c4c2b95765e615fe139b0b17b5ea7c0e1b6519b0a9ec8fb34d\n",
            "  Building wheel for emoji (setup.py) ... \u001b[?25l\u001b[?25hdone\n",
            "  Created wheel for emoji: filename=emoji-2.2.0-py3-none-any.whl size=234926 sha256=00d3596b7fd53cc990d572d96d0dea8613f184b818b695e38cba69568bf8c810\n",
            "  Stored in directory: /root/.cache/pip/wheels/86/62/9e/a6b27a681abcde69970dbc0326ff51955f3beac72f15696984\n",
            "Successfully built docx2txt googletrans langid PyPDF2 pytesseract python-docx emoji\n",
            "Installing collected packages: ply, fonttools, contourpy, pdfminer3k, matplotlib, emoji, stanza, slate3k, reportlab, python-docx, pytesseract, pyspellchecker, PyPDF2, pdf2image, nltk, networkx, langid, jellyfish, googletrans, gensim, docx2txt, contexto\n",
            "  Attempting uninstall: matplotlib\n",
            "    Found existing installation: matplotlib 3.2.2\n",
            "    Uninstalling matplotlib-3.2.2:\n",
            "      Successfully uninstalled matplotlib-3.2.2\n",
            "  Attempting uninstall: nltk\n",
            "    Found existing installation: nltk 3.7\n",
            "    Uninstalling nltk-3.7:\n",
            "      Successfully uninstalled nltk-3.7\n",
            "  Attempting uninstall: networkx\n",
            "    Found existing installation: networkx 2.6.3\n",
            "    Uninstalling networkx-2.6.3:\n",
            "      Successfully uninstalled networkx-2.6.3\n",
            "  Attempting uninstall: gensim\n",
            "    Found existing installation: gensim 3.6.0\n",
            "    Uninstalling gensim-3.6.0:\n",
            "      Successfully uninstalled gensim-3.6.0\n",
            "Successfully installed PyPDF2-1.26.0 contexto-0.2.0 contourpy-1.0.6 docx2txt-0.8 emoji-2.2.0 fonttools-4.38.0 gensim-4.0.1 googletrans-2.4.0 jellyfish-0.8.2 langid-1.1.6 matplotlib-3.6.2 networkx-2.5.1 nltk-3.6.2 pdf2image-1.16.0 pdfminer3k-1.3.4 ply-3.11 pyspellchecker-0.6.2 pytesseract-0.3.7 python-docx-0.8.11 reportlab-3.5.68 slate3k-0.5.3 stanza-1.4.2\n"
          ]
        },
        {
          "output_type": "display_data",
          "data": {
            "application/vnd.colab-display-data+json": {
              "pip_warning": {
                "packages": [
                  "matplotlib",
                  "mpl_toolkits",
                  "nltk"
                ]
              }
            }
          },
          "metadata": {}
        }
      ],
      "source": [
        "# Importar librerias para lematizador\n",
        "!pip install contexto\n",
        "\n",
        "from contexto.lematizacion import LematizadorSpacy, LematizadorStanza\n",
        "from contexto.lematizacion import lematizar_texto\n",
        "from contexto.correccion import Corrector, corregir_texto"
      ]
    },
    {
      "cell_type": "code",
      "execution_count": null,
      "metadata": {
        "colab": {
          "base_uri": "https://localhost:8080/"
        },
        "id": "QkHi50LWPFcI",
        "outputId": "2bafb3d8-b24c-42ab-bce8-d9312481f45e"
      },
      "outputs": [
        {
          "output_type": "stream",
          "name": "stderr",
          "text": [
            "[nltk_data] Downloading package punkt to /root/nltk_data...\n",
            "[nltk_data]   Unzipping tokenizers/punkt.zip.\n",
            "[nltk_data] Downloading package stopwords to /root/nltk_data...\n",
            "[nltk_data]   Unzipping corpora/stopwords.zip.\n",
            "[nltk_data] Downloading package wordnet to /root/nltk_data...\n",
            "[nltk_data] Downloading package omw-1.4 to /root/nltk_data...\n"
          ]
        }
      ],
      "source": [
        "## Descargar el corpus de nltk para 'tokenizer', 'stopwords'\n",
        "nltk.download('punkt')\n",
        "nltk.download('stopwords')\n",
        "nltk.download('wordnet')\n",
        "nltk.download('omw-1.4')\n",
        "\n",
        "# Importar stopwords\n",
        "from nltk.corpus import stopwords\n",
        "stop_words_nltk = set(stopwords.words('spanish'))\n",
        "\n",
        "from nltk.probability import ConditionalFreqDist\n",
        "from nltk.tokenize import word_tokenize"
      ]
    },
    {
      "cell_type": "markdown",
      "metadata": {
        "id": "qPGnHDRkv6-_"
      },
      "source": [
        "**Cargar los Datos**"
      ]
    },
    {
      "cell_type": "code",
      "execution_count": null,
      "metadata": {
        "id": "NrHOB1WbPOCR",
        "colab": {
          "base_uri": "https://localhost:8080/"
        },
        "outputId": "5c015885-f996-47ac-fc8e-1730836a7102"
      },
      "outputs": [
        {
          "output_type": "stream",
          "name": "stdout",
          "text": [
            "(259762, 15)\n"
          ]
        },
        {
          "output_type": "execute_result",
          "data": {
            "text/plain": [
              "            REPORTDATE     WONUM                                  DESCRIPTION  \\\n",
              "0  29/05/2022 02:26:00  10016825             Atención Evento M_EPM_EN_4885195   \n",
              "1  01/09/2022 02:56:24  12523772  Reparar líneas primaria subterránea fallada   \n",
              "\n",
              "    STATUS WORKTYPE ASSETNUM LOCATION         REGION ANCESTOR SOURCESYSID  \\\n",
              "0  CERRADA    CPROG      NaN  32427-4  METROPOLITANA   R05-14         MAR   \n",
              "1  CERRADA    CPROG  3206258  32427-4  METROPOLITANA   R05-14         MAR   \n",
              "\n",
              "  FAILURECODE PROBLEMCODE   RESUMEN  WORKLOGID  \\\n",
              "0       POSTE       CAIDO  CIERREOT    2754950   \n",
              "1         NaN         NaN  CIERREOT    3005990   \n",
              "\n",
              "                                             DETALLE  \n",
              "0  Se revisa y se encuentra poste de 12 MTS de ji...  \n",
              "1  Localizar falla circuito primario sub guayabal...  "
            ],
            "text/html": [
              "\n",
              "  <div id=\"df-03729986-fbcd-42de-8410-5abb243ef3d8\">\n",
              "    <div class=\"colab-df-container\">\n",
              "      <div>\n",
              "<style scoped>\n",
              "    .dataframe tbody tr th:only-of-type {\n",
              "        vertical-align: middle;\n",
              "    }\n",
              "\n",
              "    .dataframe tbody tr th {\n",
              "        vertical-align: top;\n",
              "    }\n",
              "\n",
              "    .dataframe thead th {\n",
              "        text-align: right;\n",
              "    }\n",
              "</style>\n",
              "<table border=\"1\" class=\"dataframe\">\n",
              "  <thead>\n",
              "    <tr style=\"text-align: right;\">\n",
              "      <th></th>\n",
              "      <th>REPORTDATE</th>\n",
              "      <th>WONUM</th>\n",
              "      <th>DESCRIPTION</th>\n",
              "      <th>STATUS</th>\n",
              "      <th>WORKTYPE</th>\n",
              "      <th>ASSETNUM</th>\n",
              "      <th>LOCATION</th>\n",
              "      <th>REGION</th>\n",
              "      <th>ANCESTOR</th>\n",
              "      <th>SOURCESYSID</th>\n",
              "      <th>FAILURECODE</th>\n",
              "      <th>PROBLEMCODE</th>\n",
              "      <th>RESUMEN</th>\n",
              "      <th>WORKLOGID</th>\n",
              "      <th>DETALLE</th>\n",
              "    </tr>\n",
              "  </thead>\n",
              "  <tbody>\n",
              "    <tr>\n",
              "      <th>0</th>\n",
              "      <td>29/05/2022 02:26:00</td>\n",
              "      <td>10016825</td>\n",
              "      <td>Atención Evento M_EPM_EN_4885195</td>\n",
              "      <td>CERRADA</td>\n",
              "      <td>CPROG</td>\n",
              "      <td>NaN</td>\n",
              "      <td>32427-4</td>\n",
              "      <td>METROPOLITANA</td>\n",
              "      <td>R05-14</td>\n",
              "      <td>MAR</td>\n",
              "      <td>POSTE</td>\n",
              "      <td>CAIDO</td>\n",
              "      <td>CIERREOT</td>\n",
              "      <td>2754950</td>\n",
              "      <td>Se revisa y se encuentra poste de 12 MTS de ji...</td>\n",
              "    </tr>\n",
              "    <tr>\n",
              "      <th>1</th>\n",
              "      <td>01/09/2022 02:56:24</td>\n",
              "      <td>12523772</td>\n",
              "      <td>Reparar líneas primaria subterránea fallada</td>\n",
              "      <td>CERRADA</td>\n",
              "      <td>CPROG</td>\n",
              "      <td>3206258</td>\n",
              "      <td>32427-4</td>\n",
              "      <td>METROPOLITANA</td>\n",
              "      <td>R05-14</td>\n",
              "      <td>MAR</td>\n",
              "      <td>NaN</td>\n",
              "      <td>NaN</td>\n",
              "      <td>CIERREOT</td>\n",
              "      <td>3005990</td>\n",
              "      <td>Localizar falla circuito primario sub guayabal...</td>\n",
              "    </tr>\n",
              "  </tbody>\n",
              "</table>\n",
              "</div>\n",
              "      <button class=\"colab-df-convert\" onclick=\"convertToInteractive('df-03729986-fbcd-42de-8410-5abb243ef3d8')\"\n",
              "              title=\"Convert this dataframe to an interactive table.\"\n",
              "              style=\"display:none;\">\n",
              "        \n",
              "  <svg xmlns=\"http://www.w3.org/2000/svg\" height=\"24px\"viewBox=\"0 0 24 24\"\n",
              "       width=\"24px\">\n",
              "    <path d=\"M0 0h24v24H0V0z\" fill=\"none\"/>\n",
              "    <path d=\"M18.56 5.44l.94 2.06.94-2.06 2.06-.94-2.06-.94-.94-2.06-.94 2.06-2.06.94zm-11 1L8.5 8.5l.94-2.06 2.06-.94-2.06-.94L8.5 2.5l-.94 2.06-2.06.94zm10 10l.94 2.06.94-2.06 2.06-.94-2.06-.94-.94-2.06-.94 2.06-2.06.94z\"/><path d=\"M17.41 7.96l-1.37-1.37c-.4-.4-.92-.59-1.43-.59-.52 0-1.04.2-1.43.59L10.3 9.45l-7.72 7.72c-.78.78-.78 2.05 0 2.83L4 21.41c.39.39.9.59 1.41.59.51 0 1.02-.2 1.41-.59l7.78-7.78 2.81-2.81c.8-.78.8-2.07 0-2.86zM5.41 20L4 18.59l7.72-7.72 1.47 1.35L5.41 20z\"/>\n",
              "  </svg>\n",
              "      </button>\n",
              "      \n",
              "  <style>\n",
              "    .colab-df-container {\n",
              "      display:flex;\n",
              "      flex-wrap:wrap;\n",
              "      gap: 12px;\n",
              "    }\n",
              "\n",
              "    .colab-df-convert {\n",
              "      background-color: #E8F0FE;\n",
              "      border: none;\n",
              "      border-radius: 50%;\n",
              "      cursor: pointer;\n",
              "      display: none;\n",
              "      fill: #1967D2;\n",
              "      height: 32px;\n",
              "      padding: 0 0 0 0;\n",
              "      width: 32px;\n",
              "    }\n",
              "\n",
              "    .colab-df-convert:hover {\n",
              "      background-color: #E2EBFA;\n",
              "      box-shadow: 0px 1px 2px rgba(60, 64, 67, 0.3), 0px 1px 3px 1px rgba(60, 64, 67, 0.15);\n",
              "      fill: #174EA6;\n",
              "    }\n",
              "\n",
              "    [theme=dark] .colab-df-convert {\n",
              "      background-color: #3B4455;\n",
              "      fill: #D2E3FC;\n",
              "    }\n",
              "\n",
              "    [theme=dark] .colab-df-convert:hover {\n",
              "      background-color: #434B5C;\n",
              "      box-shadow: 0px 1px 3px 1px rgba(0, 0, 0, 0.15);\n",
              "      filter: drop-shadow(0px 1px 2px rgba(0, 0, 0, 0.3));\n",
              "      fill: #FFFFFF;\n",
              "    }\n",
              "  </style>\n",
              "\n",
              "      <script>\n",
              "        const buttonEl =\n",
              "          document.querySelector('#df-03729986-fbcd-42de-8410-5abb243ef3d8 button.colab-df-convert');\n",
              "        buttonEl.style.display =\n",
              "          google.colab.kernel.accessAllowed ? 'block' : 'none';\n",
              "\n",
              "        async function convertToInteractive(key) {\n",
              "          const element = document.querySelector('#df-03729986-fbcd-42de-8410-5abb243ef3d8');\n",
              "          const dataTable =\n",
              "            await google.colab.kernel.invokeFunction('convertToInteractive',\n",
              "                                                     [key], {});\n",
              "          if (!dataTable) return;\n",
              "\n",
              "          const docLinkHtml = 'Like what you see? Visit the ' +\n",
              "            '<a target=\"_blank\" href=https://colab.research.google.com/notebooks/data_table.ipynb>data table notebook</a>'\n",
              "            + ' to learn more about interactive tables.';\n",
              "          element.innerHTML = '';\n",
              "          dataTable['output_type'] = 'display_data';\n",
              "          await google.colab.output.renderOutput(dataTable, element);\n",
              "          const docLink = document.createElement('div');\n",
              "          docLink.innerHTML = docLinkHtml;\n",
              "          element.appendChild(docLink);\n",
              "        }\n",
              "      </script>\n",
              "    </div>\n",
              "  </div>\n",
              "  "
            ]
          },
          "metadata": {},
          "execution_count": 5
        }
      ],
      "source": [
        "df = pd.read_csv('/content/drive/MyDrive/ProyectoIntegrador/Datos/export.csv', encoding='latin-1')\n",
        "print(df.shape)\n",
        "df.head(2)"
      ]
    },
    {
      "cell_type": "code",
      "execution_count": null,
      "metadata": {
        "id": "bdBBzeoxUjyb"
      },
      "outputs": [],
      "source": [
        "#df = df.sample(n = 80000, replace = True, random_state=1).reset_index(drop=True)"
      ]
    },
    {
      "cell_type": "code",
      "execution_count": null,
      "metadata": {
        "id": "nTfUxC5HVpnB"
      },
      "outputs": [],
      "source": [
        "##df.to_csv('/content/drive/MyDrive/ProyectoIntegrador/Datos/sample.csv')"
      ]
    },
    {
      "cell_type": "code",
      "execution_count": null,
      "metadata": {
        "id": "6l4kJgrOV7HL"
      },
      "outputs": [],
      "source": [
        "#df = pd.read_csv('/content/drive/MyDrive/ProyectoIntegrador/Datos/sample.csv', encoding='utf-8')\n",
        "#print(df.shape)\n",
        "#df.head(2)"
      ]
    },
    {
      "cell_type": "code",
      "execution_count": null,
      "metadata": {
        "colab": {
          "base_uri": "https://localhost:8080/"
        },
        "id": "aGc5HL_In41r",
        "outputId": "021b0e14-a845-4971-9b27-517913fe5e8d"
      },
      "outputs": [
        {
          "output_type": "execute_result",
          "data": {
            "text/plain": [
              "CIERREOT                                                                                                248191\n",
              "MATERIALRECUPERA                                                                                          1380\n",
              "EJECUTADO                                                                                                  995\n",
              "INTERVENTORIA                                                                                              921\n",
              "CORREGIR                                                                                                   669\n",
              "                                                                                                         ...  \n",
              "OT POR ITEM                                                                                                  1\n",
              "ACLARACIÓN DE ACTUALIZACIÓN OT                                                                               1\n",
              "SE DEVUELVE A EJECUTADO SE HABIA DEVUELTO POR QUE NO COINCIDIA EL XML Y VUEVEN Y LO ENVIAN SIN CORRE         1\n",
              "ES LA CUARTA VEZ QUE SE DEVUELVE A EJECUTADO XML NO CONCIDE                                                  1\n",
              "APOYO DIVISA E_M0353 19/09/2022                                                                              1\n",
              "Name: RESUMEN, Length: 1714, dtype: int64"
            ]
          },
          "metadata": {},
          "execution_count": 9
        }
      ],
      "source": [
        "df['RESUMEN'].value_counts()"
      ]
    },
    {
      "cell_type": "code",
      "execution_count": null,
      "metadata": {
        "colab": {
          "base_uri": "https://localhost:8080/"
        },
        "id": "Zdo0IpNRn5iu",
        "outputId": "35fe475a-459d-40be-9965-42e9b294218d"
      },
      "outputs": [
        {
          "output_type": "stream",
          "name": "stdout",
          "text": [
            "(257747, 15)\n"
          ]
        }
      ],
      "source": [
        "#Retirar algunos tipos de OTs que no aportan información de valor\n",
        "df = df[~df['RESUMEN'].isin(['MATERIALRECUPERA','SUBESTACIONES'])]\n",
        "print(df.shape)"
      ]
    },
    {
      "cell_type": "code",
      "execution_count": null,
      "metadata": {
        "colab": {
          "base_uri": "https://localhost:8080/"
        },
        "id": "dhfSzKX8BwBs",
        "outputId": "b2b7de0f-e98c-4809-c1d5-e74fde9b2840"
      },
      "outputs": [
        {
          "output_type": "execute_result",
          "data": {
            "text/plain": [
              "CINME    109502\n",
              "ATTER     76859\n",
              "CPROG     47364\n",
              "PROYE     13578\n",
              "OPERA      6257\n",
              "MBC        2215\n",
              "MP            5\n",
              "Name: WORKTYPE, dtype: int64"
            ]
          },
          "metadata": {},
          "execution_count": 11
        }
      ],
      "source": [
        "df['WORKTYPE'].value_counts()"
      ]
    },
    {
      "cell_type": "code",
      "execution_count": null,
      "metadata": {
        "colab": {
          "base_uri": "https://localhost:8080/"
        },
        "id": "nBVFzwV0nglK",
        "outputId": "0d45a014-578e-4a0b-d61d-ef7250d950ca"
      },
      "outputs": [
        {
          "output_type": "execute_result",
          "data": {
            "text/plain": [
              "(156866, 15)"
            ]
          },
          "metadata": {},
          "execution_count": 12
        }
      ],
      "source": [
        "## Seleccionar registros asociados con tipos de trabajo de interés (Trabajos correctivos)\n",
        "df = df[df['WORKTYPE'].isin(['CINME', 'CPROG'])]\n",
        "df.shape"
      ]
    },
    {
      "cell_type": "code",
      "execution_count": null,
      "metadata": {
        "colab": {
          "base_uri": "https://localhost:8080/"
        },
        "id": "6WLx-9e0SvZM",
        "outputId": "bced027c-5f92-47c5-e31f-e289d555aa5d"
      },
      "outputs": [
        {
          "output_type": "execute_result",
          "data": {
            "text/plain": [
              "    RESUMEN  WORKLOGID                                            DETALLE\n",
              "0  CIERREOT    2754950  Se revisa y se encuentra poste de 12 MTS de ji...\n",
              "1  CIERREOT    3005990  Localizar falla circuito primario sub guayabal...\n",
              "4  CIERREOT    2634320  Se retiraron 5 ramas de Palma que estaban sobr...\n",
              "5  CIERREOT    2634321  R27-07 se visita Cll57c#34-36 revisión por cal...\n",
              "6  CIERREOT    2742512  Con el evento Mar 4879178 en carrera 33 por 29..."
            ],
            "text/html": [
              "\n",
              "  <div id=\"df-ca2559f7-3ac0-47f9-b143-7dbf0dc75285\">\n",
              "    <div class=\"colab-df-container\">\n",
              "      <div>\n",
              "<style scoped>\n",
              "    .dataframe tbody tr th:only-of-type {\n",
              "        vertical-align: middle;\n",
              "    }\n",
              "\n",
              "    .dataframe tbody tr th {\n",
              "        vertical-align: top;\n",
              "    }\n",
              "\n",
              "    .dataframe thead th {\n",
              "        text-align: right;\n",
              "    }\n",
              "</style>\n",
              "<table border=\"1\" class=\"dataframe\">\n",
              "  <thead>\n",
              "    <tr style=\"text-align: right;\">\n",
              "      <th></th>\n",
              "      <th>RESUMEN</th>\n",
              "      <th>WORKLOGID</th>\n",
              "      <th>DETALLE</th>\n",
              "    </tr>\n",
              "  </thead>\n",
              "  <tbody>\n",
              "    <tr>\n",
              "      <th>0</th>\n",
              "      <td>CIERREOT</td>\n",
              "      <td>2754950</td>\n",
              "      <td>Se revisa y se encuentra poste de 12 MTS de ji...</td>\n",
              "    </tr>\n",
              "    <tr>\n",
              "      <th>1</th>\n",
              "      <td>CIERREOT</td>\n",
              "      <td>3005990</td>\n",
              "      <td>Localizar falla circuito primario sub guayabal...</td>\n",
              "    </tr>\n",
              "    <tr>\n",
              "      <th>4</th>\n",
              "      <td>CIERREOT</td>\n",
              "      <td>2634320</td>\n",
              "      <td>Se retiraron 5 ramas de Palma que estaban sobr...</td>\n",
              "    </tr>\n",
              "    <tr>\n",
              "      <th>5</th>\n",
              "      <td>CIERREOT</td>\n",
              "      <td>2634321</td>\n",
              "      <td>R27-07 se visita Cll57c#34-36 revisión por cal...</td>\n",
              "    </tr>\n",
              "    <tr>\n",
              "      <th>6</th>\n",
              "      <td>CIERREOT</td>\n",
              "      <td>2742512</td>\n",
              "      <td>Con el evento Mar 4879178 en carrera 33 por 29...</td>\n",
              "    </tr>\n",
              "  </tbody>\n",
              "</table>\n",
              "</div>\n",
              "      <button class=\"colab-df-convert\" onclick=\"convertToInteractive('df-ca2559f7-3ac0-47f9-b143-7dbf0dc75285')\"\n",
              "              title=\"Convert this dataframe to an interactive table.\"\n",
              "              style=\"display:none;\">\n",
              "        \n",
              "  <svg xmlns=\"http://www.w3.org/2000/svg\" height=\"24px\"viewBox=\"0 0 24 24\"\n",
              "       width=\"24px\">\n",
              "    <path d=\"M0 0h24v24H0V0z\" fill=\"none\"/>\n",
              "    <path d=\"M18.56 5.44l.94 2.06.94-2.06 2.06-.94-2.06-.94-.94-2.06-.94 2.06-2.06.94zm-11 1L8.5 8.5l.94-2.06 2.06-.94-2.06-.94L8.5 2.5l-.94 2.06-2.06.94zm10 10l.94 2.06.94-2.06 2.06-.94-2.06-.94-.94-2.06-.94 2.06-2.06.94z\"/><path d=\"M17.41 7.96l-1.37-1.37c-.4-.4-.92-.59-1.43-.59-.52 0-1.04.2-1.43.59L10.3 9.45l-7.72 7.72c-.78.78-.78 2.05 0 2.83L4 21.41c.39.39.9.59 1.41.59.51 0 1.02-.2 1.41-.59l7.78-7.78 2.81-2.81c.8-.78.8-2.07 0-2.86zM5.41 20L4 18.59l7.72-7.72 1.47 1.35L5.41 20z\"/>\n",
              "  </svg>\n",
              "      </button>\n",
              "      \n",
              "  <style>\n",
              "    .colab-df-container {\n",
              "      display:flex;\n",
              "      flex-wrap:wrap;\n",
              "      gap: 12px;\n",
              "    }\n",
              "\n",
              "    .colab-df-convert {\n",
              "      background-color: #E8F0FE;\n",
              "      border: none;\n",
              "      border-radius: 50%;\n",
              "      cursor: pointer;\n",
              "      display: none;\n",
              "      fill: #1967D2;\n",
              "      height: 32px;\n",
              "      padding: 0 0 0 0;\n",
              "      width: 32px;\n",
              "    }\n",
              "\n",
              "    .colab-df-convert:hover {\n",
              "      background-color: #E2EBFA;\n",
              "      box-shadow: 0px 1px 2px rgba(60, 64, 67, 0.3), 0px 1px 3px 1px rgba(60, 64, 67, 0.15);\n",
              "      fill: #174EA6;\n",
              "    }\n",
              "\n",
              "    [theme=dark] .colab-df-convert {\n",
              "      background-color: #3B4455;\n",
              "      fill: #D2E3FC;\n",
              "    }\n",
              "\n",
              "    [theme=dark] .colab-df-convert:hover {\n",
              "      background-color: #434B5C;\n",
              "      box-shadow: 0px 1px 3px 1px rgba(0, 0, 0, 0.15);\n",
              "      filter: drop-shadow(0px 1px 2px rgba(0, 0, 0, 0.3));\n",
              "      fill: #FFFFFF;\n",
              "    }\n",
              "  </style>\n",
              "\n",
              "      <script>\n",
              "        const buttonEl =\n",
              "          document.querySelector('#df-ca2559f7-3ac0-47f9-b143-7dbf0dc75285 button.colab-df-convert');\n",
              "        buttonEl.style.display =\n",
              "          google.colab.kernel.accessAllowed ? 'block' : 'none';\n",
              "\n",
              "        async function convertToInteractive(key) {\n",
              "          const element = document.querySelector('#df-ca2559f7-3ac0-47f9-b143-7dbf0dc75285');\n",
              "          const dataTable =\n",
              "            await google.colab.kernel.invokeFunction('convertToInteractive',\n",
              "                                                     [key], {});\n",
              "          if (!dataTable) return;\n",
              "\n",
              "          const docLinkHtml = 'Like what you see? Visit the ' +\n",
              "            '<a target=\"_blank\" href=https://colab.research.google.com/notebooks/data_table.ipynb>data table notebook</a>'\n",
              "            + ' to learn more about interactive tables.';\n",
              "          element.innerHTML = '';\n",
              "          dataTable['output_type'] = 'display_data';\n",
              "          await google.colab.output.renderOutput(dataTable, element);\n",
              "          const docLink = document.createElement('div');\n",
              "          docLink.innerHTML = docLinkHtml;\n",
              "          element.appendChild(docLink);\n",
              "        }\n",
              "      </script>\n",
              "    </div>\n",
              "  </div>\n",
              "  "
            ]
          },
          "metadata": {},
          "execution_count": 13
        }
      ],
      "source": [
        "#Seleccionar las columnas de interés para el análisis\n",
        "datos = df.loc[:, ['RESUMEN', 'WORKLOGID', 'DETALLE']]\n",
        "#datos = df[['RESUMEN', 'WORKLOGID', 'DETALLE']]\n",
        "datos.head()"
      ]
    },
    {
      "cell_type": "code",
      "execution_count": null,
      "metadata": {
        "colab": {
          "base_uri": "https://localhost:8080/"
        },
        "id": "uyXcpbXiiD4X",
        "outputId": "ecfe7405-3be6-4ce5-9e5a-d840f769495a"
      },
      "outputs": [
        {
          "output_type": "execute_result",
          "data": {
            "text/plain": [
              "(156792, 3)"
            ]
          },
          "metadata": {},
          "execution_count": 14
        }
      ],
      "source": [
        "#Eliminar líneas sin datos en la columna \"DETALLE\"\n",
        "datos = datos.dropna(subset = ['DETALLE']).reset_index(drop=True)\n",
        "datos.shape"
      ]
    },
    {
      "cell_type": "markdown",
      "metadata": {
        "id": "COOMgdzCwDxS"
      },
      "source": [
        "**Limpieza de Texto**"
      ]
    },
    {
      "cell_type": "markdown",
      "source": [
        "Creación de funciones para la limpieza de texto"
      ],
      "metadata": {
        "id": "-jL_p-45OEgN"
      }
    },
    {
      "cell_type": "code",
      "execution_count": null,
      "metadata": {
        "id": "p-0VZ6jCiTbl"
      },
      "outputs": [],
      "source": [
        "#carga diccionario de sinonimos\n",
        "sinonimos = pd.read_csv('/content/drive/MyDrive/ProyectoIntegrador/Datos/sinonimos.csv')"
      ]
    },
    {
      "cell_type": "code",
      "execution_count": null,
      "metadata": {
        "id": "nHLNvvzLibVU"
      },
      "outputs": [],
      "source": [
        "def cambiar_sinonimos(path):\n",
        "  for index in range(sinonimos.shape[0]):\n",
        "    palabra = sinonimos.iloc[index, 0 ]\n",
        "    sinonimo = sinonimos.iloc[index,1 ]\n",
        "    path = re.sub(r'\\b'+palabra+r'\\b', sinonimo , path)\n",
        "    ##path = path.replace(palabra, sinonimo)\n",
        "  return path"
      ]
    },
    {
      "cell_type": "code",
      "execution_count": null,
      "metadata": {
        "id": "eJzAQ_f2rGFE"
      },
      "outputs": [],
      "source": [
        "# Definición del listado de palabras vacías de nltk\n",
        "w_vacias = list(stop_words_nltk)"
      ]
    },
    {
      "cell_type": "code",
      "execution_count": null,
      "metadata": {
        "id": "eYD_Ue7663N5"
      },
      "outputs": [],
      "source": [
        "##Defición de función para remover del listado de tokens stopwords y tokens de longitud menor que \"n\" \n",
        "def remover_stopwords (tokens):\n",
        "  n=2\n",
        "  for i in range(len(tokens)):\n",
        "    tokens[i] = [w for w in tokens[i] if w not in w_vacias and len(w)>n]\n",
        "  return tokens"
      ]
    },
    {
      "cell_type": "code",
      "execution_count": null,
      "metadata": {
        "id": "x3aR4J4yT0-a"
      },
      "outputs": [],
      "source": [
        "# Definición de función para lematizar los tokens\n",
        "lematizador = LematizadorStanza('es')\n",
        "def lematizar_tokens(tokens):\n",
        "  for i in range(len(tokens)):\n",
        "    tokens[i] = [lematizar_texto(w, lematizador=lematizador) for w in tokens[i]]\n",
        "  return tokens"
      ]
    },
    {
      "cell_type": "code",
      "execution_count": null,
      "metadata": {
        "id": "AqDBsdQnbB8r"
      },
      "outputs": [],
      "source": [
        "#corrector = Corrector(lenguaje='es')\n",
        "#corrector.agregar_palabras(['aisladero', 'reconectador'])"
      ]
    },
    {
      "cell_type": "code",
      "execution_count": null,
      "metadata": {
        "id": "by584woShqbC"
      },
      "outputs": [],
      "source": [
        "## Definición de la función para la limpieza del texto en la columna \"DETALLE\"\n",
        "def limpiar_texto (data):\n",
        "  data['procesado'] = data['DETALLE'] # Crear columna para almacenar el texto procesado\n",
        "  data['procesado'] = data['procesado'].apply(lambda x: re.sub('<[^>]*>', ' ', str(x))) #Remover Tags HTML\n",
        "  data['procesado'] = data['procesado'].apply(lambda x: str(x).lower()) #Normalizar texto a minúscula\n",
        "  data['procesado'] = data['procesado'].apply(lambda x: str(x).translate(str.maketrans('áéíóúüñ','aeiouun'))) #Cambiar tildes y ñ\n",
        "  data['procesado'] = data['procesado'].apply(lambda x: re.sub('[^A-Za-z]+', ' ', str(x))) #Retirar todos los caracteres no letras\n",
        "  data['procesado']=data['procesado'].apply(lambda x: cambiar_sinonimos(x)) # aplicar la función cambiar_sinonimos\n",
        "  #data['procesado']=data['procesado'].apply(lambda x: corregir_texto(x, corrector=corrector))\n",
        "  data['tokens'] = data['procesado'].apply(lambda x: nltk.word_tokenize(str(x))) #Crear columna con los tokens\n",
        "  data['tokens_proc'] = data['tokens'] # Crear columna para almacenar los tokens procesados\n",
        "  data['tokens_proc'] = remover_stopwords(data['tokens_proc']) # Remover stopwords y tokens \"cortos\" del listado de tokens\n",
        "  return data"
      ]
    },
    {
      "cell_type": "markdown",
      "source": [
        "Limpiar texto"
      ],
      "metadata": {
        "id": "5uDOX9INOK5V"
      }
    },
    {
      "cell_type": "code",
      "execution_count": null,
      "metadata": {
        "id": "jZy0C7IMC7tf",
        "colab": {
          "base_uri": "https://localhost:8080/",
          "height": 510
        },
        "outputId": "67d118a9-dc04-4c9d-b0e4-4a8ec0bd143f"
      },
      "outputs": [
        {
          "output_type": "stream",
          "name": "stderr",
          "text": [
            "<ipython-input-18-2b3bb70269ac>:5: SettingWithCopyWarning: \n",
            "A value is trying to be set on a copy of a slice from a DataFrame\n",
            "\n",
            "See the caveats in the documentation: https://pandas.pydata.org/pandas-docs/stable/user_guide/indexing.html#returning-a-view-versus-a-copy\n",
            "  tokens[i] = [w for w in tokens[i] if w not in w_vacias and len(w)>n]\n"
          ]
        },
        {
          "output_type": "execute_result",
          "data": {
            "text/plain": [
              "         RESUMEN  WORKLOGID  \\\n",
              "0       CIERREOT    2754950   \n",
              "1       CIERREOT    3005990   \n",
              "2       CIERREOT    2634320   \n",
              "3       CIERREOT    2634321   \n",
              "4       CIERREOT    2742512   \n",
              "...          ...        ...   \n",
              "156787  CIERREOT    2927475   \n",
              "156788  CIERREOT    3157566   \n",
              "156789  CIERREOT    3056493   \n",
              "156790  CIERREOT    3055378   \n",
              "156791  CIERREOT    3137630   \n",
              "\n",
              "                                                  DETALLE  \\\n",
              "0       Se revisa y se encuentra poste de 12 MTS de ji...   \n",
              "1       Localizar falla circuito primario sub guayabal...   \n",
              "2       Se retiraron 5 ramas de Palma que estaban sobr...   \n",
              "3       R27-07 se visita Cll57c#34-36 revisión por cal...   \n",
              "4       Con el evento Mar 4879178 en carrera 33 por 29...   \n",
              "...                                                   ...   \n",
              "156787  SE NORMALIZO AISLADERO SIN MARCAR FASE S PARA ...   \n",
              "156788  Se visita Cr43#32-39 Ed Metropolitan  en legal...   \n",
              "156789  Se le prestó a pollo al personal del CLD para ...   \n",
              "156790  Se aisló el reconectador R35 41 y se abrieron ...   \n",
              "156791  Se cambio fusible de 25T al aisladero AR:4790 ...   \n",
              "\n",
              "                                                procesado  \\\n",
              "0       se revisa y se encuentra poste de metros de ji...   \n",
              "1       localizar falla circuito primario subestacion ...   \n",
              "2       se retiraron arbol de palma que estaban sobre ...   \n",
              "3       r se visita cll c revision por calidad del ser...   \n",
              "4       con el evento mar en carrera por c del r donde...   \n",
              "...                                                   ...   \n",
              "156787  se normalizo aisladero sin marcar fase s para ...   \n",
              "156788  se visita cr ed metropolitan en legalizacion e...   \n",
              "156789  se le presto a pollo al personal del cld para ...   \n",
              "156790  se aislo el reconectador r y se abrieron las c...   \n",
              "156791  se cambia fusible de t al aisladero ar fases r...   \n",
              "\n",
              "                                                   tokens  \\\n",
              "0       [se, revisa, y, se, encuentra, poste, de, metr...   \n",
              "1       [localizar, falla, circuito, primario, subesta...   \n",
              "2       [se, retiraron, arbol, de, palma, que, estaban...   \n",
              "3       [r, se, visita, cll, c, revision, por, calidad...   \n",
              "4       [con, el, evento, mar, en, carrera, por, c, de...   \n",
              "...                                                   ...   \n",
              "156787  [se, normalizo, aisladero, sin, marcar, fase, ...   \n",
              "156788  [se, visita, cr, ed, metropolitan, en, legaliz...   \n",
              "156789  [se, le, presto, a, pollo, al, personal, del, ...   \n",
              "156790  [se, aislo, el, reconectador, r, y, se, abrier...   \n",
              "156791  [se, cambia, fusible, de, t, al, aisladero, ar...   \n",
              "\n",
              "                                              tokens_proc  \n",
              "0       [revisa, encuentra, poste, metros, jibra, reve...  \n",
              "1       [localizar, falla, circuito, primario, subesta...  \n",
              "2       [retiraron, arbol, palma, aisladero, primario,...  \n",
              "3       [visita, cll, revision, calidad, servicio, ins...  \n",
              "4       [evento, mar, carrera, trabajador, reparan, li...  \n",
              "...                                                   ...  \n",
              "156787  [normalizo, aisladero, marcar, fase, solo, tra...  \n",
              "156788  [visita, metropolitan, legalizacion, dia, ayer...  \n",
              "156789  [presto, pollo, personal, cld, abrir, circuito...  \n",
              "156790  [aislo, reconectador, abrieron, cuchillas, sal...  \n",
              "156791  [cambia, fusible, aisladero, fases, confirmo, ...  \n",
              "\n",
              "[156792 rows x 6 columns]"
            ],
            "text/html": [
              "\n",
              "  <div id=\"df-b2a7286d-7f97-43c5-ab71-a5da6df6a1d8\">\n",
              "    <div class=\"colab-df-container\">\n",
              "      <div>\n",
              "<style scoped>\n",
              "    .dataframe tbody tr th:only-of-type {\n",
              "        vertical-align: middle;\n",
              "    }\n",
              "\n",
              "    .dataframe tbody tr th {\n",
              "        vertical-align: top;\n",
              "    }\n",
              "\n",
              "    .dataframe thead th {\n",
              "        text-align: right;\n",
              "    }\n",
              "</style>\n",
              "<table border=\"1\" class=\"dataframe\">\n",
              "  <thead>\n",
              "    <tr style=\"text-align: right;\">\n",
              "      <th></th>\n",
              "      <th>RESUMEN</th>\n",
              "      <th>WORKLOGID</th>\n",
              "      <th>DETALLE</th>\n",
              "      <th>procesado</th>\n",
              "      <th>tokens</th>\n",
              "      <th>tokens_proc</th>\n",
              "    </tr>\n",
              "  </thead>\n",
              "  <tbody>\n",
              "    <tr>\n",
              "      <th>0</th>\n",
              "      <td>CIERREOT</td>\n",
              "      <td>2754950</td>\n",
              "      <td>Se revisa y se encuentra poste de 12 MTS de ji...</td>\n",
              "      <td>se revisa y se encuentra poste de metros de ji...</td>\n",
              "      <td>[se, revisa, y, se, encuentra, poste, de, metr...</td>\n",
              "      <td>[revisa, encuentra, poste, metros, jibra, reve...</td>\n",
              "    </tr>\n",
              "    <tr>\n",
              "      <th>1</th>\n",
              "      <td>CIERREOT</td>\n",
              "      <td>3005990</td>\n",
              "      <td>Localizar falla circuito primario sub guayabal...</td>\n",
              "      <td>localizar falla circuito primario subestacion ...</td>\n",
              "      <td>[localizar, falla, circuito, primario, subesta...</td>\n",
              "      <td>[localizar, falla, circuito, primario, subesta...</td>\n",
              "    </tr>\n",
              "    <tr>\n",
              "      <th>2</th>\n",
              "      <td>CIERREOT</td>\n",
              "      <td>2634320</td>\n",
              "      <td>Se retiraron 5 ramas de Palma que estaban sobr...</td>\n",
              "      <td>se retiraron arbol de palma que estaban sobre ...</td>\n",
              "      <td>[se, retiraron, arbol, de, palma, que, estaban...</td>\n",
              "      <td>[retiraron, arbol, palma, aisladero, primario,...</td>\n",
              "    </tr>\n",
              "    <tr>\n",
              "      <th>3</th>\n",
              "      <td>CIERREOT</td>\n",
              "      <td>2634321</td>\n",
              "      <td>R27-07 se visita Cll57c#34-36 revisión por cal...</td>\n",
              "      <td>r se visita cll c revision por calidad del ser...</td>\n",
              "      <td>[r, se, visita, cll, c, revision, por, calidad...</td>\n",
              "      <td>[visita, cll, revision, calidad, servicio, ins...</td>\n",
              "    </tr>\n",
              "    <tr>\n",
              "      <th>4</th>\n",
              "      <td>CIERREOT</td>\n",
              "      <td>2742512</td>\n",
              "      <td>Con el evento Mar 4879178 en carrera 33 por 29...</td>\n",
              "      <td>con el evento mar en carrera por c del r donde...</td>\n",
              "      <td>[con, el, evento, mar, en, carrera, por, c, de...</td>\n",
              "      <td>[evento, mar, carrera, trabajador, reparan, li...</td>\n",
              "    </tr>\n",
              "    <tr>\n",
              "      <th>...</th>\n",
              "      <td>...</td>\n",
              "      <td>...</td>\n",
              "      <td>...</td>\n",
              "      <td>...</td>\n",
              "      <td>...</td>\n",
              "      <td>...</td>\n",
              "    </tr>\n",
              "    <tr>\n",
              "      <th>156787</th>\n",
              "      <td>CIERREOT</td>\n",
              "      <td>2927475</td>\n",
              "      <td>SE NORMALIZO AISLADERO SIN MARCAR FASE S PARA ...</td>\n",
              "      <td>se normalizo aisladero sin marcar fase s para ...</td>\n",
              "      <td>[se, normalizo, aisladero, sin, marcar, fase, ...</td>\n",
              "      <td>[normalizo, aisladero, marcar, fase, solo, tra...</td>\n",
              "    </tr>\n",
              "    <tr>\n",
              "      <th>156788</th>\n",
              "      <td>CIERREOT</td>\n",
              "      <td>3157566</td>\n",
              "      <td>Se visita Cr43#32-39 Ed Metropolitan  en legal...</td>\n",
              "      <td>se visita cr ed metropolitan en legalizacion e...</td>\n",
              "      <td>[se, visita, cr, ed, metropolitan, en, legaliz...</td>\n",
              "      <td>[visita, metropolitan, legalizacion, dia, ayer...</td>\n",
              "    </tr>\n",
              "    <tr>\n",
              "      <th>156789</th>\n",
              "      <td>CIERREOT</td>\n",
              "      <td>3056493</td>\n",
              "      <td>Se le prestó a pollo al personal del CLD para ...</td>\n",
              "      <td>se le presto a pollo al personal del cld para ...</td>\n",
              "      <td>[se, le, presto, a, pollo, al, personal, del, ...</td>\n",
              "      <td>[presto, pollo, personal, cld, abrir, circuito...</td>\n",
              "    </tr>\n",
              "    <tr>\n",
              "      <th>156790</th>\n",
              "      <td>CIERREOT</td>\n",
              "      <td>3055378</td>\n",
              "      <td>Se aisló el reconectador R35 41 y se abrieron ...</td>\n",
              "      <td>se aislo el reconectador r y se abrieron las c...</td>\n",
              "      <td>[se, aislo, el, reconectador, r, y, se, abrier...</td>\n",
              "      <td>[aislo, reconectador, abrieron, cuchillas, sal...</td>\n",
              "    </tr>\n",
              "    <tr>\n",
              "      <th>156791</th>\n",
              "      <td>CIERREOT</td>\n",
              "      <td>3137630</td>\n",
              "      <td>Se cambio fusible de 25T al aisladero AR:4790 ...</td>\n",
              "      <td>se cambia fusible de t al aisladero ar fases r...</td>\n",
              "      <td>[se, cambia, fusible, de, t, al, aisladero, ar...</td>\n",
              "      <td>[cambia, fusible, aisladero, fases, confirmo, ...</td>\n",
              "    </tr>\n",
              "  </tbody>\n",
              "</table>\n",
              "<p>156792 rows × 6 columns</p>\n",
              "</div>\n",
              "      <button class=\"colab-df-convert\" onclick=\"convertToInteractive('df-b2a7286d-7f97-43c5-ab71-a5da6df6a1d8')\"\n",
              "              title=\"Convert this dataframe to an interactive table.\"\n",
              "              style=\"display:none;\">\n",
              "        \n",
              "  <svg xmlns=\"http://www.w3.org/2000/svg\" height=\"24px\"viewBox=\"0 0 24 24\"\n",
              "       width=\"24px\">\n",
              "    <path d=\"M0 0h24v24H0V0z\" fill=\"none\"/>\n",
              "    <path d=\"M18.56 5.44l.94 2.06.94-2.06 2.06-.94-2.06-.94-.94-2.06-.94 2.06-2.06.94zm-11 1L8.5 8.5l.94-2.06 2.06-.94-2.06-.94L8.5 2.5l-.94 2.06-2.06.94zm10 10l.94 2.06.94-2.06 2.06-.94-2.06-.94-.94-2.06-.94 2.06-2.06.94z\"/><path d=\"M17.41 7.96l-1.37-1.37c-.4-.4-.92-.59-1.43-.59-.52 0-1.04.2-1.43.59L10.3 9.45l-7.72 7.72c-.78.78-.78 2.05 0 2.83L4 21.41c.39.39.9.59 1.41.59.51 0 1.02-.2 1.41-.59l7.78-7.78 2.81-2.81c.8-.78.8-2.07 0-2.86zM5.41 20L4 18.59l7.72-7.72 1.47 1.35L5.41 20z\"/>\n",
              "  </svg>\n",
              "      </button>\n",
              "      \n",
              "  <style>\n",
              "    .colab-df-container {\n",
              "      display:flex;\n",
              "      flex-wrap:wrap;\n",
              "      gap: 12px;\n",
              "    }\n",
              "\n",
              "    .colab-df-convert {\n",
              "      background-color: #E8F0FE;\n",
              "      border: none;\n",
              "      border-radius: 50%;\n",
              "      cursor: pointer;\n",
              "      display: none;\n",
              "      fill: #1967D2;\n",
              "      height: 32px;\n",
              "      padding: 0 0 0 0;\n",
              "      width: 32px;\n",
              "    }\n",
              "\n",
              "    .colab-df-convert:hover {\n",
              "      background-color: #E2EBFA;\n",
              "      box-shadow: 0px 1px 2px rgba(60, 64, 67, 0.3), 0px 1px 3px 1px rgba(60, 64, 67, 0.15);\n",
              "      fill: #174EA6;\n",
              "    }\n",
              "\n",
              "    [theme=dark] .colab-df-convert {\n",
              "      background-color: #3B4455;\n",
              "      fill: #D2E3FC;\n",
              "    }\n",
              "\n",
              "    [theme=dark] .colab-df-convert:hover {\n",
              "      background-color: #434B5C;\n",
              "      box-shadow: 0px 1px 3px 1px rgba(0, 0, 0, 0.15);\n",
              "      filter: drop-shadow(0px 1px 2px rgba(0, 0, 0, 0.3));\n",
              "      fill: #FFFFFF;\n",
              "    }\n",
              "  </style>\n",
              "\n",
              "      <script>\n",
              "        const buttonEl =\n",
              "          document.querySelector('#df-b2a7286d-7f97-43c5-ab71-a5da6df6a1d8 button.colab-df-convert');\n",
              "        buttonEl.style.display =\n",
              "          google.colab.kernel.accessAllowed ? 'block' : 'none';\n",
              "\n",
              "        async function convertToInteractive(key) {\n",
              "          const element = document.querySelector('#df-b2a7286d-7f97-43c5-ab71-a5da6df6a1d8');\n",
              "          const dataTable =\n",
              "            await google.colab.kernel.invokeFunction('convertToInteractive',\n",
              "                                                     [key], {});\n",
              "          if (!dataTable) return;\n",
              "\n",
              "          const docLinkHtml = 'Like what you see? Visit the ' +\n",
              "            '<a target=\"_blank\" href=https://colab.research.google.com/notebooks/data_table.ipynb>data table notebook</a>'\n",
              "            + ' to learn more about interactive tables.';\n",
              "          element.innerHTML = '';\n",
              "          dataTable['output_type'] = 'display_data';\n",
              "          await google.colab.output.renderOutput(dataTable, element);\n",
              "          const docLink = document.createElement('div');\n",
              "          docLink.innerHTML = docLinkHtml;\n",
              "          element.appendChild(docLink);\n",
              "        }\n",
              "      </script>\n",
              "    </div>\n",
              "  </div>\n",
              "  "
            ]
          },
          "metadata": {},
          "execution_count": 22
        }
      ],
      "source": [
        "# Limpiar el texto en la columna \"DETALLE\"\n",
        "limpiar_texto(datos)\n",
        "#Toma mas de 45min para su ejecución"
      ]
    },
    {
      "cell_type": "code",
      "execution_count": null,
      "metadata": {
        "id": "9bV82wfpTqIy"
      },
      "outputs": [],
      "source": [
        "#Lematizar tokens\n",
        "#datos['tokens_proc'] = lematizar_tokens(datos['tokens_proc'])"
      ]
    },
    {
      "cell_type": "code",
      "execution_count": null,
      "metadata": {
        "id": "t7ZXDNF3I0eO",
        "colab": {
          "base_uri": "https://localhost:8080/"
        },
        "outputId": "ee46b89d-1b14-4da9-9f1b-40c0ac5bf506"
      },
      "outputs": [
        {
          "output_type": "execute_result",
          "data": {
            "text/plain": [
              "count    156792.000000\n",
              "mean         13.917955\n",
              "std          10.022890\n",
              "min           0.000000\n",
              "25%           7.000000\n",
              "50%          11.000000\n",
              "75%          18.000000\n",
              "max         122.000000\n",
              "Name: tokens_proc, dtype: float64"
            ]
          },
          "metadata": {},
          "execution_count": 24
        }
      ],
      "source": [
        "# Calculo de la longitud de las cadenas de tokens y estadísticos asociados\n",
        "tokens_lenght = datos['tokens_proc'].apply(lambda x: len(x))\n",
        "tokens_lenght.describe()"
      ]
    },
    {
      "cell_type": "code",
      "execution_count": null,
      "metadata": {
        "id": "K6Lm7yN0Vv0y",
        "colab": {
          "base_uri": "https://localhost:8080/"
        },
        "outputId": "1e227840-cfdb-4e5f-c350-67917b02a6fb"
      },
      "outputs": [
        {
          "output_type": "stream",
          "name": "stdout",
          "text": [
            "Cantidad total de tokens =  2182224\n",
            "Tamanno del BoW= 40449\n"
          ]
        }
      ],
      "source": [
        "## Obtener listado de tokens (ya procesados)\n",
        "tokens = []\n",
        "for t in datos['tokens_proc']:\n",
        "    tokens.extend(t)\n",
        "print('Cantidad total de tokens = ',str(len(tokens)))\n",
        "## Distribución de frecuencia de los tokens. Tamaño del BoW\n",
        "fdist_tokens = nltk.FreqDist(tokens)\n",
        "print('Tamanno del BoW=',len(fdist_tokens))"
      ]
    },
    {
      "cell_type": "markdown",
      "source": [
        "Análisis del BoW"
      ],
      "metadata": {
        "id": "ezATQX0rOOdc"
      }
    },
    {
      "cell_type": "code",
      "execution_count": null,
      "metadata": {
        "id": "IiwR03m4UgGJ"
      },
      "outputs": [],
      "source": [
        "df_frecuencia = pd.DataFrame([[key, fdist_tokens[key]] for key in fdist_tokens.keys()], columns=['palabra', 'frecuencia'])"
      ]
    },
    {
      "cell_type": "code",
      "execution_count": null,
      "metadata": {
        "id": "GpllXlQmV4_m",
        "colab": {
          "base_uri": "https://localhost:8080/",
          "height": 300
        },
        "outputId": "8b9dcbbc-9039-4534-a34f-360e77d8ef92"
      },
      "outputs": [
        {
          "output_type": "execute_result",
          "data": {
            "text/plain": [
              "         frecuencia\n",
              "count  40449.000000\n",
              "mean      53.950011\n",
              "std      940.119390\n",
              "min        1.000000\n",
              "25%        1.000000\n",
              "50%        1.000000\n",
              "75%        4.000000\n",
              "max    97422.000000"
            ],
            "text/html": [
              "\n",
              "  <div id=\"df-bbc84e82-89c4-42b0-aedf-58e768a4185a\">\n",
              "    <div class=\"colab-df-container\">\n",
              "      <div>\n",
              "<style scoped>\n",
              "    .dataframe tbody tr th:only-of-type {\n",
              "        vertical-align: middle;\n",
              "    }\n",
              "\n",
              "    .dataframe tbody tr th {\n",
              "        vertical-align: top;\n",
              "    }\n",
              "\n",
              "    .dataframe thead th {\n",
              "        text-align: right;\n",
              "    }\n",
              "</style>\n",
              "<table border=\"1\" class=\"dataframe\">\n",
              "  <thead>\n",
              "    <tr style=\"text-align: right;\">\n",
              "      <th></th>\n",
              "      <th>frecuencia</th>\n",
              "    </tr>\n",
              "  </thead>\n",
              "  <tbody>\n",
              "    <tr>\n",
              "      <th>count</th>\n",
              "      <td>40449.000000</td>\n",
              "    </tr>\n",
              "    <tr>\n",
              "      <th>mean</th>\n",
              "      <td>53.950011</td>\n",
              "    </tr>\n",
              "    <tr>\n",
              "      <th>std</th>\n",
              "      <td>940.119390</td>\n",
              "    </tr>\n",
              "    <tr>\n",
              "      <th>min</th>\n",
              "      <td>1.000000</td>\n",
              "    </tr>\n",
              "    <tr>\n",
              "      <th>25%</th>\n",
              "      <td>1.000000</td>\n",
              "    </tr>\n",
              "    <tr>\n",
              "      <th>50%</th>\n",
              "      <td>1.000000</td>\n",
              "    </tr>\n",
              "    <tr>\n",
              "      <th>75%</th>\n",
              "      <td>4.000000</td>\n",
              "    </tr>\n",
              "    <tr>\n",
              "      <th>max</th>\n",
              "      <td>97422.000000</td>\n",
              "    </tr>\n",
              "  </tbody>\n",
              "</table>\n",
              "</div>\n",
              "      <button class=\"colab-df-convert\" onclick=\"convertToInteractive('df-bbc84e82-89c4-42b0-aedf-58e768a4185a')\"\n",
              "              title=\"Convert this dataframe to an interactive table.\"\n",
              "              style=\"display:none;\">\n",
              "        \n",
              "  <svg xmlns=\"http://www.w3.org/2000/svg\" height=\"24px\"viewBox=\"0 0 24 24\"\n",
              "       width=\"24px\">\n",
              "    <path d=\"M0 0h24v24H0V0z\" fill=\"none\"/>\n",
              "    <path d=\"M18.56 5.44l.94 2.06.94-2.06 2.06-.94-2.06-.94-.94-2.06-.94 2.06-2.06.94zm-11 1L8.5 8.5l.94-2.06 2.06-.94-2.06-.94L8.5 2.5l-.94 2.06-2.06.94zm10 10l.94 2.06.94-2.06 2.06-.94-2.06-.94-.94-2.06-.94 2.06-2.06.94z\"/><path d=\"M17.41 7.96l-1.37-1.37c-.4-.4-.92-.59-1.43-.59-.52 0-1.04.2-1.43.59L10.3 9.45l-7.72 7.72c-.78.78-.78 2.05 0 2.83L4 21.41c.39.39.9.59 1.41.59.51 0 1.02-.2 1.41-.59l7.78-7.78 2.81-2.81c.8-.78.8-2.07 0-2.86zM5.41 20L4 18.59l7.72-7.72 1.47 1.35L5.41 20z\"/>\n",
              "  </svg>\n",
              "      </button>\n",
              "      \n",
              "  <style>\n",
              "    .colab-df-container {\n",
              "      display:flex;\n",
              "      flex-wrap:wrap;\n",
              "      gap: 12px;\n",
              "    }\n",
              "\n",
              "    .colab-df-convert {\n",
              "      background-color: #E8F0FE;\n",
              "      border: none;\n",
              "      border-radius: 50%;\n",
              "      cursor: pointer;\n",
              "      display: none;\n",
              "      fill: #1967D2;\n",
              "      height: 32px;\n",
              "      padding: 0 0 0 0;\n",
              "      width: 32px;\n",
              "    }\n",
              "\n",
              "    .colab-df-convert:hover {\n",
              "      background-color: #E2EBFA;\n",
              "      box-shadow: 0px 1px 2px rgba(60, 64, 67, 0.3), 0px 1px 3px 1px rgba(60, 64, 67, 0.15);\n",
              "      fill: #174EA6;\n",
              "    }\n",
              "\n",
              "    [theme=dark] .colab-df-convert {\n",
              "      background-color: #3B4455;\n",
              "      fill: #D2E3FC;\n",
              "    }\n",
              "\n",
              "    [theme=dark] .colab-df-convert:hover {\n",
              "      background-color: #434B5C;\n",
              "      box-shadow: 0px 1px 3px 1px rgba(0, 0, 0, 0.15);\n",
              "      filter: drop-shadow(0px 1px 2px rgba(0, 0, 0, 0.3));\n",
              "      fill: #FFFFFF;\n",
              "    }\n",
              "  </style>\n",
              "\n",
              "      <script>\n",
              "        const buttonEl =\n",
              "          document.querySelector('#df-bbc84e82-89c4-42b0-aedf-58e768a4185a button.colab-df-convert');\n",
              "        buttonEl.style.display =\n",
              "          google.colab.kernel.accessAllowed ? 'block' : 'none';\n",
              "\n",
              "        async function convertToInteractive(key) {\n",
              "          const element = document.querySelector('#df-bbc84e82-89c4-42b0-aedf-58e768a4185a');\n",
              "          const dataTable =\n",
              "            await google.colab.kernel.invokeFunction('convertToInteractive',\n",
              "                                                     [key], {});\n",
              "          if (!dataTable) return;\n",
              "\n",
              "          const docLinkHtml = 'Like what you see? Visit the ' +\n",
              "            '<a target=\"_blank\" href=https://colab.research.google.com/notebooks/data_table.ipynb>data table notebook</a>'\n",
              "            + ' to learn more about interactive tables.';\n",
              "          element.innerHTML = '';\n",
              "          dataTable['output_type'] = 'display_data';\n",
              "          await google.colab.output.renderOutput(dataTable, element);\n",
              "          const docLink = document.createElement('div');\n",
              "          docLink.innerHTML = docLinkHtml;\n",
              "          element.appendChild(docLink);\n",
              "        }\n",
              "      </script>\n",
              "    </div>\n",
              "  </div>\n",
              "  "
            ]
          },
          "metadata": {},
          "execution_count": 27
        }
      ],
      "source": [
        "df_frecuencia.describe()"
      ]
    },
    {
      "cell_type": "code",
      "execution_count": null,
      "metadata": {
        "id": "__USQo9oW8Vj",
        "colab": {
          "base_uri": "https://localhost:8080/"
        },
        "outputId": "739ef98f-61f1-4fe8-b00b-f270c54457c0"
      },
      "outputs": [
        {
          "output_type": "execute_result",
          "data": {
            "text/plain": [
              "28872"
            ]
          },
          "metadata": {},
          "execution_count": 28
        }
      ],
      "source": [
        "#Encontrar tokens (palabras) con baja frecuencia de ocurrencia - Aparecen 3 veces o menos en todo el BoW\n",
        "baja_frec = df_frecuencia[df_frecuencia['frecuencia']<4]\n",
        "len(baja_frec)"
      ]
    },
    {
      "cell_type": "code",
      "execution_count": null,
      "metadata": {
        "id": "70dP_Ovree4G"
      },
      "outputs": [],
      "source": [
        "# Definición del listado de otras palabras vacías y de baja frecuencia (tokens frecuencia menor o igual a 3)\n",
        "otras_vacias = pd.read_csv('/content/drive/MyDrive/ProyectoIntegrador/Datos/palabras_vacias.csv')\n",
        "palabras_vacias = otras_vacias['palabras_vacias'].values.tolist() + baja_frec['palabra'].values.tolist()"
      ]
    },
    {
      "cell_type": "code",
      "execution_count": null,
      "metadata": {
        "id": "AssbNkUkk0HZ"
      },
      "outputs": [],
      "source": [
        "##Defición de función que reciba la columna del dataframe con los tokens y una lista de palabras para eliminar\n",
        "def remover_palabra (tokens):\n",
        "  for i in range(len(tokens)):\n",
        "    tokens[i] = [w for w in tokens[i] if w not in palabras_vacias]\n",
        "  return tokens"
      ]
    },
    {
      "cell_type": "markdown",
      "source": [
        "Eliminar palabras de poco valor o relevancia"
      ],
      "metadata": {
        "id": "OAgfXoCPOR0C"
      }
    },
    {
      "cell_type": "code",
      "execution_count": null,
      "metadata": {
        "id": "0mSUlSUhhIoj",
        "colab": {
          "base_uri": "https://localhost:8080/"
        },
        "outputId": "b82a7410-b3f0-4cab-fc3e-7ff301d012ae"
      },
      "outputs": [
        {
          "output_type": "stream",
          "name": "stderr",
          "text": [
            "<ipython-input-30-c123455261ea>:4: SettingWithCopyWarning: \n",
            "A value is trying to be set on a copy of a slice from a DataFrame\n",
            "\n",
            "See the caveats in the documentation: https://pandas.pydata.org/pandas-docs/stable/user_guide/indexing.html#returning-a-view-versus-a-copy\n",
            "  tokens[i] = [w for w in tokens[i] if w not in palabras_vacias]\n"
          ]
        }
      ],
      "source": [
        "datos['tokens_proc'] = remover_palabra(datos['tokens_proc'])\n",
        "#Toma 1:20 min para finalizar"
      ]
    },
    {
      "cell_type": "code",
      "execution_count": null,
      "metadata": {
        "id": "mK2drtG_nvnD",
        "colab": {
          "base_uri": "https://localhost:8080/"
        },
        "outputId": "820c91a0-893a-42e1-8946-65e58a9d66cc"
      },
      "outputs": [
        {
          "output_type": "execute_result",
          "data": {
            "text/plain": [
              "    RESUMEN  WORKLOGID                                            DETALLE  \\\n",
              "0  CIERREOT    2754950  Se revisa y se encuentra poste de 12 MTS de ji...   \n",
              "1  CIERREOT    3005990  Localizar falla circuito primario sub guayabal...   \n",
              "2  CIERREOT    2634320  Se retiraron 5 ramas de Palma que estaban sobr...   \n",
              "3  CIERREOT    2634321  R27-07 se visita Cll57c#34-36 revisión por cal...   \n",
              "4  CIERREOT    2742512  Con el evento Mar 4879178 en carrera 33 por 29...   \n",
              "\n",
              "                                           procesado  \\\n",
              "0  se revisa y se encuentra poste de metros de ji...   \n",
              "1  localizar falla circuito primario subestacion ...   \n",
              "2  se retiraron arbol de palma que estaban sobre ...   \n",
              "3  r se visita cll c revision por calidad del ser...   \n",
              "4  con el evento mar en carrera por c del r donde...   \n",
              "\n",
              "                                              tokens  \\\n",
              "0  [se, revisa, y, se, encuentra, poste, de, metr...   \n",
              "1  [localizar, falla, circuito, primario, subesta...   \n",
              "2  [se, retiraron, arbol, de, palma, que, estaban...   \n",
              "3  [r, se, visita, cll, c, revision, por, calidad...   \n",
              "4  [con, el, evento, mar, en, carrera, por, c, de...   \n",
              "\n",
              "                                         tokens_proc  \n",
              "0  [revisa, poste, reventado, vehiculo, recoje, e...  \n",
              "1  [localizar, falla, circuito, primario, subesta...  \n",
              "2  [retiraron, arbol, palma, aisladero, primario,...  \n",
              "3  [cll, revision, calidad, inspecciona, evidenci...  \n",
              "4  [mar, carrera, trabajador, reparan, linea, pri...  "
            ],
            "text/html": [
              "\n",
              "  <div id=\"df-8b1cfe4c-cb3c-4790-8d57-4e047104438e\">\n",
              "    <div class=\"colab-df-container\">\n",
              "      <div>\n",
              "<style scoped>\n",
              "    .dataframe tbody tr th:only-of-type {\n",
              "        vertical-align: middle;\n",
              "    }\n",
              "\n",
              "    .dataframe tbody tr th {\n",
              "        vertical-align: top;\n",
              "    }\n",
              "\n",
              "    .dataframe thead th {\n",
              "        text-align: right;\n",
              "    }\n",
              "</style>\n",
              "<table border=\"1\" class=\"dataframe\">\n",
              "  <thead>\n",
              "    <tr style=\"text-align: right;\">\n",
              "      <th></th>\n",
              "      <th>RESUMEN</th>\n",
              "      <th>WORKLOGID</th>\n",
              "      <th>DETALLE</th>\n",
              "      <th>procesado</th>\n",
              "      <th>tokens</th>\n",
              "      <th>tokens_proc</th>\n",
              "    </tr>\n",
              "  </thead>\n",
              "  <tbody>\n",
              "    <tr>\n",
              "      <th>0</th>\n",
              "      <td>CIERREOT</td>\n",
              "      <td>2754950</td>\n",
              "      <td>Se revisa y se encuentra poste de 12 MTS de ji...</td>\n",
              "      <td>se revisa y se encuentra poste de metros de ji...</td>\n",
              "      <td>[se, revisa, y, se, encuentra, poste, de, metr...</td>\n",
              "      <td>[revisa, poste, reventado, vehiculo, recoje, e...</td>\n",
              "    </tr>\n",
              "    <tr>\n",
              "      <th>1</th>\n",
              "      <td>CIERREOT</td>\n",
              "      <td>3005990</td>\n",
              "      <td>Localizar falla circuito primario sub guayabal...</td>\n",
              "      <td>localizar falla circuito primario subestacion ...</td>\n",
              "      <td>[localizar, falla, circuito, primario, subesta...</td>\n",
              "      <td>[localizar, falla, circuito, primario, subesta...</td>\n",
              "    </tr>\n",
              "    <tr>\n",
              "      <th>2</th>\n",
              "      <td>CIERREOT</td>\n",
              "      <td>2634320</td>\n",
              "      <td>Se retiraron 5 ramas de Palma que estaban sobr...</td>\n",
              "      <td>se retiraron arbol de palma que estaban sobre ...</td>\n",
              "      <td>[se, retiraron, arbol, de, palma, que, estaban...</td>\n",
              "      <td>[retiraron, arbol, palma, aisladero, primario,...</td>\n",
              "    </tr>\n",
              "    <tr>\n",
              "      <th>3</th>\n",
              "      <td>CIERREOT</td>\n",
              "      <td>2634321</td>\n",
              "      <td>R27-07 se visita Cll57c#34-36 revisión por cal...</td>\n",
              "      <td>r se visita cll c revision por calidad del ser...</td>\n",
              "      <td>[r, se, visita, cll, c, revision, por, calidad...</td>\n",
              "      <td>[cll, revision, calidad, inspecciona, evidenci...</td>\n",
              "    </tr>\n",
              "    <tr>\n",
              "      <th>4</th>\n",
              "      <td>CIERREOT</td>\n",
              "      <td>2742512</td>\n",
              "      <td>Con el evento Mar 4879178 en carrera 33 por 29...</td>\n",
              "      <td>con el evento mar en carrera por c del r donde...</td>\n",
              "      <td>[con, el, evento, mar, en, carrera, por, c, de...</td>\n",
              "      <td>[mar, carrera, trabajador, reparan, linea, pri...</td>\n",
              "    </tr>\n",
              "  </tbody>\n",
              "</table>\n",
              "</div>\n",
              "      <button class=\"colab-df-convert\" onclick=\"convertToInteractive('df-8b1cfe4c-cb3c-4790-8d57-4e047104438e')\"\n",
              "              title=\"Convert this dataframe to an interactive table.\"\n",
              "              style=\"display:none;\">\n",
              "        \n",
              "  <svg xmlns=\"http://www.w3.org/2000/svg\" height=\"24px\"viewBox=\"0 0 24 24\"\n",
              "       width=\"24px\">\n",
              "    <path d=\"M0 0h24v24H0V0z\" fill=\"none\"/>\n",
              "    <path d=\"M18.56 5.44l.94 2.06.94-2.06 2.06-.94-2.06-.94-.94-2.06-.94 2.06-2.06.94zm-11 1L8.5 8.5l.94-2.06 2.06-.94-2.06-.94L8.5 2.5l-.94 2.06-2.06.94zm10 10l.94 2.06.94-2.06 2.06-.94-2.06-.94-.94-2.06-.94 2.06-2.06.94z\"/><path d=\"M17.41 7.96l-1.37-1.37c-.4-.4-.92-.59-1.43-.59-.52 0-1.04.2-1.43.59L10.3 9.45l-7.72 7.72c-.78.78-.78 2.05 0 2.83L4 21.41c.39.39.9.59 1.41.59.51 0 1.02-.2 1.41-.59l7.78-7.78 2.81-2.81c.8-.78.8-2.07 0-2.86zM5.41 20L4 18.59l7.72-7.72 1.47 1.35L5.41 20z\"/>\n",
              "  </svg>\n",
              "      </button>\n",
              "      \n",
              "  <style>\n",
              "    .colab-df-container {\n",
              "      display:flex;\n",
              "      flex-wrap:wrap;\n",
              "      gap: 12px;\n",
              "    }\n",
              "\n",
              "    .colab-df-convert {\n",
              "      background-color: #E8F0FE;\n",
              "      border: none;\n",
              "      border-radius: 50%;\n",
              "      cursor: pointer;\n",
              "      display: none;\n",
              "      fill: #1967D2;\n",
              "      height: 32px;\n",
              "      padding: 0 0 0 0;\n",
              "      width: 32px;\n",
              "    }\n",
              "\n",
              "    .colab-df-convert:hover {\n",
              "      background-color: #E2EBFA;\n",
              "      box-shadow: 0px 1px 2px rgba(60, 64, 67, 0.3), 0px 1px 3px 1px rgba(60, 64, 67, 0.15);\n",
              "      fill: #174EA6;\n",
              "    }\n",
              "\n",
              "    [theme=dark] .colab-df-convert {\n",
              "      background-color: #3B4455;\n",
              "      fill: #D2E3FC;\n",
              "    }\n",
              "\n",
              "    [theme=dark] .colab-df-convert:hover {\n",
              "      background-color: #434B5C;\n",
              "      box-shadow: 0px 1px 3px 1px rgba(0, 0, 0, 0.15);\n",
              "      filter: drop-shadow(0px 1px 2px rgba(0, 0, 0, 0.3));\n",
              "      fill: #FFFFFF;\n",
              "    }\n",
              "  </style>\n",
              "\n",
              "      <script>\n",
              "        const buttonEl =\n",
              "          document.querySelector('#df-8b1cfe4c-cb3c-4790-8d57-4e047104438e button.colab-df-convert');\n",
              "        buttonEl.style.display =\n",
              "          google.colab.kernel.accessAllowed ? 'block' : 'none';\n",
              "\n",
              "        async function convertToInteractive(key) {\n",
              "          const element = document.querySelector('#df-8b1cfe4c-cb3c-4790-8d57-4e047104438e');\n",
              "          const dataTable =\n",
              "            await google.colab.kernel.invokeFunction('convertToInteractive',\n",
              "                                                     [key], {});\n",
              "          if (!dataTable) return;\n",
              "\n",
              "          const docLinkHtml = 'Like what you see? Visit the ' +\n",
              "            '<a target=\"_blank\" href=https://colab.research.google.com/notebooks/data_table.ipynb>data table notebook</a>'\n",
              "            + ' to learn more about interactive tables.';\n",
              "          element.innerHTML = '';\n",
              "          dataTable['output_type'] = 'display_data';\n",
              "          await google.colab.output.renderOutput(dataTable, element);\n",
              "          const docLink = document.createElement('div');\n",
              "          docLink.innerHTML = docLinkHtml;\n",
              "          element.appendChild(docLink);\n",
              "        }\n",
              "      </script>\n",
              "    </div>\n",
              "  </div>\n",
              "  "
            ]
          },
          "metadata": {},
          "execution_count": 32
        }
      ],
      "source": [
        "datos.shape\n",
        "datos.head()"
      ]
    },
    {
      "cell_type": "markdown",
      "metadata": {
        "id": "9h7jKx9zJMMd"
      },
      "source": [
        "Exportar los datos procesados para ser usados en el análisis "
      ]
    },
    {
      "cell_type": "code",
      "execution_count": null,
      "metadata": {
        "id": "_z1hsDMCnx0p"
      },
      "outputs": [],
      "source": [
        "datos.to_csv('/content/drive/MyDrive/ProyectoIntegrador/Datos/datos_preparados.csv')"
      ]
    }
  ],
  "metadata": {
    "colab": {
      "provenance": []
    },
    "kernelspec": {
      "display_name": "Python 3",
      "name": "python3"
    },
    "language_info": {
      "name": "python"
    }
  },
  "nbformat": 4,
  "nbformat_minor": 0
}