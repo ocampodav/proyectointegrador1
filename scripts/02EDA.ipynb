{
  "nbformat": 4,
  "nbformat_minor": 0,
  "metadata": {
    "colab": {
      "provenance": []
    },
    "kernelspec": {
      "name": "python3",
      "display_name": "Python 3"
    },
    "language_info": {
      "name": "python"
    }
  },
  "cells": [
    {
      "cell_type": "markdown",
      "source": [
        "\n",
        "##**Analisis Descriptivo**"
      ],
      "metadata": {
        "id": "VOui40mXvidO"
      }
    },
    {
      "cell_type": "markdown",
      "source": [
        "**Preparar notebook**"
      ],
      "metadata": {
        "id": "yninId4yvt0-"
      }
    },
    {
      "cell_type": "code",
      "execution_count": null,
      "metadata": {
        "colab": {
          "base_uri": "https://localhost:8080/"
        },
        "id": "8SDdNd0qN5jm",
        "outputId": "afa2245c-68b1-4c09-c743-472e62602b23"
      },
      "outputs": [
        {
          "output_type": "stream",
          "name": "stdout",
          "text": [
            "Mounted at /content/drive\n"
          ]
        }
      ],
      "source": [
        "## Conectar el notebook a googledrive\n",
        "from google.colab import drive\n",
        "drive.mount('/content/drive')"
      ]
    },
    {
      "cell_type": "code",
      "source": [
        "## Importar librerias necesarias\n",
        "import nltk\n",
        "import pandas as pd\n",
        "import numpy as np\n",
        "import re\n",
        "import codecs\n",
        "import matplotlib.pyplot as plt\n",
        "from collections import Counter\n",
        "from nltk.util import ngrams\n",
        "from nltk import bigrams\n",
        "import spacy"
      ],
      "metadata": {
        "id": "qcR-_zr0Ojnl"
      },
      "execution_count": null,
      "outputs": []
    },
    {
      "cell_type": "code",
      "source": [
        "# Descargar spaCy Language Model\n",
        "!python -m spacy download es_core_news_md\n",
        "nlp = spacy.load(\"es_core_news_md\")"
      ],
      "metadata": {
        "colab": {
          "base_uri": "https://localhost:8080/"
        },
        "id": "bapWX9TrfjKF",
        "outputId": "a98eabc1-6b98-41d7-c1dc-18dd77cf9bc8"
      },
      "execution_count": null,
      "outputs": [
        {
          "output_type": "stream",
          "name": "stdout",
          "text": [
            "2022-12-05 18:55:46.953360: E tensorflow/stream_executor/cuda/cuda_driver.cc:271] failed call to cuInit: CUDA_ERROR_NO_DEVICE: no CUDA-capable device is detected\n",
            "Looking in indexes: https://pypi.org/simple, https://us-python.pkg.dev/colab-wheels/public/simple/\n",
            "Collecting es-core-news-md==3.4.0\n",
            "  Downloading https://github.com/explosion/spacy-models/releases/download/es_core_news_md-3.4.0/es_core_news_md-3.4.0-py3-none-any.whl (42.3 MB)\n",
            "\u001b[K     |████████████████████████████████| 42.3 MB 1.4 MB/s \n",
            "\u001b[?25hRequirement already satisfied: spacy<3.5.0,>=3.4.0 in /usr/local/lib/python3.8/dist-packages (from es-core-news-md==3.4.0) (3.4.3)\n",
            "Requirement already satisfied: setuptools in /usr/local/lib/python3.8/dist-packages (from spacy<3.5.0,>=3.4.0->es-core-news-md==3.4.0) (57.4.0)\n",
            "Requirement already satisfied: requests<3.0.0,>=2.13.0 in /usr/local/lib/python3.8/dist-packages (from spacy<3.5.0,>=3.4.0->es-core-news-md==3.4.0) (2.23.0)\n",
            "Requirement already satisfied: cymem<2.1.0,>=2.0.2 in /usr/local/lib/python3.8/dist-packages (from spacy<3.5.0,>=3.4.0->es-core-news-md==3.4.0) (2.0.7)\n",
            "Requirement already satisfied: thinc<8.2.0,>=8.1.0 in /usr/local/lib/python3.8/dist-packages (from spacy<3.5.0,>=3.4.0->es-core-news-md==3.4.0) (8.1.5)\n",
            "Requirement already satisfied: numpy>=1.15.0 in /usr/local/lib/python3.8/dist-packages (from spacy<3.5.0,>=3.4.0->es-core-news-md==3.4.0) (1.21.6)\n",
            "Requirement already satisfied: catalogue<2.1.0,>=2.0.6 in /usr/local/lib/python3.8/dist-packages (from spacy<3.5.0,>=3.4.0->es-core-news-md==3.4.0) (2.0.8)\n",
            "Requirement already satisfied: spacy-legacy<3.1.0,>=3.0.10 in /usr/local/lib/python3.8/dist-packages (from spacy<3.5.0,>=3.4.0->es-core-news-md==3.4.0) (3.0.10)\n",
            "Requirement already satisfied: preshed<3.1.0,>=3.0.2 in /usr/local/lib/python3.8/dist-packages (from spacy<3.5.0,>=3.4.0->es-core-news-md==3.4.0) (3.0.8)\n",
            "Requirement already satisfied: typer<0.8.0,>=0.3.0 in /usr/local/lib/python3.8/dist-packages (from spacy<3.5.0,>=3.4.0->es-core-news-md==3.4.0) (0.7.0)\n",
            "Requirement already satisfied: packaging>=20.0 in /usr/local/lib/python3.8/dist-packages (from spacy<3.5.0,>=3.4.0->es-core-news-md==3.4.0) (21.3)\n",
            "Requirement already satisfied: langcodes<4.0.0,>=3.2.0 in /usr/local/lib/python3.8/dist-packages (from spacy<3.5.0,>=3.4.0->es-core-news-md==3.4.0) (3.3.0)\n",
            "Requirement already satisfied: pathy>=0.3.5 in /usr/local/lib/python3.8/dist-packages (from spacy<3.5.0,>=3.4.0->es-core-news-md==3.4.0) (0.9.0)\n",
            "Requirement already satisfied: tqdm<5.0.0,>=4.38.0 in /usr/local/lib/python3.8/dist-packages (from spacy<3.5.0,>=3.4.0->es-core-news-md==3.4.0) (4.64.1)\n",
            "Requirement already satisfied: spacy-loggers<2.0.0,>=1.0.0 in /usr/local/lib/python3.8/dist-packages (from spacy<3.5.0,>=3.4.0->es-core-news-md==3.4.0) (1.0.3)\n",
            "Requirement already satisfied: jinja2 in /usr/local/lib/python3.8/dist-packages (from spacy<3.5.0,>=3.4.0->es-core-news-md==3.4.0) (2.11.3)\n",
            "Requirement already satisfied: pydantic!=1.8,!=1.8.1,<1.11.0,>=1.7.4 in /usr/local/lib/python3.8/dist-packages (from spacy<3.5.0,>=3.4.0->es-core-news-md==3.4.0) (1.10.2)\n",
            "Requirement already satisfied: srsly<3.0.0,>=2.4.3 in /usr/local/lib/python3.8/dist-packages (from spacy<3.5.0,>=3.4.0->es-core-news-md==3.4.0) (2.4.5)\n",
            "Requirement already satisfied: wasabi<1.1.0,>=0.9.1 in /usr/local/lib/python3.8/dist-packages (from spacy<3.5.0,>=3.4.0->es-core-news-md==3.4.0) (0.10.1)\n",
            "Requirement already satisfied: murmurhash<1.1.0,>=0.28.0 in /usr/local/lib/python3.8/dist-packages (from spacy<3.5.0,>=3.4.0->es-core-news-md==3.4.0) (1.0.9)\n",
            "Requirement already satisfied: pyparsing!=3.0.5,>=2.0.2 in /usr/local/lib/python3.8/dist-packages (from packaging>=20.0->spacy<3.5.0,>=3.4.0->es-core-news-md==3.4.0) (3.0.9)\n",
            "Requirement already satisfied: smart-open<6.0.0,>=5.2.1 in /usr/local/lib/python3.8/dist-packages (from pathy>=0.3.5->spacy<3.5.0,>=3.4.0->es-core-news-md==3.4.0) (5.2.1)\n",
            "Requirement already satisfied: typing-extensions>=4.1.0 in /usr/local/lib/python3.8/dist-packages (from pydantic!=1.8,!=1.8.1,<1.11.0,>=1.7.4->spacy<3.5.0,>=3.4.0->es-core-news-md==3.4.0) (4.1.1)\n",
            "Requirement already satisfied: urllib3!=1.25.0,!=1.25.1,<1.26,>=1.21.1 in /usr/local/lib/python3.8/dist-packages (from requests<3.0.0,>=2.13.0->spacy<3.5.0,>=3.4.0->es-core-news-md==3.4.0) (1.24.3)\n",
            "Requirement already satisfied: certifi>=2017.4.17 in /usr/local/lib/python3.8/dist-packages (from requests<3.0.0,>=2.13.0->spacy<3.5.0,>=3.4.0->es-core-news-md==3.4.0) (2022.9.24)\n",
            "Requirement already satisfied: chardet<4,>=3.0.2 in /usr/local/lib/python3.8/dist-packages (from requests<3.0.0,>=2.13.0->spacy<3.5.0,>=3.4.0->es-core-news-md==3.4.0) (3.0.4)\n",
            "Requirement already satisfied: idna<3,>=2.5 in /usr/local/lib/python3.8/dist-packages (from requests<3.0.0,>=2.13.0->spacy<3.5.0,>=3.4.0->es-core-news-md==3.4.0) (2.10)\n",
            "Requirement already satisfied: confection<1.0.0,>=0.0.1 in /usr/local/lib/python3.8/dist-packages (from thinc<8.2.0,>=8.1.0->spacy<3.5.0,>=3.4.0->es-core-news-md==3.4.0) (0.0.3)\n",
            "Requirement already satisfied: blis<0.8.0,>=0.7.8 in /usr/local/lib/python3.8/dist-packages (from thinc<8.2.0,>=8.1.0->spacy<3.5.0,>=3.4.0->es-core-news-md==3.4.0) (0.7.9)\n",
            "Requirement already satisfied: click<9.0.0,>=7.1.1 in /usr/local/lib/python3.8/dist-packages (from typer<0.8.0,>=0.3.0->spacy<3.5.0,>=3.4.0->es-core-news-md==3.4.0) (7.1.2)\n",
            "Requirement already satisfied: MarkupSafe>=0.23 in /usr/local/lib/python3.8/dist-packages (from jinja2->spacy<3.5.0,>=3.4.0->es-core-news-md==3.4.0) (2.0.1)\n",
            "Installing collected packages: es-core-news-md\n",
            "Successfully installed es-core-news-md-3.4.0\n",
            "\u001b[38;5;2m✔ Download and installation successful\u001b[0m\n",
            "You can now load the package via spacy.load('es_core_news_md')\n"
          ]
        }
      ]
    },
    {
      "cell_type": "markdown",
      "source": [
        "**Carga de los Datos y Creación del *Data Set* para el análisis**"
      ],
      "metadata": {
        "id": "qPGnHDRkv6-_"
      }
    },
    {
      "cell_type": "markdown",
      "source": [
        "* Conjunto de datos con los registros y todos sus atributos\n",
        "\n",
        "\n"
      ],
      "metadata": {
        "id": "7l_28od2_2Jf"
      }
    },
    {
      "cell_type": "code",
      "source": [
        "df1 = pd.read_csv('/content/drive/MyDrive/ProyectoIntegrador/Datos/export.csv', encoding='latin-1')\n",
        "#Habilitar la siguiente línea para correr el proyecto de manera local\n",
        "#df1 = pd.read_csv('/content/export.csv', encoding='latin-1')\n",
        "print(df1.shape)\n",
        "df1.head(2)"
      ],
      "metadata": {
        "colab": {
          "base_uri": "https://localhost:8080/",
          "height": 209
        },
        "id": "NrHOB1WbPOCR",
        "outputId": "073e8720-2675-498e-81ec-51cb79970e40"
      },
      "execution_count": null,
      "outputs": [
        {
          "output_type": "stream",
          "name": "stdout",
          "text": [
            "(259762, 15)\n"
          ]
        },
        {
          "output_type": "execute_result",
          "data": {
            "text/plain": [
              "            REPORTDATE     WONUM                                  DESCRIPTION  \\\n",
              "0  29/05/2022 02:26:00  10016825             Atención Evento M_EPM_EN_4885195   \n",
              "1  01/09/2022 02:56:24  12523772  Reparar líneas primaria subterránea fallada   \n",
              "\n",
              "    STATUS WORKTYPE ASSETNUM LOCATION         REGION ANCESTOR SOURCESYSID  \\\n",
              "0  CERRADA    CPROG      NaN  32427-4  METROPOLITANA   R05-14         MAR   \n",
              "1  CERRADA    CPROG  3206258  32427-4  METROPOLITANA   R05-14         MAR   \n",
              "\n",
              "  FAILURECODE PROBLEMCODE   RESUMEN  WORKLOGID  \\\n",
              "0       POSTE       CAIDO  CIERREOT    2754950   \n",
              "1         NaN         NaN  CIERREOT    3005990   \n",
              "\n",
              "                                             DETALLE  \n",
              "0  Se revisa y se encuentra poste de 12 MTS de ji...  \n",
              "1  Localizar falla circuito primario sub guayabal...  "
            ],
            "text/html": [
              "\n",
              "  <div id=\"df-6c7944e7-2821-40ef-94f6-1e3198fbe16f\">\n",
              "    <div class=\"colab-df-container\">\n",
              "      <div>\n",
              "<style scoped>\n",
              "    .dataframe tbody tr th:only-of-type {\n",
              "        vertical-align: middle;\n",
              "    }\n",
              "\n",
              "    .dataframe tbody tr th {\n",
              "        vertical-align: top;\n",
              "    }\n",
              "\n",
              "    .dataframe thead th {\n",
              "        text-align: right;\n",
              "    }\n",
              "</style>\n",
              "<table border=\"1\" class=\"dataframe\">\n",
              "  <thead>\n",
              "    <tr style=\"text-align: right;\">\n",
              "      <th></th>\n",
              "      <th>REPORTDATE</th>\n",
              "      <th>WONUM</th>\n",
              "      <th>DESCRIPTION</th>\n",
              "      <th>STATUS</th>\n",
              "      <th>WORKTYPE</th>\n",
              "      <th>ASSETNUM</th>\n",
              "      <th>LOCATION</th>\n",
              "      <th>REGION</th>\n",
              "      <th>ANCESTOR</th>\n",
              "      <th>SOURCESYSID</th>\n",
              "      <th>FAILURECODE</th>\n",
              "      <th>PROBLEMCODE</th>\n",
              "      <th>RESUMEN</th>\n",
              "      <th>WORKLOGID</th>\n",
              "      <th>DETALLE</th>\n",
              "    </tr>\n",
              "  </thead>\n",
              "  <tbody>\n",
              "    <tr>\n",
              "      <th>0</th>\n",
              "      <td>29/05/2022 02:26:00</td>\n",
              "      <td>10016825</td>\n",
              "      <td>Atención Evento M_EPM_EN_4885195</td>\n",
              "      <td>CERRADA</td>\n",
              "      <td>CPROG</td>\n",
              "      <td>NaN</td>\n",
              "      <td>32427-4</td>\n",
              "      <td>METROPOLITANA</td>\n",
              "      <td>R05-14</td>\n",
              "      <td>MAR</td>\n",
              "      <td>POSTE</td>\n",
              "      <td>CAIDO</td>\n",
              "      <td>CIERREOT</td>\n",
              "      <td>2754950</td>\n",
              "      <td>Se revisa y se encuentra poste de 12 MTS de ji...</td>\n",
              "    </tr>\n",
              "    <tr>\n",
              "      <th>1</th>\n",
              "      <td>01/09/2022 02:56:24</td>\n",
              "      <td>12523772</td>\n",
              "      <td>Reparar líneas primaria subterránea fallada</td>\n",
              "      <td>CERRADA</td>\n",
              "      <td>CPROG</td>\n",
              "      <td>3206258</td>\n",
              "      <td>32427-4</td>\n",
              "      <td>METROPOLITANA</td>\n",
              "      <td>R05-14</td>\n",
              "      <td>MAR</td>\n",
              "      <td>NaN</td>\n",
              "      <td>NaN</td>\n",
              "      <td>CIERREOT</td>\n",
              "      <td>3005990</td>\n",
              "      <td>Localizar falla circuito primario sub guayabal...</td>\n",
              "    </tr>\n",
              "  </tbody>\n",
              "</table>\n",
              "</div>\n",
              "      <button class=\"colab-df-convert\" onclick=\"convertToInteractive('df-6c7944e7-2821-40ef-94f6-1e3198fbe16f')\"\n",
              "              title=\"Convert this dataframe to an interactive table.\"\n",
              "              style=\"display:none;\">\n",
              "        \n",
              "  <svg xmlns=\"http://www.w3.org/2000/svg\" height=\"24px\"viewBox=\"0 0 24 24\"\n",
              "       width=\"24px\">\n",
              "    <path d=\"M0 0h24v24H0V0z\" fill=\"none\"/>\n",
              "    <path d=\"M18.56 5.44l.94 2.06.94-2.06 2.06-.94-2.06-.94-.94-2.06-.94 2.06-2.06.94zm-11 1L8.5 8.5l.94-2.06 2.06-.94-2.06-.94L8.5 2.5l-.94 2.06-2.06.94zm10 10l.94 2.06.94-2.06 2.06-.94-2.06-.94-.94-2.06-.94 2.06-2.06.94z\"/><path d=\"M17.41 7.96l-1.37-1.37c-.4-.4-.92-.59-1.43-.59-.52 0-1.04.2-1.43.59L10.3 9.45l-7.72 7.72c-.78.78-.78 2.05 0 2.83L4 21.41c.39.39.9.59 1.41.59.51 0 1.02-.2 1.41-.59l7.78-7.78 2.81-2.81c.8-.78.8-2.07 0-2.86zM5.41 20L4 18.59l7.72-7.72 1.47 1.35L5.41 20z\"/>\n",
              "  </svg>\n",
              "      </button>\n",
              "      \n",
              "  <style>\n",
              "    .colab-df-container {\n",
              "      display:flex;\n",
              "      flex-wrap:wrap;\n",
              "      gap: 12px;\n",
              "    }\n",
              "\n",
              "    .colab-df-convert {\n",
              "      background-color: #E8F0FE;\n",
              "      border: none;\n",
              "      border-radius: 50%;\n",
              "      cursor: pointer;\n",
              "      display: none;\n",
              "      fill: #1967D2;\n",
              "      height: 32px;\n",
              "      padding: 0 0 0 0;\n",
              "      width: 32px;\n",
              "    }\n",
              "\n",
              "    .colab-df-convert:hover {\n",
              "      background-color: #E2EBFA;\n",
              "      box-shadow: 0px 1px 2px rgba(60, 64, 67, 0.3), 0px 1px 3px 1px rgba(60, 64, 67, 0.15);\n",
              "      fill: #174EA6;\n",
              "    }\n",
              "\n",
              "    [theme=dark] .colab-df-convert {\n",
              "      background-color: #3B4455;\n",
              "      fill: #D2E3FC;\n",
              "    }\n",
              "\n",
              "    [theme=dark] .colab-df-convert:hover {\n",
              "      background-color: #434B5C;\n",
              "      box-shadow: 0px 1px 3px 1px rgba(0, 0, 0, 0.15);\n",
              "      filter: drop-shadow(0px 1px 2px rgba(0, 0, 0, 0.3));\n",
              "      fill: #FFFFFF;\n",
              "    }\n",
              "  </style>\n",
              "\n",
              "      <script>\n",
              "        const buttonEl =\n",
              "          document.querySelector('#df-6c7944e7-2821-40ef-94f6-1e3198fbe16f button.colab-df-convert');\n",
              "        buttonEl.style.display =\n",
              "          google.colab.kernel.accessAllowed ? 'block' : 'none';\n",
              "\n",
              "        async function convertToInteractive(key) {\n",
              "          const element = document.querySelector('#df-6c7944e7-2821-40ef-94f6-1e3198fbe16f');\n",
              "          const dataTable =\n",
              "            await google.colab.kernel.invokeFunction('convertToInteractive',\n",
              "                                                     [key], {});\n",
              "          if (!dataTable) return;\n",
              "\n",
              "          const docLinkHtml = 'Like what you see? Visit the ' +\n",
              "            '<a target=\"_blank\" href=https://colab.research.google.com/notebooks/data_table.ipynb>data table notebook</a>'\n",
              "            + ' to learn more about interactive tables.';\n",
              "          element.innerHTML = '';\n",
              "          dataTable['output_type'] = 'display_data';\n",
              "          await google.colab.output.renderOutput(dataTable, element);\n",
              "          const docLink = document.createElement('div');\n",
              "          docLink.innerHTML = docLinkHtml;\n",
              "          element.appendChild(docLink);\n",
              "        }\n",
              "      </script>\n",
              "    </div>\n",
              "  </div>\n",
              "  "
            ]
          },
          "metadata": {},
          "execution_count": 4
        }
      ]
    },
    {
      "cell_type": "code",
      "source": [
        "## Seleccionar registros asociados con tipos de trabajo de interés (Trabajos correctivos)\n",
        "df1 = df1[df1['WORKTYPE'].isin(['CINME', 'CPROG'])]"
      ],
      "metadata": {
        "id": "sW9wcIbAmz_7"
      },
      "execution_count": null,
      "outputs": []
    },
    {
      "cell_type": "code",
      "source": [
        "## Seleccionar columnas de interés\n",
        "df1 = df1[['WORKTYPE', 'REGION', 'ANCESTOR', 'FAILURECODE','PROBLEMCODE','WORKLOGID']].reset_index(drop=True)\n",
        "print(df1.shape)\n",
        "df1.head(5)"
      ],
      "metadata": {
        "id": "IbQJGtNgnl2U",
        "colab": {
          "base_uri": "https://localhost:8080/",
          "height": 224
        },
        "outputId": "894a0e4f-dfac-46cd-d4d1-147c875cedb2"
      },
      "execution_count": null,
      "outputs": [
        {
          "output_type": "stream",
          "name": "stdout",
          "text": [
            "(158751, 6)\n"
          ]
        },
        {
          "output_type": "execute_result",
          "data": {
            "text/plain": [
              "  WORKTYPE         REGION ANCESTOR FAILURECODE PROBLEMCODE  WORKLOGID\n",
              "0    CPROG  METROPOLITANA   R05-14       POSTE       CAIDO    2754950\n",
              "1    CPROG  METROPOLITANA   R05-14         NaN         NaN    3005990\n",
              "2    CINME  METROPOLITANA   R15-20     RED.PRI    FALL.LIN    2634320\n",
              "3    CINME  METROPOLITANA   R15-20     RED.SEC    FALL.LIN    2634321\n",
              "4    CINME  METROPOLITANA   R15-20       POSTE       CAIDO    2742512"
            ],
            "text/html": [
              "\n",
              "  <div id=\"df-b71501a3-4c24-4185-89b0-4850d64aa684\">\n",
              "    <div class=\"colab-df-container\">\n",
              "      <div>\n",
              "<style scoped>\n",
              "    .dataframe tbody tr th:only-of-type {\n",
              "        vertical-align: middle;\n",
              "    }\n",
              "\n",
              "    .dataframe tbody tr th {\n",
              "        vertical-align: top;\n",
              "    }\n",
              "\n",
              "    .dataframe thead th {\n",
              "        text-align: right;\n",
              "    }\n",
              "</style>\n",
              "<table border=\"1\" class=\"dataframe\">\n",
              "  <thead>\n",
              "    <tr style=\"text-align: right;\">\n",
              "      <th></th>\n",
              "      <th>WORKTYPE</th>\n",
              "      <th>REGION</th>\n",
              "      <th>ANCESTOR</th>\n",
              "      <th>FAILURECODE</th>\n",
              "      <th>PROBLEMCODE</th>\n",
              "      <th>WORKLOGID</th>\n",
              "    </tr>\n",
              "  </thead>\n",
              "  <tbody>\n",
              "    <tr>\n",
              "      <th>0</th>\n",
              "      <td>CPROG</td>\n",
              "      <td>METROPOLITANA</td>\n",
              "      <td>R05-14</td>\n",
              "      <td>POSTE</td>\n",
              "      <td>CAIDO</td>\n",
              "      <td>2754950</td>\n",
              "    </tr>\n",
              "    <tr>\n",
              "      <th>1</th>\n",
              "      <td>CPROG</td>\n",
              "      <td>METROPOLITANA</td>\n",
              "      <td>R05-14</td>\n",
              "      <td>NaN</td>\n",
              "      <td>NaN</td>\n",
              "      <td>3005990</td>\n",
              "    </tr>\n",
              "    <tr>\n",
              "      <th>2</th>\n",
              "      <td>CINME</td>\n",
              "      <td>METROPOLITANA</td>\n",
              "      <td>R15-20</td>\n",
              "      <td>RED.PRI</td>\n",
              "      <td>FALL.LIN</td>\n",
              "      <td>2634320</td>\n",
              "    </tr>\n",
              "    <tr>\n",
              "      <th>3</th>\n",
              "      <td>CINME</td>\n",
              "      <td>METROPOLITANA</td>\n",
              "      <td>R15-20</td>\n",
              "      <td>RED.SEC</td>\n",
              "      <td>FALL.LIN</td>\n",
              "      <td>2634321</td>\n",
              "    </tr>\n",
              "    <tr>\n",
              "      <th>4</th>\n",
              "      <td>CINME</td>\n",
              "      <td>METROPOLITANA</td>\n",
              "      <td>R15-20</td>\n",
              "      <td>POSTE</td>\n",
              "      <td>CAIDO</td>\n",
              "      <td>2742512</td>\n",
              "    </tr>\n",
              "  </tbody>\n",
              "</table>\n",
              "</div>\n",
              "      <button class=\"colab-df-convert\" onclick=\"convertToInteractive('df-b71501a3-4c24-4185-89b0-4850d64aa684')\"\n",
              "              title=\"Convert this dataframe to an interactive table.\"\n",
              "              style=\"display:none;\">\n",
              "        \n",
              "  <svg xmlns=\"http://www.w3.org/2000/svg\" height=\"24px\"viewBox=\"0 0 24 24\"\n",
              "       width=\"24px\">\n",
              "    <path d=\"M0 0h24v24H0V0z\" fill=\"none\"/>\n",
              "    <path d=\"M18.56 5.44l.94 2.06.94-2.06 2.06-.94-2.06-.94-.94-2.06-.94 2.06-2.06.94zm-11 1L8.5 8.5l.94-2.06 2.06-.94-2.06-.94L8.5 2.5l-.94 2.06-2.06.94zm10 10l.94 2.06.94-2.06 2.06-.94-2.06-.94-.94-2.06-.94 2.06-2.06.94z\"/><path d=\"M17.41 7.96l-1.37-1.37c-.4-.4-.92-.59-1.43-.59-.52 0-1.04.2-1.43.59L10.3 9.45l-7.72 7.72c-.78.78-.78 2.05 0 2.83L4 21.41c.39.39.9.59 1.41.59.51 0 1.02-.2 1.41-.59l7.78-7.78 2.81-2.81c.8-.78.8-2.07 0-2.86zM5.41 20L4 18.59l7.72-7.72 1.47 1.35L5.41 20z\"/>\n",
              "  </svg>\n",
              "      </button>\n",
              "      \n",
              "  <style>\n",
              "    .colab-df-container {\n",
              "      display:flex;\n",
              "      flex-wrap:wrap;\n",
              "      gap: 12px;\n",
              "    }\n",
              "\n",
              "    .colab-df-convert {\n",
              "      background-color: #E8F0FE;\n",
              "      border: none;\n",
              "      border-radius: 50%;\n",
              "      cursor: pointer;\n",
              "      display: none;\n",
              "      fill: #1967D2;\n",
              "      height: 32px;\n",
              "      padding: 0 0 0 0;\n",
              "      width: 32px;\n",
              "    }\n",
              "\n",
              "    .colab-df-convert:hover {\n",
              "      background-color: #E2EBFA;\n",
              "      box-shadow: 0px 1px 2px rgba(60, 64, 67, 0.3), 0px 1px 3px 1px rgba(60, 64, 67, 0.15);\n",
              "      fill: #174EA6;\n",
              "    }\n",
              "\n",
              "    [theme=dark] .colab-df-convert {\n",
              "      background-color: #3B4455;\n",
              "      fill: #D2E3FC;\n",
              "    }\n",
              "\n",
              "    [theme=dark] .colab-df-convert:hover {\n",
              "      background-color: #434B5C;\n",
              "      box-shadow: 0px 1px 3px 1px rgba(0, 0, 0, 0.15);\n",
              "      filter: drop-shadow(0px 1px 2px rgba(0, 0, 0, 0.3));\n",
              "      fill: #FFFFFF;\n",
              "    }\n",
              "  </style>\n",
              "\n",
              "      <script>\n",
              "        const buttonEl =\n",
              "          document.querySelector('#df-b71501a3-4c24-4185-89b0-4850d64aa684 button.colab-df-convert');\n",
              "        buttonEl.style.display =\n",
              "          google.colab.kernel.accessAllowed ? 'block' : 'none';\n",
              "\n",
              "        async function convertToInteractive(key) {\n",
              "          const element = document.querySelector('#df-b71501a3-4c24-4185-89b0-4850d64aa684');\n",
              "          const dataTable =\n",
              "            await google.colab.kernel.invokeFunction('convertToInteractive',\n",
              "                                                     [key], {});\n",
              "          if (!dataTable) return;\n",
              "\n",
              "          const docLinkHtml = 'Like what you see? Visit the ' +\n",
              "            '<a target=\"_blank\" href=https://colab.research.google.com/notebooks/data_table.ipynb>data table notebook</a>'\n",
              "            + ' to learn more about interactive tables.';\n",
              "          element.innerHTML = '';\n",
              "          dataTable['output_type'] = 'display_data';\n",
              "          await google.colab.output.renderOutput(dataTable, element);\n",
              "          const docLink = document.createElement('div');\n",
              "          docLink.innerHTML = docLinkHtml;\n",
              "          element.appendChild(docLink);\n",
              "        }\n",
              "      </script>\n",
              "    </div>\n",
              "  </div>\n",
              "  "
            ]
          },
          "metadata": {},
          "execution_count": 6
        }
      ]
    },
    {
      "cell_type": "markdown",
      "source": [
        "* Conjunto de datos con los registros (textos) procesados\n"
      ],
      "metadata": {
        "id": "p7wh4bFGAIqf"
      }
    },
    {
      "cell_type": "code",
      "source": [
        "df2 = pd.read_csv('/content/drive/MyDrive/ProyectoIntegrador/Datos/datos_procesados.csv', encoding='latin-1')\n",
        "#Habilitar la siguiente línea para correr el proyecto de manera local\n",
        "#df2 = pd.read_csv('/content/datos_preparados.csv', encoding='latin-1')\n",
        "print(df2.shape)\n",
        "df2.head(2)"
      ],
      "metadata": {
        "colab": {
          "base_uri": "https://localhost:8080/",
          "height": 130
        },
        "id": "fzqpf0T6z3X5",
        "outputId": "6a59ca79-1710-410b-de60-7d065a3c3ebb"
      },
      "execution_count": null,
      "outputs": [
        {
          "output_type": "stream",
          "name": "stdout",
          "text": [
            "(156792, 7)\n"
          ]
        },
        {
          "output_type": "execute_result",
          "data": {
            "text/plain": [
              "   Unnamed: 0   RESUMEN  WORKLOGID  \\\n",
              "0           0  CIERREOT    2754950   \n",
              "1           1  CIERREOT    3005990   \n",
              "\n",
              "                                             DETALLE  \\\n",
              "0  Se revisa y se encuentra poste de 12 MTS de ji...   \n",
              "1  Localizar falla circuito primario sub guayabal...   \n",
              "\n",
              "                                           procesado  \\\n",
              "0  se revisa y se encuentra poste de metros de ji...   \n",
              "1  localizar falla circuito primario subestacion ...   \n",
              "\n",
              "                                              tokens  \\\n",
              "0  ['se', 'revisa', 'y', 'se', 'encuentra', 'post...   \n",
              "1  ['localizar', 'falla', 'circuito', 'primario',...   \n",
              "\n",
              "                                         tokens_proc  \n",
              "0  ['revisa', 'poste', 'reventado', 'vehiculo', '...  \n",
              "1  ['localizar', 'falla', 'circuito', 'primario',...  "
            ],
            "text/html": [
              "\n",
              "  <div id=\"df-063253ea-f871-42f3-8030-9ff97e79bac0\">\n",
              "    <div class=\"colab-df-container\">\n",
              "      <div>\n",
              "<style scoped>\n",
              "    .dataframe tbody tr th:only-of-type {\n",
              "        vertical-align: middle;\n",
              "    }\n",
              "\n",
              "    .dataframe tbody tr th {\n",
              "        vertical-align: top;\n",
              "    }\n",
              "\n",
              "    .dataframe thead th {\n",
              "        text-align: right;\n",
              "    }\n",
              "</style>\n",
              "<table border=\"1\" class=\"dataframe\">\n",
              "  <thead>\n",
              "    <tr style=\"text-align: right;\">\n",
              "      <th></th>\n",
              "      <th>Unnamed: 0</th>\n",
              "      <th>RESUMEN</th>\n",
              "      <th>WORKLOGID</th>\n",
              "      <th>DETALLE</th>\n",
              "      <th>procesado</th>\n",
              "      <th>tokens</th>\n",
              "      <th>tokens_proc</th>\n",
              "    </tr>\n",
              "  </thead>\n",
              "  <tbody>\n",
              "    <tr>\n",
              "      <th>0</th>\n",
              "      <td>0</td>\n",
              "      <td>CIERREOT</td>\n",
              "      <td>2754950</td>\n",
              "      <td>Se revisa y se encuentra poste de 12 MTS de ji...</td>\n",
              "      <td>se revisa y se encuentra poste de metros de ji...</td>\n",
              "      <td>['se', 'revisa', 'y', 'se', 'encuentra', 'post...</td>\n",
              "      <td>['revisa', 'poste', 'reventado', 'vehiculo', '...</td>\n",
              "    </tr>\n",
              "    <tr>\n",
              "      <th>1</th>\n",
              "      <td>1</td>\n",
              "      <td>CIERREOT</td>\n",
              "      <td>3005990</td>\n",
              "      <td>Localizar falla circuito primario sub guayabal...</td>\n",
              "      <td>localizar falla circuito primario subestacion ...</td>\n",
              "      <td>['localizar', 'falla', 'circuito', 'primario',...</td>\n",
              "      <td>['localizar', 'falla', 'circuito', 'primario',...</td>\n",
              "    </tr>\n",
              "  </tbody>\n",
              "</table>\n",
              "</div>\n",
              "      <button class=\"colab-df-convert\" onclick=\"convertToInteractive('df-063253ea-f871-42f3-8030-9ff97e79bac0')\"\n",
              "              title=\"Convert this dataframe to an interactive table.\"\n",
              "              style=\"display:none;\">\n",
              "        \n",
              "  <svg xmlns=\"http://www.w3.org/2000/svg\" height=\"24px\"viewBox=\"0 0 24 24\"\n",
              "       width=\"24px\">\n",
              "    <path d=\"M0 0h24v24H0V0z\" fill=\"none\"/>\n",
              "    <path d=\"M18.56 5.44l.94 2.06.94-2.06 2.06-.94-2.06-.94-.94-2.06-.94 2.06-2.06.94zm-11 1L8.5 8.5l.94-2.06 2.06-.94-2.06-.94L8.5 2.5l-.94 2.06-2.06.94zm10 10l.94 2.06.94-2.06 2.06-.94-2.06-.94-.94-2.06-.94 2.06-2.06.94z\"/><path d=\"M17.41 7.96l-1.37-1.37c-.4-.4-.92-.59-1.43-.59-.52 0-1.04.2-1.43.59L10.3 9.45l-7.72 7.72c-.78.78-.78 2.05 0 2.83L4 21.41c.39.39.9.59 1.41.59.51 0 1.02-.2 1.41-.59l7.78-7.78 2.81-2.81c.8-.78.8-2.07 0-2.86zM5.41 20L4 18.59l7.72-7.72 1.47 1.35L5.41 20z\"/>\n",
              "  </svg>\n",
              "      </button>\n",
              "      \n",
              "  <style>\n",
              "    .colab-df-container {\n",
              "      display:flex;\n",
              "      flex-wrap:wrap;\n",
              "      gap: 12px;\n",
              "    }\n",
              "\n",
              "    .colab-df-convert {\n",
              "      background-color: #E8F0FE;\n",
              "      border: none;\n",
              "      border-radius: 50%;\n",
              "      cursor: pointer;\n",
              "      display: none;\n",
              "      fill: #1967D2;\n",
              "      height: 32px;\n",
              "      padding: 0 0 0 0;\n",
              "      width: 32px;\n",
              "    }\n",
              "\n",
              "    .colab-df-convert:hover {\n",
              "      background-color: #E2EBFA;\n",
              "      box-shadow: 0px 1px 2px rgba(60, 64, 67, 0.3), 0px 1px 3px 1px rgba(60, 64, 67, 0.15);\n",
              "      fill: #174EA6;\n",
              "    }\n",
              "\n",
              "    [theme=dark] .colab-df-convert {\n",
              "      background-color: #3B4455;\n",
              "      fill: #D2E3FC;\n",
              "    }\n",
              "\n",
              "    [theme=dark] .colab-df-convert:hover {\n",
              "      background-color: #434B5C;\n",
              "      box-shadow: 0px 1px 3px 1px rgba(0, 0, 0, 0.15);\n",
              "      filter: drop-shadow(0px 1px 2px rgba(0, 0, 0, 0.3));\n",
              "      fill: #FFFFFF;\n",
              "    }\n",
              "  </style>\n",
              "\n",
              "      <script>\n",
              "        const buttonEl =\n",
              "          document.querySelector('#df-063253ea-f871-42f3-8030-9ff97e79bac0 button.colab-df-convert');\n",
              "        buttonEl.style.display =\n",
              "          google.colab.kernel.accessAllowed ? 'block' : 'none';\n",
              "\n",
              "        async function convertToInteractive(key) {\n",
              "          const element = document.querySelector('#df-063253ea-f871-42f3-8030-9ff97e79bac0');\n",
              "          const dataTable =\n",
              "            await google.colab.kernel.invokeFunction('convertToInteractive',\n",
              "                                                     [key], {});\n",
              "          if (!dataTable) return;\n",
              "\n",
              "          const docLinkHtml = 'Like what you see? Visit the ' +\n",
              "            '<a target=\"_blank\" href=https://colab.research.google.com/notebooks/data_table.ipynb>data table notebook</a>'\n",
              "            + ' to learn more about interactive tables.';\n",
              "          element.innerHTML = '';\n",
              "          dataTable['output_type'] = 'display_data';\n",
              "          await google.colab.output.renderOutput(dataTable, element);\n",
              "          const docLink = document.createElement('div');\n",
              "          docLink.innerHTML = docLinkHtml;\n",
              "          element.appendChild(docLink);\n",
              "        }\n",
              "      </script>\n",
              "    </div>\n",
              "  </div>\n",
              "  "
            ]
          },
          "metadata": {},
          "execution_count": 7
        }
      ]
    },
    {
      "cell_type": "code",
      "source": [
        "## Seleccionar columnas de interés\n",
        "df2 = df2[['WORKLOGID', 'tokens_proc']]\n",
        "df2.head(2)"
      ],
      "metadata": {
        "id": "WW-98usF2vT6",
        "colab": {
          "base_uri": "https://localhost:8080/",
          "height": 112
        },
        "outputId": "480ff6f8-13ed-4fa2-a0e4-67b98dc0070b"
      },
      "execution_count": null,
      "outputs": [
        {
          "output_type": "execute_result",
          "data": {
            "text/plain": [
              "   WORKLOGID                                        tokens_proc\n",
              "0    2754950  ['revisa', 'poste', 'reventado', 'vehiculo', '...\n",
              "1    3005990  ['localizar', 'falla', 'circuito', 'primario',..."
            ],
            "text/html": [
              "\n",
              "  <div id=\"df-a392dcbd-70f5-42a9-a9df-413ee80d2092\">\n",
              "    <div class=\"colab-df-container\">\n",
              "      <div>\n",
              "<style scoped>\n",
              "    .dataframe tbody tr th:only-of-type {\n",
              "        vertical-align: middle;\n",
              "    }\n",
              "\n",
              "    .dataframe tbody tr th {\n",
              "        vertical-align: top;\n",
              "    }\n",
              "\n",
              "    .dataframe thead th {\n",
              "        text-align: right;\n",
              "    }\n",
              "</style>\n",
              "<table border=\"1\" class=\"dataframe\">\n",
              "  <thead>\n",
              "    <tr style=\"text-align: right;\">\n",
              "      <th></th>\n",
              "      <th>WORKLOGID</th>\n",
              "      <th>tokens_proc</th>\n",
              "    </tr>\n",
              "  </thead>\n",
              "  <tbody>\n",
              "    <tr>\n",
              "      <th>0</th>\n",
              "      <td>2754950</td>\n",
              "      <td>['revisa', 'poste', 'reventado', 'vehiculo', '...</td>\n",
              "    </tr>\n",
              "    <tr>\n",
              "      <th>1</th>\n",
              "      <td>3005990</td>\n",
              "      <td>['localizar', 'falla', 'circuito', 'primario',...</td>\n",
              "    </tr>\n",
              "  </tbody>\n",
              "</table>\n",
              "</div>\n",
              "      <button class=\"colab-df-convert\" onclick=\"convertToInteractive('df-a392dcbd-70f5-42a9-a9df-413ee80d2092')\"\n",
              "              title=\"Convert this dataframe to an interactive table.\"\n",
              "              style=\"display:none;\">\n",
              "        \n",
              "  <svg xmlns=\"http://www.w3.org/2000/svg\" height=\"24px\"viewBox=\"0 0 24 24\"\n",
              "       width=\"24px\">\n",
              "    <path d=\"M0 0h24v24H0V0z\" fill=\"none\"/>\n",
              "    <path d=\"M18.56 5.44l.94 2.06.94-2.06 2.06-.94-2.06-.94-.94-2.06-.94 2.06-2.06.94zm-11 1L8.5 8.5l.94-2.06 2.06-.94-2.06-.94L8.5 2.5l-.94 2.06-2.06.94zm10 10l.94 2.06.94-2.06 2.06-.94-2.06-.94-.94-2.06-.94 2.06-2.06.94z\"/><path d=\"M17.41 7.96l-1.37-1.37c-.4-.4-.92-.59-1.43-.59-.52 0-1.04.2-1.43.59L10.3 9.45l-7.72 7.72c-.78.78-.78 2.05 0 2.83L4 21.41c.39.39.9.59 1.41.59.51 0 1.02-.2 1.41-.59l7.78-7.78 2.81-2.81c.8-.78.8-2.07 0-2.86zM5.41 20L4 18.59l7.72-7.72 1.47 1.35L5.41 20z\"/>\n",
              "  </svg>\n",
              "      </button>\n",
              "      \n",
              "  <style>\n",
              "    .colab-df-container {\n",
              "      display:flex;\n",
              "      flex-wrap:wrap;\n",
              "      gap: 12px;\n",
              "    }\n",
              "\n",
              "    .colab-df-convert {\n",
              "      background-color: #E8F0FE;\n",
              "      border: none;\n",
              "      border-radius: 50%;\n",
              "      cursor: pointer;\n",
              "      display: none;\n",
              "      fill: #1967D2;\n",
              "      height: 32px;\n",
              "      padding: 0 0 0 0;\n",
              "      width: 32px;\n",
              "    }\n",
              "\n",
              "    .colab-df-convert:hover {\n",
              "      background-color: #E2EBFA;\n",
              "      box-shadow: 0px 1px 2px rgba(60, 64, 67, 0.3), 0px 1px 3px 1px rgba(60, 64, 67, 0.15);\n",
              "      fill: #174EA6;\n",
              "    }\n",
              "\n",
              "    [theme=dark] .colab-df-convert {\n",
              "      background-color: #3B4455;\n",
              "      fill: #D2E3FC;\n",
              "    }\n",
              "\n",
              "    [theme=dark] .colab-df-convert:hover {\n",
              "      background-color: #434B5C;\n",
              "      box-shadow: 0px 1px 3px 1px rgba(0, 0, 0, 0.15);\n",
              "      filter: drop-shadow(0px 1px 2px rgba(0, 0, 0, 0.3));\n",
              "      fill: #FFFFFF;\n",
              "    }\n",
              "  </style>\n",
              "\n",
              "      <script>\n",
              "        const buttonEl =\n",
              "          document.querySelector('#df-a392dcbd-70f5-42a9-a9df-413ee80d2092 button.colab-df-convert');\n",
              "        buttonEl.style.display =\n",
              "          google.colab.kernel.accessAllowed ? 'block' : 'none';\n",
              "\n",
              "        async function convertToInteractive(key) {\n",
              "          const element = document.querySelector('#df-a392dcbd-70f5-42a9-a9df-413ee80d2092');\n",
              "          const dataTable =\n",
              "            await google.colab.kernel.invokeFunction('convertToInteractive',\n",
              "                                                     [key], {});\n",
              "          if (!dataTable) return;\n",
              "\n",
              "          const docLinkHtml = 'Like what you see? Visit the ' +\n",
              "            '<a target=\"_blank\" href=https://colab.research.google.com/notebooks/data_table.ipynb>data table notebook</a>'\n",
              "            + ' to learn more about interactive tables.';\n",
              "          element.innerHTML = '';\n",
              "          dataTable['output_type'] = 'display_data';\n",
              "          await google.colab.output.renderOutput(dataTable, element);\n",
              "          const docLink = document.createElement('div');\n",
              "          docLink.innerHTML = docLinkHtml;\n",
              "          element.appendChild(docLink);\n",
              "        }\n",
              "      </script>\n",
              "    </div>\n",
              "  </div>\n",
              "  "
            ]
          },
          "metadata": {},
          "execution_count": 8
        }
      ]
    },
    {
      "cell_type": "code",
      "source": [
        "## Recuperar los tokes (como lista) que se extrajeron en el textprep y que al exportar el archivo .csv se cargaron como cadenas de texto\n",
        "df2['tokens_proc'] = df2['tokens_proc'].apply(lambda x: re.sub('[\\[\\]\\']+', '', str(x)))\n",
        "df2['tokens_proc'] = df2['tokens_proc'].apply(lambda x: x.split(', '))"
      ],
      "metadata": {
        "id": "OngfzYLeJJKL"
      },
      "execution_count": null,
      "outputs": []
    },
    {
      "cell_type": "code",
      "source": [
        "df2.head(2)"
      ],
      "metadata": {
        "colab": {
          "base_uri": "https://localhost:8080/",
          "height": 112
        },
        "id": "dGFKff9dMXZc",
        "outputId": "aee47099-94a4-4524-d432-1f54990e5497"
      },
      "execution_count": null,
      "outputs": [
        {
          "output_type": "execute_result",
          "data": {
            "text/plain": [
              "   WORKLOGID                                        tokens_proc\n",
              "0    2754950  [revisa, poste, reventado, vehiculo, recoje, e...\n",
              "1    3005990  [localizar, falla, circuito, primario, subesta..."
            ],
            "text/html": [
              "\n",
              "  <div id=\"df-d92c66e4-bdb6-4079-ba94-724d6d721be2\">\n",
              "    <div class=\"colab-df-container\">\n",
              "      <div>\n",
              "<style scoped>\n",
              "    .dataframe tbody tr th:only-of-type {\n",
              "        vertical-align: middle;\n",
              "    }\n",
              "\n",
              "    .dataframe tbody tr th {\n",
              "        vertical-align: top;\n",
              "    }\n",
              "\n",
              "    .dataframe thead th {\n",
              "        text-align: right;\n",
              "    }\n",
              "</style>\n",
              "<table border=\"1\" class=\"dataframe\">\n",
              "  <thead>\n",
              "    <tr style=\"text-align: right;\">\n",
              "      <th></th>\n",
              "      <th>WORKLOGID</th>\n",
              "      <th>tokens_proc</th>\n",
              "    </tr>\n",
              "  </thead>\n",
              "  <tbody>\n",
              "    <tr>\n",
              "      <th>0</th>\n",
              "      <td>2754950</td>\n",
              "      <td>[revisa, poste, reventado, vehiculo, recoje, e...</td>\n",
              "    </tr>\n",
              "    <tr>\n",
              "      <th>1</th>\n",
              "      <td>3005990</td>\n",
              "      <td>[localizar, falla, circuito, primario, subesta...</td>\n",
              "    </tr>\n",
              "  </tbody>\n",
              "</table>\n",
              "</div>\n",
              "      <button class=\"colab-df-convert\" onclick=\"convertToInteractive('df-d92c66e4-bdb6-4079-ba94-724d6d721be2')\"\n",
              "              title=\"Convert this dataframe to an interactive table.\"\n",
              "              style=\"display:none;\">\n",
              "        \n",
              "  <svg xmlns=\"http://www.w3.org/2000/svg\" height=\"24px\"viewBox=\"0 0 24 24\"\n",
              "       width=\"24px\">\n",
              "    <path d=\"M0 0h24v24H0V0z\" fill=\"none\"/>\n",
              "    <path d=\"M18.56 5.44l.94 2.06.94-2.06 2.06-.94-2.06-.94-.94-2.06-.94 2.06-2.06.94zm-11 1L8.5 8.5l.94-2.06 2.06-.94-2.06-.94L8.5 2.5l-.94 2.06-2.06.94zm10 10l.94 2.06.94-2.06 2.06-.94-2.06-.94-.94-2.06-.94 2.06-2.06.94z\"/><path d=\"M17.41 7.96l-1.37-1.37c-.4-.4-.92-.59-1.43-.59-.52 0-1.04.2-1.43.59L10.3 9.45l-7.72 7.72c-.78.78-.78 2.05 0 2.83L4 21.41c.39.39.9.59 1.41.59.51 0 1.02-.2 1.41-.59l7.78-7.78 2.81-2.81c.8-.78.8-2.07 0-2.86zM5.41 20L4 18.59l7.72-7.72 1.47 1.35L5.41 20z\"/>\n",
              "  </svg>\n",
              "      </button>\n",
              "      \n",
              "  <style>\n",
              "    .colab-df-container {\n",
              "      display:flex;\n",
              "      flex-wrap:wrap;\n",
              "      gap: 12px;\n",
              "    }\n",
              "\n",
              "    .colab-df-convert {\n",
              "      background-color: #E8F0FE;\n",
              "      border: none;\n",
              "      border-radius: 50%;\n",
              "      cursor: pointer;\n",
              "      display: none;\n",
              "      fill: #1967D2;\n",
              "      height: 32px;\n",
              "      padding: 0 0 0 0;\n",
              "      width: 32px;\n",
              "    }\n",
              "\n",
              "    .colab-df-convert:hover {\n",
              "      background-color: #E2EBFA;\n",
              "      box-shadow: 0px 1px 2px rgba(60, 64, 67, 0.3), 0px 1px 3px 1px rgba(60, 64, 67, 0.15);\n",
              "      fill: #174EA6;\n",
              "    }\n",
              "\n",
              "    [theme=dark] .colab-df-convert {\n",
              "      background-color: #3B4455;\n",
              "      fill: #D2E3FC;\n",
              "    }\n",
              "\n",
              "    [theme=dark] .colab-df-convert:hover {\n",
              "      background-color: #434B5C;\n",
              "      box-shadow: 0px 1px 3px 1px rgba(0, 0, 0, 0.15);\n",
              "      filter: drop-shadow(0px 1px 2px rgba(0, 0, 0, 0.3));\n",
              "      fill: #FFFFFF;\n",
              "    }\n",
              "  </style>\n",
              "\n",
              "      <script>\n",
              "        const buttonEl =\n",
              "          document.querySelector('#df-d92c66e4-bdb6-4079-ba94-724d6d721be2 button.colab-df-convert');\n",
              "        buttonEl.style.display =\n",
              "          google.colab.kernel.accessAllowed ? 'block' : 'none';\n",
              "\n",
              "        async function convertToInteractive(key) {\n",
              "          const element = document.querySelector('#df-d92c66e4-bdb6-4079-ba94-724d6d721be2');\n",
              "          const dataTable =\n",
              "            await google.colab.kernel.invokeFunction('convertToInteractive',\n",
              "                                                     [key], {});\n",
              "          if (!dataTable) return;\n",
              "\n",
              "          const docLinkHtml = 'Like what you see? Visit the ' +\n",
              "            '<a target=\"_blank\" href=https://colab.research.google.com/notebooks/data_table.ipynb>data table notebook</a>'\n",
              "            + ' to learn more about interactive tables.';\n",
              "          element.innerHTML = '';\n",
              "          dataTable['output_type'] = 'display_data';\n",
              "          await google.colab.output.renderOutput(dataTable, element);\n",
              "          const docLink = document.createElement('div');\n",
              "          docLink.innerHTML = docLinkHtml;\n",
              "          element.appendChild(docLink);\n",
              "        }\n",
              "      </script>\n",
              "    </div>\n",
              "  </div>\n",
              "  "
            ]
          },
          "metadata": {},
          "execution_count": 11
        }
      ]
    },
    {
      "cell_type": "markdown",
      "source": [
        "\n",
        "\n",
        "*   Unión de las dos tablas para hacer un analisis descriptivo de los textos y los atributos asociados\n",
        "\n"
      ],
      "metadata": {
        "id": "ng4lfqOjCOEp"
      }
    },
    {
      "cell_type": "code",
      "source": [
        "datos = df1.merge(df2, how = 'inner', on='WORKLOGID')\n",
        "print(datos.shape)\n",
        "datos.head()"
      ],
      "metadata": {
        "colab": {
          "base_uri": "https://localhost:8080/",
          "height": 223
        },
        "id": "w2MasefdB7T0",
        "outputId": "28f9fa8b-ad1a-4507-c33b-6b0af10564a0"
      },
      "execution_count": null,
      "outputs": [
        {
          "output_type": "stream",
          "name": "stdout",
          "text": [
            "(156792, 7)\n"
          ]
        },
        {
          "output_type": "execute_result",
          "data": {
            "text/plain": [
              "  WORKTYPE         REGION ANCESTOR FAILURECODE PROBLEMCODE  WORKLOGID  \\\n",
              "0    CPROG  METROPOLITANA   R05-14       POSTE       CAIDO    2754950   \n",
              "1    CPROG  METROPOLITANA   R05-14         NaN         NaN    3005990   \n",
              "2    CINME  METROPOLITANA   R15-20     RED.PRI    FALL.LIN    2634320   \n",
              "3    CINME  METROPOLITANA   R15-20     RED.SEC    FALL.LIN    2634321   \n",
              "4    CINME  METROPOLITANA   R15-20       POSTE       CAIDO    2742512   \n",
              "\n",
              "                                         tokens_proc  \n",
              "0  [revisa, poste, reventado, vehiculo, recoje, e...  \n",
              "1  [localizar, falla, circuito, primario, subesta...  \n",
              "2  [retiraron, arbol, palma, aisladero, primario,...  \n",
              "3  [cll, revision, calidad, inspecciona, evidenci...  \n",
              "4  [mar, carrera, trabajador, reparan, linea, pri...  "
            ],
            "text/html": [
              "\n",
              "  <div id=\"df-376d2afa-53f3-44fb-b790-2aeccdb361b3\">\n",
              "    <div class=\"colab-df-container\">\n",
              "      <div>\n",
              "<style scoped>\n",
              "    .dataframe tbody tr th:only-of-type {\n",
              "        vertical-align: middle;\n",
              "    }\n",
              "\n",
              "    .dataframe tbody tr th {\n",
              "        vertical-align: top;\n",
              "    }\n",
              "\n",
              "    .dataframe thead th {\n",
              "        text-align: right;\n",
              "    }\n",
              "</style>\n",
              "<table border=\"1\" class=\"dataframe\">\n",
              "  <thead>\n",
              "    <tr style=\"text-align: right;\">\n",
              "      <th></th>\n",
              "      <th>WORKTYPE</th>\n",
              "      <th>REGION</th>\n",
              "      <th>ANCESTOR</th>\n",
              "      <th>FAILURECODE</th>\n",
              "      <th>PROBLEMCODE</th>\n",
              "      <th>WORKLOGID</th>\n",
              "      <th>tokens_proc</th>\n",
              "    </tr>\n",
              "  </thead>\n",
              "  <tbody>\n",
              "    <tr>\n",
              "      <th>0</th>\n",
              "      <td>CPROG</td>\n",
              "      <td>METROPOLITANA</td>\n",
              "      <td>R05-14</td>\n",
              "      <td>POSTE</td>\n",
              "      <td>CAIDO</td>\n",
              "      <td>2754950</td>\n",
              "      <td>[revisa, poste, reventado, vehiculo, recoje, e...</td>\n",
              "    </tr>\n",
              "    <tr>\n",
              "      <th>1</th>\n",
              "      <td>CPROG</td>\n",
              "      <td>METROPOLITANA</td>\n",
              "      <td>R05-14</td>\n",
              "      <td>NaN</td>\n",
              "      <td>NaN</td>\n",
              "      <td>3005990</td>\n",
              "      <td>[localizar, falla, circuito, primario, subesta...</td>\n",
              "    </tr>\n",
              "    <tr>\n",
              "      <th>2</th>\n",
              "      <td>CINME</td>\n",
              "      <td>METROPOLITANA</td>\n",
              "      <td>R15-20</td>\n",
              "      <td>RED.PRI</td>\n",
              "      <td>FALL.LIN</td>\n",
              "      <td>2634320</td>\n",
              "      <td>[retiraron, arbol, palma, aisladero, primario,...</td>\n",
              "    </tr>\n",
              "    <tr>\n",
              "      <th>3</th>\n",
              "      <td>CINME</td>\n",
              "      <td>METROPOLITANA</td>\n",
              "      <td>R15-20</td>\n",
              "      <td>RED.SEC</td>\n",
              "      <td>FALL.LIN</td>\n",
              "      <td>2634321</td>\n",
              "      <td>[cll, revision, calidad, inspecciona, evidenci...</td>\n",
              "    </tr>\n",
              "    <tr>\n",
              "      <th>4</th>\n",
              "      <td>CINME</td>\n",
              "      <td>METROPOLITANA</td>\n",
              "      <td>R15-20</td>\n",
              "      <td>POSTE</td>\n",
              "      <td>CAIDO</td>\n",
              "      <td>2742512</td>\n",
              "      <td>[mar, carrera, trabajador, reparan, linea, pri...</td>\n",
              "    </tr>\n",
              "  </tbody>\n",
              "</table>\n",
              "</div>\n",
              "      <button class=\"colab-df-convert\" onclick=\"convertToInteractive('df-376d2afa-53f3-44fb-b790-2aeccdb361b3')\"\n",
              "              title=\"Convert this dataframe to an interactive table.\"\n",
              "              style=\"display:none;\">\n",
              "        \n",
              "  <svg xmlns=\"http://www.w3.org/2000/svg\" height=\"24px\"viewBox=\"0 0 24 24\"\n",
              "       width=\"24px\">\n",
              "    <path d=\"M0 0h24v24H0V0z\" fill=\"none\"/>\n",
              "    <path d=\"M18.56 5.44l.94 2.06.94-2.06 2.06-.94-2.06-.94-.94-2.06-.94 2.06-2.06.94zm-11 1L8.5 8.5l.94-2.06 2.06-.94-2.06-.94L8.5 2.5l-.94 2.06-2.06.94zm10 10l.94 2.06.94-2.06 2.06-.94-2.06-.94-.94-2.06-.94 2.06-2.06.94z\"/><path d=\"M17.41 7.96l-1.37-1.37c-.4-.4-.92-.59-1.43-.59-.52 0-1.04.2-1.43.59L10.3 9.45l-7.72 7.72c-.78.78-.78 2.05 0 2.83L4 21.41c.39.39.9.59 1.41.59.51 0 1.02-.2 1.41-.59l7.78-7.78 2.81-2.81c.8-.78.8-2.07 0-2.86zM5.41 20L4 18.59l7.72-7.72 1.47 1.35L5.41 20z\"/>\n",
              "  </svg>\n",
              "      </button>\n",
              "      \n",
              "  <style>\n",
              "    .colab-df-container {\n",
              "      display:flex;\n",
              "      flex-wrap:wrap;\n",
              "      gap: 12px;\n",
              "    }\n",
              "\n",
              "    .colab-df-convert {\n",
              "      background-color: #E8F0FE;\n",
              "      border: none;\n",
              "      border-radius: 50%;\n",
              "      cursor: pointer;\n",
              "      display: none;\n",
              "      fill: #1967D2;\n",
              "      height: 32px;\n",
              "      padding: 0 0 0 0;\n",
              "      width: 32px;\n",
              "    }\n",
              "\n",
              "    .colab-df-convert:hover {\n",
              "      background-color: #E2EBFA;\n",
              "      box-shadow: 0px 1px 2px rgba(60, 64, 67, 0.3), 0px 1px 3px 1px rgba(60, 64, 67, 0.15);\n",
              "      fill: #174EA6;\n",
              "    }\n",
              "\n",
              "    [theme=dark] .colab-df-convert {\n",
              "      background-color: #3B4455;\n",
              "      fill: #D2E3FC;\n",
              "    }\n",
              "\n",
              "    [theme=dark] .colab-df-convert:hover {\n",
              "      background-color: #434B5C;\n",
              "      box-shadow: 0px 1px 3px 1px rgba(0, 0, 0, 0.15);\n",
              "      filter: drop-shadow(0px 1px 2px rgba(0, 0, 0, 0.3));\n",
              "      fill: #FFFFFF;\n",
              "    }\n",
              "  </style>\n",
              "\n",
              "      <script>\n",
              "        const buttonEl =\n",
              "          document.querySelector('#df-376d2afa-53f3-44fb-b790-2aeccdb361b3 button.colab-df-convert');\n",
              "        buttonEl.style.display =\n",
              "          google.colab.kernel.accessAllowed ? 'block' : 'none';\n",
              "\n",
              "        async function convertToInteractive(key) {\n",
              "          const element = document.querySelector('#df-376d2afa-53f3-44fb-b790-2aeccdb361b3');\n",
              "          const dataTable =\n",
              "            await google.colab.kernel.invokeFunction('convertToInteractive',\n",
              "                                                     [key], {});\n",
              "          if (!dataTable) return;\n",
              "\n",
              "          const docLinkHtml = 'Like what you see? Visit the ' +\n",
              "            '<a target=\"_blank\" href=https://colab.research.google.com/notebooks/data_table.ipynb>data table notebook</a>'\n",
              "            + ' to learn more about interactive tables.';\n",
              "          element.innerHTML = '';\n",
              "          dataTable['output_type'] = 'display_data';\n",
              "          await google.colab.output.renderOutput(dataTable, element);\n",
              "          const docLink = document.createElement('div');\n",
              "          docLink.innerHTML = docLinkHtml;\n",
              "          element.appendChild(docLink);\n",
              "        }\n",
              "      </script>\n",
              "    </div>\n",
              "  </div>\n",
              "  "
            ]
          },
          "metadata": {},
          "execution_count": 12
        }
      ]
    },
    {
      "cell_type": "markdown",
      "source": [
        "* Añadir columnas con descriptores de los codigos de falla y código de problema"
      ],
      "metadata": {
        "id": "vFAHAJxLGF7W"
      }
    },
    {
      "cell_type": "code",
      "source": [
        "## Cargar listado códigos de falla\n",
        "df3 = pd.read_csv('/content/drive/MyDrive/ProyectoIntegrador/Datos/ValoresAnomalias.csv', encoding='latin-1', names = ['FAILURECODE','FALLA'])\n",
        "#Habilitar la siguiente línea para correr el proyecto de manera local\n",
        "#df3 = pd.read_csv('/content/ValoresAnomalias.csv', encoding='latin-1', names = ['FAILURECODE','FALLA'])\n",
        "print('Códigos de Falla')\n",
        "print(df3.shape)\n",
        "print(df3.head(5))\n",
        "\n",
        "## Cargar listado códigos de problema\n",
        "df4 = pd.read_csv('/content/drive/MyDrive/ProyectoIntegrador/Datos/ValoresProblemas.csv', encoding='latin-1', names = ['PROBLEMCODE','PROBLEMA'])\n",
        "#Habilitar la siguiente línea para correr el proyecto de manera local\n",
        "#df4 = pd.read_csv('/content/ValoresProblemas.csv', encoding='latin-1', names = ['PROBLEMCODE','PROBLEMA'])\n",
        "print('Códigos de Problema')\n",
        "print(df4.shape)\n",
        "print(df4.head())"
      ],
      "metadata": {
        "colab": {
          "base_uri": "https://localhost:8080/"
        },
        "id": "IyOeKBCgKHyd",
        "outputId": "cfcfc8e0-8938-4874-a714-c471dcbf47e4"
      },
      "execution_count": null,
      "outputs": [
        {
          "output_type": "stream",
          "name": "stdout",
          "text": [
            "Códigos de Falla\n",
            "(343, 2)\n",
            "   FAILURECODE                                        FALLA\n",
            "0  FAILURECODE                                  DESCRIPTION\n",
            "1     SERVIDUM                                  SERVIDUMBRE\n",
            "2     INTERVAC  INTERRUPTOR CON MEDIO DE EXTINCION EN VACIO\n",
            "3   ENLA.SATEL                             ENLACE SATELITAL\n",
            "4    CONVER.DC                           CONVERSOR DE AC/DC\n",
            "Códigos de Problema\n",
            "(532, 2)\n",
            "    PROBLEMCODE                    PROBLEMA\n",
            "0   FAILURECODE                 DESCRIPTION\n",
            "1  VAL.ALI.N.OP  VALVULA DE ALIVIO NO OPERA\n",
            "2  BOMB.APAGADA     BOMBA IMPULSORA APAGADA\n",
            "3          FUGA                        FUGA\n",
            "4   FALLACIERRE                   NO CIERRA\n"
          ]
        }
      ]
    },
    {
      "cell_type": "code",
      "source": [
        "datos = datos.merge(df3, how = 'left', on='FAILURECODE')\n",
        "print(datos.shape)"
      ],
      "metadata": {
        "colab": {
          "base_uri": "https://localhost:8080/"
        },
        "id": "0VCNcPX7M1WP",
        "outputId": "2ff31a57-db74-40b7-be19-c3b7a04949dc"
      },
      "execution_count": null,
      "outputs": [
        {
          "output_type": "stream",
          "name": "stdout",
          "text": [
            "(156792, 8)\n"
          ]
        }
      ]
    },
    {
      "cell_type": "code",
      "source": [
        "datos = datos.merge(df4, how = 'left', on='PROBLEMCODE')\n",
        "print(datos.shape)"
      ],
      "metadata": {
        "colab": {
          "base_uri": "https://localhost:8080/"
        },
        "id": "_sw6RGN7NvLB",
        "outputId": "9ca6c899-e43f-4294-adb3-434e3d73bc1c"
      },
      "execution_count": null,
      "outputs": [
        {
          "output_type": "stream",
          "name": "stdout",
          "text": [
            "(156792, 9)\n"
          ]
        }
      ]
    },
    {
      "cell_type": "code",
      "source": [
        "print(datos.head())"
      ],
      "metadata": {
        "colab": {
          "base_uri": "https://localhost:8080/"
        },
        "id": "zoFzUyHaRQA2",
        "outputId": "e7a9fbbf-fa16-4687-ece8-428719817f4e"
      },
      "execution_count": null,
      "outputs": [
        {
          "output_type": "stream",
          "name": "stdout",
          "text": [
            "  WORKTYPE         REGION ANCESTOR FAILURECODE PROBLEMCODE  WORKLOGID  \\\n",
            "0    CPROG  METROPOLITANA   R05-14       POSTE       CAIDO    2754950   \n",
            "1    CPROG  METROPOLITANA   R05-14         NaN         NaN    3005990   \n",
            "2    CINME  METROPOLITANA   R15-20     RED.PRI    FALL.LIN    2634320   \n",
            "3    CINME  METROPOLITANA   R15-20     RED.SEC    FALL.LIN    2634321   \n",
            "4    CINME  METROPOLITANA   R15-20       POSTE       CAIDO    2742512   \n",
            "\n",
            "                                         tokens_proc  \\\n",
            "0  [revisa, poste, reventado, vehiculo, recoje, e...   \n",
            "1  [localizar, falla, circuito, primario, subesta...   \n",
            "2  [retiraron, arbol, palma, aisladero, primario,...   \n",
            "3  [cll, revision, calidad, inspecciona, evidenci...   \n",
            "4  [mar, carrera, trabajador, reparan, linea, pri...   \n",
            "\n",
            "                                   FALLA                    PROBLEMA  \n",
            "0                                  POSTE                 POSTE CAIDO  \n",
            "1                                    NaN                         NaN  \n",
            "2  RED PRIMARIA (CONDUCTOR Y ACCESORIOS)  FALLA EN LINEA O CONDUCTOR  \n",
            "3                         RED SECUNDARIA  FALLA EN LINEA O CONDUCTOR  \n",
            "4                                  POSTE                 POSTE CAIDO  \n"
          ]
        }
      ]
    },
    {
      "cell_type": "code",
      "source": [
        "## Renombrar columnas para facilitar comprensión\n",
        "columnas = {'WORKTYPE':'TIPO_TRABAJO', 'ANCESTOR':'CIRCUITO', 'FAILURECODE':'COD_FALLA', 'PROBLEMCODE':'COD_PROBLEMA', 'tokens_proc':'TOKENS'}\n",
        "datos.rename(columns=columnas, inplace = True)\n",
        "datos.head(2)"
      ],
      "metadata": {
        "colab": {
          "base_uri": "https://localhost:8080/",
          "height": 112
        },
        "id": "4uWFK1OyIch5",
        "outputId": "a70918b0-8760-4eac-88de-69f7a58f9044"
      },
      "execution_count": null,
      "outputs": [
        {
          "output_type": "execute_result",
          "data": {
            "text/plain": [
              "  TIPO_TRABAJO         REGION CIRCUITO COD_FALLA COD_PROBLEMA  WORKLOGID  \\\n",
              "0        CPROG  METROPOLITANA   R05-14     POSTE        CAIDO    2754950   \n",
              "1        CPROG  METROPOLITANA   R05-14       NaN          NaN    3005990   \n",
              "\n",
              "                                              TOKENS  FALLA     PROBLEMA  \n",
              "0  [revisa, poste, reventado, vehiculo, recoje, e...  POSTE  POSTE CAIDO  \n",
              "1  [localizar, falla, circuito, primario, subesta...    NaN          NaN  "
            ],
            "text/html": [
              "\n",
              "  <div id=\"df-c1cd5551-2d0d-477b-9636-63ab138d1ee6\">\n",
              "    <div class=\"colab-df-container\">\n",
              "      <div>\n",
              "<style scoped>\n",
              "    .dataframe tbody tr th:only-of-type {\n",
              "        vertical-align: middle;\n",
              "    }\n",
              "\n",
              "    .dataframe tbody tr th {\n",
              "        vertical-align: top;\n",
              "    }\n",
              "\n",
              "    .dataframe thead th {\n",
              "        text-align: right;\n",
              "    }\n",
              "</style>\n",
              "<table border=\"1\" class=\"dataframe\">\n",
              "  <thead>\n",
              "    <tr style=\"text-align: right;\">\n",
              "      <th></th>\n",
              "      <th>TIPO_TRABAJO</th>\n",
              "      <th>REGION</th>\n",
              "      <th>CIRCUITO</th>\n",
              "      <th>COD_FALLA</th>\n",
              "      <th>COD_PROBLEMA</th>\n",
              "      <th>WORKLOGID</th>\n",
              "      <th>TOKENS</th>\n",
              "      <th>FALLA</th>\n",
              "      <th>PROBLEMA</th>\n",
              "    </tr>\n",
              "  </thead>\n",
              "  <tbody>\n",
              "    <tr>\n",
              "      <th>0</th>\n",
              "      <td>CPROG</td>\n",
              "      <td>METROPOLITANA</td>\n",
              "      <td>R05-14</td>\n",
              "      <td>POSTE</td>\n",
              "      <td>CAIDO</td>\n",
              "      <td>2754950</td>\n",
              "      <td>[revisa, poste, reventado, vehiculo, recoje, e...</td>\n",
              "      <td>POSTE</td>\n",
              "      <td>POSTE CAIDO</td>\n",
              "    </tr>\n",
              "    <tr>\n",
              "      <th>1</th>\n",
              "      <td>CPROG</td>\n",
              "      <td>METROPOLITANA</td>\n",
              "      <td>R05-14</td>\n",
              "      <td>NaN</td>\n",
              "      <td>NaN</td>\n",
              "      <td>3005990</td>\n",
              "      <td>[localizar, falla, circuito, primario, subesta...</td>\n",
              "      <td>NaN</td>\n",
              "      <td>NaN</td>\n",
              "    </tr>\n",
              "  </tbody>\n",
              "</table>\n",
              "</div>\n",
              "      <button class=\"colab-df-convert\" onclick=\"convertToInteractive('df-c1cd5551-2d0d-477b-9636-63ab138d1ee6')\"\n",
              "              title=\"Convert this dataframe to an interactive table.\"\n",
              "              style=\"display:none;\">\n",
              "        \n",
              "  <svg xmlns=\"http://www.w3.org/2000/svg\" height=\"24px\"viewBox=\"0 0 24 24\"\n",
              "       width=\"24px\">\n",
              "    <path d=\"M0 0h24v24H0V0z\" fill=\"none\"/>\n",
              "    <path d=\"M18.56 5.44l.94 2.06.94-2.06 2.06-.94-2.06-.94-.94-2.06-.94 2.06-2.06.94zm-11 1L8.5 8.5l.94-2.06 2.06-.94-2.06-.94L8.5 2.5l-.94 2.06-2.06.94zm10 10l.94 2.06.94-2.06 2.06-.94-2.06-.94-.94-2.06-.94 2.06-2.06.94z\"/><path d=\"M17.41 7.96l-1.37-1.37c-.4-.4-.92-.59-1.43-.59-.52 0-1.04.2-1.43.59L10.3 9.45l-7.72 7.72c-.78.78-.78 2.05 0 2.83L4 21.41c.39.39.9.59 1.41.59.51 0 1.02-.2 1.41-.59l7.78-7.78 2.81-2.81c.8-.78.8-2.07 0-2.86zM5.41 20L4 18.59l7.72-7.72 1.47 1.35L5.41 20z\"/>\n",
              "  </svg>\n",
              "      </button>\n",
              "      \n",
              "  <style>\n",
              "    .colab-df-container {\n",
              "      display:flex;\n",
              "      flex-wrap:wrap;\n",
              "      gap: 12px;\n",
              "    }\n",
              "\n",
              "    .colab-df-convert {\n",
              "      background-color: #E8F0FE;\n",
              "      border: none;\n",
              "      border-radius: 50%;\n",
              "      cursor: pointer;\n",
              "      display: none;\n",
              "      fill: #1967D2;\n",
              "      height: 32px;\n",
              "      padding: 0 0 0 0;\n",
              "      width: 32px;\n",
              "    }\n",
              "\n",
              "    .colab-df-convert:hover {\n",
              "      background-color: #E2EBFA;\n",
              "      box-shadow: 0px 1px 2px rgba(60, 64, 67, 0.3), 0px 1px 3px 1px rgba(60, 64, 67, 0.15);\n",
              "      fill: #174EA6;\n",
              "    }\n",
              "\n",
              "    [theme=dark] .colab-df-convert {\n",
              "      background-color: #3B4455;\n",
              "      fill: #D2E3FC;\n",
              "    }\n",
              "\n",
              "    [theme=dark] .colab-df-convert:hover {\n",
              "      background-color: #434B5C;\n",
              "      box-shadow: 0px 1px 3px 1px rgba(0, 0, 0, 0.15);\n",
              "      filter: drop-shadow(0px 1px 2px rgba(0, 0, 0, 0.3));\n",
              "      fill: #FFFFFF;\n",
              "    }\n",
              "  </style>\n",
              "\n",
              "      <script>\n",
              "        const buttonEl =\n",
              "          document.querySelector('#df-c1cd5551-2d0d-477b-9636-63ab138d1ee6 button.colab-df-convert');\n",
              "        buttonEl.style.display =\n",
              "          google.colab.kernel.accessAllowed ? 'block' : 'none';\n",
              "\n",
              "        async function convertToInteractive(key) {\n",
              "          const element = document.querySelector('#df-c1cd5551-2d0d-477b-9636-63ab138d1ee6');\n",
              "          const dataTable =\n",
              "            await google.colab.kernel.invokeFunction('convertToInteractive',\n",
              "                                                     [key], {});\n",
              "          if (!dataTable) return;\n",
              "\n",
              "          const docLinkHtml = 'Like what you see? Visit the ' +\n",
              "            '<a target=\"_blank\" href=https://colab.research.google.com/notebooks/data_table.ipynb>data table notebook</a>'\n",
              "            + ' to learn more about interactive tables.';\n",
              "          element.innerHTML = '';\n",
              "          dataTable['output_type'] = 'display_data';\n",
              "          await google.colab.output.renderOutput(dataTable, element);\n",
              "          const docLink = document.createElement('div');\n",
              "          docLink.innerHTML = docLinkHtml;\n",
              "          element.appendChild(docLink);\n",
              "        }\n",
              "      </script>\n",
              "    </div>\n",
              "  </div>\n",
              "  "
            ]
          },
          "metadata": {},
          "execution_count": 17
        }
      ]
    },
    {
      "cell_type": "markdown",
      "source": [
        "**Análisis Descriptivo de las Variables**"
      ],
      "metadata": {
        "id": "VderBjRCRgYK"
      }
    },
    {
      "cell_type": "code",
      "source": [
        "datos[['TIPO_TRABAJO', 'REGION', 'CIRCUITO', 'COD_FALLA', 'COD_PROBLEMA']].describe()"
      ],
      "metadata": {
        "colab": {
          "base_uri": "https://localhost:8080/",
          "height": 175
        },
        "id": "noLUH8vpSIds",
        "outputId": "c2a3589d-a95b-4ec8-c3c4-469decd3d379"
      },
      "execution_count": null,
      "outputs": [
        {
          "output_type": "execute_result",
          "data": {
            "text/plain": [
              "       TIPO_TRABAJO         REGION CIRCUITO COD_FALLA COD_PROBLEMA\n",
              "count        156792         156770   156785    130774       128848\n",
              "unique            2              8      882        34           55\n",
              "top           CINME  METROPOLITANA   409-12   RED.PRI     FALL.LIN\n",
              "freq         109446          37916     1355     50347        84374"
            ],
            "text/html": [
              "\n",
              "  <div id=\"df-d9bc278d-7e5a-4655-bad4-f2aa3a82be3a\">\n",
              "    <div class=\"colab-df-container\">\n",
              "      <div>\n",
              "<style scoped>\n",
              "    .dataframe tbody tr th:only-of-type {\n",
              "        vertical-align: middle;\n",
              "    }\n",
              "\n",
              "    .dataframe tbody tr th {\n",
              "        vertical-align: top;\n",
              "    }\n",
              "\n",
              "    .dataframe thead th {\n",
              "        text-align: right;\n",
              "    }\n",
              "</style>\n",
              "<table border=\"1\" class=\"dataframe\">\n",
              "  <thead>\n",
              "    <tr style=\"text-align: right;\">\n",
              "      <th></th>\n",
              "      <th>TIPO_TRABAJO</th>\n",
              "      <th>REGION</th>\n",
              "      <th>CIRCUITO</th>\n",
              "      <th>COD_FALLA</th>\n",
              "      <th>COD_PROBLEMA</th>\n",
              "    </tr>\n",
              "  </thead>\n",
              "  <tbody>\n",
              "    <tr>\n",
              "      <th>count</th>\n",
              "      <td>156792</td>\n",
              "      <td>156770</td>\n",
              "      <td>156785</td>\n",
              "      <td>130774</td>\n",
              "      <td>128848</td>\n",
              "    </tr>\n",
              "    <tr>\n",
              "      <th>unique</th>\n",
              "      <td>2</td>\n",
              "      <td>8</td>\n",
              "      <td>882</td>\n",
              "      <td>34</td>\n",
              "      <td>55</td>\n",
              "    </tr>\n",
              "    <tr>\n",
              "      <th>top</th>\n",
              "      <td>CINME</td>\n",
              "      <td>METROPOLITANA</td>\n",
              "      <td>409-12</td>\n",
              "      <td>RED.PRI</td>\n",
              "      <td>FALL.LIN</td>\n",
              "    </tr>\n",
              "    <tr>\n",
              "      <th>freq</th>\n",
              "      <td>109446</td>\n",
              "      <td>37916</td>\n",
              "      <td>1355</td>\n",
              "      <td>50347</td>\n",
              "      <td>84374</td>\n",
              "    </tr>\n",
              "  </tbody>\n",
              "</table>\n",
              "</div>\n",
              "      <button class=\"colab-df-convert\" onclick=\"convertToInteractive('df-d9bc278d-7e5a-4655-bad4-f2aa3a82be3a')\"\n",
              "              title=\"Convert this dataframe to an interactive table.\"\n",
              "              style=\"display:none;\">\n",
              "        \n",
              "  <svg xmlns=\"http://www.w3.org/2000/svg\" height=\"24px\"viewBox=\"0 0 24 24\"\n",
              "       width=\"24px\">\n",
              "    <path d=\"M0 0h24v24H0V0z\" fill=\"none\"/>\n",
              "    <path d=\"M18.56 5.44l.94 2.06.94-2.06 2.06-.94-2.06-.94-.94-2.06-.94 2.06-2.06.94zm-11 1L8.5 8.5l.94-2.06 2.06-.94-2.06-.94L8.5 2.5l-.94 2.06-2.06.94zm10 10l.94 2.06.94-2.06 2.06-.94-2.06-.94-.94-2.06-.94 2.06-2.06.94z\"/><path d=\"M17.41 7.96l-1.37-1.37c-.4-.4-.92-.59-1.43-.59-.52 0-1.04.2-1.43.59L10.3 9.45l-7.72 7.72c-.78.78-.78 2.05 0 2.83L4 21.41c.39.39.9.59 1.41.59.51 0 1.02-.2 1.41-.59l7.78-7.78 2.81-2.81c.8-.78.8-2.07 0-2.86zM5.41 20L4 18.59l7.72-7.72 1.47 1.35L5.41 20z\"/>\n",
              "  </svg>\n",
              "      </button>\n",
              "      \n",
              "  <style>\n",
              "    .colab-df-container {\n",
              "      display:flex;\n",
              "      flex-wrap:wrap;\n",
              "      gap: 12px;\n",
              "    }\n",
              "\n",
              "    .colab-df-convert {\n",
              "      background-color: #E8F0FE;\n",
              "      border: none;\n",
              "      border-radius: 50%;\n",
              "      cursor: pointer;\n",
              "      display: none;\n",
              "      fill: #1967D2;\n",
              "      height: 32px;\n",
              "      padding: 0 0 0 0;\n",
              "      width: 32px;\n",
              "    }\n",
              "\n",
              "    .colab-df-convert:hover {\n",
              "      background-color: #E2EBFA;\n",
              "      box-shadow: 0px 1px 2px rgba(60, 64, 67, 0.3), 0px 1px 3px 1px rgba(60, 64, 67, 0.15);\n",
              "      fill: #174EA6;\n",
              "    }\n",
              "\n",
              "    [theme=dark] .colab-df-convert {\n",
              "      background-color: #3B4455;\n",
              "      fill: #D2E3FC;\n",
              "    }\n",
              "\n",
              "    [theme=dark] .colab-df-convert:hover {\n",
              "      background-color: #434B5C;\n",
              "      box-shadow: 0px 1px 3px 1px rgba(0, 0, 0, 0.15);\n",
              "      filter: drop-shadow(0px 1px 2px rgba(0, 0, 0, 0.3));\n",
              "      fill: #FFFFFF;\n",
              "    }\n",
              "  </style>\n",
              "\n",
              "      <script>\n",
              "        const buttonEl =\n",
              "          document.querySelector('#df-d9bc278d-7e5a-4655-bad4-f2aa3a82be3a button.colab-df-convert');\n",
              "        buttonEl.style.display =\n",
              "          google.colab.kernel.accessAllowed ? 'block' : 'none';\n",
              "\n",
              "        async function convertToInteractive(key) {\n",
              "          const element = document.querySelector('#df-d9bc278d-7e5a-4655-bad4-f2aa3a82be3a');\n",
              "          const dataTable =\n",
              "            await google.colab.kernel.invokeFunction('convertToInteractive',\n",
              "                                                     [key], {});\n",
              "          if (!dataTable) return;\n",
              "\n",
              "          const docLinkHtml = 'Like what you see? Visit the ' +\n",
              "            '<a target=\"_blank\" href=https://colab.research.google.com/notebooks/data_table.ipynb>data table notebook</a>'\n",
              "            + ' to learn more about interactive tables.';\n",
              "          element.innerHTML = '';\n",
              "          dataTable['output_type'] = 'display_data';\n",
              "          await google.colab.output.renderOutput(dataTable, element);\n",
              "          const docLink = document.createElement('div');\n",
              "          docLink.innerHTML = docLinkHtml;\n",
              "          element.appendChild(docLink);\n",
              "        }\n",
              "      </script>\n",
              "    </div>\n",
              "  </div>\n",
              "  "
            ]
          },
          "metadata": {},
          "execution_count": 18
        }
      ]
    },
    {
      "cell_type": "markdown",
      "source": [
        "Registros por Región"
      ],
      "metadata": {
        "id": "qERXaTfHR-gv"
      }
    },
    {
      "cell_type": "code",
      "source": [
        "plt.figure(figsize=(6,4))\n",
        "plt.barh(datos['REGION'].value_counts().index, datos['REGION'].value_counts())\n",
        "plt.xticks(rotation=90)\n",
        "plt.show()"
      ],
      "metadata": {
        "colab": {
          "base_uri": "https://localhost:8080/",
          "height": 287
        },
        "id": "NZj0zZSjR7nf",
        "outputId": "2d145fa0-7951-43c4-d5ca-8cfa2f1a40a8"
      },
      "execution_count": null,
      "outputs": [
        {
          "output_type": "display_data",
          "data": {
            "text/plain": [
              "<Figure size 432x288 with 1 Axes>"
            ],
            "image/png": "[encoded data removed]"
          },
          "metadata": {
            "needs_background": "light"
          }
        }
      ]
    },
    {
      "cell_type": "markdown",
      "source": [
        "Registros según Cantidad de Circuitos por Región"
      ],
      "metadata": {
        "id": "WJhZrVC4Pa-g"
      }
    },
    {
      "cell_type": "markdown",
      "source": [
        "*   Se construye un indicador para identificar el numero de fallas por región teniendo en cuenta la cantidad de circuitos de cada región de manera que el dato quede \"normalizado\"\n",
        "\n"
      ],
      "metadata": {
        "id": "8YWOivfjP5Sb"
      }
    },
    {
      "cell_type": "code",
      "source": [
        "## Numerador del indicador: Registros por Región\n",
        "OT_SR = pd.DataFrame(datos.groupby(\"REGION\")[\"WORKLOGID\"].count())\n",
        "OT_SR"
      ],
      "metadata": {
        "colab": {
          "base_uri": "https://localhost:8080/",
          "height": 332
        },
        "id": "Dw_Yhj-SsBVt",
        "outputId": "98a4bc8e-ce36-4eae-c6d6-2e5c90a89cb2"
      },
      "execution_count": null,
      "outputs": [
        {
          "output_type": "execute_result",
          "data": {
            "text/plain": [
              "               WORKLOGID\n",
              "REGION                  \n",
              "BAJO CAUCA         11884\n",
              "METROPOLITANA      37916\n",
              "NORDESTE           19533\n",
              "NORTE               9703\n",
              "OCCIDENTE          11756\n",
              "ORIENTE            29936\n",
              "SUROESTE           17166\n",
              "URABA              18876"
            ],
            "text/html": [
              "\n",
              "  <div id=\"df-0d1b5f5f-bb79-4300-b5c8-a400c901d57e\">\n",
              "    <div class=\"colab-df-container\">\n",
              "      <div>\n",
              "<style scoped>\n",
              "    .dataframe tbody tr th:only-of-type {\n",
              "        vertical-align: middle;\n",
              "    }\n",
              "\n",
              "    .dataframe tbody tr th {\n",
              "        vertical-align: top;\n",
              "    }\n",
              "\n",
              "    .dataframe thead th {\n",
              "        text-align: right;\n",
              "    }\n",
              "</style>\n",
              "<table border=\"1\" class=\"dataframe\">\n",
              "  <thead>\n",
              "    <tr style=\"text-align: right;\">\n",
              "      <th></th>\n",
              "      <th>WORKLOGID</th>\n",
              "    </tr>\n",
              "    <tr>\n",
              "      <th>REGION</th>\n",
              "      <th></th>\n",
              "    </tr>\n",
              "  </thead>\n",
              "  <tbody>\n",
              "    <tr>\n",
              "      <th>BAJO CAUCA</th>\n",
              "      <td>11884</td>\n",
              "    </tr>\n",
              "    <tr>\n",
              "      <th>METROPOLITANA</th>\n",
              "      <td>37916</td>\n",
              "    </tr>\n",
              "    <tr>\n",
              "      <th>NORDESTE</th>\n",
              "      <td>19533</td>\n",
              "    </tr>\n",
              "    <tr>\n",
              "      <th>NORTE</th>\n",
              "      <td>9703</td>\n",
              "    </tr>\n",
              "    <tr>\n",
              "      <th>OCCIDENTE</th>\n",
              "      <td>11756</td>\n",
              "    </tr>\n",
              "    <tr>\n",
              "      <th>ORIENTE</th>\n",
              "      <td>29936</td>\n",
              "    </tr>\n",
              "    <tr>\n",
              "      <th>SUROESTE</th>\n",
              "      <td>17166</td>\n",
              "    </tr>\n",
              "    <tr>\n",
              "      <th>URABA</th>\n",
              "      <td>18876</td>\n",
              "    </tr>\n",
              "  </tbody>\n",
              "</table>\n",
              "</div>\n",
              "      <button class=\"colab-df-convert\" onclick=\"convertToInteractive('df-0d1b5f5f-bb79-4300-b5c8-a400c901d57e')\"\n",
              "              title=\"Convert this dataframe to an interactive table.\"\n",
              "              style=\"display:none;\">\n",
              "        \n",
              "  <svg xmlns=\"http://www.w3.org/2000/svg\" height=\"24px\"viewBox=\"0 0 24 24\"\n",
              "       width=\"24px\">\n",
              "    <path d=\"M0 0h24v24H0V0z\" fill=\"none\"/>\n",
              "    <path d=\"M18.56 5.44l.94 2.06.94-2.06 2.06-.94-2.06-.94-.94-2.06-.94 2.06-2.06.94zm-11 1L8.5 8.5l.94-2.06 2.06-.94-2.06-.94L8.5 2.5l-.94 2.06-2.06.94zm10 10l.94 2.06.94-2.06 2.06-.94-2.06-.94-.94-2.06-.94 2.06-2.06.94z\"/><path d=\"M17.41 7.96l-1.37-1.37c-.4-.4-.92-.59-1.43-.59-.52 0-1.04.2-1.43.59L10.3 9.45l-7.72 7.72c-.78.78-.78 2.05 0 2.83L4 21.41c.39.39.9.59 1.41.59.51 0 1.02-.2 1.41-.59l7.78-7.78 2.81-2.81c.8-.78.8-2.07 0-2.86zM5.41 20L4 18.59l7.72-7.72 1.47 1.35L5.41 20z\"/>\n",
              "  </svg>\n",
              "      </button>\n",
              "      \n",
              "  <style>\n",
              "    .colab-df-container {\n",
              "      display:flex;\n",
              "      flex-wrap:wrap;\n",
              "      gap: 12px;\n",
              "    }\n",
              "\n",
              "    .colab-df-convert {\n",
              "      background-color: #E8F0FE;\n",
              "      border: none;\n",
              "      border-radius: 50%;\n",
              "      cursor: pointer;\n",
              "      display: none;\n",
              "      fill: #1967D2;\n",
              "      height: 32px;\n",
              "      padding: 0 0 0 0;\n",
              "      width: 32px;\n",
              "    }\n",
              "\n",
              "    .colab-df-convert:hover {\n",
              "      background-color: #E2EBFA;\n",
              "      box-shadow: 0px 1px 2px rgba(60, 64, 67, 0.3), 0px 1px 3px 1px rgba(60, 64, 67, 0.15);\n",
              "      fill: #174EA6;\n",
              "    }\n",
              "\n",
              "    [theme=dark] .colab-df-convert {\n",
              "      background-color: #3B4455;\n",
              "      fill: #D2E3FC;\n",
              "    }\n",
              "\n",
              "    [theme=dark] .colab-df-convert:hover {\n",
              "      background-color: #434B5C;\n",
              "      box-shadow: 0px 1px 3px 1px rgba(0, 0, 0, 0.15);\n",
              "      filter: drop-shadow(0px 1px 2px rgba(0, 0, 0, 0.3));\n",
              "      fill: #FFFFFF;\n",
              "    }\n",
              "  </style>\n",
              "\n",
              "      <script>\n",
              "        const buttonEl =\n",
              "          document.querySelector('#df-0d1b5f5f-bb79-4300-b5c8-a400c901d57e button.colab-df-convert');\n",
              "        buttonEl.style.display =\n",
              "          google.colab.kernel.accessAllowed ? 'block' : 'none';\n",
              "\n",
              "        async function convertToInteractive(key) {\n",
              "          const element = document.querySelector('#df-0d1b5f5f-bb79-4300-b5c8-a400c901d57e');\n",
              "          const dataTable =\n",
              "            await google.colab.kernel.invokeFunction('convertToInteractive',\n",
              "                                                     [key], {});\n",
              "          if (!dataTable) return;\n",
              "\n",
              "          const docLinkHtml = 'Like what you see? Visit the ' +\n",
              "            '<a target=\"_blank\" href=https://colab.research.google.com/notebooks/data_table.ipynb>data table notebook</a>'\n",
              "            + ' to learn more about interactive tables.';\n",
              "          element.innerHTML = '';\n",
              "          dataTable['output_type'] = 'display_data';\n",
              "          await google.colab.output.renderOutput(dataTable, element);\n",
              "          const docLink = document.createElement('div');\n",
              "          docLink.innerHTML = docLinkHtml;\n",
              "          element.appendChild(docLink);\n",
              "        }\n",
              "      </script>\n",
              "    </div>\n",
              "  </div>\n",
              "  "
            ]
          },
          "metadata": {},
          "execution_count": 20
        }
      ]
    },
    {
      "cell_type": "code",
      "source": [
        "## Denomidador del indicador: Cantidad de circuitos por región\n",
        "CTO_SR = pd.DataFrame(datos.groupby(\"REGION\")[\"CIRCUITO\"].unique())\n",
        "CTO_SR['CIRCUITOS']=CTO_SR['CIRCUITO'].apply(lambda x: len(x))\n",
        "CTO_SR"
      ],
      "metadata": {
        "colab": {
          "base_uri": "https://localhost:8080/",
          "height": 332
        },
        "id": "L15YmF_dtDrp",
        "outputId": "12b546ab-b074-4afc-9dbd-db7c46a24505"
      },
      "execution_count": null,
      "outputs": [
        {
          "output_type": "execute_result",
          "data": {
            "text/plain": [
              "                                                        CIRCUITO  CIRCUITOS\n",
              "REGION                                                                     \n",
              "BAJO CAUCA     [302-11, R25-06, R25-03, 316-11, 303-13, 313-1...         42\n",
              "METROPOLITANA  [R05-14, R15-20, R09-04, R14-02, R31-03, R12-0...        415\n",
              "NORDESTE       [116-12, 165-13, R53-02, R53-43, 113-12, 103-1...         89\n",
              "NORTE          [304-11, 304-12, R21-05, R52-01, R39-01, 317-1...         54\n",
              "OCCIDENTE      [602-12, 601-42, 601-41, 602-14, 603-16, 601-1...         48\n",
              "ORIENTE        [203-11, R16-07, R22-50, 218-13, 205-16, R16-0...        127\n",
              "SUROESTE       [502-13, 512-41, 504-15, 504-11, 518-11, 510-4...         80\n",
              "URABA          [407-12, 401-14, 404-12, 401-12, 401-11, 411-4...         59"
            ],
            "text/html": [
              "\n",
              "  <div id=\"df-c39e50be-f36a-4d6e-afe8-d33ed457ed2e\">\n",
              "    <div class=\"colab-df-container\">\n",
              "      <div>\n",
              "<style scoped>\n",
              "    .dataframe tbody tr th:only-of-type {\n",
              "        vertical-align: middle;\n",
              "    }\n",
              "\n",
              "    .dataframe tbody tr th {\n",
              "        vertical-align: top;\n",
              "    }\n",
              "\n",
              "    .dataframe thead th {\n",
              "        text-align: right;\n",
              "    }\n",
              "</style>\n",
              "<table border=\"1\" class=\"dataframe\">\n",
              "  <thead>\n",
              "    <tr style=\"text-align: right;\">\n",
              "      <th></th>\n",
              "      <th>CIRCUITO</th>\n",
              "      <th>CIRCUITOS</th>\n",
              "    </tr>\n",
              "    <tr>\n",
              "      <th>REGION</th>\n",
              "      <th></th>\n",
              "      <th></th>\n",
              "    </tr>\n",
              "  </thead>\n",
              "  <tbody>\n",
              "    <tr>\n",
              "      <th>BAJO CAUCA</th>\n",
              "      <td>[302-11, R25-06, R25-03, 316-11, 303-13, 313-1...</td>\n",
              "      <td>42</td>\n",
              "    </tr>\n",
              "    <tr>\n",
              "      <th>METROPOLITANA</th>\n",
              "      <td>[R05-14, R15-20, R09-04, R14-02, R31-03, R12-0...</td>\n",
              "      <td>415</td>\n",
              "    </tr>\n",
              "    <tr>\n",
              "      <th>NORDESTE</th>\n",
              "      <td>[116-12, 165-13, R53-02, R53-43, 113-12, 103-1...</td>\n",
              "      <td>89</td>\n",
              "    </tr>\n",
              "    <tr>\n",
              "      <th>NORTE</th>\n",
              "      <td>[304-11, 304-12, R21-05, R52-01, R39-01, 317-1...</td>\n",
              "      <td>54</td>\n",
              "    </tr>\n",
              "    <tr>\n",
              "      <th>OCCIDENTE</th>\n",
              "      <td>[602-12, 601-42, 601-41, 602-14, 603-16, 601-1...</td>\n",
              "      <td>48</td>\n",
              "    </tr>\n",
              "    <tr>\n",
              "      <th>ORIENTE</th>\n",
              "      <td>[203-11, R16-07, R22-50, 218-13, 205-16, R16-0...</td>\n",
              "      <td>127</td>\n",
              "    </tr>\n",
              "    <tr>\n",
              "      <th>SUROESTE</th>\n",
              "      <td>[502-13, 512-41, 504-15, 504-11, 518-11, 510-4...</td>\n",
              "      <td>80</td>\n",
              "    </tr>\n",
              "    <tr>\n",
              "      <th>URABA</th>\n",
              "      <td>[407-12, 401-14, 404-12, 401-12, 401-11, 411-4...</td>\n",
              "      <td>59</td>\n",
              "    </tr>\n",
              "  </tbody>\n",
              "</table>\n",
              "</div>\n",
              "      <button class=\"colab-df-convert\" onclick=\"convertToInteractive('df-c39e50be-f36a-4d6e-afe8-d33ed457ed2e')\"\n",
              "              title=\"Convert this dataframe to an interactive table.\"\n",
              "              style=\"display:none;\">\n",
              "        \n",
              "  <svg xmlns=\"http://www.w3.org/2000/svg\" height=\"24px\"viewBox=\"0 0 24 24\"\n",
              "       width=\"24px\">\n",
              "    <path d=\"M0 0h24v24H0V0z\" fill=\"none\"/>\n",
              "    <path d=\"M18.56 5.44l.94 2.06.94-2.06 2.06-.94-2.06-.94-.94-2.06-.94 2.06-2.06.94zm-11 1L8.5 8.5l.94-2.06 2.06-.94-2.06-.94L8.5 2.5l-.94 2.06-2.06.94zm10 10l.94 2.06.94-2.06 2.06-.94-2.06-.94-.94-2.06-.94 2.06-2.06.94z\"/><path d=\"M17.41 7.96l-1.37-1.37c-.4-.4-.92-.59-1.43-.59-.52 0-1.04.2-1.43.59L10.3 9.45l-7.72 7.72c-.78.78-.78 2.05 0 2.83L4 21.41c.39.39.9.59 1.41.59.51 0 1.02-.2 1.41-.59l7.78-7.78 2.81-2.81c.8-.78.8-2.07 0-2.86zM5.41 20L4 18.59l7.72-7.72 1.47 1.35L5.41 20z\"/>\n",
              "  </svg>\n",
              "      </button>\n",
              "      \n",
              "  <style>\n",
              "    .colab-df-container {\n",
              "      display:flex;\n",
              "      flex-wrap:wrap;\n",
              "      gap: 12px;\n",
              "    }\n",
              "\n",
              "    .colab-df-convert {\n",
              "      background-color: #E8F0FE;\n",
              "      border: none;\n",
              "      border-radius: 50%;\n",
              "      cursor: pointer;\n",
              "      display: none;\n",
              "      fill: #1967D2;\n",
              "      height: 32px;\n",
              "      padding: 0 0 0 0;\n",
              "      width: 32px;\n",
              "    }\n",
              "\n",
              "    .colab-df-convert:hover {\n",
              "      background-color: #E2EBFA;\n",
              "      box-shadow: 0px 1px 2px rgba(60, 64, 67, 0.3), 0px 1px 3px 1px rgba(60, 64, 67, 0.15);\n",
              "      fill: #174EA6;\n",
              "    }\n",
              "\n",
              "    [theme=dark] .colab-df-convert {\n",
              "      background-color: #3B4455;\n",
              "      fill: #D2E3FC;\n",
              "    }\n",
              "\n",
              "    [theme=dark] .colab-df-convert:hover {\n",
              "      background-color: #434B5C;\n",
              "      box-shadow: 0px 1px 3px 1px rgba(0, 0, 0, 0.15);\n",
              "      filter: drop-shadow(0px 1px 2px rgba(0, 0, 0, 0.3));\n",
              "      fill: #FFFFFF;\n",
              "    }\n",
              "  </style>\n",
              "\n",
              "      <script>\n",
              "        const buttonEl =\n",
              "          document.querySelector('#df-c39e50be-f36a-4d6e-afe8-d33ed457ed2e button.colab-df-convert');\n",
              "        buttonEl.style.display =\n",
              "          google.colab.kernel.accessAllowed ? 'block' : 'none';\n",
              "\n",
              "        async function convertToInteractive(key) {\n",
              "          const element = document.querySelector('#df-c39e50be-f36a-4d6e-afe8-d33ed457ed2e');\n",
              "          const dataTable =\n",
              "            await google.colab.kernel.invokeFunction('convertToInteractive',\n",
              "                                                     [key], {});\n",
              "          if (!dataTable) return;\n",
              "\n",
              "          const docLinkHtml = 'Like what you see? Visit the ' +\n",
              "            '<a target=\"_blank\" href=https://colab.research.google.com/notebooks/data_table.ipynb>data table notebook</a>'\n",
              "            + ' to learn more about interactive tables.';\n",
              "          element.innerHTML = '';\n",
              "          dataTable['output_type'] = 'display_data';\n",
              "          await google.colab.output.renderOutput(dataTable, element);\n",
              "          const docLink = document.createElement('div');\n",
              "          docLink.innerHTML = docLinkHtml;\n",
              "          element.appendChild(docLink);\n",
              "        }\n",
              "      </script>\n",
              "    </div>\n",
              "  </div>\n",
              "  "
            ]
          },
          "metadata": {},
          "execution_count": 21
        }
      ]
    },
    {
      "cell_type": "code",
      "source": [
        "densidad = OT_SR.merge(CTO_SR, how = 'inner', on='REGION').reset_index()\n",
        "densidad.head()"
      ],
      "metadata": {
        "colab": {
          "base_uri": "https://localhost:8080/",
          "height": 206
        },
        "id": "IDSUXeLyv1PR",
        "outputId": "8546089f-00e3-4282-ef71-30a83fc35a55"
      },
      "execution_count": null,
      "outputs": [
        {
          "output_type": "execute_result",
          "data": {
            "text/plain": [
              "          REGION  WORKLOGID  \\\n",
              "0     BAJO CAUCA      11884   \n",
              "1  METROPOLITANA      37916   \n",
              "2       NORDESTE      19533   \n",
              "3          NORTE       9703   \n",
              "4      OCCIDENTE      11756   \n",
              "\n",
              "                                            CIRCUITO  CIRCUITOS  \n",
              "0  [302-11, R25-06, R25-03, 316-11, 303-13, 313-1...         42  \n",
              "1  [R05-14, R15-20, R09-04, R14-02, R31-03, R12-0...        415  \n",
              "2  [116-12, 165-13, R53-02, R53-43, 113-12, 103-1...         89  \n",
              "3  [304-11, 304-12, R21-05, R52-01, R39-01, 317-1...         54  \n",
              "4  [602-12, 601-42, 601-41, 602-14, 603-16, 601-1...         48  "
            ],
            "text/html": [
              "\n",
              "  <div id=\"df-87dfab7d-d44b-419a-a32f-be75b8e120dc\">\n",
              "    <div class=\"colab-df-container\">\n",
              "      <div>\n",
              "<style scoped>\n",
              "    .dataframe tbody tr th:only-of-type {\n",
              "        vertical-align: middle;\n",
              "    }\n",
              "\n",
              "    .dataframe tbody tr th {\n",
              "        vertical-align: top;\n",
              "    }\n",
              "\n",
              "    .dataframe thead th {\n",
              "        text-align: right;\n",
              "    }\n",
              "</style>\n",
              "<table border=\"1\" class=\"dataframe\">\n",
              "  <thead>\n",
              "    <tr style=\"text-align: right;\">\n",
              "      <th></th>\n",
              "      <th>REGION</th>\n",
              "      <th>WORKLOGID</th>\n",
              "      <th>CIRCUITO</th>\n",
              "      <th>CIRCUITOS</th>\n",
              "    </tr>\n",
              "  </thead>\n",
              "  <tbody>\n",
              "    <tr>\n",
              "      <th>0</th>\n",
              "      <td>BAJO CAUCA</td>\n",
              "      <td>11884</td>\n",
              "      <td>[302-11, R25-06, R25-03, 316-11, 303-13, 313-1...</td>\n",
              "      <td>42</td>\n",
              "    </tr>\n",
              "    <tr>\n",
              "      <th>1</th>\n",
              "      <td>METROPOLITANA</td>\n",
              "      <td>37916</td>\n",
              "      <td>[R05-14, R15-20, R09-04, R14-02, R31-03, R12-0...</td>\n",
              "      <td>415</td>\n",
              "    </tr>\n",
              "    <tr>\n",
              "      <th>2</th>\n",
              "      <td>NORDESTE</td>\n",
              "      <td>19533</td>\n",
              "      <td>[116-12, 165-13, R53-02, R53-43, 113-12, 103-1...</td>\n",
              "      <td>89</td>\n",
              "    </tr>\n",
              "    <tr>\n",
              "      <th>3</th>\n",
              "      <td>NORTE</td>\n",
              "      <td>9703</td>\n",
              "      <td>[304-11, 304-12, R21-05, R52-01, R39-01, 317-1...</td>\n",
              "      <td>54</td>\n",
              "    </tr>\n",
              "    <tr>\n",
              "      <th>4</th>\n",
              "      <td>OCCIDENTE</td>\n",
              "      <td>11756</td>\n",
              "      <td>[602-12, 601-42, 601-41, 602-14, 603-16, 601-1...</td>\n",
              "      <td>48</td>\n",
              "    </tr>\n",
              "  </tbody>\n",
              "</table>\n",
              "</div>\n",
              "      <button class=\"colab-df-convert\" onclick=\"convertToInteractive('df-87dfab7d-d44b-419a-a32f-be75b8e120dc')\"\n",
              "              title=\"Convert this dataframe to an interactive table.\"\n",
              "              style=\"display:none;\">\n",
              "        \n",
              "  <svg xmlns=\"http://www.w3.org/2000/svg\" height=\"24px\"viewBox=\"0 0 24 24\"\n",
              "       width=\"24px\">\n",
              "    <path d=\"M0 0h24v24H0V0z\" fill=\"none\"/>\n",
              "    <path d=\"M18.56 5.44l.94 2.06.94-2.06 2.06-.94-2.06-.94-.94-2.06-.94 2.06-2.06.94zm-11 1L8.5 8.5l.94-2.06 2.06-.94-2.06-.94L8.5 2.5l-.94 2.06-2.06.94zm10 10l.94 2.06.94-2.06 2.06-.94-2.06-.94-.94-2.06-.94 2.06-2.06.94z\"/><path d=\"M17.41 7.96l-1.37-1.37c-.4-.4-.92-.59-1.43-.59-.52 0-1.04.2-1.43.59L10.3 9.45l-7.72 7.72c-.78.78-.78 2.05 0 2.83L4 21.41c.39.39.9.59 1.41.59.51 0 1.02-.2 1.41-.59l7.78-7.78 2.81-2.81c.8-.78.8-2.07 0-2.86zM5.41 20L4 18.59l7.72-7.72 1.47 1.35L5.41 20z\"/>\n",
              "  </svg>\n",
              "      </button>\n",
              "      \n",
              "  <style>\n",
              "    .colab-df-container {\n",
              "      display:flex;\n",
              "      flex-wrap:wrap;\n",
              "      gap: 12px;\n",
              "    }\n",
              "\n",
              "    .colab-df-convert {\n",
              "      background-color: #E8F0FE;\n",
              "      border: none;\n",
              "      border-radius: 50%;\n",
              "      cursor: pointer;\n",
              "      display: none;\n",
              "      fill: #1967D2;\n",
              "      height: 32px;\n",
              "      padding: 0 0 0 0;\n",
              "      width: 32px;\n",
              "    }\n",
              "\n",
              "    .colab-df-convert:hover {\n",
              "      background-color: #E2EBFA;\n",
              "      box-shadow: 0px 1px 2px rgba(60, 64, 67, 0.3), 0px 1px 3px 1px rgba(60, 64, 67, 0.15);\n",
              "      fill: #174EA6;\n",
              "    }\n",
              "\n",
              "    [theme=dark] .colab-df-convert {\n",
              "      background-color: #3B4455;\n",
              "      fill: #D2E3FC;\n",
              "    }\n",
              "\n",
              "    [theme=dark] .colab-df-convert:hover {\n",
              "      background-color: #434B5C;\n",
              "      box-shadow: 0px 1px 3px 1px rgba(0, 0, 0, 0.15);\n",
              "      filter: drop-shadow(0px 1px 2px rgba(0, 0, 0, 0.3));\n",
              "      fill: #FFFFFF;\n",
              "    }\n",
              "  </style>\n",
              "\n",
              "      <script>\n",
              "        const buttonEl =\n",
              "          document.querySelector('#df-87dfab7d-d44b-419a-a32f-be75b8e120dc button.colab-df-convert');\n",
              "        buttonEl.style.display =\n",
              "          google.colab.kernel.accessAllowed ? 'block' : 'none';\n",
              "\n",
              "        async function convertToInteractive(key) {\n",
              "          const element = document.querySelector('#df-87dfab7d-d44b-419a-a32f-be75b8e120dc');\n",
              "          const dataTable =\n",
              "            await google.colab.kernel.invokeFunction('convertToInteractive',\n",
              "                                                     [key], {});\n",
              "          if (!dataTable) return;\n",
              "\n",
              "          const docLinkHtml = 'Like what you see? Visit the ' +\n",
              "            '<a target=\"_blank\" href=https://colab.research.google.com/notebooks/data_table.ipynb>data table notebook</a>'\n",
              "            + ' to learn more about interactive tables.';\n",
              "          element.innerHTML = '';\n",
              "          dataTable['output_type'] = 'display_data';\n",
              "          await google.colab.output.renderOutput(dataTable, element);\n",
              "          const docLink = document.createElement('div');\n",
              "          docLink.innerHTML = docLinkHtml;\n",
              "          element.appendChild(docLink);\n",
              "        }\n",
              "      </script>\n",
              "    </div>\n",
              "  </div>\n",
              "  "
            ]
          },
          "metadata": {},
          "execution_count": 22
        }
      ]
    },
    {
      "cell_type": "code",
      "source": [
        "## Renombrar columnas para facilitar comprensión\n",
        "columnas2 = {'WORKLOGID':'CUENTA_OTS', 'CIRCUITOS':'CUENTA_CTOS'}\n",
        "densidad.rename(columns=columnas2, inplace = True)\n",
        "densidad.head()"
      ],
      "metadata": {
        "colab": {
          "base_uri": "https://localhost:8080/",
          "height": 206
        },
        "id": "DKWFoQM8wUE5",
        "outputId": "ebbf9b41-cb1b-44d3-e847-851a98589b5a"
      },
      "execution_count": null,
      "outputs": [
        {
          "output_type": "execute_result",
          "data": {
            "text/plain": [
              "          REGION  CUENTA_OTS  \\\n",
              "0     BAJO CAUCA       11884   \n",
              "1  METROPOLITANA       37916   \n",
              "2       NORDESTE       19533   \n",
              "3          NORTE        9703   \n",
              "4      OCCIDENTE       11756   \n",
              "\n",
              "                                            CIRCUITO  CUENTA_CTOS  \n",
              "0  [302-11, R25-06, R25-03, 316-11, 303-13, 313-1...           42  \n",
              "1  [R05-14, R15-20, R09-04, R14-02, R31-03, R12-0...          415  \n",
              "2  [116-12, 165-13, R53-02, R53-43, 113-12, 103-1...           89  \n",
              "3  [304-11, 304-12, R21-05, R52-01, R39-01, 317-1...           54  \n",
              "4  [602-12, 601-42, 601-41, 602-14, 603-16, 601-1...           48  "
            ],
            "text/html": [
              "\n",
              "  <div id=\"df-2da39eda-1e8d-4ad9-aac2-9d8f966cf91c\">\n",
              "    <div class=\"colab-df-container\">\n",
              "      <div>\n",
              "<style scoped>\n",
              "    .dataframe tbody tr th:only-of-type {\n",
              "        vertical-align: middle;\n",
              "    }\n",
              "\n",
              "    .dataframe tbody tr th {\n",
              "        vertical-align: top;\n",
              "    }\n",
              "\n",
              "    .dataframe thead th {\n",
              "        text-align: right;\n",
              "    }\n",
              "</style>\n",
              "<table border=\"1\" class=\"dataframe\">\n",
              "  <thead>\n",
              "    <tr style=\"text-align: right;\">\n",
              "      <th></th>\n",
              "      <th>REGION</th>\n",
              "      <th>CUENTA_OTS</th>\n",
              "      <th>CIRCUITO</th>\n",
              "      <th>CUENTA_CTOS</th>\n",
              "    </tr>\n",
              "  </thead>\n",
              "  <tbody>\n",
              "    <tr>\n",
              "      <th>0</th>\n",
              "      <td>BAJO CAUCA</td>\n",
              "      <td>11884</td>\n",
              "      <td>[302-11, R25-06, R25-03, 316-11, 303-13, 313-1...</td>\n",
              "      <td>42</td>\n",
              "    </tr>\n",
              "    <tr>\n",
              "      <th>1</th>\n",
              "      <td>METROPOLITANA</td>\n",
              "      <td>37916</td>\n",
              "      <td>[R05-14, R15-20, R09-04, R14-02, R31-03, R12-0...</td>\n",
              "      <td>415</td>\n",
              "    </tr>\n",
              "    <tr>\n",
              "      <th>2</th>\n",
              "      <td>NORDESTE</td>\n",
              "      <td>19533</td>\n",
              "      <td>[116-12, 165-13, R53-02, R53-43, 113-12, 103-1...</td>\n",
              "      <td>89</td>\n",
              "    </tr>\n",
              "    <tr>\n",
              "      <th>3</th>\n",
              "      <td>NORTE</td>\n",
              "      <td>9703</td>\n",
              "      <td>[304-11, 304-12, R21-05, R52-01, R39-01, 317-1...</td>\n",
              "      <td>54</td>\n",
              "    </tr>\n",
              "    <tr>\n",
              "      <th>4</th>\n",
              "      <td>OCCIDENTE</td>\n",
              "      <td>11756</td>\n",
              "      <td>[602-12, 601-42, 601-41, 602-14, 603-16, 601-1...</td>\n",
              "      <td>48</td>\n",
              "    </tr>\n",
              "  </tbody>\n",
              "</table>\n",
              "</div>\n",
              "      <button class=\"colab-df-convert\" onclick=\"convertToInteractive('df-2da39eda-1e8d-4ad9-aac2-9d8f966cf91c')\"\n",
              "              title=\"Convert this dataframe to an interactive table.\"\n",
              "              style=\"display:none;\">\n",
              "        \n",
              "  <svg xmlns=\"http://www.w3.org/2000/svg\" height=\"24px\"viewBox=\"0 0 24 24\"\n",
              "       width=\"24px\">\n",
              "    <path d=\"M0 0h24v24H0V0z\" fill=\"none\"/>\n",
              "    <path d=\"M18.56 5.44l.94 2.06.94-2.06 2.06-.94-2.06-.94-.94-2.06-.94 2.06-2.06.94zm-11 1L8.5 8.5l.94-2.06 2.06-.94-2.06-.94L8.5 2.5l-.94 2.06-2.06.94zm10 10l.94 2.06.94-2.06 2.06-.94-2.06-.94-.94-2.06-.94 2.06-2.06.94z\"/><path d=\"M17.41 7.96l-1.37-1.37c-.4-.4-.92-.59-1.43-.59-.52 0-1.04.2-1.43.59L10.3 9.45l-7.72 7.72c-.78.78-.78 2.05 0 2.83L4 21.41c.39.39.9.59 1.41.59.51 0 1.02-.2 1.41-.59l7.78-7.78 2.81-2.81c.8-.78.8-2.07 0-2.86zM5.41 20L4 18.59l7.72-7.72 1.47 1.35L5.41 20z\"/>\n",
              "  </svg>\n",
              "      </button>\n",
              "      \n",
              "  <style>\n",
              "    .colab-df-container {\n",
              "      display:flex;\n",
              "      flex-wrap:wrap;\n",
              "      gap: 12px;\n",
              "    }\n",
              "\n",
              "    .colab-df-convert {\n",
              "      background-color: #E8F0FE;\n",
              "      border: none;\n",
              "      border-radius: 50%;\n",
              "      cursor: pointer;\n",
              "      display: none;\n",
              "      fill: #1967D2;\n",
              "      height: 32px;\n",
              "      padding: 0 0 0 0;\n",
              "      width: 32px;\n",
              "    }\n",
              "\n",
              "    .colab-df-convert:hover {\n",
              "      background-color: #E2EBFA;\n",
              "      box-shadow: 0px 1px 2px rgba(60, 64, 67, 0.3), 0px 1px 3px 1px rgba(60, 64, 67, 0.15);\n",
              "      fill: #174EA6;\n",
              "    }\n",
              "\n",
              "    [theme=dark] .colab-df-convert {\n",
              "      background-color: #3B4455;\n",
              "      fill: #D2E3FC;\n",
              "    }\n",
              "\n",
              "    [theme=dark] .colab-df-convert:hover {\n",
              "      background-color: #434B5C;\n",
              "      box-shadow: 0px 1px 3px 1px rgba(0, 0, 0, 0.15);\n",
              "      filter: drop-shadow(0px 1px 2px rgba(0, 0, 0, 0.3));\n",
              "      fill: #FFFFFF;\n",
              "    }\n",
              "  </style>\n",
              "\n",
              "      <script>\n",
              "        const buttonEl =\n",
              "          document.querySelector('#df-2da39eda-1e8d-4ad9-aac2-9d8f966cf91c button.colab-df-convert');\n",
              "        buttonEl.style.display =\n",
              "          google.colab.kernel.accessAllowed ? 'block' : 'none';\n",
              "\n",
              "        async function convertToInteractive(key) {\n",
              "          const element = document.querySelector('#df-2da39eda-1e8d-4ad9-aac2-9d8f966cf91c');\n",
              "          const dataTable =\n",
              "            await google.colab.kernel.invokeFunction('convertToInteractive',\n",
              "                                                     [key], {});\n",
              "          if (!dataTable) return;\n",
              "\n",
              "          const docLinkHtml = 'Like what you see? Visit the ' +\n",
              "            '<a target=\"_blank\" href=https://colab.research.google.com/notebooks/data_table.ipynb>data table notebook</a>'\n",
              "            + ' to learn more about interactive tables.';\n",
              "          element.innerHTML = '';\n",
              "          dataTable['output_type'] = 'display_data';\n",
              "          await google.colab.output.renderOutput(dataTable, element);\n",
              "          const docLink = document.createElement('div');\n",
              "          docLink.innerHTML = docLinkHtml;\n",
              "          element.appendChild(docLink);\n",
              "        }\n",
              "      </script>\n",
              "    </div>\n",
              "  </div>\n",
              "  "
            ]
          },
          "metadata": {},
          "execution_count": 23
        }
      ]
    },
    {
      "cell_type": "code",
      "source": [
        "densidad = densidad[['REGION','CUENTA_OTS','CUENTA_CTOS']]"
      ],
      "metadata": {
        "id": "v5kp6A1Ew5jw"
      },
      "execution_count": null,
      "outputs": []
    },
    {
      "cell_type": "code",
      "source": [
        "## Cantidad de registros según la cantidad de circuitos por región \n",
        "densidad['densidad']=densidad['CUENTA_OTS']/densidad['CUENTA_CTOS']\n",
        "densidad"
      ],
      "metadata": {
        "colab": {
          "base_uri": "https://localhost:8080/",
          "height": 300
        },
        "id": "1v2zmoPrwnaK",
        "outputId": "7c9f3f56-c4f2-4420-ff44-9ad6e2290750"
      },
      "execution_count": null,
      "outputs": [
        {
          "output_type": "execute_result",
          "data": {
            "text/plain": [
              "          REGION  CUENTA_OTS  CUENTA_CTOS    densidad\n",
              "0     BAJO CAUCA       11884           42  282.952381\n",
              "1  METROPOLITANA       37916          415   91.363855\n",
              "2       NORDESTE       19533           89  219.471910\n",
              "3          NORTE        9703           54  179.685185\n",
              "4      OCCIDENTE       11756           48  244.916667\n",
              "5        ORIENTE       29936          127  235.716535\n",
              "6       SUROESTE       17166           80  214.575000\n",
              "7          URABA       18876           59  319.932203"
            ],
            "text/html": [
              "\n",
              "  <div id=\"df-c896f278-0242-479d-82a3-4bf9e0c3527e\">\n",
              "    <div class=\"colab-df-container\">\n",
              "      <div>\n",
              "<style scoped>\n",
              "    .dataframe tbody tr th:only-of-type {\n",
              "        vertical-align: middle;\n",
              "    }\n",
              "\n",
              "    .dataframe tbody tr th {\n",
              "        vertical-align: top;\n",
              "    }\n",
              "\n",
              "    .dataframe thead th {\n",
              "        text-align: right;\n",
              "    }\n",
              "</style>\n",
              "<table border=\"1\" class=\"dataframe\">\n",
              "  <thead>\n",
              "    <tr style=\"text-align: right;\">\n",
              "      <th></th>\n",
              "      <th>REGION</th>\n",
              "      <th>CUENTA_OTS</th>\n",
              "      <th>CUENTA_CTOS</th>\n",
              "      <th>densidad</th>\n",
              "    </tr>\n",
              "  </thead>\n",
              "  <tbody>\n",
              "    <tr>\n",
              "      <th>0</th>\n",
              "      <td>BAJO CAUCA</td>\n",
              "      <td>11884</td>\n",
              "      <td>42</td>\n",
              "      <td>282.952381</td>\n",
              "    </tr>\n",
              "    <tr>\n",
              "      <th>1</th>\n",
              "      <td>METROPOLITANA</td>\n",
              "      <td>37916</td>\n",
              "      <td>415</td>\n",
              "      <td>91.363855</td>\n",
              "    </tr>\n",
              "    <tr>\n",
              "      <th>2</th>\n",
              "      <td>NORDESTE</td>\n",
              "      <td>19533</td>\n",
              "      <td>89</td>\n",
              "      <td>219.471910</td>\n",
              "    </tr>\n",
              "    <tr>\n",
              "      <th>3</th>\n",
              "      <td>NORTE</td>\n",
              "      <td>9703</td>\n",
              "      <td>54</td>\n",
              "      <td>179.685185</td>\n",
              "    </tr>\n",
              "    <tr>\n",
              "      <th>4</th>\n",
              "      <td>OCCIDENTE</td>\n",
              "      <td>11756</td>\n",
              "      <td>48</td>\n",
              "      <td>244.916667</td>\n",
              "    </tr>\n",
              "    <tr>\n",
              "      <th>5</th>\n",
              "      <td>ORIENTE</td>\n",
              "      <td>29936</td>\n",
              "      <td>127</td>\n",
              "      <td>235.716535</td>\n",
              "    </tr>\n",
              "    <tr>\n",
              "      <th>6</th>\n",
              "      <td>SUROESTE</td>\n",
              "      <td>17166</td>\n",
              "      <td>80</td>\n",
              "      <td>214.575000</td>\n",
              "    </tr>\n",
              "    <tr>\n",
              "      <th>7</th>\n",
              "      <td>URABA</td>\n",
              "      <td>18876</td>\n",
              "      <td>59</td>\n",
              "      <td>319.932203</td>\n",
              "    </tr>\n",
              "  </tbody>\n",
              "</table>\n",
              "</div>\n",
              "      <button class=\"colab-df-convert\" onclick=\"convertToInteractive('df-c896f278-0242-479d-82a3-4bf9e0c3527e')\"\n",
              "              title=\"Convert this dataframe to an interactive table.\"\n",
              "              style=\"display:none;\">\n",
              "        \n",
              "  <svg xmlns=\"http://www.w3.org/2000/svg\" height=\"24px\"viewBox=\"0 0 24 24\"\n",
              "       width=\"24px\">\n",
              "    <path d=\"M0 0h24v24H0V0z\" fill=\"none\"/>\n",
              "    <path d=\"M18.56 5.44l.94 2.06.94-2.06 2.06-.94-2.06-.94-.94-2.06-.94 2.06-2.06.94zm-11 1L8.5 8.5l.94-2.06 2.06-.94-2.06-.94L8.5 2.5l-.94 2.06-2.06.94zm10 10l.94 2.06.94-2.06 2.06-.94-2.06-.94-.94-2.06-.94 2.06-2.06.94z\"/><path d=\"M17.41 7.96l-1.37-1.37c-.4-.4-.92-.59-1.43-.59-.52 0-1.04.2-1.43.59L10.3 9.45l-7.72 7.72c-.78.78-.78 2.05 0 2.83L4 21.41c.39.39.9.59 1.41.59.51 0 1.02-.2 1.41-.59l7.78-7.78 2.81-2.81c.8-.78.8-2.07 0-2.86zM5.41 20L4 18.59l7.72-7.72 1.47 1.35L5.41 20z\"/>\n",
              "  </svg>\n",
              "      </button>\n",
              "      \n",
              "  <style>\n",
              "    .colab-df-container {\n",
              "      display:flex;\n",
              "      flex-wrap:wrap;\n",
              "      gap: 12px;\n",
              "    }\n",
              "\n",
              "    .colab-df-convert {\n",
              "      background-color: #E8F0FE;\n",
              "      border: none;\n",
              "      border-radius: 50%;\n",
              "      cursor: pointer;\n",
              "      display: none;\n",
              "      fill: #1967D2;\n",
              "      height: 32px;\n",
              "      padding: 0 0 0 0;\n",
              "      width: 32px;\n",
              "    }\n",
              "\n",
              "    .colab-df-convert:hover {\n",
              "      background-color: #E2EBFA;\n",
              "      box-shadow: 0px 1px 2px rgba(60, 64, 67, 0.3), 0px 1px 3px 1px rgba(60, 64, 67, 0.15);\n",
              "      fill: #174EA6;\n",
              "    }\n",
              "\n",
              "    [theme=dark] .colab-df-convert {\n",
              "      background-color: #3B4455;\n",
              "      fill: #D2E3FC;\n",
              "    }\n",
              "\n",
              "    [theme=dark] .colab-df-convert:hover {\n",
              "      background-color: #434B5C;\n",
              "      box-shadow: 0px 1px 3px 1px rgba(0, 0, 0, 0.15);\n",
              "      filter: drop-shadow(0px 1px 2px rgba(0, 0, 0, 0.3));\n",
              "      fill: #FFFFFF;\n",
              "    }\n",
              "  </style>\n",
              "\n",
              "      <script>\n",
              "        const buttonEl =\n",
              "          document.querySelector('#df-c896f278-0242-479d-82a3-4bf9e0c3527e button.colab-df-convert');\n",
              "        buttonEl.style.display =\n",
              "          google.colab.kernel.accessAllowed ? 'block' : 'none';\n",
              "\n",
              "        async function convertToInteractive(key) {\n",
              "          const element = document.querySelector('#df-c896f278-0242-479d-82a3-4bf9e0c3527e');\n",
              "          const dataTable =\n",
              "            await google.colab.kernel.invokeFunction('convertToInteractive',\n",
              "                                                     [key], {});\n",
              "          if (!dataTable) return;\n",
              "\n",
              "          const docLinkHtml = 'Like what you see? Visit the ' +\n",
              "            '<a target=\"_blank\" href=https://colab.research.google.com/notebooks/data_table.ipynb>data table notebook</a>'\n",
              "            + ' to learn more about interactive tables.';\n",
              "          element.innerHTML = '';\n",
              "          dataTable['output_type'] = 'display_data';\n",
              "          await google.colab.output.renderOutput(dataTable, element);\n",
              "          const docLink = document.createElement('div');\n",
              "          docLink.innerHTML = docLinkHtml;\n",
              "          element.appendChild(docLink);\n",
              "        }\n",
              "      </script>\n",
              "    </div>\n",
              "  </div>\n",
              "  "
            ]
          },
          "metadata": {},
          "execution_count": 25
        }
      ]
    },
    {
      "cell_type": "code",
      "source": [
        "plt.figure(figsize=(6,4))\n",
        "plt.barh(densidad['REGION'], densidad['densidad'].sort_values())\n",
        "plt.xticks(rotation=90)\n",
        "plt.show()"
      ],
      "metadata": {
        "colab": {
          "base_uri": "https://localhost:8080/",
          "height": 274
        },
        "id": "x2GiCK5Bx0lA",
        "outputId": "c3ba0d53-d242-4acf-d6bd-b0a6580422df"
      },
      "execution_count": null,
      "outputs": [
        {
          "output_type": "display_data",
          "data": {
            "text/plain": [
              "<Figure size 432x288 with 1 Axes>"
            ],
            "image/png": "[encoded data removed]"
          },
          "metadata": {
            "needs_background": "light"
          }
        }
      ]
    },
    {
      "cell_type": "markdown",
      "source": [
        "Registros por Circuito"
      ],
      "metadata": {
        "id": "kT9ptLiT5_Wy"
      }
    },
    {
      "cell_type": "code",
      "source": [
        "## Una muestra de los circuitos, los primeros con más casos\n",
        "circuito = Counter(datos['CIRCUITO'])\n",
        "top_circuito = circuito.most_common(50)\n",
        "x,y = zip(*top_circuito)\n",
        "plt.figure(figsize=(16,4))\n",
        "plt.bar(x,y)\n",
        "plt.xticks(rotation=90)\n",
        "plt.show()"
      ],
      "metadata": {
        "colab": {
          "base_uri": "https://localhost:8080/",
          "height": 292
        },
        "id": "tv5QVUB648Cn",
        "outputId": "70f4c140-fc6a-474b-9c54-0ba4865d4fa1"
      },
      "execution_count": null,
      "outputs": [
        {
          "output_type": "display_data",
          "data": {
            "text/plain": [
              "<Figure size 1152x288 with 1 Axes>"
            ],
            "image/png": "[encoded data removed]"
          },
          "metadata": {
            "needs_background": "light"
          }
        }
      ]
    },
    {
      "cell_type": "markdown",
      "source": [
        "Registros por Tipo de Falla (Las más relevantes por cantidad)"
      ],
      "metadata": {
        "id": "pLxyb3QD2xs2"
      }
    },
    {
      "cell_type": "code",
      "source": [
        "falla = Counter(datos['FALLA'])\n",
        "top_fallas = falla.most_common(10)\n",
        "x,y = zip(*top_fallas)\n",
        "z = [str(i) for i in list(x)] ## aparece un NaN entre las categorías y hay que convertirlo a string para poder graficar\n",
        "plt.figure(figsize=(6,4))\n",
        "plt.barh(z,y)\n",
        "plt.xticks(rotation=90)\n",
        "plt.show()"
      ],
      "metadata": {
        "colab": {
          "base_uri": "https://localhost:8080/",
          "height": 287
        },
        "id": "0vxN_pkHWLwz",
        "outputId": "4d931ba6-c93f-4051-88c4-123ec2f7c0f8"
      },
      "execution_count": null,
      "outputs": [
        {
          "output_type": "display_data",
          "data": {
            "text/plain": [
              "<Figure size 432x288 with 1 Axes>"
            ],
            "image/png": "[encoded data removed]"
          },
          "metadata": {
            "needs_background": "light"
          }
        }
      ]
    },
    {
      "cell_type": "markdown",
      "source": [
        "Registros por Tipo de Problema (Los más relevantes por cantidad)"
      ],
      "metadata": {
        "id": "npky3sK44vYQ"
      }
    },
    {
      "cell_type": "code",
      "source": [
        "problema = Counter(datos['PROBLEMA'])\n",
        "top_problemas = problema.most_common(10)\n",
        "x,y = zip(*top_problemas)\n",
        "z = [str(i) for i in list(x)] ## aparece un NaN entre las categorías y hay que convertirlo a string para poder graficar\n",
        "plt.figure(figsize=(6,4))\n",
        "plt.barh(z,y)\n",
        "plt.xticks(rotation=90)\n",
        "plt.show()"
      ],
      "metadata": {
        "colab": {
          "base_uri": "https://localhost:8080/",
          "height": 287
        },
        "id": "h8HjuvXl3_6b",
        "outputId": "63ae0154-f973-4bbe-fb6c-660c9dd52fdc"
      },
      "execution_count": null,
      "outputs": [
        {
          "output_type": "display_data",
          "data": {
            "text/plain": [
              "<Figure size 432x288 with 1 Axes>"
            ],
            "image/png": "[encoded data removed]"
          },
          "metadata": {
            "needs_background": "light"
          }
        }
      ]
    },
    {
      "cell_type": "markdown",
      "source": [
        "**BoW**"
      ],
      "metadata": {
        "id": "lErD6GocwME0"
      }
    },
    {
      "cell_type": "code",
      "source": [
        "## Obtener listado de tokens\n",
        "tokens = []\n",
        "for t in datos['TOKENS']:\n",
        "    tokens.extend(t)\n",
        "print('Cantidad total de tokens = ',str(len(tokens)))\n",
        "## Distribución de frecuencia de los tokens. Tamaño del BoW\n",
        "fdist_tokens = nltk.FreqDist(tokens)\n",
        "print('Tamanno del BoW=',len(fdist_tokens))"
      ],
      "metadata": {
        "colab": {
          "base_uri": "https://localhost:8080/"
        },
        "id": "QqEe6F3bIL-c",
        "outputId": "ac8c5412-a8a6-4e54-8f26-d0c7c89f5272"
      },
      "execution_count": null,
      "outputs": [
        {
          "output_type": "stream",
          "name": "stdout",
          "text": [
            "Cantidad total de tokens =  1671471\n",
            "Tamanno del BoW= 11117\n"
          ]
        }
      ]
    },
    {
      "cell_type": "code",
      "source": [
        "#Extraer el BoW para procesamiento posterior\n",
        "BoW = pd.DataFrame([[key, fdist_tokens[key]] for key in fdist_tokens.keys()], columns=['palabra', 'frecuencia'])\n",
        "BoW = BoW.sort_values(by = 'palabra').reset_index(drop=True)\n",
        "BoW = BoW['palabra']\n",
        "print(BoW.shape)\n",
        "BoW.head()"
      ],
      "metadata": {
        "colab": {
          "base_uri": "https://localhost:8080/"
        },
        "id": "bk9Y4xLFSK24",
        "outputId": "aab44acf-571b-4ace-c4e9-a6d78ba522d3"
      },
      "execution_count": null,
      "outputs": [
        {
          "output_type": "stream",
          "name": "stdout",
          "text": [
            "(11117,)\n"
          ]
        },
        {
          "output_type": "execute_result",
          "data": {
            "text/plain": [
              "0           \n",
              "1       aaac\n",
              "2        aac\n",
              "3        aal\n",
              "4    aamalfi\n",
              "Name: palabra, dtype: object"
            ]
          },
          "metadata": {},
          "execution_count": 31
        }
      ]
    },
    {
      "cell_type": "code",
      "source": [
        "##Exportar el BoW para procesamiento posterior\n",
        "#Exportar la lista de palabras del BoW\n",
        "#BoW.to_csv('/content/drive/MyDrive/ProyectoIntegrador/Datos/bow.csv', index = False, header = False)"
      ],
      "metadata": {
        "id": "WtAP7JUqdGlp"
      },
      "execution_count": null,
      "outputs": []
    },
    {
      "cell_type": "code",
      "source": [
        "#Listado de \"m\" Tokens más comunes\n",
        "top_tokens = fdist_tokens.most_common(20)\n",
        "x,y = zip(*top_tokens)\n",
        "plt.figure(figsize=(16,4))\n",
        "plt.bar(x,y)\n",
        "plt.xticks(rotation=90)\n",
        "plt.show()"
      ],
      "metadata": {
        "colab": {
          "base_uri": "https://localhost:8080/",
          "height": 327
        },
        "id": "7w7H7HmXN4Gh",
        "outputId": "1185b8e1-6dc0-4372-ea9d-48efceacd25f"
      },
      "execution_count": null,
      "outputs": [
        {
          "output_type": "display_data",
          "data": {
            "text/plain": [
              "<Figure size 1152x288 with 1 Axes>"
            ],
            "image/png": "[encoded data removed]"
          },
          "metadata": {
            "needs_background": "light"
          }
        }
      ]
    },
    {
      "cell_type": "markdown",
      "source": [
        "Bigramas y Trigramas"
      ],
      "metadata": {
        "id": "Oeph-IE2ns8Q"
      }
    },
    {
      "cell_type": "code",
      "source": [
        "## Distribución de frecuencia de los bigramas.\n",
        "fdist_bigrams = nltk.FreqDist(bigrams(tokens))\n",
        "print('Tamanno del listado de bigramas=',len(fdist_bigrams))"
      ],
      "metadata": {
        "colab": {
          "base_uri": "https://localhost:8080/"
        },
        "id": "uaMO8e0Ms3uB",
        "outputId": "8d6d5615-7ed4-4c5d-b587-9f9cc1577348"
      },
      "execution_count": null,
      "outputs": [
        {
          "output_type": "stream",
          "name": "stdout",
          "text": [
            "Tamanno del listado de bigramas= 417158\n"
          ]
        }
      ]
    },
    {
      "cell_type": "code",
      "source": [
        "#Listado de \"n\" bigramas más comunes\n",
        "top_bigrams = fdist_bigrams.most_common(20)\n",
        "top_bigrams"
      ],
      "metadata": {
        "colab": {
          "base_uri": "https://localhost:8080/"
        },
        "id": "l4gQpSSY1MVO",
        "outputId": "69542a05-dfdc-48fe-cd5f-3fcba96b8891"
      },
      "execution_count": null,
      "outputs": [
        {
          "output_type": "execute_result",
          "data": {
            "text/plain": [
              "[(('quedo', 'normal'), 24644),\n",
              " (('fusible', 'transformador'), 14678),\n",
              " (('quedo', 'pendiente'), 9121),\n",
              " (('transformador', 'quedo'), 7046),\n",
              " (('red', 'secundaria'), 5368),\n",
              " (('poste', 'secundario'), 4831),\n",
              " (('normal', 'fusible'), 4754),\n",
              " (('transformador', 'fusible'), 4290),\n",
              " (('aguas', 'abajo'), 4179),\n",
              " (('fusible', 'quedo'), 3517),\n",
              " (('afecto', 'transformador'), 3429),\n",
              " (('arbol', 'linea'), 3348),\n",
              " (('fusible', 'quemado'), 3321),\n",
              " (('quedo', 'normalizado'), 3269),\n",
              " (('linea', 'secundaria'), 3030),\n",
              " (('fusible', 'aisladero'), 2752),\n",
              " (('repara', 'acometida'), 2688),\n",
              " (('poste', 'primario'), 2604),\n",
              " (('verifica', 'quedo'), 2564),\n",
              " (('linea', 'primaria'), 2471)]"
            ]
          },
          "metadata": {},
          "execution_count": 35
        }
      ]
    },
    {
      "cell_type": "code",
      "source": [
        "#Listado de \"n\" bigramas menos comunes\n",
        "fdist_bigrams.most_common()[-10:]"
      ],
      "metadata": {
        "colab": {
          "base_uri": "https://localhost:8080/"
        },
        "id": "aoJ0K6M6310G",
        "outputId": "dd23a2bc-0750-49d8-ed8c-18a5a49d33ef"
      },
      "execution_count": null,
      "outputs": [
        {
          "output_type": "execute_result",
          "data": {
            "text/plain": [
              "[(('solo', 'datos'), 1),\n",
              " (('datos', 'asi'), 1),\n",
              " (('asi', 'entrar'), 1),\n",
              " (('entrar', 'sistema'), 1),\n",
              " (('sistema', 'dicha'), 1),\n",
              " (('dicha', 'encontraba'), 1),\n",
              " (('encontraba', 'legalizaron'), 1),\n",
              " (('legalizaron', 'llama'), 1),\n",
              " (('fotografico', 'presto'), 1),\n",
              " (('ingeomega', 'corte'), 1)]"
            ]
          },
          "metadata": {},
          "execution_count": 36
        }
      ]
    },
    {
      "cell_type": "code",
      "source": [
        "## Distribución de frecuencia de los trigramas.\n",
        "fdist_trigrams = nltk.FreqDist(ngrams(tokens,3))\n",
        "print('Tamanno del listado de bigramas=',len(fdist_trigrams))"
      ],
      "metadata": {
        "colab": {
          "base_uri": "https://localhost:8080/"
        },
        "id": "0TGnA8D_56hs",
        "outputId": "e0bf98f2-6e3f-4fc9-8976-8e58ec7fa3aa"
      },
      "execution_count": null,
      "outputs": [
        {
          "output_type": "stream",
          "name": "stdout",
          "text": [
            "Tamanno del listado de bigramas= 987719\n"
          ]
        }
      ]
    },
    {
      "cell_type": "code",
      "source": [
        "#Listado de \"n\" trigramas más comunes\n",
        "top_trigrams = fdist_trigrams.most_common(20)\n",
        "top_trigrams"
      ],
      "metadata": {
        "colab": {
          "base_uri": "https://localhost:8080/"
        },
        "id": "n1T3B21g6SBH",
        "outputId": "bd4a8be2-de5a-40a3-bb50-c327121f192c"
      },
      "execution_count": null,
      "outputs": [
        {
          "output_type": "execute_result",
          "data": {
            "text/plain": [
              "[(('transformador', 'quedo', 'normal'), 4351),\n",
              " (('fusible', 'transformador', 'quedo'), 2816),\n",
              " (('quedo', 'normal', 'fusible'), 2559),\n",
              " (('fusible', 'quedo', 'normal'), 2439),\n",
              " (('normal', 'fusible', 'transformador'), 1927),\n",
              " (('verifica', 'quedo', 'normal'), 1304),\n",
              " (('fusible', 'transformador', 'fusible'), 1287),\n",
              " (('linea', 'secundaria', 'rota'), 1153),\n",
              " (('transformador', 'fusible', 'transformador'), 1107),\n",
              " (('quedo', 'normal', 'repara'), 972),\n",
              " (('quedo', 'normal', 'reviso'), 956),\n",
              " (('quedo', 'pendiente', 'repara'), 954),\n",
              " (('repara', 'linea', 'secundaria'), 939),\n",
              " (('repara', 'red', 'secundaria'), 894),\n",
              " (('quedo', 'normal', 'apoyo'), 778),\n",
              " (('repara', 'acometida', 'secundaria'), 735),\n",
              " (('linea', 'primaria', 'rota'), 728),\n",
              " (('normal', 'quedo', 'pendiente'), 727),\n",
              " (('verifica', 'quedo', 'normalizado'), 675),\n",
              " (('retiro', 'arbol', 'linea'), 672)]"
            ]
          },
          "metadata": {},
          "execution_count": 38
        }
      ]
    },
    {
      "cell_type": "markdown",
      "source": [
        "## Identificación de texto mediano y atípico"
      ],
      "metadata": {
        "id": "ocOyLJtoph1D"
      }
    },
    {
      "cell_type": "code",
      "source": [
        "distancia = pd.read_csv('/content/drive/MyDrive/ProyectoIntegrador/Datos/distancias_pendientes.csv', encoding='latin-1')\n",
        "distancia = distancia[['WORKLOGID','distancia']]\n",
        "distancia = distancia.sort_values('distancia',ascending=True).reset_index(drop=True)\n",
        "distancia"
      ],
      "metadata": {
        "colab": {
          "base_uri": "https://localhost:8080/",
          "height": 423
        },
        "id": "WhtLCLLwpoBT",
        "outputId": "c370e650-42e6-42e6-8239-17ca84a8095c"
      },
      "execution_count": null,
      "outputs": [
        {
          "output_type": "execute_result",
          "data": {
            "text/plain": [
              "       WORKLOGID    distancia\n",
              "0        2587380  6090.972370\n",
              "1        2943696  6090.972370\n",
              "2        2869291  6090.972370\n",
              "3        2569002  6090.972370\n",
              "4        2660435  6090.972370\n",
              "...          ...          ...\n",
              "10393    2964823  9511.949139\n",
              "10394    2823873  9522.836086\n",
              "10395    2994412  9535.974850\n",
              "10396    3051481  9545.818148\n",
              "10397    3207792  9546.383173\n",
              "\n",
              "[10398 rows x 2 columns]"
            ],
            "text/html": [
              "\n",
              "  <div id=\"df-8d67f274-ffc7-4d9b-a280-31c5f2f3742d\">\n",
              "    <div class=\"colab-df-container\">\n",
              "      <div>\n",
              "<style scoped>\n",
              "    .dataframe tbody tr th:only-of-type {\n",
              "        vertical-align: middle;\n",
              "    }\n",
              "\n",
              "    .dataframe tbody tr th {\n",
              "        vertical-align: top;\n",
              "    }\n",
              "\n",
              "    .dataframe thead th {\n",
              "        text-align: right;\n",
              "    }\n",
              "</style>\n",
              "<table border=\"1\" class=\"dataframe\">\n",
              "  <thead>\n",
              "    <tr style=\"text-align: right;\">\n",
              "      <th></th>\n",
              "      <th>WORKLOGID</th>\n",
              "      <th>distancia</th>\n",
              "    </tr>\n",
              "  </thead>\n",
              "  <tbody>\n",
              "    <tr>\n",
              "      <th>0</th>\n",
              "      <td>2587380</td>\n",
              "      <td>6090.972370</td>\n",
              "    </tr>\n",
              "    <tr>\n",
              "      <th>1</th>\n",
              "      <td>2943696</td>\n",
              "      <td>6090.972370</td>\n",
              "    </tr>\n",
              "    <tr>\n",
              "      <th>2</th>\n",
              "      <td>2869291</td>\n",
              "      <td>6090.972370</td>\n",
              "    </tr>\n",
              "    <tr>\n",
              "      <th>3</th>\n",
              "      <td>2569002</td>\n",
              "      <td>6090.972370</td>\n",
              "    </tr>\n",
              "    <tr>\n",
              "      <th>4</th>\n",
              "      <td>2660435</td>\n",
              "      <td>6090.972370</td>\n",
              "    </tr>\n",
              "    <tr>\n",
              "      <th>...</th>\n",
              "      <td>...</td>\n",
              "      <td>...</td>\n",
              "    </tr>\n",
              "    <tr>\n",
              "      <th>10393</th>\n",
              "      <td>2964823</td>\n",
              "      <td>9511.949139</td>\n",
              "    </tr>\n",
              "    <tr>\n",
              "      <th>10394</th>\n",
              "      <td>2823873</td>\n",
              "      <td>9522.836086</td>\n",
              "    </tr>\n",
              "    <tr>\n",
              "      <th>10395</th>\n",
              "      <td>2994412</td>\n",
              "      <td>9535.974850</td>\n",
              "    </tr>\n",
              "    <tr>\n",
              "      <th>10396</th>\n",
              "      <td>3051481</td>\n",
              "      <td>9545.818148</td>\n",
              "    </tr>\n",
              "    <tr>\n",
              "      <th>10397</th>\n",
              "      <td>3207792</td>\n",
              "      <td>9546.383173</td>\n",
              "    </tr>\n",
              "  </tbody>\n",
              "</table>\n",
              "<p>10398 rows × 2 columns</p>\n",
              "</div>\n",
              "      <button class=\"colab-df-convert\" onclick=\"convertToInteractive('df-8d67f274-ffc7-4d9b-a280-31c5f2f3742d')\"\n",
              "              title=\"Convert this dataframe to an interactive table.\"\n",
              "              style=\"display:none;\">\n",
              "        \n",
              "  <svg xmlns=\"http://www.w3.org/2000/svg\" height=\"24px\"viewBox=\"0 0 24 24\"\n",
              "       width=\"24px\">\n",
              "    <path d=\"M0 0h24v24H0V0z\" fill=\"none\"/>\n",
              "    <path d=\"M18.56 5.44l.94 2.06.94-2.06 2.06-.94-2.06-.94-.94-2.06-.94 2.06-2.06.94zm-11 1L8.5 8.5l.94-2.06 2.06-.94-2.06-.94L8.5 2.5l-.94 2.06-2.06.94zm10 10l.94 2.06.94-2.06 2.06-.94-2.06-.94-.94-2.06-.94 2.06-2.06.94z\"/><path d=\"M17.41 7.96l-1.37-1.37c-.4-.4-.92-.59-1.43-.59-.52 0-1.04.2-1.43.59L10.3 9.45l-7.72 7.72c-.78.78-.78 2.05 0 2.83L4 21.41c.39.39.9.59 1.41.59.51 0 1.02-.2 1.41-.59l7.78-7.78 2.81-2.81c.8-.78.8-2.07 0-2.86zM5.41 20L4 18.59l7.72-7.72 1.47 1.35L5.41 20z\"/>\n",
              "  </svg>\n",
              "      </button>\n",
              "      \n",
              "  <style>\n",
              "    .colab-df-container {\n",
              "      display:flex;\n",
              "      flex-wrap:wrap;\n",
              "      gap: 12px;\n",
              "    }\n",
              "\n",
              "    .colab-df-convert {\n",
              "      background-color: #E8F0FE;\n",
              "      border: none;\n",
              "      border-radius: 50%;\n",
              "      cursor: pointer;\n",
              "      display: none;\n",
              "      fill: #1967D2;\n",
              "      height: 32px;\n",
              "      padding: 0 0 0 0;\n",
              "      width: 32px;\n",
              "    }\n",
              "\n",
              "    .colab-df-convert:hover {\n",
              "      background-color: #E2EBFA;\n",
              "      box-shadow: 0px 1px 2px rgba(60, 64, 67, 0.3), 0px 1px 3px 1px rgba(60, 64, 67, 0.15);\n",
              "      fill: #174EA6;\n",
              "    }\n",
              "\n",
              "    [theme=dark] .colab-df-convert {\n",
              "      background-color: #3B4455;\n",
              "      fill: #D2E3FC;\n",
              "    }\n",
              "\n",
              "    [theme=dark] .colab-df-convert:hover {\n",
              "      background-color: #434B5C;\n",
              "      box-shadow: 0px 1px 3px 1px rgba(0, 0, 0, 0.15);\n",
              "      filter: drop-shadow(0px 1px 2px rgba(0, 0, 0, 0.3));\n",
              "      fill: #FFFFFF;\n",
              "    }\n",
              "  </style>\n",
              "\n",
              "      <script>\n",
              "        const buttonEl =\n",
              "          document.querySelector('#df-8d67f274-ffc7-4d9b-a280-31c5f2f3742d button.colab-df-convert');\n",
              "        buttonEl.style.display =\n",
              "          google.colab.kernel.accessAllowed ? 'block' : 'none';\n",
              "\n",
              "        async function convertToInteractive(key) {\n",
              "          const element = document.querySelector('#df-8d67f274-ffc7-4d9b-a280-31c5f2f3742d');\n",
              "          const dataTable =\n",
              "            await google.colab.kernel.invokeFunction('convertToInteractive',\n",
              "                                                     [key], {});\n",
              "          if (!dataTable) return;\n",
              "\n",
              "          const docLinkHtml = 'Like what you see? Visit the ' +\n",
              "            '<a target=\"_blank\" href=https://colab.research.google.com/notebooks/data_table.ipynb>data table notebook</a>'\n",
              "            + ' to learn more about interactive tables.';\n",
              "          element.innerHTML = '';\n",
              "          dataTable['output_type'] = 'display_data';\n",
              "          await google.colab.output.renderOutput(dataTable, element);\n",
              "          const docLink = document.createElement('div');\n",
              "          docLink.innerHTML = docLinkHtml;\n",
              "          element.appendChild(docLink);\n",
              "        }\n",
              "      </script>\n",
              "    </div>\n",
              "  </div>\n",
              "  "
            ]
          },
          "metadata": {},
          "execution_count": 34
        }
      ]
    },
    {
      "cell_type": "code",
      "source": [
        "id_mediano=distancia.iloc[0,0]\n",
        "id_mediano"
      ],
      "metadata": {
        "colab": {
          "base_uri": "https://localhost:8080/"
        },
        "id": "0qjiD5Wbr5oz",
        "outputId": "febbb87d-01dd-4a51-ac79-0e08f9ddb47c"
      },
      "execution_count": null,
      "outputs": [
        {
          "output_type": "execute_result",
          "data": {
            "text/plain": [
              "2587380"
            ]
          },
          "metadata": {},
          "execution_count": 56
        }
      ]
    },
    {
      "cell_type": "code",
      "source": [
        "id_atipico = distancia.iloc[-1,0]\n",
        "id_atipico"
      ],
      "metadata": {
        "colab": {
          "base_uri": "https://localhost:8080/"
        },
        "id": "GKdACEx4q79B",
        "outputId": "ca16659a-6f29-4630-8516-cad6039fe9a0"
      },
      "execution_count": null,
      "outputs": [
        {
          "output_type": "execute_result",
          "data": {
            "text/plain": [
              "3207792"
            ]
          },
          "metadata": {},
          "execution_count": 57
        }
      ]
    },
    {
      "cell_type": "code",
      "source": [
        "textos = pd.read_csv('/content/drive/MyDrive/ProyectoIntegrador/Datos/datos_procesados.csv', encoding='latin-1')"
      ],
      "metadata": {
        "id": "TilzfeIJpoDy"
      },
      "execution_count": null,
      "outputs": []
    },
    {
      "cell_type": "code",
      "source": [
        "# texto mediano.\n",
        "textos[['WORKLOGID','procesado','tokens_proc']][textos['WORKLOGID']==id_mediano]"
      ],
      "metadata": {
        "colab": {
          "base_uri": "https://localhost:8080/",
          "height": 127
        },
        "id": "UUX0Vu4dpoGe",
        "outputId": "b169a15d-6875-4a5a-b084-4ff63c9805e2"
      },
      "execution_count": null,
      "outputs": [
        {
          "output_type": "execute_result",
          "data": {
            "text/plain": [
              "        WORKLOGID                                          procesado  \\\n",
              "153858    2587380  este evento quedo pendiente para el dia de man...   \n",
              "\n",
              "                            tokens_proc  \n",
              "153858  ['quedo', 'pendiente', 'rural']  "
            ],
            "text/html": [
              "\n",
              "  <div id=\"df-f7d1240c-295b-49e8-b0ae-b17bd8e7199c\">\n",
              "    <div class=\"colab-df-container\">\n",
              "      <div>\n",
              "<style scoped>\n",
              "    .dataframe tbody tr th:only-of-type {\n",
              "        vertical-align: middle;\n",
              "    }\n",
              "\n",
              "    .dataframe tbody tr th {\n",
              "        vertical-align: top;\n",
              "    }\n",
              "\n",
              "    .dataframe thead th {\n",
              "        text-align: right;\n",
              "    }\n",
              "</style>\n",
              "<table border=\"1\" class=\"dataframe\">\n",
              "  <thead>\n",
              "    <tr style=\"text-align: right;\">\n",
              "      <th></th>\n",
              "      <th>WORKLOGID</th>\n",
              "      <th>procesado</th>\n",
              "      <th>tokens_proc</th>\n",
              "    </tr>\n",
              "  </thead>\n",
              "  <tbody>\n",
              "    <tr>\n",
              "      <th>153858</th>\n",
              "      <td>2587380</td>\n",
              "      <td>este evento quedo pendiente para el dia de man...</td>\n",
              "      <td>['quedo', 'pendiente', 'rural']</td>\n",
              "    </tr>\n",
              "  </tbody>\n",
              "</table>\n",
              "</div>\n",
              "      <button class=\"colab-df-convert\" onclick=\"convertToInteractive('df-f7d1240c-295b-49e8-b0ae-b17bd8e7199c')\"\n",
              "              title=\"Convert this dataframe to an interactive table.\"\n",
              "              style=\"display:none;\">\n",
              "        \n",
              "  <svg xmlns=\"http://www.w3.org/2000/svg\" height=\"24px\"viewBox=\"0 0 24 24\"\n",
              "       width=\"24px\">\n",
              "    <path d=\"M0 0h24v24H0V0z\" fill=\"none\"/>\n",
              "    <path d=\"M18.56 5.44l.94 2.06.94-2.06 2.06-.94-2.06-.94-.94-2.06-.94 2.06-2.06.94zm-11 1L8.5 8.5l.94-2.06 2.06-.94-2.06-.94L8.5 2.5l-.94 2.06-2.06.94zm10 10l.94 2.06.94-2.06 2.06-.94-2.06-.94-.94-2.06-.94 2.06-2.06.94z\"/><path d=\"M17.41 7.96l-1.37-1.37c-.4-.4-.92-.59-1.43-.59-.52 0-1.04.2-1.43.59L10.3 9.45l-7.72 7.72c-.78.78-.78 2.05 0 2.83L4 21.41c.39.39.9.59 1.41.59.51 0 1.02-.2 1.41-.59l7.78-7.78 2.81-2.81c.8-.78.8-2.07 0-2.86zM5.41 20L4 18.59l7.72-7.72 1.47 1.35L5.41 20z\"/>\n",
              "  </svg>\n",
              "      </button>\n",
              "      \n",
              "  <style>\n",
              "    .colab-df-container {\n",
              "      display:flex;\n",
              "      flex-wrap:wrap;\n",
              "      gap: 12px;\n",
              "    }\n",
              "\n",
              "    .colab-df-convert {\n",
              "      background-color: #E8F0FE;\n",
              "      border: none;\n",
              "      border-radius: 50%;\n",
              "      cursor: pointer;\n",
              "      display: none;\n",
              "      fill: #1967D2;\n",
              "      height: 32px;\n",
              "      padding: 0 0 0 0;\n",
              "      width: 32px;\n",
              "    }\n",
              "\n",
              "    .colab-df-convert:hover {\n",
              "      background-color: #E2EBFA;\n",
              "      box-shadow: 0px 1px 2px rgba(60, 64, 67, 0.3), 0px 1px 3px 1px rgba(60, 64, 67, 0.15);\n",
              "      fill: #174EA6;\n",
              "    }\n",
              "\n",
              "    [theme=dark] .colab-df-convert {\n",
              "      background-color: #3B4455;\n",
              "      fill: #D2E3FC;\n",
              "    }\n",
              "\n",
              "    [theme=dark] .colab-df-convert:hover {\n",
              "      background-color: #434B5C;\n",
              "      box-shadow: 0px 1px 3px 1px rgba(0, 0, 0, 0.15);\n",
              "      filter: drop-shadow(0px 1px 2px rgba(0, 0, 0, 0.3));\n",
              "      fill: #FFFFFF;\n",
              "    }\n",
              "  </style>\n",
              "\n",
              "      <script>\n",
              "        const buttonEl =\n",
              "          document.querySelector('#df-f7d1240c-295b-49e8-b0ae-b17bd8e7199c button.colab-df-convert');\n",
              "        buttonEl.style.display =\n",
              "          google.colab.kernel.accessAllowed ? 'block' : 'none';\n",
              "\n",
              "        async function convertToInteractive(key) {\n",
              "          const element = document.querySelector('#df-f7d1240c-295b-49e8-b0ae-b17bd8e7199c');\n",
              "          const dataTable =\n",
              "            await google.colab.kernel.invokeFunction('convertToInteractive',\n",
              "                                                     [key], {});\n",
              "          if (!dataTable) return;\n",
              "\n",
              "          const docLinkHtml = 'Like what you see? Visit the ' +\n",
              "            '<a target=\"_blank\" href=https://colab.research.google.com/notebooks/data_table.ipynb>data table notebook</a>'\n",
              "            + ' to learn more about interactive tables.';\n",
              "          element.innerHTML = '';\n",
              "          dataTable['output_type'] = 'display_data';\n",
              "          await google.colab.output.renderOutput(dataTable, element);\n",
              "          const docLink = document.createElement('div');\n",
              "          docLink.innerHTML = docLinkHtml;\n",
              "          element.appendChild(docLink);\n",
              "        }\n",
              "      </script>\n",
              "    </div>\n",
              "  </div>\n",
              "  "
            ]
          },
          "metadata": {},
          "execution_count": 63
        }
      ]
    },
    {
      "cell_type": "code",
      "source": [
        "# texto atipico\n",
        "textos[['WORKLOGID','procesado','tokens_proc']][textos['WORKLOGID']==id_atipico]"
      ],
      "metadata": {
        "colab": {
          "base_uri": "https://localhost:8080/",
          "height": 194
        },
        "id": "qd_fsQYbugo-",
        "outputId": "59908eb0-8162-47f0-b975-b44f874ab26b"
      },
      "execution_count": null,
      "outputs": [
        {
          "output_type": "execute_result",
          "data": {
            "text/plain": [
              "       WORKLOGID                                          procesado  \\\n",
              "63164    3207792  se visita la ruta en la vereda sabanas se entr...   \n",
              "\n",
              "                                             tokens_proc  \n",
              "63164  ['ruta', 'sabanas', 'entro', 'intento', 'comun...  "
            ],
            "text/html": [
              "\n",
              "  <div id=\"df-d714bf3f-36af-47fe-8e8f-f9e573480bc4\">\n",
              "    <div class=\"colab-df-container\">\n",
              "      <div>\n",
              "<style scoped>\n",
              "    .dataframe tbody tr th:only-of-type {\n",
              "        vertical-align: middle;\n",
              "    }\n",
              "\n",
              "    .dataframe tbody tr th {\n",
              "        vertical-align: top;\n",
              "    }\n",
              "\n",
              "    .dataframe thead th {\n",
              "        text-align: right;\n",
              "    }\n",
              "</style>\n",
              "<table border=\"1\" class=\"dataframe\">\n",
              "  <thead>\n",
              "    <tr style=\"text-align: right;\">\n",
              "      <th></th>\n",
              "      <th>WORKLOGID</th>\n",
              "      <th>procesado</th>\n",
              "      <th>tokens_proc</th>\n",
              "    </tr>\n",
              "  </thead>\n",
              "  <tbody>\n",
              "    <tr>\n",
              "      <th>63164</th>\n",
              "      <td>3207792</td>\n",
              "      <td>se visita la ruta en la vereda sabanas se entr...</td>\n",
              "      <td>['ruta', 'sabanas', 'entro', 'intento', 'comun...</td>\n",
              "    </tr>\n",
              "  </tbody>\n",
              "</table>\n",
              "</div>\n",
              "      <button class=\"colab-df-convert\" onclick=\"convertToInteractive('df-d714bf3f-36af-47fe-8e8f-f9e573480bc4')\"\n",
              "              title=\"Convert this dataframe to an interactive table.\"\n",
              "              style=\"display:none;\">\n",
              "        \n",
              "  <svg xmlns=\"http://www.w3.org/2000/svg\" height=\"24px\"viewBox=\"0 0 24 24\"\n",
              "       width=\"24px\">\n",
              "    <path d=\"M0 0h24v24H0V0z\" fill=\"none\"/>\n",
              "    <path d=\"M18.56 5.44l.94 2.06.94-2.06 2.06-.94-2.06-.94-.94-2.06-.94 2.06-2.06.94zm-11 1L8.5 8.5l.94-2.06 2.06-.94-2.06-.94L8.5 2.5l-.94 2.06-2.06.94zm10 10l.94 2.06.94-2.06 2.06-.94-2.06-.94-.94-2.06-.94 2.06-2.06.94z\"/><path d=\"M17.41 7.96l-1.37-1.37c-.4-.4-.92-.59-1.43-.59-.52 0-1.04.2-1.43.59L10.3 9.45l-7.72 7.72c-.78.78-.78 2.05 0 2.83L4 21.41c.39.39.9.59 1.41.59.51 0 1.02-.2 1.41-.59l7.78-7.78 2.81-2.81c.8-.78.8-2.07 0-2.86zM5.41 20L4 18.59l7.72-7.72 1.47 1.35L5.41 20z\"/>\n",
              "  </svg>\n",
              "      </button>\n",
              "      \n",
              "  <style>\n",
              "    .colab-df-container {\n",
              "      display:flex;\n",
              "      flex-wrap:wrap;\n",
              "      gap: 12px;\n",
              "    }\n",
              "\n",
              "    .colab-df-convert {\n",
              "      background-color: #E8F0FE;\n",
              "      border: none;\n",
              "      border-radius: 50%;\n",
              "      cursor: pointer;\n",
              "      display: none;\n",
              "      fill: #1967D2;\n",
              "      height: 32px;\n",
              "      padding: 0 0 0 0;\n",
              "      width: 32px;\n",
              "    }\n",
              "\n",
              "    .colab-df-convert:hover {\n",
              "      background-color: #E2EBFA;\n",
              "      box-shadow: 0px 1px 2px rgba(60, 64, 67, 0.3), 0px 1px 3px 1px rgba(60, 64, 67, 0.15);\n",
              "      fill: #174EA6;\n",
              "    }\n",
              "\n",
              "    [theme=dark] .colab-df-convert {\n",
              "      background-color: #3B4455;\n",
              "      fill: #D2E3FC;\n",
              "    }\n",
              "\n",
              "    [theme=dark] .colab-df-convert:hover {\n",
              "      background-color: #434B5C;\n",
              "      box-shadow: 0px 1px 3px 1px rgba(0, 0, 0, 0.15);\n",
              "      filter: drop-shadow(0px 1px 2px rgba(0, 0, 0, 0.3));\n",
              "      fill: #FFFFFF;\n",
              "    }\n",
              "  </style>\n",
              "\n",
              "      <script>\n",
              "        const buttonEl =\n",
              "          document.querySelector('#df-d714bf3f-36af-47fe-8e8f-f9e573480bc4 button.colab-df-convert');\n",
              "        buttonEl.style.display =\n",
              "          google.colab.kernel.accessAllowed ? 'block' : 'none';\n",
              "\n",
              "        async function convertToInteractive(key) {\n",
              "          const element = document.querySelector('#df-d714bf3f-36af-47fe-8e8f-f9e573480bc4');\n",
              "          const dataTable =\n",
              "            await google.colab.kernel.invokeFunction('convertToInteractive',\n",
              "                                                     [key], {});\n",
              "          if (!dataTable) return;\n",
              "\n",
              "          const docLinkHtml = 'Like what you see? Visit the ' +\n",
              "            '<a target=\"_blank\" href=https://colab.research.google.com/notebooks/data_table.ipynb>data table notebook</a>'\n",
              "            + ' to learn more about interactive tables.';\n",
              "          element.innerHTML = '';\n",
              "          dataTable['output_type'] = 'display_data';\n",
              "          await google.colab.output.renderOutput(dataTable, element);\n",
              "          const docLink = document.createElement('div');\n",
              "          docLink.innerHTML = docLinkHtml;\n",
              "          element.appendChild(docLink);\n",
              "        }\n",
              "      </script>\n",
              "    </div>\n",
              "  </div>\n",
              "  "
            ]
          },
          "metadata": {},
          "execution_count": 62
        }
      ]
    }
  ]
}