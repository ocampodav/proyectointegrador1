{
  "nbformat": 4,
  "nbformat_minor": 0,
  "metadata": {
    "colab": {
      "provenance": []
    },
    "kernelspec": {
      "name": "python3",
      "display_name": "Python 3"
    },
    "language_info": {
      "name": "python"
    }
  },
  "cells": [
    {
      "cell_type": "markdown",
      "source": [
        "##**Clasificación con métodos no supervisados**\n",
        "\n",
        "#### Clasificación de registros de trabajos con tareas pendientes usando métodos no supervisados (k-means, LDA)\n",
        "\n",
        "Se busca identificar los activos afectados para los cuales se han dejado tareas pendientes."
      ],
      "metadata": {
        "id": "VOui40mXvidO"
      }
    },
    {
      "cell_type": "markdown",
      "source": [
        "**Preparar notebook**"
      ],
      "metadata": {
        "id": "yninId4yvt0-"
      }
    },
    {
      "cell_type": "code",
      "execution_count": null,
      "metadata": {
        "colab": {
          "base_uri": "https://localhost:8080/"
        },
        "id": "8SDdNd0qN5jm",
        "outputId": "18f54f48-a7dc-4ad5-e519-7930d490a063"
      },
      "outputs": [
        {
          "output_type": "stream",
          "name": "stdout",
          "text": [
            "Drive already mounted at /content/drive; to attempt to forcibly remount, call drive.mount(\"/content/drive\", force_remount=True).\n"
          ]
        }
      ],
      "source": [
        "## Conectar el notebook a googledrive\n",
        "from google.colab import drive\n",
        "drive.mount('/content/drive')"
      ]
    },
    {
      "cell_type": "code",
      "source": [
        "## Importar librerias necesarias\n",
        "import nltk\n",
        "import pandas as pd\n",
        "import numpy as np\n",
        "import re\n",
        "import codecs\n",
        "import matplotlib.pyplot as plt\n",
        "from collections import Counter\n",
        "from wordcloud import WordCloud\n",
        "from nltk.util import ngrams\n",
        "from nltk import bigrams\n",
        "from gensim.corpora import Dictionary\n",
        "from gensim.models.ldamulticore import LdaMulticore\n",
        "import multiprocessing as mp\n",
        "import time\n",
        "import spacy"
      ],
      "metadata": {
        "id": "qcR-_zr0Ojnl"
      },
      "execution_count": null,
      "outputs": []
    },
    {
      "cell_type": "code",
      "source": [
        "## Descargar el corpus de nltk para 'tokenizer', 'stopwords'\n",
        "nltk.download('punkt')\n",
        "nltk.download('stopwords')\n",
        "nltk.download('wordnet')\n",
        "nltk.download('omw-1.4')\n",
        "\n",
        "# Importar stopwords\n",
        "from nltk.corpus import stopwords\n",
        "stop_words_nltk = set(stopwords.words('spanish'))\n",
        "\n",
        "from nltk.probability import ConditionalFreqDist\n",
        "from nltk.tokenize import word_tokenize"
      ],
      "metadata": {
        "colab": {
          "base_uri": "https://localhost:8080/"
        },
        "id": "QkHi50LWPFcI",
        "outputId": "c6f8b198-be85-4be6-bbad-15983b9c300d"
      },
      "execution_count": null,
      "outputs": [
        {
          "output_type": "stream",
          "name": "stderr",
          "text": [
            "[nltk_data] Downloading package punkt to /root/nltk_data...\n",
            "[nltk_data]   Package punkt is already up-to-date!\n",
            "[nltk_data] Downloading package stopwords to /root/nltk_data...\n",
            "[nltk_data]   Package stopwords is already up-to-date!\n",
            "[nltk_data] Downloading package wordnet to /root/nltk_data...\n",
            "[nltk_data]   Package wordnet is already up-to-date!\n",
            "[nltk_data] Downloading package omw-1.4 to /root/nltk_data...\n",
            "[nltk_data]   Package omw-1.4 is already up-to-date!\n"
          ]
        }
      ]
    },
    {
      "cell_type": "code",
      "source": [
        "# Descargar spaCy Language Model\n",
        "!python -m spacy download es_core_news_lg\n",
        "#!python -m spacy download es_core_news_md\n",
        "nlp = spacy.load(\"es_core_news_lg\")\n",
        "#nlp = spacy.load(\"es_core_news_md\") #sm: no word vectors, md: reduced word vector, lg: large word vector, trf: transformer pipeline without static word vectors)"
      ],
      "metadata": {
        "colab": {
          "base_uri": "https://localhost:8080/"
        },
        "id": "EfpQTZYUSgD5",
        "outputId": "76bac47e-3291-4fe3-ac4d-7a5d9d5e8fbd"
      },
      "execution_count": null,
      "outputs": [
        {
          "output_type": "stream",
          "name": "stdout",
          "text": [
            "2022-12-03 16:36:09.565811: E tensorflow/stream_executor/cuda/cuda_driver.cc:271] failed call to cuInit: CUDA_ERROR_NO_DEVICE: no CUDA-capable device is detected\n",
            "Looking in indexes: https://pypi.org/simple, https://us-python.pkg.dev/colab-wheels/public/simple/\n",
            "Collecting es-core-news-lg==3.4.0\n",
            "  Downloading https://github.com/explosion/spacy-models/releases/download/es_core_news_lg-3.4.0/es_core_news_lg-3.4.0-py3-none-any.whl (568.0 MB)\n",
            "\u001b[K     |████████████████████████████████| 568.0 MB 7.2 kB/s \n",
            "\u001b[?25hRequirement already satisfied: spacy<3.5.0,>=3.4.0 in /usr/local/lib/python3.8/dist-packages (from es-core-news-lg==3.4.0) (3.4.3)\n",
            "Requirement already satisfied: spacy-legacy<3.1.0,>=3.0.10 in /usr/local/lib/python3.8/dist-packages (from spacy<3.5.0,>=3.4.0->es-core-news-lg==3.4.0) (3.0.10)\n",
            "Requirement already satisfied: cymem<2.1.0,>=2.0.2 in /usr/local/lib/python3.8/dist-packages (from spacy<3.5.0,>=3.4.0->es-core-news-lg==3.4.0) (2.0.7)\n",
            "Requirement already satisfied: typer<0.8.0,>=0.3.0 in /usr/local/lib/python3.8/dist-packages (from spacy<3.5.0,>=3.4.0->es-core-news-lg==3.4.0) (0.7.0)\n",
            "Requirement already satisfied: packaging>=20.0 in /usr/local/lib/python3.8/dist-packages (from spacy<3.5.0,>=3.4.0->es-core-news-lg==3.4.0) (21.3)\n",
            "Requirement already satisfied: murmurhash<1.1.0,>=0.28.0 in /usr/local/lib/python3.8/dist-packages (from spacy<3.5.0,>=3.4.0->es-core-news-lg==3.4.0) (1.0.9)\n",
            "Requirement already satisfied: wasabi<1.1.0,>=0.9.1 in /usr/local/lib/python3.8/dist-packages (from spacy<3.5.0,>=3.4.0->es-core-news-lg==3.4.0) (0.10.1)\n",
            "Requirement already satisfied: srsly<3.0.0,>=2.4.3 in /usr/local/lib/python3.8/dist-packages (from spacy<3.5.0,>=3.4.0->es-core-news-lg==3.4.0) (2.4.5)\n",
            "Requirement already satisfied: jinja2 in /usr/local/lib/python3.8/dist-packages (from spacy<3.5.0,>=3.4.0->es-core-news-lg==3.4.0) (2.11.3)\n",
            "Requirement already satisfied: numpy>=1.15.0 in /usr/local/lib/python3.8/dist-packages (from spacy<3.5.0,>=3.4.0->es-core-news-lg==3.4.0) (1.21.6)\n",
            "Requirement already satisfied: setuptools in /usr/local/lib/python3.8/dist-packages (from spacy<3.5.0,>=3.4.0->es-core-news-lg==3.4.0) (57.4.0)\n",
            "Requirement already satisfied: preshed<3.1.0,>=3.0.2 in /usr/local/lib/python3.8/dist-packages (from spacy<3.5.0,>=3.4.0->es-core-news-lg==3.4.0) (3.0.8)\n",
            "Requirement already satisfied: requests<3.0.0,>=2.13.0 in /usr/local/lib/python3.8/dist-packages (from spacy<3.5.0,>=3.4.0->es-core-news-lg==3.4.0) (2.23.0)\n",
            "Requirement already satisfied: pathy>=0.3.5 in /usr/local/lib/python3.8/dist-packages (from spacy<3.5.0,>=3.4.0->es-core-news-lg==3.4.0) (0.9.0)\n",
            "Requirement already satisfied: tqdm<5.0.0,>=4.38.0 in /usr/local/lib/python3.8/dist-packages (from spacy<3.5.0,>=3.4.0->es-core-news-lg==3.4.0) (4.64.1)\n",
            "Requirement already satisfied: catalogue<2.1.0,>=2.0.6 in /usr/local/lib/python3.8/dist-packages (from spacy<3.5.0,>=3.4.0->es-core-news-lg==3.4.0) (2.0.8)\n",
            "Requirement already satisfied: pydantic!=1.8,!=1.8.1,<1.11.0,>=1.7.4 in /usr/local/lib/python3.8/dist-packages (from spacy<3.5.0,>=3.4.0->es-core-news-lg==3.4.0) (1.10.2)\n",
            "Requirement already satisfied: thinc<8.2.0,>=8.1.0 in /usr/local/lib/python3.8/dist-packages (from spacy<3.5.0,>=3.4.0->es-core-news-lg==3.4.0) (8.1.5)\n",
            "Requirement already satisfied: langcodes<4.0.0,>=3.2.0 in /usr/local/lib/python3.8/dist-packages (from spacy<3.5.0,>=3.4.0->es-core-news-lg==3.4.0) (3.3.0)\n",
            "Requirement already satisfied: spacy-loggers<2.0.0,>=1.0.0 in /usr/local/lib/python3.8/dist-packages (from spacy<3.5.0,>=3.4.0->es-core-news-lg==3.4.0) (1.0.3)\n",
            "Requirement already satisfied: pyparsing!=3.0.5,>=2.0.2 in /usr/local/lib/python3.8/dist-packages (from packaging>=20.0->spacy<3.5.0,>=3.4.0->es-core-news-lg==3.4.0) (3.0.9)\n",
            "Requirement already satisfied: smart-open<6.0.0,>=5.2.1 in /usr/local/lib/python3.8/dist-packages (from pathy>=0.3.5->spacy<3.5.0,>=3.4.0->es-core-news-lg==3.4.0) (5.2.1)\n",
            "Requirement already satisfied: typing-extensions>=4.1.0 in /usr/local/lib/python3.8/dist-packages (from pydantic!=1.8,!=1.8.1,<1.11.0,>=1.7.4->spacy<3.5.0,>=3.4.0->es-core-news-lg==3.4.0) (4.1.1)\n",
            "Requirement already satisfied: urllib3!=1.25.0,!=1.25.1,<1.26,>=1.21.1 in /usr/local/lib/python3.8/dist-packages (from requests<3.0.0,>=2.13.0->spacy<3.5.0,>=3.4.0->es-core-news-lg==3.4.0) (1.24.3)\n",
            "Requirement already satisfied: chardet<4,>=3.0.2 in /usr/local/lib/python3.8/dist-packages (from requests<3.0.0,>=2.13.0->spacy<3.5.0,>=3.4.0->es-core-news-lg==3.4.0) (3.0.4)\n",
            "Requirement already satisfied: idna<3,>=2.5 in /usr/local/lib/python3.8/dist-packages (from requests<3.0.0,>=2.13.0->spacy<3.5.0,>=3.4.0->es-core-news-lg==3.4.0) (2.10)\n",
            "Requirement already satisfied: certifi>=2017.4.17 in /usr/local/lib/python3.8/dist-packages (from requests<3.0.0,>=2.13.0->spacy<3.5.0,>=3.4.0->es-core-news-lg==3.4.0) (2022.9.24)\n",
            "Requirement already satisfied: confection<1.0.0,>=0.0.1 in /usr/local/lib/python3.8/dist-packages (from thinc<8.2.0,>=8.1.0->spacy<3.5.0,>=3.4.0->es-core-news-lg==3.4.0) (0.0.3)\n",
            "Requirement already satisfied: blis<0.8.0,>=0.7.8 in /usr/local/lib/python3.8/dist-packages (from thinc<8.2.0,>=8.1.0->spacy<3.5.0,>=3.4.0->es-core-news-lg==3.4.0) (0.7.9)\n",
            "Requirement already satisfied: click<9.0.0,>=7.1.1 in /usr/local/lib/python3.8/dist-packages (from typer<0.8.0,>=0.3.0->spacy<3.5.0,>=3.4.0->es-core-news-lg==3.4.0) (7.1.2)\n",
            "Requirement already satisfied: MarkupSafe>=0.23 in /usr/local/lib/python3.8/dist-packages (from jinja2->spacy<3.5.0,>=3.4.0->es-core-news-lg==3.4.0) (2.0.1)\n",
            "Installing collected packages: es-core-news-lg\n",
            "Successfully installed es-core-news-lg-3.4.0\n",
            "\u001b[38;5;2m✔ Download and installation successful\u001b[0m\n",
            "You can now load the package via spacy.load('es_core_news_lg')\n"
          ]
        }
      ]
    },
    {
      "cell_type": "markdown",
      "source": [
        "**Cargar los Datos Pendientes**"
      ],
      "metadata": {
        "id": "qPGnHDRkv6-_"
      }
    },
    {
      "cell_type": "code",
      "source": [
        "df = pd.read_csv('/content/drive/MyDrive/ProyectoIntegrador/Datos/datos_pendiente.csv', encoding='latin-1')\n",
        "#Habilitar la siguiente línea para correr el proyecto de manera local\n",
        "#df = pd.read_csv('/content/datos_pendiente.csv', encoding='latin-1')\n",
        "df.shape"
      ],
      "metadata": {
        "colab": {
          "base_uri": "https://localhost:8080/"
        },
        "id": "NrHOB1WbPOCR",
        "outputId": "627073a8-ac67-4e7d-b0b4-867ac0c44cfb"
      },
      "execution_count": null,
      "outputs": [
        {
          "output_type": "execute_result",
          "data": {
            "text/plain": [
              "(10468, 12)"
            ]
          },
          "metadata": {},
          "execution_count": 104
        }
      ]
    },
    {
      "cell_type": "code",
      "source": [
        "## Recuperar los tokes (como lista) que se extrajeron en el textprep y que al exportar el archivo .csv se cargaron como cadenas de texto\n",
        "df['tokens_proc'] = df['tokens_proc'].apply(lambda x: re.sub('[\\[\\]\\']+', '', str(x)))\n",
        "df['tokens_proc'] = df['tokens_proc'].apply(lambda x: x.split(', '))"
      ],
      "metadata": {
        "id": "ns0L8OKU3S7Q"
      },
      "execution_count": null,
      "outputs": []
    },
    {
      "cell_type": "code",
      "source": [
        "distancias = pd.read_csv('/content/drive/MyDrive/ProyectoIntegrador/Datos/distancias_pendientes.csv', encoding='latin-1')\n",
        "distancias.shape"
      ],
      "metadata": {
        "colab": {
          "base_uri": "https://localhost:8080/"
        },
        "id": "wQvVNjl2wgBy",
        "outputId": "8bdb4169-4a32-4625-a1b7-266eeaf928fd"
      },
      "execution_count": null,
      "outputs": [
        {
          "output_type": "execute_result",
          "data": {
            "text/plain": [
              "(10398, 3)"
            ]
          },
          "metadata": {},
          "execution_count": 106
        }
      ]
    },
    {
      "cell_type": "code",
      "source": [
        "percentile90 = distancias['distancia'].quantile(0.90)\n",
        "percentile90"
      ],
      "metadata": {
        "colab": {
          "base_uri": "https://localhost:8080/"
        },
        "id": "WtpNEdfvz_pB",
        "outputId": "b3b0051e-5cc8-4e9f-8d27-5cd2eb097fb4"
      },
      "execution_count": null,
      "outputs": [
        {
          "output_type": "execute_result",
          "data": {
            "text/plain": [
              "8604.775329458535"
            ]
          },
          "metadata": {},
          "execution_count": 107
        }
      ]
    },
    {
      "cell_type": "code",
      "source": [
        "outliers = distancias[distancias['distancia']>percentile90]\n",
        "outliers.shape"
      ],
      "metadata": {
        "colab": {
          "base_uri": "https://localhost:8080/"
        },
        "id": "8h9r069Y0ub9",
        "outputId": "4d0ed9c3-a687-4f6e-8acc-37499ab02f72"
      },
      "execution_count": null,
      "outputs": [
        {
          "output_type": "execute_result",
          "data": {
            "text/plain": [
              "(1040, 3)"
            ]
          },
          "metadata": {},
          "execution_count": 108
        }
      ]
    },
    {
      "cell_type": "code",
      "source": [
        "df = df[~df['WORKLOGID'].isin(outliers['WORKLOGID'])].reset_index(drop=True)"
      ],
      "metadata": {
        "id": "Mw3AkAZ-yF5d"
      },
      "execution_count": null,
      "outputs": []
    },
    {
      "cell_type": "code",
      "source": [
        "# Definición del listado de palabras vacías\n",
        "otras_vacias = ['quedo','pendiente','hoy','debe']"
      ],
      "metadata": {
        "id": "tIqZ--xHM7rK"
      },
      "execution_count": null,
      "outputs": []
    },
    {
      "cell_type": "code",
      "source": [
        "##Defición de función que reciba la columna del dataframe con los tokens y una lista de palabras para eliminar\n",
        "def remover_palabra (tokens):\n",
        "  for i in range(len(tokens)):\n",
        "    tokens[i] = [w for w in tokens[i] if w not in otras_vacias]\n",
        "  return tokens"
      ],
      "metadata": {
        "id": "RyzIGMuJMpaJ"
      },
      "execution_count": null,
      "outputs": []
    },
    {
      "cell_type": "code",
      "source": [
        "df['tokens_proc'] = remover_palabra(df['tokens_proc'])"
      ],
      "metadata": {
        "colab": {
          "base_uri": "https://localhost:8080/"
        },
        "id": "-y0iwlNiMrJv",
        "outputId": "cd38c935-9abd-4b9b-fdd6-0f017749bd14"
      },
      "execution_count": null,
      "outputs": [
        {
          "output_type": "stream",
          "name": "stderr",
          "text": [
            "<ipython-input-113-e4afa0946961>:4: SettingWithCopyWarning: \n",
            "A value is trying to be set on a copy of a slice from a DataFrame\n",
            "\n",
            "See the caveats in the documentation: https://pandas.pydata.org/pandas-docs/stable/user_guide/indexing.html#returning-a-view-versus-a-copy\n",
            "  tokens[i] = [w for w in tokens[i] if w not in otras_vacias]\n"
          ]
        }
      ]
    },
    {
      "cell_type": "code",
      "source": [
        "#Seleccionar las columnas de interés para el análisis\n",
        "datos = df[['WORKLOGID','procesado', 'tokens_proc', 'tokensunidos']]\n",
        "datos.head(5)"
      ],
      "metadata": {
        "colab": {
          "base_uri": "https://localhost:8080/",
          "height": 206
        },
        "id": "6WLx-9e0SvZM",
        "outputId": "2e5ef8d7-d0ce-42d7-bfed-28653ce6c7c5"
      },
      "execution_count": null,
      "outputs": [
        {
          "output_type": "execute_result",
          "data": {
            "text/plain": [
              "   WORKLOGID                                          procesado  \\\n",
              "0    2789392  se realizo poda en varios ramales secundarios ...   \n",
              "1    2857541  se encuentra linea primarias de en el suelo se...   \n",
              "2    2437852  se visita la ruta y se inspeccionan dos poste ...   \n",
              "3    2685049  se abrio puente agua abajo de transformador qu...   \n",
              "4    2854713  se visita direccion y se encuentra linea pri m...   \n",
              "\n",
              "                                         tokens_proc  \\\n",
              "0  [poda, varios, ramales, secundarios, fusible, ...   \n",
              "1  [linea, primarias, suelo, procede, repara, dan...   \n",
              "2  [ruta, inspeccionan, dos, poste, reportados, c...   \n",
              "3  [abrio, puente, agua, abajo, transformador, re...   \n",
              "4  [linea, pri, caida, arbol, habre, corte, repar...   \n",
              "\n",
              "                                        tokensunidos  \n",
              "0  poda varios ramales secundarios fusible transf...  \n",
              "1  linea primarias suelo procede repara dano caus...  \n",
              "2  ruta inspeccionan dos poste reportados cuales ...  \n",
              "3  abrio puente agua abajo transformador quedo pe...  \n",
              "4  linea pri caida arbol habre corte quedo pendie...  "
            ],
            "text/html": [
              "\n",
              "  <div id=\"df-ed959acf-a7ac-46f8-a347-bcc215e1970a\">\n",
              "    <div class=\"colab-df-container\">\n",
              "      <div>\n",
              "<style scoped>\n",
              "    .dataframe tbody tr th:only-of-type {\n",
              "        vertical-align: middle;\n",
              "    }\n",
              "\n",
              "    .dataframe tbody tr th {\n",
              "        vertical-align: top;\n",
              "    }\n",
              "\n",
              "    .dataframe thead th {\n",
              "        text-align: right;\n",
              "    }\n",
              "</style>\n",
              "<table border=\"1\" class=\"dataframe\">\n",
              "  <thead>\n",
              "    <tr style=\"text-align: right;\">\n",
              "      <th></th>\n",
              "      <th>WORKLOGID</th>\n",
              "      <th>procesado</th>\n",
              "      <th>tokens_proc</th>\n",
              "      <th>tokensunidos</th>\n",
              "    </tr>\n",
              "  </thead>\n",
              "  <tbody>\n",
              "    <tr>\n",
              "      <th>0</th>\n",
              "      <td>2789392</td>\n",
              "      <td>se realizo poda en varios ramales secundarios ...</td>\n",
              "      <td>[poda, varios, ramales, secundarios, fusible, ...</td>\n",
              "      <td>poda varios ramales secundarios fusible transf...</td>\n",
              "    </tr>\n",
              "    <tr>\n",
              "      <th>1</th>\n",
              "      <td>2857541</td>\n",
              "      <td>se encuentra linea primarias de en el suelo se...</td>\n",
              "      <td>[linea, primarias, suelo, procede, repara, dan...</td>\n",
              "      <td>linea primarias suelo procede repara dano caus...</td>\n",
              "    </tr>\n",
              "    <tr>\n",
              "      <th>2</th>\n",
              "      <td>2437852</td>\n",
              "      <td>se visita la ruta y se inspeccionan dos poste ...</td>\n",
              "      <td>[ruta, inspeccionan, dos, poste, reportados, c...</td>\n",
              "      <td>ruta inspeccionan dos poste reportados cuales ...</td>\n",
              "    </tr>\n",
              "    <tr>\n",
              "      <th>3</th>\n",
              "      <td>2685049</td>\n",
              "      <td>se abrio puente agua abajo de transformador qu...</td>\n",
              "      <td>[abrio, puente, agua, abajo, transformador, re...</td>\n",
              "      <td>abrio puente agua abajo transformador quedo pe...</td>\n",
              "    </tr>\n",
              "    <tr>\n",
              "      <th>4</th>\n",
              "      <td>2854713</td>\n",
              "      <td>se visita direccion y se encuentra linea pri m...</td>\n",
              "      <td>[linea, pri, caida, arbol, habre, corte, repar...</td>\n",
              "      <td>linea pri caida arbol habre corte quedo pendie...</td>\n",
              "    </tr>\n",
              "  </tbody>\n",
              "</table>\n",
              "</div>\n",
              "      <button class=\"colab-df-convert\" onclick=\"convertToInteractive('df-ed959acf-a7ac-46f8-a347-bcc215e1970a')\"\n",
              "              title=\"Convert this dataframe to an interactive table.\"\n",
              "              style=\"display:none;\">\n",
              "        \n",
              "  <svg xmlns=\"http://www.w3.org/2000/svg\" height=\"24px\"viewBox=\"0 0 24 24\"\n",
              "       width=\"24px\">\n",
              "    <path d=\"M0 0h24v24H0V0z\" fill=\"none\"/>\n",
              "    <path d=\"M18.56 5.44l.94 2.06.94-2.06 2.06-.94-2.06-.94-.94-2.06-.94 2.06-2.06.94zm-11 1L8.5 8.5l.94-2.06 2.06-.94-2.06-.94L8.5 2.5l-.94 2.06-2.06.94zm10 10l.94 2.06.94-2.06 2.06-.94-2.06-.94-.94-2.06-.94 2.06-2.06.94z\"/><path d=\"M17.41 7.96l-1.37-1.37c-.4-.4-.92-.59-1.43-.59-.52 0-1.04.2-1.43.59L10.3 9.45l-7.72 7.72c-.78.78-.78 2.05 0 2.83L4 21.41c.39.39.9.59 1.41.59.51 0 1.02-.2 1.41-.59l7.78-7.78 2.81-2.81c.8-.78.8-2.07 0-2.86zM5.41 20L4 18.59l7.72-7.72 1.47 1.35L5.41 20z\"/>\n",
              "  </svg>\n",
              "      </button>\n",
              "      \n",
              "  <style>\n",
              "    .colab-df-container {\n",
              "      display:flex;\n",
              "      flex-wrap:wrap;\n",
              "      gap: 12px;\n",
              "    }\n",
              "\n",
              "    .colab-df-convert {\n",
              "      background-color: #E8F0FE;\n",
              "      border: none;\n",
              "      border-radius: 50%;\n",
              "      cursor: pointer;\n",
              "      display: none;\n",
              "      fill: #1967D2;\n",
              "      height: 32px;\n",
              "      padding: 0 0 0 0;\n",
              "      width: 32px;\n",
              "    }\n",
              "\n",
              "    .colab-df-convert:hover {\n",
              "      background-color: #E2EBFA;\n",
              "      box-shadow: 0px 1px 2px rgba(60, 64, 67, 0.3), 0px 1px 3px 1px rgba(60, 64, 67, 0.15);\n",
              "      fill: #174EA6;\n",
              "    }\n",
              "\n",
              "    [theme=dark] .colab-df-convert {\n",
              "      background-color: #3B4455;\n",
              "      fill: #D2E3FC;\n",
              "    }\n",
              "\n",
              "    [theme=dark] .colab-df-convert:hover {\n",
              "      background-color: #434B5C;\n",
              "      box-shadow: 0px 1px 3px 1px rgba(0, 0, 0, 0.15);\n",
              "      filter: drop-shadow(0px 1px 2px rgba(0, 0, 0, 0.3));\n",
              "      fill: #FFFFFF;\n",
              "    }\n",
              "  </style>\n",
              "\n",
              "      <script>\n",
              "        const buttonEl =\n",
              "          document.querySelector('#df-ed959acf-a7ac-46f8-a347-bcc215e1970a button.colab-df-convert');\n",
              "        buttonEl.style.display =\n",
              "          google.colab.kernel.accessAllowed ? 'block' : 'none';\n",
              "\n",
              "        async function convertToInteractive(key) {\n",
              "          const element = document.querySelector('#df-ed959acf-a7ac-46f8-a347-bcc215e1970a');\n",
              "          const dataTable =\n",
              "            await google.colab.kernel.invokeFunction('convertToInteractive',\n",
              "                                                     [key], {});\n",
              "          if (!dataTable) return;\n",
              "\n",
              "          const docLinkHtml = 'Like what you see? Visit the ' +\n",
              "            '<a target=\"_blank\" href=https://colab.research.google.com/notebooks/data_table.ipynb>data table notebook</a>'\n",
              "            + ' to learn more about interactive tables.';\n",
              "          element.innerHTML = '';\n",
              "          dataTable['output_type'] = 'display_data';\n",
              "          await google.colab.output.renderOutput(dataTable, element);\n",
              "          const docLink = document.createElement('div');\n",
              "          docLink.innerHTML = docLinkHtml;\n",
              "          element.appendChild(docLink);\n",
              "        }\n",
              "      </script>\n",
              "    </div>\n",
              "  </div>\n",
              "  "
            ]
          },
          "metadata": {},
          "execution_count": 115
        }
      ]
    },
    {
      "cell_type": "markdown",
      "source": [
        "**POS Tagging**"
      ],
      "metadata": {
        "id": "IL5qCrsX1RQW"
      }
    },
    {
      "cell_type": "code",
      "source": [
        "# Definición de función para el POS Tagger spaCy para tokens\n",
        "def token_tagger (text,nlp):\n",
        "  doc = ' '.join(text)\n",
        "  doc = nlp(doc)\n",
        "  return [(w.text, w.pos_) for w in doc]\n",
        "\n",
        "\n",
        "# Definición de función para el POS Tagger spaCy para texto\n",
        "def spacy_tagger(text,nlp):\n",
        "    doc = nlp(text)\n",
        "    return [(w.text, w.pos_) for w in doc]"
      ],
      "metadata": {
        "id": "vAOZ_VOq1QG2"
      },
      "execution_count": null,
      "outputs": []
    },
    {
      "cell_type": "code",
      "source": [
        "datos['procesadotagged'] = datos['procesado'].apply(lambda x: spacy_tagger(x,nlp))"
      ],
      "metadata": {
        "id": "zs3FLU_igbMn",
        "colab": {
          "base_uri": "https://localhost:8080/"
        },
        "outputId": "eb11c00f-b917-45f0-9bec-a02d2bb3caa6"
      },
      "execution_count": null,
      "outputs": [
        {
          "output_type": "stream",
          "name": "stderr",
          "text": [
            "<ipython-input-117-9e45183b69a4>:1: SettingWithCopyWarning: \n",
            "A value is trying to be set on a copy of a slice from a DataFrame.\n",
            "Try using .loc[row_indexer,col_indexer] = value instead\n",
            "\n",
            "See the caveats in the documentation: https://pandas.pydata.org/pandas-docs/stable/user_guide/indexing.html#returning-a-view-versus-a-copy\n",
            "  datos['procesadotagged'] = datos['procesado'].apply(lambda x: spacy_tagger(x,nlp))\n"
          ]
        }
      ]
    },
    {
      "cell_type": "code",
      "source": [
        "datos['tokenstagged'] = datos['tokens_proc'].apply(lambda x: token_tagger(x,nlp))"
      ],
      "metadata": {
        "id": "uO3o0r4e6KfZ",
        "colab": {
          "base_uri": "https://localhost:8080/"
        },
        "outputId": "c6450490-2da8-41d4-9ab3-d170bd7826c3"
      },
      "execution_count": null,
      "outputs": [
        {
          "output_type": "stream",
          "name": "stderr",
          "text": [
            "<ipython-input-118-2e7df006ec34>:1: SettingWithCopyWarning: \n",
            "A value is trying to be set on a copy of a slice from a DataFrame.\n",
            "Try using .loc[row_indexer,col_indexer] = value instead\n",
            "\n",
            "See the caveats in the documentation: https://pandas.pydata.org/pandas-docs/stable/user_guide/indexing.html#returning-a-view-versus-a-copy\n",
            "  datos['tokenstagged'] = datos['tokens_proc'].apply(lambda x: token_tagger(x,nlp))\n"
          ]
        }
      ]
    },
    {
      "cell_type": "code",
      "source": [
        "datos.head(5)"
      ],
      "metadata": {
        "colab": {
          "base_uri": "https://localhost:8080/",
          "height": 337
        },
        "id": "OXSWRghz4QLx",
        "outputId": "3fcf9f69-9384-491e-c56b-e75fedf5bcab"
      },
      "execution_count": null,
      "outputs": [
        {
          "output_type": "execute_result",
          "data": {
            "text/plain": [
              "   WORKLOGID                                          procesado  \\\n",
              "0    2789392  se realizo poda en varios ramales secundarios ...   \n",
              "1    2857541  se encuentra linea primarias de en el suelo se...   \n",
              "2    2437852  se visita la ruta y se inspeccionan dos poste ...   \n",
              "3    2685049  se abrio puente agua abajo de transformador qu...   \n",
              "4    2854713  se visita direccion y se encuentra linea pri m...   \n",
              "\n",
              "                                         tokens_proc  \\\n",
              "0  [poda, varios, ramales, secundarios, fusible, ...   \n",
              "1  [linea, primarias, suelo, procede, repara, dan...   \n",
              "2  [ruta, inspeccionan, dos, poste, reportados, c...   \n",
              "3  [abrio, puente, agua, abajo, transformador, re...   \n",
              "4  [linea, pri, caida, arbol, habre, corte, repar...   \n",
              "\n",
              "                                        tokensunidos  \\\n",
              "0  poda varios ramales secundarios fusible transf...   \n",
              "1  linea primarias suelo procede repara dano caus...   \n",
              "2  ruta inspeccionan dos poste reportados cuales ...   \n",
              "3  abrio puente agua abajo transformador quedo pe...   \n",
              "4  linea pri caida arbol habre corte quedo pendie...   \n",
              "\n",
              "                                     procesadotagged  \\\n",
              "0  [(se, PRON), (realizo, VERB), (poda, NOUN), (e...   \n",
              "1  [(se, PRON), (encuentra, VERB), (linea, NOUN),...   \n",
              "2  [(se, PRON), (visita, VERB), (la, DET), (ruta,...   \n",
              "3  [(se, PRON), (abrio, VERB), (puente, NOUN), (a...   \n",
              "4  [(se, PRON), (visita, VERB), (direccion, NOUN)...   \n",
              "\n",
              "                                        tokenstagged  \n",
              "0  [(poda, VERB), (varios, DET), (ramales, NOUN),...  \n",
              "1  [(linea, NOUN), (primarias, ADJ), (suelo, NOUN...  \n",
              "2  [(ruta, NOUN), (inspeccionan, VERB), (dos, NUM...  \n",
              "3  [(abrio, ADJ), (puente, NOUN), (agua, NOUN), (...  \n",
              "4  [(linea, PROPN), (pri, PROPN), (caida, ADJ), (...  "
            ],
            "text/html": [
              "\n",
              "  <div id=\"df-5579a19c-cf0b-4f6e-93b7-1b5d7f235dbf\">\n",
              "    <div class=\"colab-df-container\">\n",
              "      <div>\n",
              "<style scoped>\n",
              "    .dataframe tbody tr th:only-of-type {\n",
              "        vertical-align: middle;\n",
              "    }\n",
              "\n",
              "    .dataframe tbody tr th {\n",
              "        vertical-align: top;\n",
              "    }\n",
              "\n",
              "    .dataframe thead th {\n",
              "        text-align: right;\n",
              "    }\n",
              "</style>\n",
              "<table border=\"1\" class=\"dataframe\">\n",
              "  <thead>\n",
              "    <tr style=\"text-align: right;\">\n",
              "      <th></th>\n",
              "      <th>WORKLOGID</th>\n",
              "      <th>procesado</th>\n",
              "      <th>tokens_proc</th>\n",
              "      <th>tokensunidos</th>\n",
              "      <th>procesadotagged</th>\n",
              "      <th>tokenstagged</th>\n",
              "    </tr>\n",
              "  </thead>\n",
              "  <tbody>\n",
              "    <tr>\n",
              "      <th>0</th>\n",
              "      <td>2789392</td>\n",
              "      <td>se realizo poda en varios ramales secundarios ...</td>\n",
              "      <td>[poda, varios, ramales, secundarios, fusible, ...</td>\n",
              "      <td>poda varios ramales secundarios fusible transf...</td>\n",
              "      <td>[(se, PRON), (realizo, VERB), (poda, NOUN), (e...</td>\n",
              "      <td>[(poda, VERB), (varios, DET), (ramales, NOUN),...</td>\n",
              "    </tr>\n",
              "    <tr>\n",
              "      <th>1</th>\n",
              "      <td>2857541</td>\n",
              "      <td>se encuentra linea primarias de en el suelo se...</td>\n",
              "      <td>[linea, primarias, suelo, procede, repara, dan...</td>\n",
              "      <td>linea primarias suelo procede repara dano caus...</td>\n",
              "      <td>[(se, PRON), (encuentra, VERB), (linea, NOUN),...</td>\n",
              "      <td>[(linea, NOUN), (primarias, ADJ), (suelo, NOUN...</td>\n",
              "    </tr>\n",
              "    <tr>\n",
              "      <th>2</th>\n",
              "      <td>2437852</td>\n",
              "      <td>se visita la ruta y se inspeccionan dos poste ...</td>\n",
              "      <td>[ruta, inspeccionan, dos, poste, reportados, c...</td>\n",
              "      <td>ruta inspeccionan dos poste reportados cuales ...</td>\n",
              "      <td>[(se, PRON), (visita, VERB), (la, DET), (ruta,...</td>\n",
              "      <td>[(ruta, NOUN), (inspeccionan, VERB), (dos, NUM...</td>\n",
              "    </tr>\n",
              "    <tr>\n",
              "      <th>3</th>\n",
              "      <td>2685049</td>\n",
              "      <td>se abrio puente agua abajo de transformador qu...</td>\n",
              "      <td>[abrio, puente, agua, abajo, transformador, re...</td>\n",
              "      <td>abrio puente agua abajo transformador quedo pe...</td>\n",
              "      <td>[(se, PRON), (abrio, VERB), (puente, NOUN), (a...</td>\n",
              "      <td>[(abrio, ADJ), (puente, NOUN), (agua, NOUN), (...</td>\n",
              "    </tr>\n",
              "    <tr>\n",
              "      <th>4</th>\n",
              "      <td>2854713</td>\n",
              "      <td>se visita direccion y se encuentra linea pri m...</td>\n",
              "      <td>[linea, pri, caida, arbol, habre, corte, repar...</td>\n",
              "      <td>linea pri caida arbol habre corte quedo pendie...</td>\n",
              "      <td>[(se, PRON), (visita, VERB), (direccion, NOUN)...</td>\n",
              "      <td>[(linea, PROPN), (pri, PROPN), (caida, ADJ), (...</td>\n",
              "    </tr>\n",
              "  </tbody>\n",
              "</table>\n",
              "</div>\n",
              "      <button class=\"colab-df-convert\" onclick=\"convertToInteractive('df-5579a19c-cf0b-4f6e-93b7-1b5d7f235dbf')\"\n",
              "              title=\"Convert this dataframe to an interactive table.\"\n",
              "              style=\"display:none;\">\n",
              "        \n",
              "  <svg xmlns=\"http://www.w3.org/2000/svg\" height=\"24px\"viewBox=\"0 0 24 24\"\n",
              "       width=\"24px\">\n",
              "    <path d=\"M0 0h24v24H0V0z\" fill=\"none\"/>\n",
              "    <path d=\"M18.56 5.44l.94 2.06.94-2.06 2.06-.94-2.06-.94-.94-2.06-.94 2.06-2.06.94zm-11 1L8.5 8.5l.94-2.06 2.06-.94-2.06-.94L8.5 2.5l-.94 2.06-2.06.94zm10 10l.94 2.06.94-2.06 2.06-.94-2.06-.94-.94-2.06-.94 2.06-2.06.94z\"/><path d=\"M17.41 7.96l-1.37-1.37c-.4-.4-.92-.59-1.43-.59-.52 0-1.04.2-1.43.59L10.3 9.45l-7.72 7.72c-.78.78-.78 2.05 0 2.83L4 21.41c.39.39.9.59 1.41.59.51 0 1.02-.2 1.41-.59l7.78-7.78 2.81-2.81c.8-.78.8-2.07 0-2.86zM5.41 20L4 18.59l7.72-7.72 1.47 1.35L5.41 20z\"/>\n",
              "  </svg>\n",
              "      </button>\n",
              "      \n",
              "  <style>\n",
              "    .colab-df-container {\n",
              "      display:flex;\n",
              "      flex-wrap:wrap;\n",
              "      gap: 12px;\n",
              "    }\n",
              "\n",
              "    .colab-df-convert {\n",
              "      background-color: #E8F0FE;\n",
              "      border: none;\n",
              "      border-radius: 50%;\n",
              "      cursor: pointer;\n",
              "      display: none;\n",
              "      fill: #1967D2;\n",
              "      height: 32px;\n",
              "      padding: 0 0 0 0;\n",
              "      width: 32px;\n",
              "    }\n",
              "\n",
              "    .colab-df-convert:hover {\n",
              "      background-color: #E2EBFA;\n",
              "      box-shadow: 0px 1px 2px rgba(60, 64, 67, 0.3), 0px 1px 3px 1px rgba(60, 64, 67, 0.15);\n",
              "      fill: #174EA6;\n",
              "    }\n",
              "\n",
              "    [theme=dark] .colab-df-convert {\n",
              "      background-color: #3B4455;\n",
              "      fill: #D2E3FC;\n",
              "    }\n",
              "\n",
              "    [theme=dark] .colab-df-convert:hover {\n",
              "      background-color: #434B5C;\n",
              "      box-shadow: 0px 1px 3px 1px rgba(0, 0, 0, 0.15);\n",
              "      filter: drop-shadow(0px 1px 2px rgba(0, 0, 0, 0.3));\n",
              "      fill: #FFFFFF;\n",
              "    }\n",
              "  </style>\n",
              "\n",
              "      <script>\n",
              "        const buttonEl =\n",
              "          document.querySelector('#df-5579a19c-cf0b-4f6e-93b7-1b5d7f235dbf button.colab-df-convert');\n",
              "        buttonEl.style.display =\n",
              "          google.colab.kernel.accessAllowed ? 'block' : 'none';\n",
              "\n",
              "        async function convertToInteractive(key) {\n",
              "          const element = document.querySelector('#df-5579a19c-cf0b-4f6e-93b7-1b5d7f235dbf');\n",
              "          const dataTable =\n",
              "            await google.colab.kernel.invokeFunction('convertToInteractive',\n",
              "                                                     [key], {});\n",
              "          if (!dataTable) return;\n",
              "\n",
              "          const docLinkHtml = 'Like what you see? Visit the ' +\n",
              "            '<a target=\"_blank\" href=https://colab.research.google.com/notebooks/data_table.ipynb>data table notebook</a>'\n",
              "            + ' to learn more about interactive tables.';\n",
              "          element.innerHTML = '';\n",
              "          dataTable['output_type'] = 'display_data';\n",
              "          await google.colab.output.renderOutput(dataTable, element);\n",
              "          const docLink = document.createElement('div');\n",
              "          docLink.innerHTML = docLinkHtml;\n",
              "          element.appendChild(docLink);\n",
              "        }\n",
              "      </script>\n",
              "    </div>\n",
              "  </div>\n",
              "  "
            ]
          },
          "metadata": {},
          "execution_count": 119
        }
      ]
    },
    {
      "cell_type": "code",
      "source": [
        "## Definir lista de POSTAGG de interes\n",
        "tags_interes = ['NOUN']\n",
        "\n",
        "## Definir función para extraer palabras de interes según TAG\n",
        "def ExtractInterest(text, tags):\n",
        "  interesting = [k for k,v in text if v in tags]\n",
        "  return(interesting)"
      ],
      "metadata": {
        "id": "wpdeVNum-b1a"
      },
      "execution_count": null,
      "outputs": []
    },
    {
      "cell_type": "code",
      "source": [
        "datos['palabras_clave'] = datos['tokenstagged'].apply(lambda x: ExtractInterest(x,tags_interes))\n",
        "datos.head(5)"
      ],
      "metadata": {
        "id": "ga0aBzlf-j2Q",
        "colab": {
          "base_uri": "https://localhost:8080/",
          "height": 533
        },
        "outputId": "e39acdc3-5fc0-4275-a636-89640c120131"
      },
      "execution_count": null,
      "outputs": [
        {
          "output_type": "stream",
          "name": "stderr",
          "text": [
            "<ipython-input-121-a86af4b2d029>:1: SettingWithCopyWarning: \n",
            "A value is trying to be set on a copy of a slice from a DataFrame.\n",
            "Try using .loc[row_indexer,col_indexer] = value instead\n",
            "\n",
            "See the caveats in the documentation: https://pandas.pydata.org/pandas-docs/stable/user_guide/indexing.html#returning-a-view-versus-a-copy\n",
            "  datos['palabras_clave'] = datos['tokenstagged'].apply(lambda x: ExtractInterest(x,tags_interes))\n"
          ]
        },
        {
          "output_type": "execute_result",
          "data": {
            "text/plain": [
              "   WORKLOGID                                          procesado  \\\n",
              "0    2789392  se realizo poda en varios ramales secundarios ...   \n",
              "1    2857541  se encuentra linea primarias de en el suelo se...   \n",
              "2    2437852  se visita la ruta y se inspeccionan dos poste ...   \n",
              "3    2685049  se abrio puente agua abajo de transformador qu...   \n",
              "4    2854713  se visita direccion y se encuentra linea pri m...   \n",
              "\n",
              "                                         tokens_proc  \\\n",
              "0  [poda, varios, ramales, secundarios, fusible, ...   \n",
              "1  [linea, primarias, suelo, procede, repara, dan...   \n",
              "2  [ruta, inspeccionan, dos, poste, reportados, c...   \n",
              "3  [abrio, puente, agua, abajo, transformador, re...   \n",
              "4  [linea, pri, caida, arbol, habre, corte, repar...   \n",
              "\n",
              "                                        tokensunidos  \\\n",
              "0  poda varios ramales secundarios fusible transf...   \n",
              "1  linea primarias suelo procede repara dano caus...   \n",
              "2  ruta inspeccionan dos poste reportados cuales ...   \n",
              "3  abrio puente agua abajo transformador quedo pe...   \n",
              "4  linea pri caida arbol habre corte quedo pendie...   \n",
              "\n",
              "                                     procesadotagged  \\\n",
              "0  [(se, PRON), (realizo, VERB), (poda, NOUN), (e...   \n",
              "1  [(se, PRON), (encuentra, VERB), (linea, NOUN),...   \n",
              "2  [(se, PRON), (visita, VERB), (la, DET), (ruta,...   \n",
              "3  [(se, PRON), (abrio, VERB), (puente, NOUN), (a...   \n",
              "4  [(se, PRON), (visita, VERB), (direccion, NOUN)...   \n",
              "\n",
              "                                        tokenstagged  \\\n",
              "0  [(poda, VERB), (varios, DET), (ramales, NOUN),...   \n",
              "1  [(linea, NOUN), (primarias, ADJ), (suelo, NOUN...   \n",
              "2  [(ruta, NOUN), (inspeccionan, VERB), (dos, NUM...   \n",
              "3  [(abrio, ADJ), (puente, NOUN), (agua, NOUN), (...   \n",
              "4  [(linea, PROPN), (pri, PROPN), (caida, ADJ), (...   \n",
              "\n",
              "                                      palabras_clave  \n",
              "0                       [ramales, poda, poda, linea]  \n",
              "1  [linea, suelo, caida, circuito, cuchillas, rec...  \n",
              "2  [ruta, poste, coco, mitad, terminal, viento, v...  \n",
              "3  [puente, agua, transformador, aisladero, arbol...  \n",
              "4                                     [corte, linea]  "
            ],
            "text/html": [
              "\n",
              "  <div id=\"df-b495d4fb-af9a-4be1-8de4-5494dba5c4ae\">\n",
              "    <div class=\"colab-df-container\">\n",
              "      <div>\n",
              "<style scoped>\n",
              "    .dataframe tbody tr th:only-of-type {\n",
              "        vertical-align: middle;\n",
              "    }\n",
              "\n",
              "    .dataframe tbody tr th {\n",
              "        vertical-align: top;\n",
              "    }\n",
              "\n",
              "    .dataframe thead th {\n",
              "        text-align: right;\n",
              "    }\n",
              "</style>\n",
              "<table border=\"1\" class=\"dataframe\">\n",
              "  <thead>\n",
              "    <tr style=\"text-align: right;\">\n",
              "      <th></th>\n",
              "      <th>WORKLOGID</th>\n",
              "      <th>procesado</th>\n",
              "      <th>tokens_proc</th>\n",
              "      <th>tokensunidos</th>\n",
              "      <th>procesadotagged</th>\n",
              "      <th>tokenstagged</th>\n",
              "      <th>palabras_clave</th>\n",
              "    </tr>\n",
              "  </thead>\n",
              "  <tbody>\n",
              "    <tr>\n",
              "      <th>0</th>\n",
              "      <td>2789392</td>\n",
              "      <td>se realizo poda en varios ramales secundarios ...</td>\n",
              "      <td>[poda, varios, ramales, secundarios, fusible, ...</td>\n",
              "      <td>poda varios ramales secundarios fusible transf...</td>\n",
              "      <td>[(se, PRON), (realizo, VERB), (poda, NOUN), (e...</td>\n",
              "      <td>[(poda, VERB), (varios, DET), (ramales, NOUN),...</td>\n",
              "      <td>[ramales, poda, poda, linea]</td>\n",
              "    </tr>\n",
              "    <tr>\n",
              "      <th>1</th>\n",
              "      <td>2857541</td>\n",
              "      <td>se encuentra linea primarias de en el suelo se...</td>\n",
              "      <td>[linea, primarias, suelo, procede, repara, dan...</td>\n",
              "      <td>linea primarias suelo procede repara dano caus...</td>\n",
              "      <td>[(se, PRON), (encuentra, VERB), (linea, NOUN),...</td>\n",
              "      <td>[(linea, NOUN), (primarias, ADJ), (suelo, NOUN...</td>\n",
              "      <td>[linea, suelo, caida, circuito, cuchillas, rec...</td>\n",
              "    </tr>\n",
              "    <tr>\n",
              "      <th>2</th>\n",
              "      <td>2437852</td>\n",
              "      <td>se visita la ruta y se inspeccionan dos poste ...</td>\n",
              "      <td>[ruta, inspeccionan, dos, poste, reportados, c...</td>\n",
              "      <td>ruta inspeccionan dos poste reportados cuales ...</td>\n",
              "      <td>[(se, PRON), (visita, VERB), (la, DET), (ruta,...</td>\n",
              "      <td>[(ruta, NOUN), (inspeccionan, VERB), (dos, NUM...</td>\n",
              "      <td>[ruta, poste, coco, mitad, terminal, viento, v...</td>\n",
              "    </tr>\n",
              "    <tr>\n",
              "      <th>3</th>\n",
              "      <td>2685049</td>\n",
              "      <td>se abrio puente agua abajo de transformador qu...</td>\n",
              "      <td>[abrio, puente, agua, abajo, transformador, re...</td>\n",
              "      <td>abrio puente agua abajo transformador quedo pe...</td>\n",
              "      <td>[(se, PRON), (abrio, VERB), (puente, NOUN), (a...</td>\n",
              "      <td>[(abrio, ADJ), (puente, NOUN), (agua, NOUN), (...</td>\n",
              "      <td>[puente, agua, transformador, aisladero, arbol...</td>\n",
              "    </tr>\n",
              "    <tr>\n",
              "      <th>4</th>\n",
              "      <td>2854713</td>\n",
              "      <td>se visita direccion y se encuentra linea pri m...</td>\n",
              "      <td>[linea, pri, caida, arbol, habre, corte, repar...</td>\n",
              "      <td>linea pri caida arbol habre corte quedo pendie...</td>\n",
              "      <td>[(se, PRON), (visita, VERB), (direccion, NOUN)...</td>\n",
              "      <td>[(linea, PROPN), (pri, PROPN), (caida, ADJ), (...</td>\n",
              "      <td>[corte, linea]</td>\n",
              "    </tr>\n",
              "  </tbody>\n",
              "</table>\n",
              "</div>\n",
              "      <button class=\"colab-df-convert\" onclick=\"convertToInteractive('df-b495d4fb-af9a-4be1-8de4-5494dba5c4ae')\"\n",
              "              title=\"Convert this dataframe to an interactive table.\"\n",
              "              style=\"display:none;\">\n",
              "        \n",
              "  <svg xmlns=\"http://www.w3.org/2000/svg\" height=\"24px\"viewBox=\"0 0 24 24\"\n",
              "       width=\"24px\">\n",
              "    <path d=\"M0 0h24v24H0V0z\" fill=\"none\"/>\n",
              "    <path d=\"M18.56 5.44l.94 2.06.94-2.06 2.06-.94-2.06-.94-.94-2.06-.94 2.06-2.06.94zm-11 1L8.5 8.5l.94-2.06 2.06-.94-2.06-.94L8.5 2.5l-.94 2.06-2.06.94zm10 10l.94 2.06.94-2.06 2.06-.94-2.06-.94-.94-2.06-.94 2.06-2.06.94z\"/><path d=\"M17.41 7.96l-1.37-1.37c-.4-.4-.92-.59-1.43-.59-.52 0-1.04.2-1.43.59L10.3 9.45l-7.72 7.72c-.78.78-.78 2.05 0 2.83L4 21.41c.39.39.9.59 1.41.59.51 0 1.02-.2 1.41-.59l7.78-7.78 2.81-2.81c.8-.78.8-2.07 0-2.86zM5.41 20L4 18.59l7.72-7.72 1.47 1.35L5.41 20z\"/>\n",
              "  </svg>\n",
              "      </button>\n",
              "      \n",
              "  <style>\n",
              "    .colab-df-container {\n",
              "      display:flex;\n",
              "      flex-wrap:wrap;\n",
              "      gap: 12px;\n",
              "    }\n",
              "\n",
              "    .colab-df-convert {\n",
              "      background-color: #E8F0FE;\n",
              "      border: none;\n",
              "      border-radius: 50%;\n",
              "      cursor: pointer;\n",
              "      display: none;\n",
              "      fill: #1967D2;\n",
              "      height: 32px;\n",
              "      padding: 0 0 0 0;\n",
              "      width: 32px;\n",
              "    }\n",
              "\n",
              "    .colab-df-convert:hover {\n",
              "      background-color: #E2EBFA;\n",
              "      box-shadow: 0px 1px 2px rgba(60, 64, 67, 0.3), 0px 1px 3px 1px rgba(60, 64, 67, 0.15);\n",
              "      fill: #174EA6;\n",
              "    }\n",
              "\n",
              "    [theme=dark] .colab-df-convert {\n",
              "      background-color: #3B4455;\n",
              "      fill: #D2E3FC;\n",
              "    }\n",
              "\n",
              "    [theme=dark] .colab-df-convert:hover {\n",
              "      background-color: #434B5C;\n",
              "      box-shadow: 0px 1px 3px 1px rgba(0, 0, 0, 0.15);\n",
              "      filter: drop-shadow(0px 1px 2px rgba(0, 0, 0, 0.3));\n",
              "      fill: #FFFFFF;\n",
              "    }\n",
              "  </style>\n",
              "\n",
              "      <script>\n",
              "        const buttonEl =\n",
              "          document.querySelector('#df-b495d4fb-af9a-4be1-8de4-5494dba5c4ae button.colab-df-convert');\n",
              "        buttonEl.style.display =\n",
              "          google.colab.kernel.accessAllowed ? 'block' : 'none';\n",
              "\n",
              "        async function convertToInteractive(key) {\n",
              "          const element = document.querySelector('#df-b495d4fb-af9a-4be1-8de4-5494dba5c4ae');\n",
              "          const dataTable =\n",
              "            await google.colab.kernel.invokeFunction('convertToInteractive',\n",
              "                                                     [key], {});\n",
              "          if (!dataTable) return;\n",
              "\n",
              "          const docLinkHtml = 'Like what you see? Visit the ' +\n",
              "            '<a target=\"_blank\" href=https://colab.research.google.com/notebooks/data_table.ipynb>data table notebook</a>'\n",
              "            + ' to learn more about interactive tables.';\n",
              "          element.innerHTML = '';\n",
              "          dataTable['output_type'] = 'display_data';\n",
              "          await google.colab.output.renderOutput(dataTable, element);\n",
              "          const docLink = document.createElement('div');\n",
              "          docLink.innerHTML = docLinkHtml;\n",
              "          element.appendChild(docLink);\n",
              "        }\n",
              "      </script>\n",
              "    </div>\n",
              "  </div>\n",
              "  "
            ]
          },
          "metadata": {},
          "execution_count": 121
        }
      ]
    },
    {
      "cell_type": "markdown",
      "source": [
        "## **LDA sobre todo el BoW**"
      ],
      "metadata": {
        "id": "UmynJa_r71mS"
      }
    },
    {
      "cell_type": "code",
      "source": [
        "# Creación del BoW - Dictionary en gensim \n",
        "dictionary = Dictionary(datos.tokens_proc)"
      ],
      "metadata": {
        "id": "fRgHHxPY76qZ"
      },
      "execution_count": null,
      "outputs": []
    },
    {
      "cell_type": "code",
      "source": [
        "# Bag-of-words representation of the documents.\n",
        "corpus = [dictionary.doc2bow(doc) for doc in datos.tokens_proc]"
      ],
      "metadata": {
        "id": "oWvYLP3G8cyU"
      },
      "execution_count": null,
      "outputs": []
    },
    {
      "cell_type": "code",
      "source": [
        "print(corpus[:5])\n",
        "print(dictionary)"
      ],
      "metadata": {
        "colab": {
          "base_uri": "https://localhost:8080/"
        },
        "id": "81U-gaos9E8o",
        "outputId": "d351167c-2800-463a-b6b1-6a6f01a7515a"
      },
      "execution_count": null,
      "outputs": [
        {
          "output_type": "stream",
          "name": "stdout",
          "text": [
            "[[(0, 1), (1, 1), (2, 1), (3, 1), (4, 1), (5, 3), (6, 1), (7, 1), (8, 1), (9, 1), (10, 1), (11, 1), (12, 1)], [(4, 2), (13, 1), (14, 1), (15, 1), (16, 1), (17, 1), (18, 1), (19, 1), (20, 1), (21, 1), (22, 1), (23, 2), (24, 1), (25, 1), (26, 1), (27, 1), (28, 1), (29, 1), (30, 1), (31, 1), (32, 1), (33, 1), (34, 1), (35, 1), (36, 1), (37, 1)], [(24, 1), (26, 1), (27, 1), (38, 1), (39, 1), (40, 1), (41, 1), (42, 1), (43, 1), (44, 1), (45, 1), (46, 1), (47, 2), (48, 1), (49, 1), (50, 1), (51, 1), (52, 2), (53, 2)], [(1, 1), (10, 2), (15, 1), (27, 1), (50, 1), (54, 1), (55, 1), (56, 1), (57, 1), (58, 1), (59, 1), (60, 1), (61, 2), (62, 1), (63, 1), (64, 1)], [(4, 2), (15, 1), (16, 1), (65, 1), (66, 1), (67, 1), (68, 1), (69, 1)]]\n",
            "Dictionary(6685 unique tokens: ['caer', 'cuadrilla', 'fusible', 'grandes', 'linea']...)\n"
          ]
        }
      ]
    },
    {
      "cell_type": "code",
      "source": [
        "#Paralelizar\n",
        "\n",
        "t0 = time.time()\n",
        "pool = mp.Pool(mp.cpu_count())\n",
        "doc_term_matrix = pool.map(dictionary.doc2bow, [sentence for sentence in datos.tokens_proc])\n",
        "pool.close()\n",
        "print(time.time()-t0)"
      ],
      "metadata": {
        "colab": {
          "base_uri": "https://localhost:8080/"
        },
        "id": "_VxdUet0-Oi6",
        "outputId": "46b37bb3-19c3-4c47-ab30-a0d9cec0f2a9"
      },
      "execution_count": null,
      "outputs": [
        {
          "output_type": "stream",
          "name": "stdout",
          "text": [
            "0.3956429958343506\n"
          ]
        }
      ]
    },
    {
      "cell_type": "code",
      "source": [
        "# Definir el número de topicos para el LDA\n",
        "# Posteriormente en el Notebook se hace el cálculo de K optimo, y se llega al valor de XXX.\n",
        "num_topics = 11\n",
        "\n",
        "# Definir\n",
        "t0 = time.time()\n",
        "lda_model = LdaMulticore(doc_term_matrix, num_topics=num_topics, id2word = dictionary, passes=10, workers=10)\n",
        "print(time.time()-t0)"
      ],
      "metadata": {
        "colab": {
          "base_uri": "https://localhost:8080/"
        },
        "id": "fvt-oK-P_Ck0",
        "outputId": "47d9fc77-a070-477d-cab0-044c3f423fa7"
      },
      "execution_count": null,
      "outputs": [
        {
          "output_type": "stream",
          "name": "stdout",
          "text": [
            "48.39826583862305\n"
          ]
        }
      ]
    },
    {
      "cell_type": "code",
      "source": [
        "for i,topic in lda_model.show_topics(formatted=True, num_topics=num_topics, num_words=5):\n",
        "    print(str(i)+\": \"+ topic)\n",
        "    print()"
      ],
      "metadata": {
        "colab": {
          "base_uri": "https://localhost:8080/"
        },
        "id": "pzkWeHHfAI6z",
        "outputId": "6103b83c-992e-4610-d7bb-80cb077ac867"
      },
      "execution_count": null,
      "outputs": [
        {
          "output_type": "stream",
          "name": "stdout",
          "text": [
            "0: 0.031*\"transformador\" + 0.023*\"fase\" + 0.019*\"repara\" + 0.017*\"voltaje\" + 0.017*\"requiere\"\n",
            "\n",
            "1: 0.047*\"aisladero\" + 0.018*\"abajo\" + 0.017*\"aguas\" + 0.016*\"poste\" + 0.015*\"red\"\n",
            "\n",
            "2: 0.033*\"aguas\" + 0.028*\"abajo\" + 0.026*\"linea\" + 0.025*\"poste\" + 0.025*\"transformador\"\n",
            "\n",
            "3: 0.039*\"vehiculo\" + 0.029*\"transformador\" + 0.028*\"caja\" + 0.020*\"poste\" + 0.017*\"acometida\"\n",
            "\n",
            "4: 0.093*\"poste\" + 0.039*\"riesgo\" + 0.038*\"secundario\" + 0.020*\"red\" + 0.014*\"transformador\"\n",
            "\n",
            "5: 0.076*\"linea\" + 0.065*\"arbol\" + 0.049*\"poda\" + 0.031*\"secundaria\" + 0.028*\"transformador\"\n",
            "\n",
            "6: 0.052*\"medidor\" + 0.050*\"poste\" + 0.016*\"transformador\" + 0.015*\"normal\" + 0.010*\"prepago\"\n",
            "\n",
            "7: 0.063*\"primario\" + 0.056*\"transformador\" + 0.048*\"fusible\" + 0.031*\"aisladero\" + 0.027*\"poste\"\n",
            "\n",
            "8: 0.092*\"transformador\" + 0.032*\"arbol\" + 0.031*\"fusible\" + 0.023*\"quemado\" + 0.020*\"aisladero\"\n",
            "\n",
            "9: 0.044*\"transformador\" + 0.032*\"trenza\" + 0.031*\"ruta\" + 0.029*\"cuadrilla\" + 0.026*\"poste\"\n",
            "\n",
            "10: 0.041*\"primaria\" + 0.033*\"repara\" + 0.030*\"linea\" + 0.022*\"rota\" + 0.019*\"aisladero\"\n",
            "\n"
          ]
        }
      ]
    },
    {
      "cell_type": "code",
      "source": [
        "#funcion para extraer el tópico principal\n",
        "def assigntopic(doc):\n",
        "    vector = lda_model[dictionary.doc2bow(doc)] \n",
        "   \n",
        "    #asignar el tópico mayor a cada documento\n",
        "    vector = max(vector,key=lambda item: item[1])\n",
        "    return vector\n",
        "\n",
        "#funcion para extraer el número del topico\n",
        "def ext_topic(line):\n",
        "    lista = list(line)\n",
        "    topic = lista[0]\n",
        "    return topic"
      ],
      "metadata": {
        "id": "mnv6AYmyAcN_"
      },
      "execution_count": null,
      "outputs": []
    },
    {
      "cell_type": "code",
      "source": [
        "# Asignar el topico principal a cada registro\n",
        "datos['main_topic'] = datos.apply(lambda row: assigntopic(row['tokens_proc']), axis=1)"
      ],
      "metadata": {
        "id": "ixrpD9o2Aeh3",
        "colab": {
          "base_uri": "https://localhost:8080/"
        },
        "outputId": "edea8b30-ee18-4d77-e38f-78c6e4668cba"
      },
      "execution_count": null,
      "outputs": [
        {
          "output_type": "stream",
          "name": "stderr",
          "text": [
            "<ipython-input-129-3333e39a14c6>:2: SettingWithCopyWarning: \n",
            "A value is trying to be set on a copy of a slice from a DataFrame.\n",
            "Try using .loc[row_indexer,col_indexer] = value instead\n",
            "\n",
            "See the caveats in the documentation: https://pandas.pydata.org/pandas-docs/stable/user_guide/indexing.html#returning-a-view-versus-a-copy\n",
            "  datos['main_topic'] = datos.apply(lambda row: assigntopic(row['tokens_proc']), axis=1)\n"
          ]
        }
      ]
    },
    {
      "cell_type": "code",
      "source": [
        "# Asignar el número del tópico principal a cada registro\n",
        "datos['num_topic'] = datos.apply(lambda row: ext_topic(row['main_topic']), axis=1)"
      ],
      "metadata": {
        "id": "0apTbrxPA04X",
        "colab": {
          "base_uri": "https://localhost:8080/"
        },
        "outputId": "a1f2354c-feac-4421-8afd-28ffb7ab6a4f"
      },
      "execution_count": null,
      "outputs": [
        {
          "output_type": "stream",
          "name": "stderr",
          "text": [
            "<ipython-input-130-b7e536a4add6>:2: SettingWithCopyWarning: \n",
            "A value is trying to be set on a copy of a slice from a DataFrame.\n",
            "Try using .loc[row_indexer,col_indexer] = value instead\n",
            "\n",
            "See the caveats in the documentation: https://pandas.pydata.org/pandas-docs/stable/user_guide/indexing.html#returning-a-view-versus-a-copy\n",
            "  datos['num_topic'] = datos.apply(lambda row: ext_topic(row['main_topic']), axis=1)\n"
          ]
        }
      ]
    },
    {
      "cell_type": "code",
      "source": [
        "datos.head()"
      ],
      "metadata": {
        "colab": {
          "base_uri": "https://localhost:8080/",
          "height": 476
        },
        "id": "euNuzS0fAtJN",
        "outputId": "4ad1d44d-c652-4b1f-cb2d-5718d66027b8"
      },
      "execution_count": null,
      "outputs": [
        {
          "output_type": "execute_result",
          "data": {
            "text/plain": [
              "   WORKLOGID                                          procesado  \\\n",
              "0    2789392  se realizo poda en varios ramales secundarios ...   \n",
              "1    2857541  se encuentra linea primarias de en el suelo se...   \n",
              "2    2437852  se visita la ruta y se inspeccionan dos poste ...   \n",
              "3    2685049  se abrio puente agua abajo de transformador qu...   \n",
              "4    2854713  se visita direccion y se encuentra linea pri m...   \n",
              "\n",
              "                                         tokens_proc  \\\n",
              "0  [poda, varios, ramales, secundarios, fusible, ...   \n",
              "1  [linea, primarias, suelo, procede, repara, dan...   \n",
              "2  [ruta, inspeccionan, dos, poste, reportados, c...   \n",
              "3  [abrio, puente, agua, abajo, transformador, re...   \n",
              "4  [linea, pri, caida, arbol, habre, corte, repar...   \n",
              "\n",
              "                                        tokensunidos  \\\n",
              "0  poda varios ramales secundarios fusible transf...   \n",
              "1  linea primarias suelo procede repara dano caus...   \n",
              "2  ruta inspeccionan dos poste reportados cuales ...   \n",
              "3  abrio puente agua abajo transformador quedo pe...   \n",
              "4  linea pri caida arbol habre corte quedo pendie...   \n",
              "\n",
              "                                     procesadotagged  \\\n",
              "0  [(se, PRON), (realizo, VERB), (poda, NOUN), (e...   \n",
              "1  [(se, PRON), (encuentra, VERB), (linea, NOUN),...   \n",
              "2  [(se, PRON), (visita, VERB), (la, DET), (ruta,...   \n",
              "3  [(se, PRON), (abrio, VERB), (puente, NOUN), (a...   \n",
              "4  [(se, PRON), (visita, VERB), (direccion, NOUN)...   \n",
              "\n",
              "                                        tokenstagged  \\\n",
              "0  [(poda, VERB), (varios, DET), (ramales, NOUN),...   \n",
              "1  [(linea, NOUN), (primarias, ADJ), (suelo, NOUN...   \n",
              "2  [(ruta, NOUN), (inspeccionan, VERB), (dos, NUM...   \n",
              "3  [(abrio, ADJ), (puente, NOUN), (agua, NOUN), (...   \n",
              "4  [(linea, PROPN), (pri, PROPN), (caida, ADJ), (...   \n",
              "\n",
              "                                      palabras_clave       main_topic  \\\n",
              "0                       [ramales, poda, poda, linea]  (5, 0.60738915)   \n",
              "1  [linea, suelo, caida, circuito, cuchillas, rec...  (1, 0.72176915)   \n",
              "2  [ruta, poste, coco, mitad, terminal, viento, v...  (4, 0.96047205)   \n",
              "3  [puente, agua, transformador, aisladero, arbol...   (9, 0.5714224)   \n",
              "4                                     [corte, linea]  (5, 0.75161874)   \n",
              "\n",
              "   num_topic  \n",
              "0          5  \n",
              "1          1  \n",
              "2          4  \n",
              "3          9  \n",
              "4          5  "
            ],
            "text/html": [
              "\n",
              "  <div id=\"df-71a8a519-eac8-4dfc-a2d3-e352aadde53c\">\n",
              "    <div class=\"colab-df-container\">\n",
              "      <div>\n",
              "<style scoped>\n",
              "    .dataframe tbody tr th:only-of-type {\n",
              "        vertical-align: middle;\n",
              "    }\n",
              "\n",
              "    .dataframe tbody tr th {\n",
              "        vertical-align: top;\n",
              "    }\n",
              "\n",
              "    .dataframe thead th {\n",
              "        text-align: right;\n",
              "    }\n",
              "</style>\n",
              "<table border=\"1\" class=\"dataframe\">\n",
              "  <thead>\n",
              "    <tr style=\"text-align: right;\">\n",
              "      <th></th>\n",
              "      <th>WORKLOGID</th>\n",
              "      <th>procesado</th>\n",
              "      <th>tokens_proc</th>\n",
              "      <th>tokensunidos</th>\n",
              "      <th>procesadotagged</th>\n",
              "      <th>tokenstagged</th>\n",
              "      <th>palabras_clave</th>\n",
              "      <th>main_topic</th>\n",
              "      <th>num_topic</th>\n",
              "    </tr>\n",
              "  </thead>\n",
              "  <tbody>\n",
              "    <tr>\n",
              "      <th>0</th>\n",
              "      <td>2789392</td>\n",
              "      <td>se realizo poda en varios ramales secundarios ...</td>\n",
              "      <td>[poda, varios, ramales, secundarios, fusible, ...</td>\n",
              "      <td>poda varios ramales secundarios fusible transf...</td>\n",
              "      <td>[(se, PRON), (realizo, VERB), (poda, NOUN), (e...</td>\n",
              "      <td>[(poda, VERB), (varios, DET), (ramales, NOUN),...</td>\n",
              "      <td>[ramales, poda, poda, linea]</td>\n",
              "      <td>(5, 0.60738915)</td>\n",
              "      <td>5</td>\n",
              "    </tr>\n",
              "    <tr>\n",
              "      <th>1</th>\n",
              "      <td>2857541</td>\n",
              "      <td>se encuentra linea primarias de en el suelo se...</td>\n",
              "      <td>[linea, primarias, suelo, procede, repara, dan...</td>\n",
              "      <td>linea primarias suelo procede repara dano caus...</td>\n",
              "      <td>[(se, PRON), (encuentra, VERB), (linea, NOUN),...</td>\n",
              "      <td>[(linea, NOUN), (primarias, ADJ), (suelo, NOUN...</td>\n",
              "      <td>[linea, suelo, caida, circuito, cuchillas, rec...</td>\n",
              "      <td>(1, 0.72176915)</td>\n",
              "      <td>1</td>\n",
              "    </tr>\n",
              "    <tr>\n",
              "      <th>2</th>\n",
              "      <td>2437852</td>\n",
              "      <td>se visita la ruta y se inspeccionan dos poste ...</td>\n",
              "      <td>[ruta, inspeccionan, dos, poste, reportados, c...</td>\n",
              "      <td>ruta inspeccionan dos poste reportados cuales ...</td>\n",
              "      <td>[(se, PRON), (visita, VERB), (la, DET), (ruta,...</td>\n",
              "      <td>[(ruta, NOUN), (inspeccionan, VERB), (dos, NUM...</td>\n",
              "      <td>[ruta, poste, coco, mitad, terminal, viento, v...</td>\n",
              "      <td>(4, 0.96047205)</td>\n",
              "      <td>4</td>\n",
              "    </tr>\n",
              "    <tr>\n",
              "      <th>3</th>\n",
              "      <td>2685049</td>\n",
              "      <td>se abrio puente agua abajo de transformador qu...</td>\n",
              "      <td>[abrio, puente, agua, abajo, transformador, re...</td>\n",
              "      <td>abrio puente agua abajo transformador quedo pe...</td>\n",
              "      <td>[(se, PRON), (abrio, VERB), (puente, NOUN), (a...</td>\n",
              "      <td>[(abrio, ADJ), (puente, NOUN), (agua, NOUN), (...</td>\n",
              "      <td>[puente, agua, transformador, aisladero, arbol...</td>\n",
              "      <td>(9, 0.5714224)</td>\n",
              "      <td>9</td>\n",
              "    </tr>\n",
              "    <tr>\n",
              "      <th>4</th>\n",
              "      <td>2854713</td>\n",
              "      <td>se visita direccion y se encuentra linea pri m...</td>\n",
              "      <td>[linea, pri, caida, arbol, habre, corte, repar...</td>\n",
              "      <td>linea pri caida arbol habre corte quedo pendie...</td>\n",
              "      <td>[(se, PRON), (visita, VERB), (direccion, NOUN)...</td>\n",
              "      <td>[(linea, PROPN), (pri, PROPN), (caida, ADJ), (...</td>\n",
              "      <td>[corte, linea]</td>\n",
              "      <td>(5, 0.75161874)</td>\n",
              "      <td>5</td>\n",
              "    </tr>\n",
              "  </tbody>\n",
              "</table>\n",
              "</div>\n",
              "      <button class=\"colab-df-convert\" onclick=\"convertToInteractive('df-71a8a519-eac8-4dfc-a2d3-e352aadde53c')\"\n",
              "              title=\"Convert this dataframe to an interactive table.\"\n",
              "              style=\"display:none;\">\n",
              "        \n",
              "  <svg xmlns=\"http://www.w3.org/2000/svg\" height=\"24px\"viewBox=\"0 0 24 24\"\n",
              "       width=\"24px\">\n",
              "    <path d=\"M0 0h24v24H0V0z\" fill=\"none\"/>\n",
              "    <path d=\"M18.56 5.44l.94 2.06.94-2.06 2.06-.94-2.06-.94-.94-2.06-.94 2.06-2.06.94zm-11 1L8.5 8.5l.94-2.06 2.06-.94-2.06-.94L8.5 2.5l-.94 2.06-2.06.94zm10 10l.94 2.06.94-2.06 2.06-.94-2.06-.94-.94-2.06-.94 2.06-2.06.94z\"/><path d=\"M17.41 7.96l-1.37-1.37c-.4-.4-.92-.59-1.43-.59-.52 0-1.04.2-1.43.59L10.3 9.45l-7.72 7.72c-.78.78-.78 2.05 0 2.83L4 21.41c.39.39.9.59 1.41.59.51 0 1.02-.2 1.41-.59l7.78-7.78 2.81-2.81c.8-.78.8-2.07 0-2.86zM5.41 20L4 18.59l7.72-7.72 1.47 1.35L5.41 20z\"/>\n",
              "  </svg>\n",
              "      </button>\n",
              "      \n",
              "  <style>\n",
              "    .colab-df-container {\n",
              "      display:flex;\n",
              "      flex-wrap:wrap;\n",
              "      gap: 12px;\n",
              "    }\n",
              "\n",
              "    .colab-df-convert {\n",
              "      background-color: #E8F0FE;\n",
              "      border: none;\n",
              "      border-radius: 50%;\n",
              "      cursor: pointer;\n",
              "      display: none;\n",
              "      fill: #1967D2;\n",
              "      height: 32px;\n",
              "      padding: 0 0 0 0;\n",
              "      width: 32px;\n",
              "    }\n",
              "\n",
              "    .colab-df-convert:hover {\n",
              "      background-color: #E2EBFA;\n",
              "      box-shadow: 0px 1px 2px rgba(60, 64, 67, 0.3), 0px 1px 3px 1px rgba(60, 64, 67, 0.15);\n",
              "      fill: #174EA6;\n",
              "    }\n",
              "\n",
              "    [theme=dark] .colab-df-convert {\n",
              "      background-color: #3B4455;\n",
              "      fill: #D2E3FC;\n",
              "    }\n",
              "\n",
              "    [theme=dark] .colab-df-convert:hover {\n",
              "      background-color: #434B5C;\n",
              "      box-shadow: 0px 1px 3px 1px rgba(0, 0, 0, 0.15);\n",
              "      filter: drop-shadow(0px 1px 2px rgba(0, 0, 0, 0.3));\n",
              "      fill: #FFFFFF;\n",
              "    }\n",
              "  </style>\n",
              "\n",
              "      <script>\n",
              "        const buttonEl =\n",
              "          document.querySelector('#df-71a8a519-eac8-4dfc-a2d3-e352aadde53c button.colab-df-convert');\n",
              "        buttonEl.style.display =\n",
              "          google.colab.kernel.accessAllowed ? 'block' : 'none';\n",
              "\n",
              "        async function convertToInteractive(key) {\n",
              "          const element = document.querySelector('#df-71a8a519-eac8-4dfc-a2d3-e352aadde53c');\n",
              "          const dataTable =\n",
              "            await google.colab.kernel.invokeFunction('convertToInteractive',\n",
              "                                                     [key], {});\n",
              "          if (!dataTable) return;\n",
              "\n",
              "          const docLinkHtml = 'Like what you see? Visit the ' +\n",
              "            '<a target=\"_blank\" href=https://colab.research.google.com/notebooks/data_table.ipynb>data table notebook</a>'\n",
              "            + ' to learn more about interactive tables.';\n",
              "          element.innerHTML = '';\n",
              "          dataTable['output_type'] = 'display_data';\n",
              "          await google.colab.output.renderOutput(dataTable, element);\n",
              "          const docLink = document.createElement('div');\n",
              "          docLink.innerHTML = docLinkHtml;\n",
              "          element.appendChild(docLink);\n",
              "        }\n",
              "      </script>\n",
              "    </div>\n",
              "  </div>\n",
              "  "
            ]
          },
          "metadata": {},
          "execution_count": 131
        }
      ]
    },
    {
      "cell_type": "code",
      "source": [
        "datos[['WORKLOGID','num_topic']].to_csv('/content/drive/MyDrive/ProyectoIntegrador/Datos/main_topic.csv')\n",
        "##Habilitar la siguiente línea para correr el proyecto de manera local\n",
        "# datos[['WORKLOGID','num_topic']].to_csv('/content/main_topic.csv')\n"
      ],
      "metadata": {
        "id": "srZUgkNCM7FG"
      },
      "execution_count": null,
      "outputs": []
    },
    {
      "cell_type": "code",
      "source": [
        "datos.num_topic.describe()"
      ],
      "metadata": {
        "colab": {
          "base_uri": "https://localhost:8080/"
        },
        "id": "1fbulzv7Bsc6",
        "outputId": "3b307261-353b-4ddd-9c09-5d695da879f7"
      },
      "execution_count": null,
      "outputs": [
        {
          "output_type": "execute_result",
          "data": {
            "text/plain": [
              "count    9428.000000\n",
              "mean        5.411010\n",
              "std         3.010718\n",
              "min         0.000000\n",
              "25%         3.000000\n",
              "50%         5.000000\n",
              "75%         8.000000\n",
              "max        10.000000\n",
              "Name: num_topic, dtype: float64"
            ]
          },
          "metadata": {},
          "execution_count": 133
        }
      ]
    },
    {
      "cell_type": "markdown",
      "source": [
        "## Representación de Documentos"
      ],
      "metadata": {
        "id": "eZrczl6fPd1H"
      }
    },
    {
      "cell_type": "code",
      "source": [
        "datos2 = datos"
      ],
      "metadata": {
        "id": "CFRzqgNvBSGI"
      },
      "execution_count": null,
      "outputs": []
    },
    {
      "cell_type": "code",
      "source": [
        "# Definición para pasar una lista de token a un texto\n",
        "def list_to_text (lista):\n",
        "  text = ' '.join(lista)\n",
        "  return text"
      ],
      "metadata": {
        "id": "lC0W2Q9q-unP"
      },
      "execution_count": null,
      "outputs": []
    },
    {
      "cell_type": "code",
      "source": [
        "#aplicamos la funcion list_to_text\n",
        "datos2['text'] = datos2['palabras_clave'].apply(lambda x: list_to_text(x))"
      ],
      "metadata": {
        "id": "xz_cFJD3JQJQ",
        "colab": {
          "base_uri": "https://localhost:8080/"
        },
        "outputId": "423e0967-4d2e-4a46-911a-ad7234154cfb"
      },
      "execution_count": null,
      "outputs": [
        {
          "output_type": "stream",
          "name": "stderr",
          "text": [
            "<ipython-input-136-72e9902b4d7f>:2: SettingWithCopyWarning: \n",
            "A value is trying to be set on a copy of a slice from a DataFrame.\n",
            "Try using .loc[row_indexer,col_indexer] = value instead\n",
            "\n",
            "See the caveats in the documentation: https://pandas.pydata.org/pandas-docs/stable/user_guide/indexing.html#returning-a-view-versus-a-copy\n",
            "  datos2['text'] = datos2['palabras_clave'].apply(lambda x: list_to_text(x))\n"
          ]
        }
      ]
    },
    {
      "cell_type": "code",
      "source": [
        "## Obtener listado de tokens (ya procesados)\n",
        "tokens = []\n",
        "for t in datos2['palabras_clave']:\n",
        "    tokens.extend(t)\n",
        "print('Cantidad total de tokens = ',str(len(tokens)))\n",
        "## Distribución de frecuencia de los tokens. Tamaño del BoW\n",
        "fdist_tokens = nltk.FreqDist(tokens)\n",
        "print('Tamanno del BoW=',len(fdist_tokens))"
      ],
      "metadata": {
        "colab": {
          "base_uri": "https://localhost:8080/"
        },
        "id": "VrhKTvf2urLi",
        "outputId": "ee6ddc00-b433-4bbd-cf84-5f4148b9e3b2"
      },
      "execution_count": null,
      "outputs": [
        {
          "output_type": "stream",
          "name": "stdout",
          "text": [
            "Cantidad total de tokens =  40917\n",
            "Tamanno del BoW= 1809\n"
          ]
        }
      ]
    },
    {
      "cell_type": "code",
      "source": [
        "df_frecuencia = pd.DataFrame([[key, fdist_tokens[key]] for key in fdist_tokens.keys()], columns=['palabra', 'frecuencia'])"
      ],
      "metadata": {
        "id": "NWe73kpvvFRH"
      },
      "execution_count": null,
      "outputs": []
    },
    {
      "cell_type": "code",
      "source": [
        "df_frecuencia.describe()"
      ],
      "metadata": {
        "colab": {
          "base_uri": "https://localhost:8080/",
          "height": 300
        },
        "id": "6iF_oIsovJcz",
        "outputId": "66f28f6c-538c-42f8-cf96-e9942c57b7e5"
      },
      "execution_count": null,
      "outputs": [
        {
          "output_type": "execute_result",
          "data": {
            "text/plain": [
              "        frecuencia\n",
              "count  1809.000000\n",
              "mean     22.618574\n",
              "std     137.091805\n",
              "min       1.000000\n",
              "25%       1.000000\n",
              "50%       2.000000\n",
              "75%       7.000000\n",
              "max    3650.000000"
            ],
            "text/html": [
              "\n",
              "  <div id=\"df-c6915259-b041-4a43-8450-94637e90583c\">\n",
              "    <div class=\"colab-df-container\">\n",
              "      <div>\n",
              "<style scoped>\n",
              "    .dataframe tbody tr th:only-of-type {\n",
              "        vertical-align: middle;\n",
              "    }\n",
              "\n",
              "    .dataframe tbody tr th {\n",
              "        vertical-align: top;\n",
              "    }\n",
              "\n",
              "    .dataframe thead th {\n",
              "        text-align: right;\n",
              "    }\n",
              "</style>\n",
              "<table border=\"1\" class=\"dataframe\">\n",
              "  <thead>\n",
              "    <tr style=\"text-align: right;\">\n",
              "      <th></th>\n",
              "      <th>frecuencia</th>\n",
              "    </tr>\n",
              "  </thead>\n",
              "  <tbody>\n",
              "    <tr>\n",
              "      <th>count</th>\n",
              "      <td>1809.000000</td>\n",
              "    </tr>\n",
              "    <tr>\n",
              "      <th>mean</th>\n",
              "      <td>22.618574</td>\n",
              "    </tr>\n",
              "    <tr>\n",
              "      <th>std</th>\n",
              "      <td>137.091805</td>\n",
              "    </tr>\n",
              "    <tr>\n",
              "      <th>min</th>\n",
              "      <td>1.000000</td>\n",
              "    </tr>\n",
              "    <tr>\n",
              "      <th>25%</th>\n",
              "      <td>1.000000</td>\n",
              "    </tr>\n",
              "    <tr>\n",
              "      <th>50%</th>\n",
              "      <td>2.000000</td>\n",
              "    </tr>\n",
              "    <tr>\n",
              "      <th>75%</th>\n",
              "      <td>7.000000</td>\n",
              "    </tr>\n",
              "    <tr>\n",
              "      <th>max</th>\n",
              "      <td>3650.000000</td>\n",
              "    </tr>\n",
              "  </tbody>\n",
              "</table>\n",
              "</div>\n",
              "      <button class=\"colab-df-convert\" onclick=\"convertToInteractive('df-c6915259-b041-4a43-8450-94637e90583c')\"\n",
              "              title=\"Convert this dataframe to an interactive table.\"\n",
              "              style=\"display:none;\">\n",
              "        \n",
              "  <svg xmlns=\"http://www.w3.org/2000/svg\" height=\"24px\"viewBox=\"0 0 24 24\"\n",
              "       width=\"24px\">\n",
              "    <path d=\"M0 0h24v24H0V0z\" fill=\"none\"/>\n",
              "    <path d=\"M18.56 5.44l.94 2.06.94-2.06 2.06-.94-2.06-.94-.94-2.06-.94 2.06-2.06.94zm-11 1L8.5 8.5l.94-2.06 2.06-.94-2.06-.94L8.5 2.5l-.94 2.06-2.06.94zm10 10l.94 2.06.94-2.06 2.06-.94-2.06-.94-.94-2.06-.94 2.06-2.06.94z\"/><path d=\"M17.41 7.96l-1.37-1.37c-.4-.4-.92-.59-1.43-.59-.52 0-1.04.2-1.43.59L10.3 9.45l-7.72 7.72c-.78.78-.78 2.05 0 2.83L4 21.41c.39.39.9.59 1.41.59.51 0 1.02-.2 1.41-.59l7.78-7.78 2.81-2.81c.8-.78.8-2.07 0-2.86zM5.41 20L4 18.59l7.72-7.72 1.47 1.35L5.41 20z\"/>\n",
              "  </svg>\n",
              "      </button>\n",
              "      \n",
              "  <style>\n",
              "    .colab-df-container {\n",
              "      display:flex;\n",
              "      flex-wrap:wrap;\n",
              "      gap: 12px;\n",
              "    }\n",
              "\n",
              "    .colab-df-convert {\n",
              "      background-color: #E8F0FE;\n",
              "      border: none;\n",
              "      border-radius: 50%;\n",
              "      cursor: pointer;\n",
              "      display: none;\n",
              "      fill: #1967D2;\n",
              "      height: 32px;\n",
              "      padding: 0 0 0 0;\n",
              "      width: 32px;\n",
              "    }\n",
              "\n",
              "    .colab-df-convert:hover {\n",
              "      background-color: #E2EBFA;\n",
              "      box-shadow: 0px 1px 2px rgba(60, 64, 67, 0.3), 0px 1px 3px 1px rgba(60, 64, 67, 0.15);\n",
              "      fill: #174EA6;\n",
              "    }\n",
              "\n",
              "    [theme=dark] .colab-df-convert {\n",
              "      background-color: #3B4455;\n",
              "      fill: #D2E3FC;\n",
              "    }\n",
              "\n",
              "    [theme=dark] .colab-df-convert:hover {\n",
              "      background-color: #434B5C;\n",
              "      box-shadow: 0px 1px 3px 1px rgba(0, 0, 0, 0.15);\n",
              "      filter: drop-shadow(0px 1px 2px rgba(0, 0, 0, 0.3));\n",
              "      fill: #FFFFFF;\n",
              "    }\n",
              "  </style>\n",
              "\n",
              "      <script>\n",
              "        const buttonEl =\n",
              "          document.querySelector('#df-c6915259-b041-4a43-8450-94637e90583c button.colab-df-convert');\n",
              "        buttonEl.style.display =\n",
              "          google.colab.kernel.accessAllowed ? 'block' : 'none';\n",
              "\n",
              "        async function convertToInteractive(key) {\n",
              "          const element = document.querySelector('#df-c6915259-b041-4a43-8450-94637e90583c');\n",
              "          const dataTable =\n",
              "            await google.colab.kernel.invokeFunction('convertToInteractive',\n",
              "                                                     [key], {});\n",
              "          if (!dataTable) return;\n",
              "\n",
              "          const docLinkHtml = 'Like what you see? Visit the ' +\n",
              "            '<a target=\"_blank\" href=https://colab.research.google.com/notebooks/data_table.ipynb>data table notebook</a>'\n",
              "            + ' to learn more about interactive tables.';\n",
              "          element.innerHTML = '';\n",
              "          dataTable['output_type'] = 'display_data';\n",
              "          await google.colab.output.renderOutput(dataTable, element);\n",
              "          const docLink = document.createElement('div');\n",
              "          docLink.innerHTML = docLinkHtml;\n",
              "          element.appendChild(docLink);\n",
              "        }\n",
              "      </script>\n",
              "    </div>\n",
              "  </div>\n",
              "  "
            ]
          },
          "metadata": {},
          "execution_count": 139
        }
      ]
    },
    {
      "cell_type": "code",
      "source": [
        "datos2['text'] "
      ],
      "metadata": {
        "colab": {
          "base_uri": "https://localhost:8080/"
        },
        "id": "Lo8_nmdIXEaO",
        "outputId": "6e4d5bac-a323-4054-dbbe-6608157e29e5"
      },
      "execution_count": null,
      "outputs": [
        {
          "output_type": "execute_result",
          "data": {
            "text/plain": [
              "0                                 ramales poda poda linea\n",
              "1       linea suelo caida circuito cuchillas reconecta...\n",
              "2       ruta poste coco mitad terminal viento viento e...\n",
              "3       puente agua transformador aisladero arbol post...\n",
              "4                                             corte linea\n",
              "                              ...                        \n",
              "9423           incuentra circuito aguas poste medio poste\n",
              "9424                      puente estructura puente correo\n",
              "9425                       puente oficiales riesgo riesgo\n",
              "9426                            conector apoyo aguas caja\n",
              "9427                                      red poda cancha\n",
              "Name: text, Length: 9428, dtype: object"
            ]
          },
          "metadata": {},
          "execution_count": 140
        }
      ]
    },
    {
      "cell_type": "code",
      "source": [
        "#se crea lista de textos \n",
        "texts = datos2['text'].tolist()"
      ],
      "metadata": {
        "id": "FFG5MPagC6ef"
      },
      "execution_count": null,
      "outputs": []
    },
    {
      "cell_type": "markdown",
      "source": [
        "Bit Vector Representation"
      ],
      "metadata": {
        "id": "sEILAwHDdDSI"
      }
    },
    {
      "cell_type": "code",
      "source": [
        "from sklearn.feature_extraction.text import CountVectorizer"
      ],
      "metadata": {
        "id": "TfgXEFIld89D"
      },
      "execution_count": null,
      "outputs": []
    },
    {
      "cell_type": "code",
      "source": [
        "# generate bag of word representation for given dataset\n",
        "\n",
        "bitvector = CountVectorizer(max_features = 500, binary = True) # se seleccionan solo 1000 dimensiones\n",
        "features_bv = bitvector.fit_transform(texts)\n",
        "df_bitvector=pd.DataFrame(\n",
        "    features_bv.todense(),\n",
        "    columns=bitvector.get_feature_names()\n",
        ")"
      ],
      "metadata": {
        "colab": {
          "base_uri": "https://localhost:8080/"
        },
        "id": "lFU0gNzIdayG",
        "outputId": "a599d6a6-e687-42c3-e9b3-96be8cda0830"
      },
      "execution_count": null,
      "outputs": [
        {
          "output_type": "stream",
          "name": "stderr",
          "text": [
            "/usr/local/lib/python3.8/dist-packages/sklearn/utils/deprecation.py:87: FutureWarning: Function get_feature_names is deprecated; get_feature_names is deprecated in 1.0 and will be removed in 1.2. Please use get_feature_names_out instead.\n",
            "  warnings.warn(msg, category=FutureWarning)\n"
          ]
        }
      ]
    },
    {
      "cell_type": "code",
      "source": [
        "df_bitvector2 = datos2[['WORKLOGID']].merge(df_bitvector, left_on=None, right_on=None, left_index=True , right_index=True)\n",
        "df_bitvector2"
      ],
      "metadata": {
        "colab": {
          "base_uri": "https://localhost:8080/",
          "height": 487
        },
        "id": "JtuVJCNcDxJ-",
        "outputId": "413213d8-daf8-42f6-88f1-57a19cd72d2a"
      },
      "execution_count": null,
      "outputs": [
        {
          "output_type": "execute_result",
          "data": {
            "text/plain": [
              "      WORKLOGID  abeja  acceso  accidente  aceite  acercamiento  acero  \\\n",
              "0       2789392      0       0          0       0             0      0   \n",
              "1       2857541      0       0          0       0             0      0   \n",
              "2       2437852      0       0          0       0             0      0   \n",
              "3       2685049      0       0          0       0             0      0   \n",
              "4       2854713      0       0          0       0             0      0   \n",
              "...         ...    ...     ...        ...     ...           ...    ...   \n",
              "9423    3108241      0       0          0       0             0      0   \n",
              "9424    3038792      0       0          0       0             0      0   \n",
              "9425    2943207      0       0          0       0             0      0   \n",
              "9426    3070258      0       0          0       0             0      0   \n",
              "9427    3104522      0       0          0       0             0      0   \n",
              "\n",
              "      acometidas  acompanamiento  actividad  ...  vendaval  veredas  vez  \\\n",
              "0              0               0          0  ...         0        0    0   \n",
              "1              0               0          0  ...         0        0    0   \n",
              "2              0               0          0  ...         0        0    0   \n",
              "3              0               0          0  ...         0        0    0   \n",
              "4              0               0          0  ...         0        0    0   \n",
              "...          ...             ...        ...  ...       ...      ...  ...   \n",
              "9423           0               0          0  ...         0        0    0   \n",
              "9424           0               0          0  ...         0        0    0   \n",
              "9425           0               0          0  ...         0        0    0   \n",
              "9426           0               0          0  ...         0        0    0   \n",
              "9427           0               0          0  ...         0        0    0   \n",
              "\n",
              "      viaje  vias  vida  viento  vientos  voltaje  zona  \n",
              "0         0     0     0       0        0        0     0  \n",
              "1         0     0     0       0        0        0     0  \n",
              "2         0     0     0       1        0        0     0  \n",
              "3         0     0     0       0        0        0     0  \n",
              "4         0     0     0       0        0        0     0  \n",
              "...     ...   ...   ...     ...      ...      ...   ...  \n",
              "9423      0     0     0       0        0        0     0  \n",
              "9424      0     0     0       0        0        0     0  \n",
              "9425      0     0     0       0        0        0     0  \n",
              "9426      0     0     0       0        0        0     0  \n",
              "9427      0     0     0       0        0        0     0  \n",
              "\n",
              "[9428 rows x 501 columns]"
            ],
            "text/html": [
              "\n",
              "  <div id=\"df-f230fd74-4978-4397-9cc8-ab7cc05fe122\">\n",
              "    <div class=\"colab-df-container\">\n",
              "      <div>\n",
              "<style scoped>\n",
              "    .dataframe tbody tr th:only-of-type {\n",
              "        vertical-align: middle;\n",
              "    }\n",
              "\n",
              "    .dataframe tbody tr th {\n",
              "        vertical-align: top;\n",
              "    }\n",
              "\n",
              "    .dataframe thead th {\n",
              "        text-align: right;\n",
              "    }\n",
              "</style>\n",
              "<table border=\"1\" class=\"dataframe\">\n",
              "  <thead>\n",
              "    <tr style=\"text-align: right;\">\n",
              "      <th></th>\n",
              "      <th>WORKLOGID</th>\n",
              "      <th>abeja</th>\n",
              "      <th>acceso</th>\n",
              "      <th>accidente</th>\n",
              "      <th>aceite</th>\n",
              "      <th>acercamiento</th>\n",
              "      <th>acero</th>\n",
              "      <th>acometidas</th>\n",
              "      <th>acompanamiento</th>\n",
              "      <th>actividad</th>\n",
              "      <th>...</th>\n",
              "      <th>vendaval</th>\n",
              "      <th>veredas</th>\n",
              "      <th>vez</th>\n",
              "      <th>viaje</th>\n",
              "      <th>vias</th>\n",
              "      <th>vida</th>\n",
              "      <th>viento</th>\n",
              "      <th>vientos</th>\n",
              "      <th>voltaje</th>\n",
              "      <th>zona</th>\n",
              "    </tr>\n",
              "  </thead>\n",
              "  <tbody>\n",
              "    <tr>\n",
              "      <th>0</th>\n",
              "      <td>2789392</td>\n",
              "      <td>0</td>\n",
              "      <td>0</td>\n",
              "      <td>0</td>\n",
              "      <td>0</td>\n",
              "      <td>0</td>\n",
              "      <td>0</td>\n",
              "      <td>0</td>\n",
              "      <td>0</td>\n",
              "      <td>0</td>\n",
              "      <td>...</td>\n",
              "      <td>0</td>\n",
              "      <td>0</td>\n",
              "      <td>0</td>\n",
              "      <td>0</td>\n",
              "      <td>0</td>\n",
              "      <td>0</td>\n",
              "      <td>0</td>\n",
              "      <td>0</td>\n",
              "      <td>0</td>\n",
              "      <td>0</td>\n",
              "    </tr>\n",
              "    <tr>\n",
              "      <th>1</th>\n",
              "      <td>2857541</td>\n",
              "      <td>0</td>\n",
              "      <td>0</td>\n",
              "      <td>0</td>\n",
              "      <td>0</td>\n",
              "      <td>0</td>\n",
              "      <td>0</td>\n",
              "      <td>0</td>\n",
              "      <td>0</td>\n",
              "      <td>0</td>\n",
              "      <td>...</td>\n",
              "      <td>0</td>\n",
              "      <td>0</td>\n",
              "      <td>0</td>\n",
              "      <td>0</td>\n",
              "      <td>0</td>\n",
              "      <td>0</td>\n",
              "      <td>0</td>\n",
              "      <td>0</td>\n",
              "      <td>0</td>\n",
              "      <td>0</td>\n",
              "    </tr>\n",
              "    <tr>\n",
              "      <th>2</th>\n",
              "      <td>2437852</td>\n",
              "      <td>0</td>\n",
              "      <td>0</td>\n",
              "      <td>0</td>\n",
              "      <td>0</td>\n",
              "      <td>0</td>\n",
              "      <td>0</td>\n",
              "      <td>0</td>\n",
              "      <td>0</td>\n",
              "      <td>0</td>\n",
              "      <td>...</td>\n",
              "      <td>0</td>\n",
              "      <td>0</td>\n",
              "      <td>0</td>\n",
              "      <td>0</td>\n",
              "      <td>0</td>\n",
              "      <td>0</td>\n",
              "      <td>1</td>\n",
              "      <td>0</td>\n",
              "      <td>0</td>\n",
              "      <td>0</td>\n",
              "    </tr>\n",
              "    <tr>\n",
              "      <th>3</th>\n",
              "      <td>2685049</td>\n",
              "      <td>0</td>\n",
              "      <td>0</td>\n",
              "      <td>0</td>\n",
              "      <td>0</td>\n",
              "      <td>0</td>\n",
              "      <td>0</td>\n",
              "      <td>0</td>\n",
              "      <td>0</td>\n",
              "      <td>0</td>\n",
              "      <td>...</td>\n",
              "      <td>0</td>\n",
              "      <td>0</td>\n",
              "      <td>0</td>\n",
              "      <td>0</td>\n",
              "      <td>0</td>\n",
              "      <td>0</td>\n",
              "      <td>0</td>\n",
              "      <td>0</td>\n",
              "      <td>0</td>\n",
              "      <td>0</td>\n",
              "    </tr>\n",
              "    <tr>\n",
              "      <th>4</th>\n",
              "      <td>2854713</td>\n",
              "      <td>0</td>\n",
              "      <td>0</td>\n",
              "      <td>0</td>\n",
              "      <td>0</td>\n",
              "      <td>0</td>\n",
              "      <td>0</td>\n",
              "      <td>0</td>\n",
              "      <td>0</td>\n",
              "      <td>0</td>\n",
              "      <td>...</td>\n",
              "      <td>0</td>\n",
              "      <td>0</td>\n",
              "      <td>0</td>\n",
              "      <td>0</td>\n",
              "      <td>0</td>\n",
              "      <td>0</td>\n",
              "      <td>0</td>\n",
              "      <td>0</td>\n",
              "      <td>0</td>\n",
              "      <td>0</td>\n",
              "    </tr>\n",
              "    <tr>\n",
              "      <th>...</th>\n",
              "      <td>...</td>\n",
              "      <td>...</td>\n",
              "      <td>...</td>\n",
              "      <td>...</td>\n",
              "      <td>...</td>\n",
              "      <td>...</td>\n",
              "      <td>...</td>\n",
              "      <td>...</td>\n",
              "      <td>...</td>\n",
              "      <td>...</td>\n",
              "      <td>...</td>\n",
              "      <td>...</td>\n",
              "      <td>...</td>\n",
              "      <td>...</td>\n",
              "      <td>...</td>\n",
              "      <td>...</td>\n",
              "      <td>...</td>\n",
              "      <td>...</td>\n",
              "      <td>...</td>\n",
              "      <td>...</td>\n",
              "      <td>...</td>\n",
              "    </tr>\n",
              "    <tr>\n",
              "      <th>9423</th>\n",
              "      <td>3108241</td>\n",
              "      <td>0</td>\n",
              "      <td>0</td>\n",
              "      <td>0</td>\n",
              "      <td>0</td>\n",
              "      <td>0</td>\n",
              "      <td>0</td>\n",
              "      <td>0</td>\n",
              "      <td>0</td>\n",
              "      <td>0</td>\n",
              "      <td>...</td>\n",
              "      <td>0</td>\n",
              "      <td>0</td>\n",
              "      <td>0</td>\n",
              "      <td>0</td>\n",
              "      <td>0</td>\n",
              "      <td>0</td>\n",
              "      <td>0</td>\n",
              "      <td>0</td>\n",
              "      <td>0</td>\n",
              "      <td>0</td>\n",
              "    </tr>\n",
              "    <tr>\n",
              "      <th>9424</th>\n",
              "      <td>3038792</td>\n",
              "      <td>0</td>\n",
              "      <td>0</td>\n",
              "      <td>0</td>\n",
              "      <td>0</td>\n",
              "      <td>0</td>\n",
              "      <td>0</td>\n",
              "      <td>0</td>\n",
              "      <td>0</td>\n",
              "      <td>0</td>\n",
              "      <td>...</td>\n",
              "      <td>0</td>\n",
              "      <td>0</td>\n",
              "      <td>0</td>\n",
              "      <td>0</td>\n",
              "      <td>0</td>\n",
              "      <td>0</td>\n",
              "      <td>0</td>\n",
              "      <td>0</td>\n",
              "      <td>0</td>\n",
              "      <td>0</td>\n",
              "    </tr>\n",
              "    <tr>\n",
              "      <th>9425</th>\n",
              "      <td>2943207</td>\n",
              "      <td>0</td>\n",
              "      <td>0</td>\n",
              "      <td>0</td>\n",
              "      <td>0</td>\n",
              "      <td>0</td>\n",
              "      <td>0</td>\n",
              "      <td>0</td>\n",
              "      <td>0</td>\n",
              "      <td>0</td>\n",
              "      <td>...</td>\n",
              "      <td>0</td>\n",
              "      <td>0</td>\n",
              "      <td>0</td>\n",
              "      <td>0</td>\n",
              "      <td>0</td>\n",
              "      <td>0</td>\n",
              "      <td>0</td>\n",
              "      <td>0</td>\n",
              "      <td>0</td>\n",
              "      <td>0</td>\n",
              "    </tr>\n",
              "    <tr>\n",
              "      <th>9426</th>\n",
              "      <td>3070258</td>\n",
              "      <td>0</td>\n",
              "      <td>0</td>\n",
              "      <td>0</td>\n",
              "      <td>0</td>\n",
              "      <td>0</td>\n",
              "      <td>0</td>\n",
              "      <td>0</td>\n",
              "      <td>0</td>\n",
              "      <td>0</td>\n",
              "      <td>...</td>\n",
              "      <td>0</td>\n",
              "      <td>0</td>\n",
              "      <td>0</td>\n",
              "      <td>0</td>\n",
              "      <td>0</td>\n",
              "      <td>0</td>\n",
              "      <td>0</td>\n",
              "      <td>0</td>\n",
              "      <td>0</td>\n",
              "      <td>0</td>\n",
              "    </tr>\n",
              "    <tr>\n",
              "      <th>9427</th>\n",
              "      <td>3104522</td>\n",
              "      <td>0</td>\n",
              "      <td>0</td>\n",
              "      <td>0</td>\n",
              "      <td>0</td>\n",
              "      <td>0</td>\n",
              "      <td>0</td>\n",
              "      <td>0</td>\n",
              "      <td>0</td>\n",
              "      <td>0</td>\n",
              "      <td>...</td>\n",
              "      <td>0</td>\n",
              "      <td>0</td>\n",
              "      <td>0</td>\n",
              "      <td>0</td>\n",
              "      <td>0</td>\n",
              "      <td>0</td>\n",
              "      <td>0</td>\n",
              "      <td>0</td>\n",
              "      <td>0</td>\n",
              "      <td>0</td>\n",
              "    </tr>\n",
              "  </tbody>\n",
              "</table>\n",
              "<p>9428 rows × 501 columns</p>\n",
              "</div>\n",
              "      <button class=\"colab-df-convert\" onclick=\"convertToInteractive('df-f230fd74-4978-4397-9cc8-ab7cc05fe122')\"\n",
              "              title=\"Convert this dataframe to an interactive table.\"\n",
              "              style=\"display:none;\">\n",
              "        \n",
              "  <svg xmlns=\"http://www.w3.org/2000/svg\" height=\"24px\"viewBox=\"0 0 24 24\"\n",
              "       width=\"24px\">\n",
              "    <path d=\"M0 0h24v24H0V0z\" fill=\"none\"/>\n",
              "    <path d=\"M18.56 5.44l.94 2.06.94-2.06 2.06-.94-2.06-.94-.94-2.06-.94 2.06-2.06.94zm-11 1L8.5 8.5l.94-2.06 2.06-.94-2.06-.94L8.5 2.5l-.94 2.06-2.06.94zm10 10l.94 2.06.94-2.06 2.06-.94-2.06-.94-.94-2.06-.94 2.06-2.06.94z\"/><path d=\"M17.41 7.96l-1.37-1.37c-.4-.4-.92-.59-1.43-.59-.52 0-1.04.2-1.43.59L10.3 9.45l-7.72 7.72c-.78.78-.78 2.05 0 2.83L4 21.41c.39.39.9.59 1.41.59.51 0 1.02-.2 1.41-.59l7.78-7.78 2.81-2.81c.8-.78.8-2.07 0-2.86zM5.41 20L4 18.59l7.72-7.72 1.47 1.35L5.41 20z\"/>\n",
              "  </svg>\n",
              "      </button>\n",
              "      \n",
              "  <style>\n",
              "    .colab-df-container {\n",
              "      display:flex;\n",
              "      flex-wrap:wrap;\n",
              "      gap: 12px;\n",
              "    }\n",
              "\n",
              "    .colab-df-convert {\n",
              "      background-color: #E8F0FE;\n",
              "      border: none;\n",
              "      border-radius: 50%;\n",
              "      cursor: pointer;\n",
              "      display: none;\n",
              "      fill: #1967D2;\n",
              "      height: 32px;\n",
              "      padding: 0 0 0 0;\n",
              "      width: 32px;\n",
              "    }\n",
              "\n",
              "    .colab-df-convert:hover {\n",
              "      background-color: #E2EBFA;\n",
              "      box-shadow: 0px 1px 2px rgba(60, 64, 67, 0.3), 0px 1px 3px 1px rgba(60, 64, 67, 0.15);\n",
              "      fill: #174EA6;\n",
              "    }\n",
              "\n",
              "    [theme=dark] .colab-df-convert {\n",
              "      background-color: #3B4455;\n",
              "      fill: #D2E3FC;\n",
              "    }\n",
              "\n",
              "    [theme=dark] .colab-df-convert:hover {\n",
              "      background-color: #434B5C;\n",
              "      box-shadow: 0px 1px 3px 1px rgba(0, 0, 0, 0.15);\n",
              "      filter: drop-shadow(0px 1px 2px rgba(0, 0, 0, 0.3));\n",
              "      fill: #FFFFFF;\n",
              "    }\n",
              "  </style>\n",
              "\n",
              "      <script>\n",
              "        const buttonEl =\n",
              "          document.querySelector('#df-f230fd74-4978-4397-9cc8-ab7cc05fe122 button.colab-df-convert');\n",
              "        buttonEl.style.display =\n",
              "          google.colab.kernel.accessAllowed ? 'block' : 'none';\n",
              "\n",
              "        async function convertToInteractive(key) {\n",
              "          const element = document.querySelector('#df-f230fd74-4978-4397-9cc8-ab7cc05fe122');\n",
              "          const dataTable =\n",
              "            await google.colab.kernel.invokeFunction('convertToInteractive',\n",
              "                                                     [key], {});\n",
              "          if (!dataTable) return;\n",
              "\n",
              "          const docLinkHtml = 'Like what you see? Visit the ' +\n",
              "            '<a target=\"_blank\" href=https://colab.research.google.com/notebooks/data_table.ipynb>data table notebook</a>'\n",
              "            + ' to learn more about interactive tables.';\n",
              "          element.innerHTML = '';\n",
              "          dataTable['output_type'] = 'display_data';\n",
              "          await google.colab.output.renderOutput(dataTable, element);\n",
              "          const docLink = document.createElement('div');\n",
              "          docLink.innerHTML = docLinkHtml;\n",
              "          element.appendChild(docLink);\n",
              "        }\n",
              "      </script>\n",
              "    </div>\n",
              "  </div>\n",
              "  "
            ]
          },
          "metadata": {},
          "execution_count": 144
        }
      ]
    },
    {
      "cell_type": "code",
      "source": [
        "#extraemos matriz para revisar la representacion de documentos\n",
        "#df_bitvector2.to_csv('/content/drive/MyDrive/ProyectoIntegrador/Datos/matrizbitvector.csv')"
      ],
      "metadata": {
        "id": "6V0cN6LNiJZX"
      },
      "execution_count": null,
      "outputs": []
    },
    {
      "cell_type": "markdown",
      "source": [
        "TF-IDF Representation"
      ],
      "metadata": {
        "id": "umEzNw8XdJUo"
      }
    },
    {
      "cell_type": "code",
      "source": [
        "#Vectorización\n",
        "from sklearn.feature_extraction.text import TfidfVectorizer"
      ],
      "metadata": {
        "id": "N5J6E13dTpbP"
      },
      "execution_count": null,
      "outputs": []
    },
    {
      "cell_type": "code",
      "source": [
        "# using default tokenizer in TfidfVectorizer\n",
        "tfidf = TfidfVectorizer(min_df=1, max_df=0.5, ngram_range=(1, 1))\n",
        "features_tfidf = tfidf.fit_transform(texts)\n",
        "df_tfidf=pd.DataFrame(\n",
        "    features_tfidf.todense(),\n",
        "    columns=tfidf.get_feature_names()\n",
        ")\n"
      ],
      "metadata": {
        "id": "UBpsKB0FlARI",
        "colab": {
          "base_uri": "https://localhost:8080/"
        },
        "outputId": "ad1742fb-7a95-461d-f2d3-d7a3f773d850"
      },
      "execution_count": null,
      "outputs": [
        {
          "output_type": "stream",
          "name": "stderr",
          "text": [
            "/usr/local/lib/python3.8/dist-packages/sklearn/utils/deprecation.py:87: FutureWarning: Function get_feature_names is deprecated; get_feature_names is deprecated in 1.0 and will be removed in 1.2. Please use get_feature_names_out instead.\n",
            "  warnings.warn(msg, category=FutureWarning)\n"
          ]
        }
      ]
    },
    {
      "cell_type": "code",
      "source": [
        "df_tfidf.head(5)"
      ],
      "metadata": {
        "colab": {
          "base_uri": "https://localhost:8080/",
          "height": 299
        },
        "id": "ernYLdFGSNXw",
        "outputId": "f2c323b8-17d7-4ecb-9be8-2cb8b85f2c22"
      },
      "execution_count": null,
      "outputs": [
        {
          "output_type": "execute_result",
          "data": {
            "text/plain": [
              "   abajos  abeja  abertura  abriaqui  abrio  acceso  accidente  aceite  acera  \\\n",
              "0     0.0    0.0       0.0       0.0    0.0     0.0        0.0     0.0    0.0   \n",
              "1     0.0    0.0       0.0       0.0    0.0     0.0        0.0     0.0    0.0   \n",
              "2     0.0    0.0       0.0       0.0    0.0     0.0        0.0     0.0    0.0   \n",
              "3     0.0    0.0       0.0       0.0    0.0     0.0        0.0     0.0    0.0   \n",
              "4     0.0    0.0       0.0       0.0    0.0     0.0        0.0     0.0    0.0   \n",
              "\n",
              "   acercamiento  ...  villa  vision  volcamiento  voltaje  voz  wilmer  xlpe  \\\n",
              "0           0.0  ...    0.0     0.0          0.0      0.0  0.0     0.0   0.0   \n",
              "1           0.0  ...    0.0     0.0          0.0      0.0  0.0     0.0   0.0   \n",
              "2           0.0  ...    0.0     0.0          0.0      0.0  0.0     0.0   0.0   \n",
              "3           0.0  ...    0.0     0.0          0.0      0.0  0.0     0.0   0.0   \n",
              "4           0.0  ...    0.0     0.0          0.0      0.0  0.0     0.0   0.0   \n",
              "\n",
              "   yugo  zona  zorra  \n",
              "0   0.0   0.0    0.0  \n",
              "1   0.0   0.0    0.0  \n",
              "2   0.0   0.0    0.0  \n",
              "3   0.0   0.0    0.0  \n",
              "4   0.0   0.0    0.0  \n",
              "\n",
              "[5 rows x 1808 columns]"
            ],
            "text/html": [
              "\n",
              "  <div id=\"df-3cd153f8-33c0-47bc-800d-51642f67b469\">\n",
              "    <div class=\"colab-df-container\">\n",
              "      <div>\n",
              "<style scoped>\n",
              "    .dataframe tbody tr th:only-of-type {\n",
              "        vertical-align: middle;\n",
              "    }\n",
              "\n",
              "    .dataframe tbody tr th {\n",
              "        vertical-align: top;\n",
              "    }\n",
              "\n",
              "    .dataframe thead th {\n",
              "        text-align: right;\n",
              "    }\n",
              "</style>\n",
              "<table border=\"1\" class=\"dataframe\">\n",
              "  <thead>\n",
              "    <tr style=\"text-align: right;\">\n",
              "      <th></th>\n",
              "      <th>abajos</th>\n",
              "      <th>abeja</th>\n",
              "      <th>abertura</th>\n",
              "      <th>abriaqui</th>\n",
              "      <th>abrio</th>\n",
              "      <th>acceso</th>\n",
              "      <th>accidente</th>\n",
              "      <th>aceite</th>\n",
              "      <th>acera</th>\n",
              "      <th>acercamiento</th>\n",
              "      <th>...</th>\n",
              "      <th>villa</th>\n",
              "      <th>vision</th>\n",
              "      <th>volcamiento</th>\n",
              "      <th>voltaje</th>\n",
              "      <th>voz</th>\n",
              "      <th>wilmer</th>\n",
              "      <th>xlpe</th>\n",
              "      <th>yugo</th>\n",
              "      <th>zona</th>\n",
              "      <th>zorra</th>\n",
              "    </tr>\n",
              "  </thead>\n",
              "  <tbody>\n",
              "    <tr>\n",
              "      <th>0</th>\n",
              "      <td>0.0</td>\n",
              "      <td>0.0</td>\n",
              "      <td>0.0</td>\n",
              "      <td>0.0</td>\n",
              "      <td>0.0</td>\n",
              "      <td>0.0</td>\n",
              "      <td>0.0</td>\n",
              "      <td>0.0</td>\n",
              "      <td>0.0</td>\n",
              "      <td>0.0</td>\n",
              "      <td>...</td>\n",
              "      <td>0.0</td>\n",
              "      <td>0.0</td>\n",
              "      <td>0.0</td>\n",
              "      <td>0.0</td>\n",
              "      <td>0.0</td>\n",
              "      <td>0.0</td>\n",
              "      <td>0.0</td>\n",
              "      <td>0.0</td>\n",
              "      <td>0.0</td>\n",
              "      <td>0.0</td>\n",
              "    </tr>\n",
              "    <tr>\n",
              "      <th>1</th>\n",
              "      <td>0.0</td>\n",
              "      <td>0.0</td>\n",
              "      <td>0.0</td>\n",
              "      <td>0.0</td>\n",
              "      <td>0.0</td>\n",
              "      <td>0.0</td>\n",
              "      <td>0.0</td>\n",
              "      <td>0.0</td>\n",
              "      <td>0.0</td>\n",
              "      <td>0.0</td>\n",
              "      <td>...</td>\n",
              "      <td>0.0</td>\n",
              "      <td>0.0</td>\n",
              "      <td>0.0</td>\n",
              "      <td>0.0</td>\n",
              "      <td>0.0</td>\n",
              "      <td>0.0</td>\n",
              "      <td>0.0</td>\n",
              "      <td>0.0</td>\n",
              "      <td>0.0</td>\n",
              "      <td>0.0</td>\n",
              "    </tr>\n",
              "    <tr>\n",
              "      <th>2</th>\n",
              "      <td>0.0</td>\n",
              "      <td>0.0</td>\n",
              "      <td>0.0</td>\n",
              "      <td>0.0</td>\n",
              "      <td>0.0</td>\n",
              "      <td>0.0</td>\n",
              "      <td>0.0</td>\n",
              "      <td>0.0</td>\n",
              "      <td>0.0</td>\n",
              "      <td>0.0</td>\n",
              "      <td>...</td>\n",
              "      <td>0.0</td>\n",
              "      <td>0.0</td>\n",
              "      <td>0.0</td>\n",
              "      <td>0.0</td>\n",
              "      <td>0.0</td>\n",
              "      <td>0.0</td>\n",
              "      <td>0.0</td>\n",
              "      <td>0.0</td>\n",
              "      <td>0.0</td>\n",
              "      <td>0.0</td>\n",
              "    </tr>\n",
              "    <tr>\n",
              "      <th>3</th>\n",
              "      <td>0.0</td>\n",
              "      <td>0.0</td>\n",
              "      <td>0.0</td>\n",
              "      <td>0.0</td>\n",
              "      <td>0.0</td>\n",
              "      <td>0.0</td>\n",
              "      <td>0.0</td>\n",
              "      <td>0.0</td>\n",
              "      <td>0.0</td>\n",
              "      <td>0.0</td>\n",
              "      <td>...</td>\n",
              "      <td>0.0</td>\n",
              "      <td>0.0</td>\n",
              "      <td>0.0</td>\n",
              "      <td>0.0</td>\n",
              "      <td>0.0</td>\n",
              "      <td>0.0</td>\n",
              "      <td>0.0</td>\n",
              "      <td>0.0</td>\n",
              "      <td>0.0</td>\n",
              "      <td>0.0</td>\n",
              "    </tr>\n",
              "    <tr>\n",
              "      <th>4</th>\n",
              "      <td>0.0</td>\n",
              "      <td>0.0</td>\n",
              "      <td>0.0</td>\n",
              "      <td>0.0</td>\n",
              "      <td>0.0</td>\n",
              "      <td>0.0</td>\n",
              "      <td>0.0</td>\n",
              "      <td>0.0</td>\n",
              "      <td>0.0</td>\n",
              "      <td>0.0</td>\n",
              "      <td>...</td>\n",
              "      <td>0.0</td>\n",
              "      <td>0.0</td>\n",
              "      <td>0.0</td>\n",
              "      <td>0.0</td>\n",
              "      <td>0.0</td>\n",
              "      <td>0.0</td>\n",
              "      <td>0.0</td>\n",
              "      <td>0.0</td>\n",
              "      <td>0.0</td>\n",
              "      <td>0.0</td>\n",
              "    </tr>\n",
              "  </tbody>\n",
              "</table>\n",
              "<p>5 rows × 1808 columns</p>\n",
              "</div>\n",
              "      <button class=\"colab-df-convert\" onclick=\"convertToInteractive('df-3cd153f8-33c0-47bc-800d-51642f67b469')\"\n",
              "              title=\"Convert this dataframe to an interactive table.\"\n",
              "              style=\"display:none;\">\n",
              "        \n",
              "  <svg xmlns=\"http://www.w3.org/2000/svg\" height=\"24px\"viewBox=\"0 0 24 24\"\n",
              "       width=\"24px\">\n",
              "    <path d=\"M0 0h24v24H0V0z\" fill=\"none\"/>\n",
              "    <path d=\"M18.56 5.44l.94 2.06.94-2.06 2.06-.94-2.06-.94-.94-2.06-.94 2.06-2.06.94zm-11 1L8.5 8.5l.94-2.06 2.06-.94-2.06-.94L8.5 2.5l-.94 2.06-2.06.94zm10 10l.94 2.06.94-2.06 2.06-.94-2.06-.94-.94-2.06-.94 2.06-2.06.94z\"/><path d=\"M17.41 7.96l-1.37-1.37c-.4-.4-.92-.59-1.43-.59-.52 0-1.04.2-1.43.59L10.3 9.45l-7.72 7.72c-.78.78-.78 2.05 0 2.83L4 21.41c.39.39.9.59 1.41.59.51 0 1.02-.2 1.41-.59l7.78-7.78 2.81-2.81c.8-.78.8-2.07 0-2.86zM5.41 20L4 18.59l7.72-7.72 1.47 1.35L5.41 20z\"/>\n",
              "  </svg>\n",
              "      </button>\n",
              "      \n",
              "  <style>\n",
              "    .colab-df-container {\n",
              "      display:flex;\n",
              "      flex-wrap:wrap;\n",
              "      gap: 12px;\n",
              "    }\n",
              "\n",
              "    .colab-df-convert {\n",
              "      background-color: #E8F0FE;\n",
              "      border: none;\n",
              "      border-radius: 50%;\n",
              "      cursor: pointer;\n",
              "      display: none;\n",
              "      fill: #1967D2;\n",
              "      height: 32px;\n",
              "      padding: 0 0 0 0;\n",
              "      width: 32px;\n",
              "    }\n",
              "\n",
              "    .colab-df-convert:hover {\n",
              "      background-color: #E2EBFA;\n",
              "      box-shadow: 0px 1px 2px rgba(60, 64, 67, 0.3), 0px 1px 3px 1px rgba(60, 64, 67, 0.15);\n",
              "      fill: #174EA6;\n",
              "    }\n",
              "\n",
              "    [theme=dark] .colab-df-convert {\n",
              "      background-color: #3B4455;\n",
              "      fill: #D2E3FC;\n",
              "    }\n",
              "\n",
              "    [theme=dark] .colab-df-convert:hover {\n",
              "      background-color: #434B5C;\n",
              "      box-shadow: 0px 1px 3px 1px rgba(0, 0, 0, 0.15);\n",
              "      filter: drop-shadow(0px 1px 2px rgba(0, 0, 0, 0.3));\n",
              "      fill: #FFFFFF;\n",
              "    }\n",
              "  </style>\n",
              "\n",
              "      <script>\n",
              "        const buttonEl =\n",
              "          document.querySelector('#df-3cd153f8-33c0-47bc-800d-51642f67b469 button.colab-df-convert');\n",
              "        buttonEl.style.display =\n",
              "          google.colab.kernel.accessAllowed ? 'block' : 'none';\n",
              "\n",
              "        async function convertToInteractive(key) {\n",
              "          const element = document.querySelector('#df-3cd153f8-33c0-47bc-800d-51642f67b469');\n",
              "          const dataTable =\n",
              "            await google.colab.kernel.invokeFunction('convertToInteractive',\n",
              "                                                     [key], {});\n",
              "          if (!dataTable) return;\n",
              "\n",
              "          const docLinkHtml = 'Like what you see? Visit the ' +\n",
              "            '<a target=\"_blank\" href=https://colab.research.google.com/notebooks/data_table.ipynb>data table notebook</a>'\n",
              "            + ' to learn more about interactive tables.';\n",
              "          element.innerHTML = '';\n",
              "          dataTable['output_type'] = 'display_data';\n",
              "          await google.colab.output.renderOutput(dataTable, element);\n",
              "          const docLink = document.createElement('div');\n",
              "          docLink.innerHTML = docLinkHtml;\n",
              "          element.appendChild(docLink);\n",
              "        }\n",
              "      </script>\n",
              "    </div>\n",
              "  </div>\n",
              "  "
            ]
          },
          "metadata": {},
          "execution_count": 148
        }
      ]
    },
    {
      "cell_type": "code",
      "source": [
        "#extraemos matriz para revisar la representacion de documentos\n",
        "#df_tfidf.to_csv('/content/drive/MyDrive/ProyectoIntegrador/Datos/matriztfidf.csv')"
      ],
      "metadata": {
        "id": "rjX2gV4nvZZP"
      },
      "execution_count": null,
      "outputs": []
    },
    {
      "cell_type": "markdown",
      "source": [
        "## **K means**"
      ],
      "metadata": {
        "id": "xWCA82yJdXtP"
      }
    },
    {
      "cell_type": "code",
      "source": [
        "from sklearn.cluster import KMeans\n",
        "modelkmeans = KMeans(n_clusters=15, init='k-means++', n_init=100)\n",
        "modelkmeans.fit(df_tfidf)"
      ],
      "metadata": {
        "colab": {
          "base_uri": "https://localhost:8080/"
        },
        "id": "vGqnfkeWFI__",
        "outputId": "144a8bb0-0aac-4278-8090-af7183489202"
      },
      "execution_count": null,
      "outputs": [
        {
          "output_type": "execute_result",
          "data": {
            "text/plain": [
              "KMeans(n_clusters=15, n_init=100)"
            ]
          },
          "metadata": {},
          "execution_count": 150
        }
      ]
    },
    {
      "cell_type": "code",
      "source": [
        "#%% Etiquetamos nuestro dataframe.\n",
        "labels = modelkmeans.predict(df_tfidf)\n"
      ],
      "metadata": {
        "id": "pMSQ6EWUZfT6"
      },
      "execution_count": null,
      "outputs": []
    },
    {
      "cell_type": "code",
      "source": [
        "datos2['label'] = labels"
      ],
      "metadata": {
        "id": "RWAisK4pZ01H",
        "colab": {
          "base_uri": "https://localhost:8080/"
        },
        "outputId": "b78e9689-d7d6-4f66-a307-4d601f5e0351"
      },
      "execution_count": null,
      "outputs": [
        {
          "output_type": "stream",
          "name": "stderr",
          "text": [
            "<ipython-input-152-b5f30680f04c>:1: SettingWithCopyWarning: \n",
            "A value is trying to be set on a copy of a slice from a DataFrame.\n",
            "Try using .loc[row_indexer,col_indexer] = value instead\n",
            "\n",
            "See the caveats in the documentation: https://pandas.pydata.org/pandas-docs/stable/user_guide/indexing.html#returning-a-view-versus-a-copy\n",
            "  datos2['label'] = labels\n"
          ]
        }
      ]
    },
    {
      "cell_type": "code",
      "source": [
        "datos2.head(5)"
      ],
      "metadata": {
        "colab": {
          "base_uri": "https://localhost:8080/",
          "height": 614
        },
        "id": "uaVxOVVtaKyn",
        "outputId": "2619f5c9-11e1-4e86-f276-e36a895d0d26"
      },
      "execution_count": null,
      "outputs": [
        {
          "output_type": "execute_result",
          "data": {
            "text/plain": [
              "   WORKLOGID                                          procesado  \\\n",
              "0    2789392  se realizo poda en varios ramales secundarios ...   \n",
              "1    2857541  se encuentra linea primarias de en el suelo se...   \n",
              "2    2437852  se visita la ruta y se inspeccionan dos poste ...   \n",
              "3    2685049  se abrio puente agua abajo de transformador qu...   \n",
              "4    2854713  se visita direccion y se encuentra linea pri m...   \n",
              "\n",
              "                                         tokens_proc  \\\n",
              "0  [poda, varios, ramales, secundarios, fusible, ...   \n",
              "1  [linea, primarias, suelo, procede, repara, dan...   \n",
              "2  [ruta, inspeccionan, dos, poste, reportados, c...   \n",
              "3  [abrio, puente, agua, abajo, transformador, re...   \n",
              "4  [linea, pri, caida, arbol, habre, corte, repar...   \n",
              "\n",
              "                                        tokensunidos  \\\n",
              "0  poda varios ramales secundarios fusible transf...   \n",
              "1  linea primarias suelo procede repara dano caus...   \n",
              "2  ruta inspeccionan dos poste reportados cuales ...   \n",
              "3  abrio puente agua abajo transformador quedo pe...   \n",
              "4  linea pri caida arbol habre corte quedo pendie...   \n",
              "\n",
              "                                     procesadotagged  \\\n",
              "0  [(se, PRON), (realizo, VERB), (poda, NOUN), (e...   \n",
              "1  [(se, PRON), (encuentra, VERB), (linea, NOUN),...   \n",
              "2  [(se, PRON), (visita, VERB), (la, DET), (ruta,...   \n",
              "3  [(se, PRON), (abrio, VERB), (puente, NOUN), (a...   \n",
              "4  [(se, PRON), (visita, VERB), (direccion, NOUN)...   \n",
              "\n",
              "                                        tokenstagged  \\\n",
              "0  [(poda, VERB), (varios, DET), (ramales, NOUN),...   \n",
              "1  [(linea, NOUN), (primarias, ADJ), (suelo, NOUN...   \n",
              "2  [(ruta, NOUN), (inspeccionan, VERB), (dos, NUM...   \n",
              "3  [(abrio, ADJ), (puente, NOUN), (agua, NOUN), (...   \n",
              "4  [(linea, PROPN), (pri, PROPN), (caida, ADJ), (...   \n",
              "\n",
              "                                      palabras_clave       main_topic  \\\n",
              "0                       [ramales, poda, poda, linea]  (5, 0.60738915)   \n",
              "1  [linea, suelo, caida, circuito, cuchillas, rec...  (1, 0.72176915)   \n",
              "2  [ruta, poste, coco, mitad, terminal, viento, v...  (4, 0.96047205)   \n",
              "3  [puente, agua, transformador, aisladero, arbol...   (9, 0.5714224)   \n",
              "4                                     [corte, linea]  (5, 0.75161874)   \n",
              "\n",
              "   num_topic                                               text  label  \n",
              "0          5                            ramales poda poda linea      9  \n",
              "1          1  linea suelo caida circuito cuchillas reconecta...      7  \n",
              "2          4  ruta poste coco mitad terminal viento viento e...      0  \n",
              "3          9  puente agua transformador aisladero arbol post...     14  \n",
              "4          5                                        corte linea      5  "
            ],
            "text/html": [
              "\n",
              "  <div id=\"df-fb72755c-bb0d-426c-a5c8-b34c75ec9414\">\n",
              "    <div class=\"colab-df-container\">\n",
              "      <div>\n",
              "<style scoped>\n",
              "    .dataframe tbody tr th:only-of-type {\n",
              "        vertical-align: middle;\n",
              "    }\n",
              "\n",
              "    .dataframe tbody tr th {\n",
              "        vertical-align: top;\n",
              "    }\n",
              "\n",
              "    .dataframe thead th {\n",
              "        text-align: right;\n",
              "    }\n",
              "</style>\n",
              "<table border=\"1\" class=\"dataframe\">\n",
              "  <thead>\n",
              "    <tr style=\"text-align: right;\">\n",
              "      <th></th>\n",
              "      <th>WORKLOGID</th>\n",
              "      <th>procesado</th>\n",
              "      <th>tokens_proc</th>\n",
              "      <th>tokensunidos</th>\n",
              "      <th>procesadotagged</th>\n",
              "      <th>tokenstagged</th>\n",
              "      <th>palabras_clave</th>\n",
              "      <th>main_topic</th>\n",
              "      <th>num_topic</th>\n",
              "      <th>text</th>\n",
              "      <th>label</th>\n",
              "    </tr>\n",
              "  </thead>\n",
              "  <tbody>\n",
              "    <tr>\n",
              "      <th>0</th>\n",
              "      <td>2789392</td>\n",
              "      <td>se realizo poda en varios ramales secundarios ...</td>\n",
              "      <td>[poda, varios, ramales, secundarios, fusible, ...</td>\n",
              "      <td>poda varios ramales secundarios fusible transf...</td>\n",
              "      <td>[(se, PRON), (realizo, VERB), (poda, NOUN), (e...</td>\n",
              "      <td>[(poda, VERB), (varios, DET), (ramales, NOUN),...</td>\n",
              "      <td>[ramales, poda, poda, linea]</td>\n",
              "      <td>(5, 0.60738915)</td>\n",
              "      <td>5</td>\n",
              "      <td>ramales poda poda linea</td>\n",
              "      <td>9</td>\n",
              "    </tr>\n",
              "    <tr>\n",
              "      <th>1</th>\n",
              "      <td>2857541</td>\n",
              "      <td>se encuentra linea primarias de en el suelo se...</td>\n",
              "      <td>[linea, primarias, suelo, procede, repara, dan...</td>\n",
              "      <td>linea primarias suelo procede repara dano caus...</td>\n",
              "      <td>[(se, PRON), (encuentra, VERB), (linea, NOUN),...</td>\n",
              "      <td>[(linea, NOUN), (primarias, ADJ), (suelo, NOUN...</td>\n",
              "      <td>[linea, suelo, caida, circuito, cuchillas, rec...</td>\n",
              "      <td>(1, 0.72176915)</td>\n",
              "      <td>1</td>\n",
              "      <td>linea suelo caida circuito cuchillas reconecta...</td>\n",
              "      <td>7</td>\n",
              "    </tr>\n",
              "    <tr>\n",
              "      <th>2</th>\n",
              "      <td>2437852</td>\n",
              "      <td>se visita la ruta y se inspeccionan dos poste ...</td>\n",
              "      <td>[ruta, inspeccionan, dos, poste, reportados, c...</td>\n",
              "      <td>ruta inspeccionan dos poste reportados cuales ...</td>\n",
              "      <td>[(se, PRON), (visita, VERB), (la, DET), (ruta,...</td>\n",
              "      <td>[(ruta, NOUN), (inspeccionan, VERB), (dos, NUM...</td>\n",
              "      <td>[ruta, poste, coco, mitad, terminal, viento, v...</td>\n",
              "      <td>(4, 0.96047205)</td>\n",
              "      <td>4</td>\n",
              "      <td>ruta poste coco mitad terminal viento viento e...</td>\n",
              "      <td>0</td>\n",
              "    </tr>\n",
              "    <tr>\n",
              "      <th>3</th>\n",
              "      <td>2685049</td>\n",
              "      <td>se abrio puente agua abajo de transformador qu...</td>\n",
              "      <td>[abrio, puente, agua, abajo, transformador, re...</td>\n",
              "      <td>abrio puente agua abajo transformador quedo pe...</td>\n",
              "      <td>[(se, PRON), (abrio, VERB), (puente, NOUN), (a...</td>\n",
              "      <td>[(abrio, ADJ), (puente, NOUN), (agua, NOUN), (...</td>\n",
              "      <td>[puente, agua, transformador, aisladero, arbol...</td>\n",
              "      <td>(9, 0.5714224)</td>\n",
              "      <td>9</td>\n",
              "      <td>puente agua transformador aisladero arbol post...</td>\n",
              "      <td>14</td>\n",
              "    </tr>\n",
              "    <tr>\n",
              "      <th>4</th>\n",
              "      <td>2854713</td>\n",
              "      <td>se visita direccion y se encuentra linea pri m...</td>\n",
              "      <td>[linea, pri, caida, arbol, habre, corte, repar...</td>\n",
              "      <td>linea pri caida arbol habre corte quedo pendie...</td>\n",
              "      <td>[(se, PRON), (visita, VERB), (direccion, NOUN)...</td>\n",
              "      <td>[(linea, PROPN), (pri, PROPN), (caida, ADJ), (...</td>\n",
              "      <td>[corte, linea]</td>\n",
              "      <td>(5, 0.75161874)</td>\n",
              "      <td>5</td>\n",
              "      <td>corte linea</td>\n",
              "      <td>5</td>\n",
              "    </tr>\n",
              "  </tbody>\n",
              "</table>\n",
              "</div>\n",
              "      <button class=\"colab-df-convert\" onclick=\"convertToInteractive('df-fb72755c-bb0d-426c-a5c8-b34c75ec9414')\"\n",
              "              title=\"Convert this dataframe to an interactive table.\"\n",
              "              style=\"display:none;\">\n",
              "        \n",
              "  <svg xmlns=\"http://www.w3.org/2000/svg\" height=\"24px\"viewBox=\"0 0 24 24\"\n",
              "       width=\"24px\">\n",
              "    <path d=\"M0 0h24v24H0V0z\" fill=\"none\"/>\n",
              "    <path d=\"M18.56 5.44l.94 2.06.94-2.06 2.06-.94-2.06-.94-.94-2.06-.94 2.06-2.06.94zm-11 1L8.5 8.5l.94-2.06 2.06-.94-2.06-.94L8.5 2.5l-.94 2.06-2.06.94zm10 10l.94 2.06.94-2.06 2.06-.94-2.06-.94-.94-2.06-.94 2.06-2.06.94z\"/><path d=\"M17.41 7.96l-1.37-1.37c-.4-.4-.92-.59-1.43-.59-.52 0-1.04.2-1.43.59L10.3 9.45l-7.72 7.72c-.78.78-.78 2.05 0 2.83L4 21.41c.39.39.9.59 1.41.59.51 0 1.02-.2 1.41-.59l7.78-7.78 2.81-2.81c.8-.78.8-2.07 0-2.86zM5.41 20L4 18.59l7.72-7.72 1.47 1.35L5.41 20z\"/>\n",
              "  </svg>\n",
              "      </button>\n",
              "      \n",
              "  <style>\n",
              "    .colab-df-container {\n",
              "      display:flex;\n",
              "      flex-wrap:wrap;\n",
              "      gap: 12px;\n",
              "    }\n",
              "\n",
              "    .colab-df-convert {\n",
              "      background-color: #E8F0FE;\n",
              "      border: none;\n",
              "      border-radius: 50%;\n",
              "      cursor: pointer;\n",
              "      display: none;\n",
              "      fill: #1967D2;\n",
              "      height: 32px;\n",
              "      padding: 0 0 0 0;\n",
              "      width: 32px;\n",
              "    }\n",
              "\n",
              "    .colab-df-convert:hover {\n",
              "      background-color: #E2EBFA;\n",
              "      box-shadow: 0px 1px 2px rgba(60, 64, 67, 0.3), 0px 1px 3px 1px rgba(60, 64, 67, 0.15);\n",
              "      fill: #174EA6;\n",
              "    }\n",
              "\n",
              "    [theme=dark] .colab-df-convert {\n",
              "      background-color: #3B4455;\n",
              "      fill: #D2E3FC;\n",
              "    }\n",
              "\n",
              "    [theme=dark] .colab-df-convert:hover {\n",
              "      background-color: #434B5C;\n",
              "      box-shadow: 0px 1px 3px 1px rgba(0, 0, 0, 0.15);\n",
              "      filter: drop-shadow(0px 1px 2px rgba(0, 0, 0, 0.3));\n",
              "      fill: #FFFFFF;\n",
              "    }\n",
              "  </style>\n",
              "\n",
              "      <script>\n",
              "        const buttonEl =\n",
              "          document.querySelector('#df-fb72755c-bb0d-426c-a5c8-b34c75ec9414 button.colab-df-convert');\n",
              "        buttonEl.style.display =\n",
              "          google.colab.kernel.accessAllowed ? 'block' : 'none';\n",
              "\n",
              "        async function convertToInteractive(key) {\n",
              "          const element = document.querySelector('#df-fb72755c-bb0d-426c-a5c8-b34c75ec9414');\n",
              "          const dataTable =\n",
              "            await google.colab.kernel.invokeFunction('convertToInteractive',\n",
              "                                                     [key], {});\n",
              "          if (!dataTable) return;\n",
              "\n",
              "          const docLinkHtml = 'Like what you see? Visit the ' +\n",
              "            '<a target=\"_blank\" href=https://colab.research.google.com/notebooks/data_table.ipynb>data table notebook</a>'\n",
              "            + ' to learn more about interactive tables.';\n",
              "          element.innerHTML = '';\n",
              "          dataTable['output_type'] = 'display_data';\n",
              "          await google.colab.output.renderOutput(dataTable, element);\n",
              "          const docLink = document.createElement('div');\n",
              "          docLink.innerHTML = docLinkHtml;\n",
              "          element.appendChild(docLink);\n",
              "        }\n",
              "      </script>\n",
              "    </div>\n",
              "  </div>\n",
              "  "
            ]
          },
          "metadata": {},
          "execution_count": 153
        }
      ]
    },
    {
      "cell_type": "code",
      "source": [
        "#datos2[['WORKLOGID','label']].to_csv('/content/drive/MyDrive/ProyectoIntegrador/Datos/label_kmeans.csv')\n",
        "#Habilitar la siguiente línea para correr el proyecto de manera local\n",
        "#datos2[['WORKLOGID','label']].to_csv('/content/label_kmeans.csv')"
      ],
      "metadata": {
        "id": "kaIGVmnlQf1m"
      },
      "execution_count": null,
      "outputs": []
    },
    {
      "cell_type": "code",
      "source": [
        "datos2['label'].value_counts()"
      ],
      "metadata": {
        "colab": {
          "base_uri": "https://localhost:8080/"
        },
        "id": "j1SRLZ1DaLo7",
        "outputId": "9c1a3478-a75d-46f4-8b77-46eb855bb7e1"
      },
      "execution_count": null,
      "outputs": [
        {
          "output_type": "execute_result",
          "data": {
            "text/plain": [
              "0     3270\n",
              "3     1069\n",
              "9      528\n",
              "6      525\n",
              "2      453\n",
              "4      437\n",
              "5      426\n",
              "12     395\n",
              "14     383\n",
              "8      374\n",
              "1      363\n",
              "7      344\n",
              "10     329\n",
              "13     292\n",
              "11     240\n",
              "Name: label, dtype: int64"
            ]
          },
          "metadata": {},
          "execution_count": 155
        }
      ]
    },
    {
      "cell_type": "code",
      "source": [
        "## Obtener listado de tokens (ya procesados)\n",
        "\n",
        "#Ciclo para recorrer y filtrar los diferentes grupos\n",
        "for l in datos2['label'].unique().tolist():\n",
        "  grupo_l = datos2[datos2['label']==l]\n",
        "\n",
        "  tokens=[] \n",
        "\n",
        "  #ciclo para obtener las palabras clave de cada grupo\n",
        "  for t in grupo_l['palabras_clave']:\n",
        "    tokens.extend(t)\n",
        "    fdist_tokens = nltk.FreqDist(tokens)\n",
        "\n",
        "  print(\"grupo \"+str(l))\n",
        "  print(fdist_tokens.most_common(10))\n"
      ],
      "metadata": {
        "colab": {
          "base_uri": "https://localhost:8080/"
        },
        "id": "L2Sy7v5eNUGF",
        "outputId": "d019d7a2-d55b-4e86-a3bb-fd4c0cdfa98c"
      },
      "execution_count": null,
      "outputs": [
        {
          "output_type": "stream",
          "name": "stdout",
          "text": [
            "grupo 9\n",
            "[('poda', 843), ('cuadrilla', 148), ('arbol', 110), ('red', 54), ('aguas', 50), ('transformador', 49), ('circuito', 43), ('apoyo', 39), ('riesgo', 36), ('trabajo', 35)]\n",
            "grupo 7\n",
            "[('circuito', 424), ('poda', 89), ('transformador', 53), ('poste', 46), ('linea', 35), ('cuadrilla', 35), ('aguas', 34), ('arbol', 29), ('red', 27), ('trabajo', 23)]\n",
            "grupo 0\n",
            "[('poste', 533), ('transformador', 392), ('riesgo', 312), ('trabajo', 242), ('poda', 228), ('puente', 221), ('apoyo', 213), ('ruta', 196), ('cable', 181), ('voltaje', 148)]\n",
            "grupo 14\n",
            "[('transformador', 556), ('poste', 46), ('puente', 33), ('poda', 27), ('apoyo', 23), ('aguas', 21), ('red', 20), ('linea', 20), ('ruta', 17), ('conductor', 17)]\n",
            "grupo 5\n",
            "[('linea', 530), ('ruta', 110), ('poste', 93), ('poda', 84), ('cuadrilla', 83), ('transformador', 60), ('red', 43), ('puente', 36), ('riesgo', 33), ('peligro', 32)]\n",
            "grupo 6\n",
            "[('red', 717), ('poda', 202), ('poste', 195), ('riesgo', 148), ('arbol', 137), ('transformador', 78), ('contacto', 66), ('cuadrilla', 56), ('ruta', 52), ('mantenimiento', 43)]\n",
            "grupo 2\n",
            "[('aguas', 569), ('poda', 177), ('transformador', 109), ('poste', 107), ('apoyo', 106), ('puente', 98), ('linea', 77), ('cuadrilla', 70), ('red', 52), ('arbol', 51)]\n",
            "grupo 10\n",
            "[('cuadrilla', 352), ('poste', 134), ('mantenimiento', 120), ('poda', 68), ('ruta', 59), ('transformador', 42), ('apoyo', 28), ('riesgo', 23), ('trabajo', 19), ('fase', 19)]\n",
            "grupo 3\n",
            "[('poste', 2020), ('riesgo', 220), ('ruta', 184), ('red', 124), ('viento', 106), ('transformador', 97), ('mantenimiento', 84), ('linea', 82), ('puente', 74), ('peligro', 72)]\n",
            "grupo 11\n",
            "[('aisladero', 262), ('poda', 56), ('poste', 52), ('cuadrilla', 50), ('transformador', 44), ('aguas', 43), ('puente', 42), ('linea', 25), ('arbol', 18), ('caida', 17)]\n",
            "grupo 8\n",
            "[('trenza', 440), ('ruta', 146), ('poste', 88), ('cuadrilla', 76), ('transformador', 49), ('red', 45), ('linea', 36), ('poda', 31), ('trabajo', 28), ('afecto', 27)]\n",
            "grupo 13\n",
            "[('medidor', 496), ('ruta', 96), ('poste', 85), ('caja', 44), ('transformador', 40), ('fase', 32), ('cable', 25), ('trabajo', 22), ('conector', 19), ('riesgo', 18)]\n",
            "grupo 12\n",
            "[('fase', 599), ('poste', 69), ('linea', 58), ('voltaje', 57), ('transformador', 55), ('cuadrilla', 52), ('circuito', 39), ('apoyo', 39), ('poda', 38), ('ruta', 35)]\n",
            "grupo 1\n",
            "[('caja', 476), ('transformador', 65), ('circuito', 43), ('poste', 41), ('puente', 35), ('fase', 34), ('conector', 28), ('cuadrilla', 21), ('riesgo', 20), ('obras', 19)]\n",
            "grupo 4\n",
            "[('conector', 530), ('poste', 109), ('riesgo', 91), ('transformador', 81), ('caja', 70), ('vehiculo', 69), ('fase', 60), ('puente', 59), ('apoyo', 57), ('trabajo', 48)]\n"
          ]
        }
      ]
    }
  ]
}