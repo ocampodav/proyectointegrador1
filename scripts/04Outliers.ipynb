{
  "cells": [
    {
      "cell_type": "markdown",
      "source": [
        "##**Identificación de textos atípicos**\n",
        "\n",
        "#### Identificación de textos atípicos en entre los registros de trabajo con tareas pendientes.\n",
        "Se busca identificar registros atípicos (outliers) entre los textos de los registros de trabajo con tareas pendientes con el fin de mejorar el desempeño de los modelos no supervisados de clasificación, que buscarán identificas los activos afectados para los cuales se han dejado tareas pendientes."
      ],
      "metadata": {
        "id": "0ADj9XQzz0zd"
      }
    },
    {
      "cell_type": "markdown",
      "source": [
        "**Preparar notebook**"
      ],
      "metadata": {
        "id": "JyljflGvz2lZ"
      }
    },
    {
      "cell_type": "code",
      "execution_count": null,
      "metadata": {
        "id": "lOk2xb5WG0Bu"
      },
      "outputs": [],
      "source": [
        "## Conectar el notebook a googledrive\n",
        "#from google.colab import drive\n",
        "#drive.mount('/content/drive')"
      ]
    },
    {
      "cell_type": "code",
      "execution_count": null,
      "metadata": {
        "id": "U2ok8EzxG60k"
      },
      "outputs": [],
      "source": [
        "import pandas as pd\n",
        "import numpy as np\n",
        "import re\n",
        "from sklearn.feature_extraction.text import CountVectorizer\n",
        "from sklearn import metrics\n",
        "from sklearn.metrics import confusion_matrix"
      ]
    },
    {
      "cell_type": "markdown",
      "source": [
        "**Cargar los Datos Pendientes**"
      ],
      "metadata": {
        "id": "YDYT38L0z5NI"
      }
    },
    {
      "cell_type": "code",
      "execution_count": null,
      "metadata": {
        "id": "PqDtEkLxRvNv"
      },
      "outputs": [],
      "source": [
        "df = pd.read_csv('/content/drive/MyDrive/ProyectoIntegrador/Datos/datos_pendiente.csv', encoding='latin-1')\n",
        "#Habilitar la siguiente línea para correr el proyecto de manera local\n",
        "#df = pd.read_csv('content/datos_pendiente.csv', encoding='utf-8')"
      ]
    },
    {
      "cell_type": "markdown",
      "source": [
        "**Preparación de los datos**"
      ],
      "metadata": {
        "id": "FyJGVulU0A9i"
      }
    },
    {
      "cell_type": "code",
      "execution_count": null,
      "metadata": {
        "id": "DNOvYMQnSJX5"
      },
      "outputs": [],
      "source": [
        "## Recuperar los tokes (como lista) que se extrajeron en el textprep y que al exportar el archivo .csv se cargaron como cadenas de texto\n",
        "df['tokens_proc'] = df['tokens_proc'].apply(lambda x: re.sub('[\\[\\]\\']+', '', str(x)))\n",
        "df['tokens_proc'] = df['tokens_proc'].apply(lambda x: x.split(', '))"
      ]
    },
    {
      "cell_type": "code",
      "execution_count": null,
      "metadata": {
        "id": "7bM9iCNERz7r"
      },
      "outputs": [],
      "source": [
        "# Definición para pasar una lista de token a un texto\n",
        "def list_to_text (lista):\n",
        "  text = ' '.join(lista)\n",
        "  return text"
      ]
    },
    {
      "cell_type": "code",
      "execution_count": null,
      "metadata": {
        "id": "8TMybn-ER6l4"
      },
      "outputs": [],
      "source": [
        "#aplicamos la funcion list_to_text\n",
        "df['text'] = df['tokens_proc'].apply(lambda x: list_to_text(x))"
      ]
    },
    {
      "cell_type": "code",
      "execution_count": null,
      "metadata": {
        "id": "Loa7F135S0Y5"
      },
      "outputs": [],
      "source": [
        "#se crea lista de textos \n",
        "texts = df['text'].tolist()"
      ]
    },
    {
      "cell_type": "markdown",
      "source": [
        "**Representación vectorial de los textos**"
      ],
      "metadata": {
        "id": "IGZYyYVC0Edx"
      }
    },
    {
      "cell_type": "code",
      "execution_count": null,
      "metadata": {
        "id": "poO3at0sS-vK"
      },
      "outputs": [],
      "source": [
        "# crear representación binaria del bow \n",
        "\n",
        "bitvector = CountVectorizer(max_features = 500, binary = True) # se seleccionan solo 1000 dimensiones\n",
        "features_bv = bitvector.fit_transform(texts)\n",
        "df_bitvector=pd.DataFrame(features_bv.todense(),columns=bitvector.get_feature_names())"
      ]
    },
    {
      "cell_type": "code",
      "execution_count": null,
      "metadata": {
        "colab": {
          "base_uri": "https://localhost:8080/",
          "height": 253
        },
        "id": "juH9ud5mTRrh",
        "outputId": "53d35eb4-7af5-4958-ec40-91320de5320f"
      },
      "outputs": [
        {
          "name": "stdout",
          "output_type": "stream",
          "text": [
            "(10398, 501)\n"
          ]
        },
        {
          "data": {
            "text/html": [
              "<div>\n",
              "<style scoped>\n",
              "    .dataframe tbody tr th:only-of-type {\n",
              "        vertical-align: middle;\n",
              "    }\n",
              "\n",
              "    .dataframe tbody tr th {\n",
              "        vertical-align: top;\n",
              "    }\n",
              "\n",
              "    .dataframe thead th {\n",
              "        text-align: right;\n",
              "    }\n",
              "</style>\n",
              "<table border=\"1\" class=\"dataframe\">\n",
              "  <thead>\n",
              "    <tr style=\"text-align: right;\">\n",
              "      <th></th>\n",
              "      <th>WORKLOGID</th>\n",
              "      <th>abajo</th>\n",
              "      <th>abeja</th>\n",
              "      <th>abierta</th>\n",
              "      <th>abierto</th>\n",
              "      <th>abre</th>\n",
              "      <th>abren</th>\n",
              "      <th>abrio</th>\n",
              "      <th>abrir</th>\n",
              "      <th>acceso</th>\n",
              "      <th>...</th>\n",
              "      <th>vehiculo</th>\n",
              "      <th>ver</th>\n",
              "      <th>verifica</th>\n",
              "      <th>verificar</th>\n",
              "      <th>verifico</th>\n",
              "      <th>via</th>\n",
              "      <th>viento</th>\n",
              "      <th>vientos</th>\n",
              "      <th>voltaje</th>\n",
              "      <th>zona</th>\n",
              "    </tr>\n",
              "  </thead>\n",
              "  <tbody>\n",
              "    <tr>\n",
              "      <th>0</th>\n",
              "      <td>2547376</td>\n",
              "      <td>0</td>\n",
              "      <td>0</td>\n",
              "      <td>0</td>\n",
              "      <td>0</td>\n",
              "      <td>0</td>\n",
              "      <td>0</td>\n",
              "      <td>0</td>\n",
              "      <td>0</td>\n",
              "      <td>0</td>\n",
              "      <td>...</td>\n",
              "      <td>0</td>\n",
              "      <td>0</td>\n",
              "      <td>0</td>\n",
              "      <td>0</td>\n",
              "      <td>0</td>\n",
              "      <td>0</td>\n",
              "      <td>0</td>\n",
              "      <td>0</td>\n",
              "      <td>0</td>\n",
              "      <td>0</td>\n",
              "    </tr>\n",
              "    <tr>\n",
              "      <th>1</th>\n",
              "      <td>2457599</td>\n",
              "      <td>0</td>\n",
              "      <td>1</td>\n",
              "      <td>0</td>\n",
              "      <td>0</td>\n",
              "      <td>0</td>\n",
              "      <td>0</td>\n",
              "      <td>0</td>\n",
              "      <td>0</td>\n",
              "      <td>0</td>\n",
              "      <td>...</td>\n",
              "      <td>0</td>\n",
              "      <td>0</td>\n",
              "      <td>0</td>\n",
              "      <td>0</td>\n",
              "      <td>0</td>\n",
              "      <td>0</td>\n",
              "      <td>0</td>\n",
              "      <td>0</td>\n",
              "      <td>0</td>\n",
              "      <td>0</td>\n",
              "    </tr>\n",
              "    <tr>\n",
              "      <th>2</th>\n",
              "      <td>2789392</td>\n",
              "      <td>0</td>\n",
              "      <td>0</td>\n",
              "      <td>0</td>\n",
              "      <td>0</td>\n",
              "      <td>0</td>\n",
              "      <td>0</td>\n",
              "      <td>0</td>\n",
              "      <td>0</td>\n",
              "      <td>0</td>\n",
              "      <td>...</td>\n",
              "      <td>0</td>\n",
              "      <td>0</td>\n",
              "      <td>0</td>\n",
              "      <td>0</td>\n",
              "      <td>1</td>\n",
              "      <td>0</td>\n",
              "      <td>0</td>\n",
              "      <td>0</td>\n",
              "      <td>0</td>\n",
              "      <td>0</td>\n",
              "    </tr>\n",
              "    <tr>\n",
              "      <th>3</th>\n",
              "      <td>2857541</td>\n",
              "      <td>0</td>\n",
              "      <td>0</td>\n",
              "      <td>0</td>\n",
              "      <td>1</td>\n",
              "      <td>0</td>\n",
              "      <td>0</td>\n",
              "      <td>0</td>\n",
              "      <td>0</td>\n",
              "      <td>0</td>\n",
              "      <td>...</td>\n",
              "      <td>0</td>\n",
              "      <td>0</td>\n",
              "      <td>0</td>\n",
              "      <td>0</td>\n",
              "      <td>0</td>\n",
              "      <td>0</td>\n",
              "      <td>0</td>\n",
              "      <td>0</td>\n",
              "      <td>0</td>\n",
              "      <td>0</td>\n",
              "    </tr>\n",
              "    <tr>\n",
              "      <th>4</th>\n",
              "      <td>2437852</td>\n",
              "      <td>0</td>\n",
              "      <td>0</td>\n",
              "      <td>0</td>\n",
              "      <td>0</td>\n",
              "      <td>0</td>\n",
              "      <td>0</td>\n",
              "      <td>0</td>\n",
              "      <td>0</td>\n",
              "      <td>0</td>\n",
              "      <td>...</td>\n",
              "      <td>0</td>\n",
              "      <td>0</td>\n",
              "      <td>0</td>\n",
              "      <td>0</td>\n",
              "      <td>0</td>\n",
              "      <td>0</td>\n",
              "      <td>1</td>\n",
              "      <td>0</td>\n",
              "      <td>0</td>\n",
              "      <td>0</td>\n",
              "    </tr>\n",
              "  </tbody>\n",
              "</table>\n",
              "<p>5 rows × 501 columns</p>\n",
              "</div>"
            ],
            "text/plain": [
              "   WORKLOGID  abajo  abeja  abierta  abierto  abre  abren  abrio  abrir  \\\n",
              "0    2547376      0      0        0        0     0      0      0      0   \n",
              "1    2457599      0      1        0        0     0      0      0      0   \n",
              "2    2789392      0      0        0        0     0      0      0      0   \n",
              "3    2857541      0      0        0        1     0      0      0      0   \n",
              "4    2437852      0      0        0        0     0      0      0      0   \n",
              "\n",
              "   acceso  ...  vehiculo  ver  verifica  verificar  verifico  via  viento  \\\n",
              "0       0  ...         0    0         0          0         0    0       0   \n",
              "1       0  ...         0    0         0          0         0    0       0   \n",
              "2       0  ...         0    0         0          0         1    0       0   \n",
              "3       0  ...         0    0         0          0         0    0       0   \n",
              "4       0  ...         0    0         0          0         0    0       1   \n",
              "\n",
              "   vientos  voltaje  zona  \n",
              "0        0        0     0  \n",
              "1        0        0     0  \n",
              "2        0        0     0  \n",
              "3        0        0     0  \n",
              "4        0        0     0  \n",
              "\n",
              "[5 rows x 501 columns]"
            ]
          },
          "execution_count": 8,
          "metadata": {},
          "output_type": "execute_result"
        }
      ],
      "source": [
        "features = df[['WORKLOGID']].merge(df_bitvector, left_on=None, right_on=None, left_index=True , right_index=True)\n",
        "print(features.shape)\n",
        "features.head()"
      ]
    },
    {
      "cell_type": "code",
      "execution_count": null,
      "metadata": {
        "colab": {
          "base_uri": "https://localhost:8080/"
        },
        "id": "mmKoMmEZHW5G",
        "outputId": "bf407a85-31a0-4504-9c81-3433ecda3ecb"
      },
      "outputs": [
        {
          "name": "stdout",
          "output_type": "stream",
          "text": [
            "(10398, 501)\n"
          ]
        }
      ],
      "source": [
        "features = features[features.iloc[:, 1: ].sum(axis = 1) != 0].reset_index(drop=True)\n",
        "print(features.shape)"
      ]
    },
    {
      "cell_type": "code",
      "execution_count": null,
      "metadata": {
        "id": "L86LuYlrV1eJ"
      },
      "outputs": [],
      "source": [
        "#Exportar el listado de los features (variables)\n",
        "#features.to_csv('Datos/features_para_revisar.csv')"
      ]
    },
    {
      "cell_type": "code",
      "execution_count": null,
      "metadata": {
        "id": "m90k3qIAG4s8"
      },
      "outputs": [],
      "source": [
        "Y = features['WORKLOGID']"
      ]
    },
    {
      "cell_type": "code",
      "execution_count": null,
      "metadata": {
        "id": "oUyR_2wAGia_"
      },
      "outputs": [],
      "source": [
        "X = features.iloc[:, 1:].values"
      ]
    },
    {
      "cell_type": "markdown",
      "source": [
        "**Identificación de registro más común y de registros atípicos** "
      ],
      "metadata": {
        "id": "FhGgAd3p0Kbo"
      }
    },
    {
      "cell_type": "markdown",
      "source": [
        "*Calculo de distancias entre registros*\n",
        "\n",
        "* Se usa la distancia de Person\n",
        "$$\n",
        "d = 1-\\frac{(a*b-b*c)}{\\sqrt{(a+c)(b+d)(a+b)(c+d)}}\n",
        "$$"
      ],
      "metadata": {
        "id": "NsVHDFTB0NEZ"
      }
    },
    {
      "cell_type": "code",
      "execution_count": null,
      "metadata": {
        "id": "6qbiuak4KpXF",
        "outputId": "2e2daf07-ed47-44f2-a8b2-839d9a2a2568"
      },
      "outputs": [
        {
          "data": {
            "text/plain": [
              "[8922.297967168557,\n",
              " 8800.349942610024,\n",
              " 7877.11235072992,\n",
              " 8569.923321991759,\n",
              " 8491.217609163748,\n",
              " 8022.0469932376245,\n",
              " 7464.44922587804,\n",
              " 8261.543249369826,\n",
              " 7214.4658642062495,\n",
              " 7587.669803012887]"
            ]
          },
          "execution_count": 13,
          "metadata": {},
          "output_type": "execute_result"
        }
      ],
      "source": [
        "n = X.shape[0]\n",
        "distancia = []\n",
        "for i in range(n):\n",
        "  temp = 0\n",
        "  for j in range(n):\n",
        "    d, b, c, a = confusion_matrix(X[i], X[j]).ravel()\n",
        "    s = (a*d-b*c)/(np.sqrt((a+c)*(b+d)*(a+b)*(c+d)))\n",
        "    dist=1-s\n",
        "    temp = temp + dist\n",
        "  distancia.append(temp)\n",
        "distancia[:10]"
      ]
    },
    {
      "cell_type": "markdown",
      "source": [
        "Vector con la agregación de las distancias de cada registro a los restantes "
      ],
      "metadata": {
        "id": "mbVZpf-i0dRQ"
      }
    },
    {
      "cell_type": "code",
      "execution_count": null,
      "metadata": {
        "id": "r4U6lW8jJMWK"
      },
      "outputs": [],
      "source": [
        "vec_dist = np.array(distancia)"
      ]
    },
    {
      "cell_type": "code",
      "execution_count": null,
      "metadata": {
        "id": "Kz56-2Nxzw1l",
        "outputId": "c8c958c5-b724-4ad8-9b58-d360b763df15"
      },
      "outputs": [
        {
          "data": {
            "text/plain": [
              "array([8922.29796717, 8800.34994261, 7877.11235073, ..., 8050.28112504,\n",
              "       7817.03844221, 7738.88008541])"
            ]
          },
          "execution_count": 30,
          "metadata": {},
          "output_type": "execute_result"
        }
      ],
      "source": [
        "vec_dist"
      ]
    },
    {
      "cell_type": "code",
      "execution_count": null,
      "metadata": {
        "id": "8tGw5saizw1l",
        "outputId": "fca19c2e-aae5-41d6-8011-d6cfb7fc174b"
      },
      "outputs": [
        {
          "data": {
            "text/html": [
              "<div>\n",
              "<style scoped>\n",
              "    .dataframe tbody tr th:only-of-type {\n",
              "        vertical-align: middle;\n",
              "    }\n",
              "\n",
              "    .dataframe tbody tr th {\n",
              "        vertical-align: top;\n",
              "    }\n",
              "\n",
              "    .dataframe thead th {\n",
              "        text-align: right;\n",
              "    }\n",
              "</style>\n",
              "<table border=\"1\" class=\"dataframe\">\n",
              "  <thead>\n",
              "    <tr style=\"text-align: right;\">\n",
              "      <th></th>\n",
              "      <th>distancia</th>\n",
              "    </tr>\n",
              "  </thead>\n",
              "  <tbody>\n",
              "    <tr>\n",
              "      <th>0</th>\n",
              "      <td>8922.297967</td>\n",
              "    </tr>\n",
              "    <tr>\n",
              "      <th>1</th>\n",
              "      <td>8800.349943</td>\n",
              "    </tr>\n",
              "    <tr>\n",
              "      <th>2</th>\n",
              "      <td>7877.112351</td>\n",
              "    </tr>\n",
              "    <tr>\n",
              "      <th>3</th>\n",
              "      <td>8569.923322</td>\n",
              "    </tr>\n",
              "    <tr>\n",
              "      <th>4</th>\n",
              "      <td>8491.217609</td>\n",
              "    </tr>\n",
              "    <tr>\n",
              "      <th>...</th>\n",
              "      <td>...</td>\n",
              "    </tr>\n",
              "    <tr>\n",
              "      <th>10393</th>\n",
              "      <td>8493.146201</td>\n",
              "    </tr>\n",
              "    <tr>\n",
              "      <th>10394</th>\n",
              "      <td>8335.218537</td>\n",
              "    </tr>\n",
              "    <tr>\n",
              "      <th>10395</th>\n",
              "      <td>8050.281125</td>\n",
              "    </tr>\n",
              "    <tr>\n",
              "      <th>10396</th>\n",
              "      <td>7817.038442</td>\n",
              "    </tr>\n",
              "    <tr>\n",
              "      <th>10397</th>\n",
              "      <td>7738.880085</td>\n",
              "    </tr>\n",
              "  </tbody>\n",
              "</table>\n",
              "<p>10398 rows × 1 columns</p>\n",
              "</div>"
            ],
            "text/plain": [
              "         distancia\n",
              "0      8922.297967\n",
              "1      8800.349943\n",
              "2      7877.112351\n",
              "3      8569.923322\n",
              "4      8491.217609\n",
              "...            ...\n",
              "10393  8493.146201\n",
              "10394  8335.218537\n",
              "10395  8050.281125\n",
              "10396  7817.038442\n",
              "10397  7738.880085\n",
              "\n",
              "[10398 rows x 1 columns]"
            ]
          },
          "execution_count": 34,
          "metadata": {},
          "output_type": "execute_result"
        }
      ],
      "source": [
        "df_vec_dist = pd.DataFrame(vec_dist, columns=['distancia'])\n",
        "df_vec_dist"
      ]
    },
    {
      "cell_type": "code",
      "execution_count": null,
      "metadata": {
        "id": "lRWQL4A4zw1m",
        "outputId": "ed130e0e-7503-4713-ddc6-e6c1f79824b7"
      },
      "outputs": [
        {
          "data": {
            "text/plain": [
              "0        2547376\n",
              "1        2457599\n",
              "2        2789392\n",
              "3        2857541\n",
              "4        2437852\n",
              "          ...   \n",
              "10393    3023936\n",
              "10394    3108241\n",
              "10395    3038792\n",
              "10396    3070258\n",
              "10397    3104522\n",
              "Name: WORKLOGID, Length: 10398, dtype: int64"
            ]
          },
          "execution_count": 39,
          "metadata": {},
          "output_type": "execute_result"
        }
      ],
      "source": [
        "Y"
      ]
    },
    {
      "cell_type": "code",
      "execution_count": null,
      "metadata": {
        "id": "F7cb6p8Tzw1m",
        "outputId": "fd6128e5-f239-4aab-c0bb-e817d3c2bc4f"
      },
      "outputs": [
        {
          "data": {
            "text/html": [
              "<div>\n",
              "<style scoped>\n",
              "    .dataframe tbody tr th:only-of-type {\n",
              "        vertical-align: middle;\n",
              "    }\n",
              "\n",
              "    .dataframe tbody tr th {\n",
              "        vertical-align: top;\n",
              "    }\n",
              "\n",
              "    .dataframe thead th {\n",
              "        text-align: right;\n",
              "    }\n",
              "</style>\n",
              "<table border=\"1\" class=\"dataframe\">\n",
              "  <thead>\n",
              "    <tr style=\"text-align: right;\">\n",
              "      <th></th>\n",
              "      <th>WORKLOGID</th>\n",
              "    </tr>\n",
              "  </thead>\n",
              "  <tbody>\n",
              "    <tr>\n",
              "      <th>0</th>\n",
              "      <td>2547376</td>\n",
              "    </tr>\n",
              "    <tr>\n",
              "      <th>1</th>\n",
              "      <td>2457599</td>\n",
              "    </tr>\n",
              "    <tr>\n",
              "      <th>2</th>\n",
              "      <td>2789392</td>\n",
              "    </tr>\n",
              "    <tr>\n",
              "      <th>3</th>\n",
              "      <td>2857541</td>\n",
              "    </tr>\n",
              "    <tr>\n",
              "      <th>4</th>\n",
              "      <td>2437852</td>\n",
              "    </tr>\n",
              "    <tr>\n",
              "      <th>...</th>\n",
              "      <td>...</td>\n",
              "    </tr>\n",
              "    <tr>\n",
              "      <th>10393</th>\n",
              "      <td>3023936</td>\n",
              "    </tr>\n",
              "    <tr>\n",
              "      <th>10394</th>\n",
              "      <td>3108241</td>\n",
              "    </tr>\n",
              "    <tr>\n",
              "      <th>10395</th>\n",
              "      <td>3038792</td>\n",
              "    </tr>\n",
              "    <tr>\n",
              "      <th>10396</th>\n",
              "      <td>3070258</td>\n",
              "    </tr>\n",
              "    <tr>\n",
              "      <th>10397</th>\n",
              "      <td>3104522</td>\n",
              "    </tr>\n",
              "  </tbody>\n",
              "</table>\n",
              "<p>10398 rows × 1 columns</p>\n",
              "</div>"
            ],
            "text/plain": [
              "       WORKLOGID\n",
              "0        2547376\n",
              "1        2457599\n",
              "2        2789392\n",
              "3        2857541\n",
              "4        2437852\n",
              "...          ...\n",
              "10393    3023936\n",
              "10394    3108241\n",
              "10395    3038792\n",
              "10396    3070258\n",
              "10397    3104522\n",
              "\n",
              "[10398 rows x 1 columns]"
            ]
          },
          "execution_count": 40,
          "metadata": {},
          "output_type": "execute_result"
        }
      ],
      "source": [
        "ids=pd.DataFrame(Y)\n",
        "ids"
      ]
    },
    {
      "cell_type": "code",
      "execution_count": null,
      "metadata": {
        "id": "fnadesmRzw1m",
        "outputId": "da136afe-ee18-4e81-a204-987767f127a1"
      },
      "outputs": [
        {
          "data": {
            "text/html": [
              "<div>\n",
              "<style scoped>\n",
              "    .dataframe tbody tr th:only-of-type {\n",
              "        vertical-align: middle;\n",
              "    }\n",
              "\n",
              "    .dataframe tbody tr th {\n",
              "        vertical-align: top;\n",
              "    }\n",
              "\n",
              "    .dataframe thead th {\n",
              "        text-align: right;\n",
              "    }\n",
              "</style>\n",
              "<table border=\"1\" class=\"dataframe\">\n",
              "  <thead>\n",
              "    <tr style=\"text-align: right;\">\n",
              "      <th></th>\n",
              "      <th>WORKLOGID</th>\n",
              "      <th>distancia</th>\n",
              "    </tr>\n",
              "  </thead>\n",
              "  <tbody>\n",
              "    <tr>\n",
              "      <th>0</th>\n",
              "      <td>2547376</td>\n",
              "      <td>8922.297967</td>\n",
              "    </tr>\n",
              "    <tr>\n",
              "      <th>1</th>\n",
              "      <td>2457599</td>\n",
              "      <td>8800.349943</td>\n",
              "    </tr>\n",
              "    <tr>\n",
              "      <th>2</th>\n",
              "      <td>2789392</td>\n",
              "      <td>7877.112351</td>\n",
              "    </tr>\n",
              "    <tr>\n",
              "      <th>3</th>\n",
              "      <td>2857541</td>\n",
              "      <td>8569.923322</td>\n",
              "    </tr>\n",
              "    <tr>\n",
              "      <th>4</th>\n",
              "      <td>2437852</td>\n",
              "      <td>8491.217609</td>\n",
              "    </tr>\n",
              "    <tr>\n",
              "      <th>...</th>\n",
              "      <td>...</td>\n",
              "      <td>...</td>\n",
              "    </tr>\n",
              "    <tr>\n",
              "      <th>10393</th>\n",
              "      <td>3023936</td>\n",
              "      <td>8493.146201</td>\n",
              "    </tr>\n",
              "    <tr>\n",
              "      <th>10394</th>\n",
              "      <td>3108241</td>\n",
              "      <td>8335.218537</td>\n",
              "    </tr>\n",
              "    <tr>\n",
              "      <th>10395</th>\n",
              "      <td>3038792</td>\n",
              "      <td>8050.281125</td>\n",
              "    </tr>\n",
              "    <tr>\n",
              "      <th>10396</th>\n",
              "      <td>3070258</td>\n",
              "      <td>7817.038442</td>\n",
              "    </tr>\n",
              "    <tr>\n",
              "      <th>10397</th>\n",
              "      <td>3104522</td>\n",
              "      <td>7738.880085</td>\n",
              "    </tr>\n",
              "  </tbody>\n",
              "</table>\n",
              "<p>10398 rows × 2 columns</p>\n",
              "</div>"
            ],
            "text/plain": [
              "       WORKLOGID    distancia\n",
              "0        2547376  8922.297967\n",
              "1        2457599  8800.349943\n",
              "2        2789392  7877.112351\n",
              "3        2857541  8569.923322\n",
              "4        2437852  8491.217609\n",
              "...          ...          ...\n",
              "10393    3023936  8493.146201\n",
              "10394    3108241  8335.218537\n",
              "10395    3038792  8050.281125\n",
              "10396    3070258  7817.038442\n",
              "10397    3104522  7738.880085\n",
              "\n",
              "[10398 rows x 2 columns]"
            ]
          },
          "execution_count": 42,
          "metadata": {},
          "output_type": "execute_result"
        }
      ],
      "source": [
        "distancias = ids[['WORKLOGID']].merge(df_vec_dist, left_on=None, right_on=None, left_index=True , right_index=True)\n",
        "distancias"
      ]
    },
    {
      "cell_type": "markdown",
      "source": [
        "Exportación de cada uno los registros con tareas pendeientes (identificación) con sus distancias a los registros restantes.\n",
        "Esta información servirá para depurar el conjunto de datos que será sometido al modelo no supervisado."
      ],
      "metadata": {
        "id": "kqpbAYJz0t0g"
      }
    },
    {
      "cell_type": "code",
      "execution_count": null,
      "metadata": {
        "id": "3J3_KqJQzw1n"
      },
      "outputs": [],
      "source": [
        "#extraemos matriz con distancias para detectar los outliers de los datos pendientes.\n",
        "#distancias.to_csv('Datos/distancias_pendientes.csv')"
      ]
    },
    {
      "cell_type": "code",
      "execution_count": null,
      "metadata": {
        "id": "io6WWLcLOA4I",
        "outputId": "9664d1dd-cbe0-4d72-8359-530025773739"
      },
      "outputs": [
        {
          "data": {
            "text/plain": [
              "(6090.972369909832, 2876)"
            ]
          },
          "execution_count": 15,
          "metadata": {},
          "output_type": "execute_result"
        }
      ],
      "source": [
        "vr, pos_median = (np.min(vec_dist), np.argmin(vec_dist))\n",
        "vr, pos_median"
      ]
    },
    {
      "cell_type": "code",
      "execution_count": null,
      "metadata": {
        "id": "m6TBfEEzMFZS",
        "outputId": "eadefeb5-f8d0-44b8-e2b3-2e4e3143db7c"
      },
      "outputs": [
        {
          "data": {
            "text/plain": [
              "(9546.38317290413, 4065)"
            ]
          },
          "execution_count": 16,
          "metadata": {},
          "output_type": "execute_result"
        }
      ],
      "source": [
        "vr, pos_ext = (np.max(vec_dist), np.argmax(vec_dist))\n",
        "vr, pos_ext"
      ]
    },
    {
      "cell_type": "markdown",
      "source": [
        "Identificación del texto mediano (índice del registro)"
      ],
      "metadata": {
        "id": "CPNoXLrv07M4"
      }
    },
    {
      "cell_type": "code",
      "execution_count": null,
      "metadata": {
        "colab": {
          "base_uri": "https://localhost:8080/",
          "height": 166
        },
        "id": "Xv2PK5DoLUOJ",
        "outputId": "446dc13d-b106-46a7-be7d-7997604eb4a9"
      },
      "outputs": [
        {
          "data": {
            "text/plain": [
              "2660435"
            ]
          },
          "execution_count": 17,
          "metadata": {},
          "output_type": "execute_result"
        }
      ],
      "source": [
        "Y[pos_median]"
      ]
    },
    {
      "cell_type": "markdown",
      "source": [
        "* Definición del límite para identificación de outliers\n",
        "* Se descartarán los registros cuya distancia a los demás esté por encima del 90% de los registros. "
      ],
      "metadata": {
        "id": "LuXEPUWp1Ck5"
      }
    },
    {
      "cell_type": "code",
      "execution_count": null,
      "metadata": {
        "colab": {
          "base_uri": "https://localhost:8080/"
        },
        "id": "EmZzVCmZM1nN",
        "outputId": "2803afc2-0554-4312-eaf9-3c83ce29801c"
      },
      "outputs": [
        {
          "data": {
            "text/plain": [
              "8604.775329458535"
            ]
          },
          "execution_count": 18,
          "metadata": {},
          "output_type": "execute_result"
        }
      ],
      "source": [
        "limite = np.percentile(vec_dist, 90)\n",
        "limite"
      ]
    },
    {
      "cell_type": "code",
      "execution_count": null,
      "metadata": {
        "id": "PsN13WQWPrGl"
      },
      "outputs": [],
      "source": [
        "result = np.where(vec_dist > limite)"
      ]
    },
    {
      "cell_type": "code",
      "execution_count": null,
      "metadata": {
        "colab": {
          "base_uri": "https://localhost:8080/"
        },
        "id": "8MNyt2aQPshr",
        "outputId": "cf398788-21f5-4ef0-d427-6c8e79357a20"
      },
      "outputs": [
        {
          "data": {
            "text/plain": [
              "array([    0,     1,    11, ..., 10375, 10385, 10386], dtype=int64)"
            ]
          },
          "execution_count": 20,
          "metadata": {},
          "output_type": "execute_result"
        }
      ],
      "source": [
        "result[0]"
      ]
    },
    {
      "cell_type": "code",
      "execution_count": null,
      "metadata": {
        "id": "khlvqeU4Q2fq"
      },
      "outputs": [],
      "source": [
        "wlogid = []\n",
        "for i in result[0]:\n",
        "  id = Y[i]\n",
        "  wlogid.append(id)"
      ]
    },
    {
      "cell_type": "code",
      "execution_count": null,
      "metadata": {
        "colab": {
          "base_uri": "https://localhost:8080/"
        },
        "id": "XGmD2nb3Yr6_",
        "outputId": "a0d6b984-6bf0-49d7-8c09-a4b80286e9a5"
      },
      "outputs": [
        {
          "data": {
            "text/plain": [
              "(156792, 7)"
            ]
          },
          "execution_count": 22,
          "metadata": {},
          "output_type": "execute_result"
        }
      ],
      "source": [
        "datos_proc = pd.read_csv('/content/drive/MyDrive/ProyectoIntegrador/Datos/datos_procesados.csv', encoding='latin-1')\n",
        "\n",
        "#Habilitar la siguiente línea para correr el proyecto de manera local\n",
        "#datos_proc = pd.read_csv('content/datos_procesados.csv', encoding='latin-1')\n",
        "datos_proc.shape"
      ]
    },
    {
      "cell_type": "code",
      "execution_count": null,
      "metadata": {
        "colab": {
          "base_uri": "https://localhost:8080/"
        },
        "id": "y-MbnpIyYvd8",
        "outputId": "bc7cffa0-cb0a-483a-bbf6-dec651d67f5b"
      },
      "outputs": [
        {
          "data": {
            "text/plain": [
              "(155752, 7)"
            ]
          },
          "execution_count": 23,
          "metadata": {},
          "output_type": "execute_result"
        }
      ],
      "source": [
        "datos_proc = datos_proc[~datos_proc['WORKLOGID'].isin(wlogid)]\n",
        "datos_proc.shape"
      ]
    },
    {
      "cell_type": "code",
      "execution_count": null,
      "metadata": {
        "colab": {
          "base_uri": "https://localhost:8080/",
          "height": 250
        },
        "id": "GaTRgzgVZxVJ",
        "outputId": "1d375cbd-abbf-4d81-f11e-64570c1c9bf0"
      },
      "outputs": [
        {
          "data": {
            "text/html": [
              "<div>\n",
              "<style scoped>\n",
              "    .dataframe tbody tr th:only-of-type {\n",
              "        vertical-align: middle;\n",
              "    }\n",
              "\n",
              "    .dataframe tbody tr th {\n",
              "        vertical-align: top;\n",
              "    }\n",
              "\n",
              "    .dataframe thead th {\n",
              "        text-align: right;\n",
              "    }\n",
              "</style>\n",
              "<table border=\"1\" class=\"dataframe\">\n",
              "  <thead>\n",
              "    <tr style=\"text-align: right;\">\n",
              "      <th></th>\n",
              "      <th>Unnamed: 0</th>\n",
              "      <th>RESUMEN</th>\n",
              "      <th>WORKLOGID</th>\n",
              "      <th>DETALLE</th>\n",
              "      <th>procesado</th>\n",
              "      <th>tokens</th>\n",
              "      <th>tokens_proc</th>\n",
              "    </tr>\n",
              "  </thead>\n",
              "  <tbody>\n",
              "    <tr>\n",
              "      <th>0</th>\n",
              "      <td>0</td>\n",
              "      <td>CIERREOT</td>\n",
              "      <td>2754950</td>\n",
              "      <td>Se revisa y se encuentra poste de 12 MTS de ji...</td>\n",
              "      <td>se revisa y se encuentra poste de metros de ji...</td>\n",
              "      <td>['se', 'revisa', 'y', 'se', 'encuentra', 'post...</td>\n",
              "      <td>['revisa', 'poste', 'reventado', 'vehiculo', '...</td>\n",
              "    </tr>\n",
              "    <tr>\n",
              "      <th>1</th>\n",
              "      <td>1</td>\n",
              "      <td>CIERREOT</td>\n",
              "      <td>3005990</td>\n",
              "      <td>Localizar falla circuito primario sub guayabal...</td>\n",
              "      <td>localizar falla circuito primario subestacion ...</td>\n",
              "      <td>['localizar', 'falla', 'circuito', 'primario',...</td>\n",
              "      <td>['localizar', 'falla', 'circuito', 'primario',...</td>\n",
              "    </tr>\n",
              "    <tr>\n",
              "      <th>2</th>\n",
              "      <td>2</td>\n",
              "      <td>CIERREOT</td>\n",
              "      <td>2634320</td>\n",
              "      <td>Se retiraron 5 ramas de Palma que estaban sobr...</td>\n",
              "      <td>se retiraron arbol de palma que estaban sobre ...</td>\n",
              "      <td>['se', 'retiraron', 'arbol', 'de', 'palma', 'q...</td>\n",
              "      <td>['retiraron', 'arbol', 'palma', 'aisladero', '...</td>\n",
              "    </tr>\n",
              "    <tr>\n",
              "      <th>3</th>\n",
              "      <td>3</td>\n",
              "      <td>CIERREOT</td>\n",
              "      <td>2634321</td>\n",
              "      <td>R27-07 se visita Cll57c#34-36 revisiÃ³n por ca...</td>\n",
              "      <td>r se visita cll c revision por calidad del ser...</td>\n",
              "      <td>['r', 'se', 'visita', 'cll', 'c', 'revision', ...</td>\n",
              "      <td>['cll', 'revision', 'calidad', 'inspecciona', ...</td>\n",
              "    </tr>\n",
              "    <tr>\n",
              "      <th>4</th>\n",
              "      <td>4</td>\n",
              "      <td>CIERREOT</td>\n",
              "      <td>2742512</td>\n",
              "      <td>Con el evento Mar 4879178 en carrera 33 por 29...</td>\n",
              "      <td>con el evento mar en carrera por c del r donde...</td>\n",
              "      <td>['con', 'el', 'evento', 'mar', 'en', 'carrera'...</td>\n",
              "      <td>['mar', 'carrera', 'trabajador', 'reparan', 'l...</td>\n",
              "    </tr>\n",
              "  </tbody>\n",
              "</table>\n",
              "</div>"
            ],
            "text/plain": [
              "   Unnamed: 0   RESUMEN  WORKLOGID  \\\n",
              "0           0  CIERREOT    2754950   \n",
              "1           1  CIERREOT    3005990   \n",
              "2           2  CIERREOT    2634320   \n",
              "3           3  CIERREOT    2634321   \n",
              "4           4  CIERREOT    2742512   \n",
              "\n",
              "                                             DETALLE  \\\n",
              "0  Se revisa y se encuentra poste de 12 MTS de ji...   \n",
              "1  Localizar falla circuito primario sub guayabal...   \n",
              "2  Se retiraron 5 ramas de Palma que estaban sobr...   \n",
              "3  R27-07 se visita Cll57c#34-36 revisiÃ³n por ca...   \n",
              "4  Con el evento Mar 4879178 en carrera 33 por 29...   \n",
              "\n",
              "                                           procesado  \\\n",
              "0  se revisa y se encuentra poste de metros de ji...   \n",
              "1  localizar falla circuito primario subestacion ...   \n",
              "2  se retiraron arbol de palma que estaban sobre ...   \n",
              "3  r se visita cll c revision por calidad del ser...   \n",
              "4  con el evento mar en carrera por c del r donde...   \n",
              "\n",
              "                                              tokens  \\\n",
              "0  ['se', 'revisa', 'y', 'se', 'encuentra', 'post...   \n",
              "1  ['localizar', 'falla', 'circuito', 'primario',...   \n",
              "2  ['se', 'retiraron', 'arbol', 'de', 'palma', 'q...   \n",
              "3  ['r', 'se', 'visita', 'cll', 'c', 'revision', ...   \n",
              "4  ['con', 'el', 'evento', 'mar', 'en', 'carrera'...   \n",
              "\n",
              "                                         tokens_proc  \n",
              "0  ['revisa', 'poste', 'reventado', 'vehiculo', '...  \n",
              "1  ['localizar', 'falla', 'circuito', 'primario',...  \n",
              "2  ['retiraron', 'arbol', 'palma', 'aisladero', '...  \n",
              "3  ['cll', 'revision', 'calidad', 'inspecciona', ...  \n",
              "4  ['mar', 'carrera', 'trabajador', 'reparan', 'l...  "
            ]
          },
          "execution_count": 24,
          "metadata": {},
          "output_type": "execute_result"
        }
      ],
      "source": [
        "datos_proc.head()"
      ]
    }
  ],
  "metadata": {
    "accelerator": "GPU",
    "colab": {
      "provenance": []
    },
    "gpuClass": "standard",
    "kernelspec": {
      "display_name": "Python 3",
      "language": "python",
      "name": "python3"
    },
    "language_info": {
      "codemirror_mode": {
        "name": "ipython",
        "version": 3
      },
      "file_extension": ".py",
      "mimetype": "text/x-python",
      "name": "python",
      "nbconvert_exporter": "python",
      "pygments_lexer": "ipython3",
      "version": "3.9.2"
    }
  },
  "nbformat": 4,
  "nbformat_minor": 0
}